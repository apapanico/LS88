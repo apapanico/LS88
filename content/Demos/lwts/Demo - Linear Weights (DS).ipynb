{
 "cells": [
  {
   "cell_type": "markdown",
   "metadata": {
    "toc": true
   },
   "source": [
    "<h1>Table of Contents<span class=\"tocSkip\"></span></h1>\n",
    "<div class=\"toc\"><ul class=\"toc-item\"><li><span><a href=\"#Linear-Weights-and-wOBA\" data-toc-modified-id=\"Linear-Weights-and-wOBA-1\"><span class=\"toc-item-num\">1&nbsp;&nbsp;</span>Linear Weights and wOBA</a></span><ul class=\"toc-item\"><li><span><a href=\"#Linear-Weights-(LWTS)\" data-toc-modified-id=\"Linear-Weights-(LWTS)-1.1\"><span class=\"toc-item-num\">1.1&nbsp;&nbsp;</span>Linear Weights (LWTS)</a></span></li><li><span><a href=\"#wOBA\" data-toc-modified-id=\"wOBA-1.2\"><span class=\"toc-item-num\">1.2&nbsp;&nbsp;</span>wOBA</a></span></li><li><span><a href=\"#Barry-Bonds-Example\" data-toc-modified-id=\"Barry-Bonds-Example-1.3\"><span class=\"toc-item-num\">1.3&nbsp;&nbsp;</span>Barry Bonds Example</a></span><ul class=\"toc-item\"><li><span><a href=\"#Bonds-Batting-Runs/wRAA\" data-toc-modified-id=\"Bonds-Batting-Runs/wRAA-1.3.1\"><span class=\"toc-item-num\">1.3.1&nbsp;&nbsp;</span>Bonds Batting Runs/wRAA</a></span></li><li><span><a href=\"#Bonds-wOBA\" data-toc-modified-id=\"Bonds-wOBA-1.3.2\"><span class=\"toc-item-num\">1.3.2&nbsp;&nbsp;</span>Bonds wOBA</a></span></li></ul></li></ul></li></ul></div>"
   ]
  },
  {
   "cell_type": "markdown",
   "metadata": {},
   "source": [
    "# Demo - Linear Weights\n",
    "\n",
    "In this demo, use the RE24 values computed in the demo on RE24 to empirically derive weights or expected values for hitting events known as _Linear Weights_ or _LWTS_.  We use then show how LWTS forms the basis for the advanced statistic _wOBA_ (Weighted On-Base Average) we saw in the offensive metrics demo."
   ]
  },
  {
   "cell_type": "code",
   "execution_count": null,
   "metadata": {},
   "outputs": [],
   "source": [
    "%run ../../utils/notebook_setup.py"
   ]
  },
  {
   "cell_type": "code",
   "execution_count": null,
   "metadata": {},
   "outputs": [],
   "source": [
    "from datascience import Table\n",
    "from datascience.util import table_apply\n",
    "\n",
    "import numpy as np\n",
    "\n",
    "# custom functions that will help do some simple tasks\n",
    "from datascience_utils import *\n",
    "from datascience_stats import *\n",
    "from datascience_topic import fast_run_expectancy, most_common_lineup_position"
   ]
  },
  {
   "cell_type": "markdown",
   "metadata": {},
   "source": [
    "##### Load RE24 Data"
   ]
  },
  {
   "cell_type": "code",
   "execution_count": null,
   "metadata": {},
   "outputs": [],
   "source": [
    "re24 = Table.read_table('re24_vals_2001.csv', sep=',')\n",
    "re24.show(10)"
   ]
  },
  {
   "cell_type": "markdown",
   "metadata": {},
   "source": [
    "## Linear Weights and wOBA\n",
    "\n",
    "In the demo on RE24, we directly attributing RE24 to a player.  Instead, we can try to even out their perfomance by weighting each event the same by completely ignoring the context of the event.  This allows us to avoid the pitfalls we saw previously where it seemed nearly impossible to tell whether environment or ability was driving production.  By doing this, we completely remove environment in which the hitter was hitting in and get a performance compared to overall average!\n",
    "\n",
    "We'll use the RE24 values to construct the Linear Weights values as well as the offensive metric wOBA (Weighted On Base Average).\n",
    "\n",
    "For each `Event_Type` we can compute the average value for each type of event. \n",
    "\n",
    "A single can have different RE24 outcomes according to different out/baserunner situations so the average weights these outcome values according to the frequency with which the situations occur.  This way, we do not under value a single that occurs with no runners on and doesn't score a run or over value a single that occurs with the bases loaded.  We want them to be valued equally so we average to smooth everything out."
   ]
  },
  {
   "cell_type": "markdown",
   "metadata": {},
   "source": [
    "### Linear Weights (LWTS)\n",
    "\n",
    "Group and average to get the net expected runs above average for each event.  Notice how Fielder's choice, generic outs, and strikeouts all have negative values.  Neither of these three events is likely to generate an improvement in baserunner position and all three increase the number of outs.  \n",
    "\n",
    "The value of the homerun is more than 1 run because in addition to the one run guaranteed to score (the batter), there is the possibility of runners on base.\n",
    "\n",
    "Note also that a strikeout is basically the same as a generic out.  This seems counter-intuitive since the strikeout means the ball isn't put in play.  What about the breakdown of event types suggests that this isn't as strange as it might seem?  For example, for a batter with 2 strikes, what could potentially happen if the ball is put into play versus a strikeout?"
   ]
  },
  {
   "cell_type": "code",
   "execution_count": null,
   "metadata": {},
   "outputs": [],
   "source": [
    "def to_weights_table(wts):\n",
    "    data = []\n",
    "    for row in wts.rows:\n",
    "        data.extend([row[0], row[1]])\n",
    "    return Table().with_columns(data)\n",
    "\n",
    "lwts = re24.group('Event_Type', np.mean)\n",
    "lwts.relabel('RE24 mean', 'RE24')\n",
    "lwts = to_weights_table(lwts)\n",
    "lwts"
   ]
  },
  {
   "cell_type": "markdown",
   "metadata": {},
   "source": [
    "_Question_\n",
    "+ Why is an intentional walk worth less than a regular walk?  Think about who is receiving an intentional walk."
   ]
  },
  {
   "cell_type": "markdown",
   "metadata": {},
   "source": [
    "### wOBA\n",
    "\n",
    "wOBA weights are obtained by first subtracting out the value of a generic out and then scaling the weights by what is known as the \"wOBA Scale\".  The scaling is for interpretive purposes to make wOBA appear in a similar range to OBP.\n",
    "\n",
    "The wOBA scale from FanGraphs for 2001 is 1.182.  Using that, we can compute the wOBA weights.  For interpretive purposes, we then scale by the wOBA scale factor."
   ]
  },
  {
   "cell_type": "code",
   "execution_count": null,
   "metadata": {},
   "outputs": [],
   "source": [
    "woba_scale = 1.182\n",
    "woba_cols = ['BB', 'HBP', '1B', '2B', '3B', 'HR']\n",
    "out_val = lwts['Generic out'].item()\n",
    "def woba_wt(x):\n",
    "    return woba_scale * (x - out_val)\n",
    "\n",
    "wOBA_weights = table_apply(lwts.select(*woba_cols), woba_wt)\n",
    "wOBA_weights"
   ]
  },
  {
   "cell_type": "markdown",
   "metadata": {},
   "source": [
    "### Barry Bonds Example\n",
    "\n",
    "Let's return to Barry Bonds' monumental 2001 season and use his batting line to estimate his Batting Runs/wRAA and wOBA values."
   ]
  },
  {
   "cell_type": "code",
   "execution_count": null,
   "metadata": {},
   "outputs": [],
   "source": [
    "barry_bonds = Table().with_columns({\n",
    "    '1B': 49,\n",
    "    '2B': 32,\n",
    "    '3B': 2,\n",
    "    'HR': 73,\n",
    "    'BB': 177,\n",
    "    'IBB': 35,\n",
    "    'HBP': 9,\n",
    "    'Generic out': 320, # Added generic out and strikeout since they are basically the same value\n",
    "    'PA': 664\n",
    "})\n",
    "barry_bonds"
   ]
  },
  {
   "cell_type": "markdown",
   "metadata": {},
   "source": [
    "#### Bonds Batting Runs/wRAA\n",
    "Using LWTS, we compute Bonds' Batting Runs value.  We do this by multipling the LWTS by his event counts and summing.  Batting Runs is sometimes also called wRAA (Runs Above Average).  Bonds' Batting Runs was 121 runs above average.  Bonds produced an obscene 121 runs above an average player.  \n",
    "\n",
    "Average players are nothing to sneeze at.  We are not talking about some Triple A call-up.  We are talking about a perfectly fine and capable MLB player.  And Bonds' produced 121 more runs above average than that player.  \n",
    "\n",
    "We previously estimated 10 runs was worth 1 win in expectation.  This suggests Bonds was worth somewhere around 12 wins above the average player.  Baseball Reference estimates Bonds worth about 9.9 wins above the average player using their own methodology.  Either way, as we should suspect, Bonds' offensive contributions are other worldly. "
   ]
  },
  {
   "cell_type": "code",
   "execution_count": null,
   "metadata": {},
   "outputs": [],
   "source": [
    "bonds_wraa_vals = Table().with_columns({\n",
    "    col: lwts[col] * barry_bonds[col]\n",
    "    for col in set(lwts.labels).intersection(barry_bonds.labels)\n",
    "})\n",
    "bonds_wraa = np.sum([bonds_wraa_vals[col] for col in bonds_wraa_vals.labels])\n",
    "print(f\"Barry Bonds 2001 Batting Runs/wRAA: {bonds_wraa:.3f}\")\n",
    "bonds_wraa_vals"
   ]
  },
  {
   "cell_type": "markdown",
   "metadata": {},
   "source": [
    "_Questions_\n",
    "\n",
    "+ For a hitter, what is the difference between Total RE24 and Batting Runs/wRAA?  Which one uses the raw, observed values of RE24 and which one replaces those observed, situation depdendent values with average values?  \n",
    "+ What does it mean for a hitter to have a higher RE24 value than BR/wRAA?  What about lower, as in Bonds' case?\n"
   ]
  },
  {
   "cell_type": "markdown",
   "metadata": {},
   "source": [
    "#### Bonds wOBA\n",
    "Bonds' wOBA value is estimated to be 0.545.  Since we use the wOBA scale to place wOBA on a similar scale to OBP, we can use the fact as follows.\n",
    "\n",
    "Ignoring the yearly variation in OBP, the highest single season OBP was Bonds in 2004 at 0.610. Number 5 all time was Babe Ruth at 0.545.  In terms of wOBA, Bonds in 2001 is situated relative to the rest of the league like a hitter with a 0.545 OBP would be relative to the rest of the league.  And a 0.545 OBP would be good for Top 5 all time seasons."
   ]
  },
  {
   "cell_type": "code",
   "execution_count": null,
   "metadata": {},
   "outputs": [],
   "source": [
    "labels = set(wOBA_weights.labels).intersection(barry_bonds.labels)\n",
    "bonds_woba_vals = Table().with_columns({\n",
    "    label: wOBA_weights[label] * barry_bonds[label]\n",
    "    for label in labels\n",
    "})\n",
    "bonds_woba = np.sum(\n",
    "    [bonds_woba_vals[label] for label in bonds_woba_vals.labels]) / barry_bonds['PA'][0]\n",
    "print(f\"Barry Bonds 2001 wOBA: {bonds_woba:.3f}\")\n",
    "bonds_woba_vals"
   ]
  }
 ],
 "metadata": {
  "hide_input": false,
  "kernelspec": {
   "display_name": "Python 3",
   "language": "python",
   "name": "python3"
  },
  "language_info": {
   "codemirror_mode": {
    "name": "ipython",
    "version": 3
   },
   "file_extension": ".py",
   "mimetype": "text/x-python",
   "name": "python",
   "nbconvert_exporter": "python",
   "pygments_lexer": "ipython3",
   "version": "3.6.4"
  },
  "toc": {
   "base_numbering": 1,
   "nav_menu": {},
   "number_sections": true,
   "sideBar": true,
   "skip_h1_title": true,
   "title_cell": "Table of Contents",
   "title_sidebar": "Contents",
   "toc_cell": true,
   "toc_position": {
    "height": "calc(100% - 180px)",
    "left": "10px",
    "top": "150px",
    "width": "444px"
   },
   "toc_section_display": true,
   "toc_window_display": false
  },
  "varInspector": {
   "cols": {
    "lenName": 16,
    "lenType": 16,
    "lenVar": 40
   },
   "kernels_config": {
    "python": {
     "delete_cmd_postfix": "",
     "delete_cmd_prefix": "del ",
     "library": "var_list.py",
     "varRefreshCmd": "print(var_dic_list())"
    },
    "r": {
     "delete_cmd_postfix": ") ",
     "delete_cmd_prefix": "rm(",
     "library": "var_list.r",
     "varRefreshCmd": "cat(var_dic_list()) "
    }
   },
   "types_to_exclude": [
    "module",
    "function",
    "builtin_function_or_method",
    "instance",
    "_Feature"
   ],
   "window_display": false
  }
 },
 "nbformat": 4,
 "nbformat_minor": 2
}
