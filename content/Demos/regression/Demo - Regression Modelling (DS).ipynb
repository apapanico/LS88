{
 "cells": [
  {
   "cell_type": "markdown",
   "metadata": {
    "toc": true
   },
   "source": [
    "<h1>Table of Contents<span class=\"tocSkip\"></span></h1>\n",
    "<div class=\"toc\"><ul class=\"toc-item\"><li><span><a href=\"#Baseball-Run-Values-from-Regression\" data-toc-modified-id=\"Baseball-Run-Values-from-Regression-1\"><span class=\"toc-item-num\">1&nbsp;&nbsp;</span>Baseball Run Values from Regression</a></span><ul class=\"toc-item\"><li><span><a href=\"#Load-Data\" data-toc-modified-id=\"Load-Data-1.1\"><span class=\"toc-item-num\">1.1&nbsp;&nbsp;</span>Load Data</a></span></li><li><span><a href=\"#Our-first-regression-model\" data-toc-modified-id=\"Our-first-regression-model-1.2\"><span class=\"toc-item-num\">1.2&nbsp;&nbsp;</span>Our first regression model</a></span><ul class=\"toc-item\"><li><span><a href=\"#Stolen-Base-Breakeven-Probability\" data-toc-modified-id=\"Stolen-Base-Breakeven-Probability-1.2.1\"><span class=\"toc-item-num\">1.2.1&nbsp;&nbsp;</span>Stolen Base Breakeven Probability</a></span></li><li><span><a href=\"#Residuals\" data-toc-modified-id=\"Residuals-1.2.2\"><span class=\"toc-item-num\">1.2.2&nbsp;&nbsp;</span>Residuals</a></span></li></ul></li><li><span><a href=\"#Are-Ks-more-costly-than-other-outs?\" data-toc-modified-id=\"Are-Ks-more-costly-than-other-outs?-1.3\"><span class=\"toc-item-num\">1.3&nbsp;&nbsp;</span>Are Ks more costly than other outs?</a></span></li><li><span><a href=\"#What-happens-if-we-only-use-a-year-of-data?\" data-toc-modified-id=\"What-happens-if-we-only-use-a-year-of-data?-1.4\"><span class=\"toc-item-num\">1.4&nbsp;&nbsp;</span>What happens if we only use a year of data?</a></span></li><li><span><a href=\"#What-happens-if-we-only-use-a-single-variable?\" data-toc-modified-id=\"What-happens-if-we-only-use-a-single-variable?-1.5\"><span class=\"toc-item-num\">1.5&nbsp;&nbsp;</span>What happens if we only use a single variable?</a></span></li></ul></li><li><span><a href=\"#Four-Factor-Model\" data-toc-modified-id=\"Four-Factor-Model-2\"><span class=\"toc-item-num\">2&nbsp;&nbsp;</span>Four Factor Model</a></span><ul class=\"toc-item\"><li><span><a href=\"#Load-Data\" data-toc-modified-id=\"Load-Data-2.1\"><span class=\"toc-item-num\">2.1&nbsp;&nbsp;</span>Load Data</a></span></li><li><span><a href=\"#Four-Factors-and-Winning-Pct\" data-toc-modified-id=\"Four-Factors-and-Winning-Pct-2.2\"><span class=\"toc-item-num\">2.2&nbsp;&nbsp;</span>Four Factors and Winning Pct</a></span></li><li><span><a href=\"#Four-Factors-and-the-log-Rating-Ratio\" data-toc-modified-id=\"Four-Factors-and-the-log-Rating-Ratio-2.3\"><span class=\"toc-item-num\">2.3&nbsp;&nbsp;</span>Four Factors and the log Rating Ratio</a></span><ul class=\"toc-item\"><li><span><a href=\"#As-before,-what-if-only-include-one-variable-in-the-regression?\" data-toc-modified-id=\"As-before,-what-if-only-include-one-variable-in-the-regression?-2.3.1\"><span class=\"toc-item-num\">2.3.1&nbsp;&nbsp;</span>As before, what if only include one variable in the regression?</a></span></li></ul></li><li><span><a href=\"#By-Games\" data-toc-modified-id=\"By-Games-2.4\"><span class=\"toc-item-num\">2.4&nbsp;&nbsp;</span>By Games</a></span></li></ul></li><li><span><a href=\"#Plus/Minus-Regression\" data-toc-modified-id=\"Plus/Minus-Regression-3\"><span class=\"toc-item-num\">3&nbsp;&nbsp;</span>Plus/Minus Regression</a></span><ul class=\"toc-item\"><li><span><a href=\"#Stint-data\" data-toc-modified-id=\"Stint-data-3.1\"><span class=\"toc-item-num\">3.1&nbsp;&nbsp;</span>Stint data</a></span></li><li><span><a href=\"#Stint-Data-for-Regression\" data-toc-modified-id=\"Stint-Data-for-Regression-3.2\"><span class=\"toc-item-num\">3.2&nbsp;&nbsp;</span>Stint Data for Regression</a></span></li><li><span><a href=\"#Adjusted-Plus/Minus\" data-toc-modified-id=\"Adjusted-Plus/Minus-3.3\"><span class=\"toc-item-num\">3.3&nbsp;&nbsp;</span>Adjusted Plus/Minus</a></span></li><li><span><a href=\"#Penalizing-the-Least-Squares-Fit:-Regularized-Adjusted-Plus-Minus-(xRAPM)\" data-toc-modified-id=\"Penalizing-the-Least-Squares-Fit:-Regularized-Adjusted-Plus-Minus-(xRAPM)-3.4\"><span class=\"toc-item-num\">3.4&nbsp;&nbsp;</span>Penalizing the Least Squares Fit: Regularized Adjusted Plus Minus (xRAPM)</a></span></li><li><span><a href=\"#How-penalizing-the-coefficients-cleans-things-up\" data-toc-modified-id=\"How-penalizing-the-coefficients-cleans-things-up-3.5\"><span class=\"toc-item-num\">3.5&nbsp;&nbsp;</span>How penalizing the coefficients cleans things up</a></span></li><li><span><a href=\"#Compare-to-ESPN's-RPM\" data-toc-modified-id=\"Compare-to-ESPN's-RPM-3.6\"><span class=\"toc-item-num\">3.6&nbsp;&nbsp;</span>Compare to ESPN's RPM</a></span></li></ul></li></ul></div>"
   ]
  },
  {
   "cell_type": "markdown",
   "metadata": {},
   "source": [
    "# Regression Modeling\n",
    "\n",
    "This demo goes over regression modeling and how we can use it to compute run values and the four factor model like we've already seen.  We'll also see how we can use regression modeling to compute a sophisticated Plus/Minus Rating model that greatly improves on conventional Plus/Minus."
   ]
  },
  {
   "cell_type": "code",
   "execution_count": 1,
   "metadata": {},
   "outputs": [],
   "source": [
    "%matplotlib inline\n",
    "import datascience as ds\n",
    "import matplotlib.pyplot as plt\n",
    "import numpy as np\n",
    "\n",
    "from regression_helper import multiple_regression"
   ]
  },
  {
   "cell_type": "markdown",
   "metadata": {},
   "source": [
    "## Baseball Run Values from Regression\n",
    "\n",
    "Recall the formula for Linear Weights:\n",
    "$$\n",
    "  \\text{Runs Above Average} = .46\\cdot \\mathit{1B} + .80\\cdot \\mathit{2B} + 1.02\\cdot \\mathit{3B} + 1.40\\cdot \\mathit{HR} + .33\\cdot (\\mathit{BB} + \\mathit{HBP}) - .25\\cdot \\mathit{O}\n",
    "$$\n",
    "\n",
    "We directly computed the run values for the events through a simple and elegant computation with the play-by-play data.  But there's nothing that stops us from trying to compute the run values through regression.  LWTS is a linear model, after all.\n",
    "\n",
    "It turns out, using season level data for teams we can do pretty well estimating the run values."
   ]
  },
  {
   "cell_type": "markdown",
   "metadata": {},
   "source": [
    "### Load Data\n",
    "\n",
    "Similar to what we've seen before, we're goint to use the Lahman dataset but cleaned a bit for ease of use with our helper function.  In particular, some columns have been renamed, some extra have been computed, and many have been dropped."
   ]
  },
  {
   "cell_type": "code",
   "execution_count": 2,
   "metadata": {},
   "outputs": [
    {
     "data": {
      "text/html": [
       "<table border=\"1\" class=\"dataframe\">\n",
       "    <thead>\n",
       "        <tr>\n",
       "            <th>yearID</th> <th>franchID</th> <th>R</th> <th>RAA</th> <th>O</th> <th>O_nonK</th> <th>SO</th> <th>X1B</th> <th>X2B</th> <th>X3B</th> <th>HR</th> <th>BB</th> <th>HBP</th> <th>SB</th> <th>CS</th>\n",
       "        </tr>\n",
       "    </thead>\n",
       "    <tbody>\n",
       "        <tr>\n",
       "            <td>2000  </td> <td>ANA     </td> <td>864 </td> <td>125.329</td> <td>4054</td> <td>3030  </td> <td>1024</td> <td>995 </td> <td>309 </td> <td>34  </td> <td>236 </td> <td>608 </td> <td>47  </td> <td>93  </td> <td>52  </td>\n",
       "        </tr>\n",
       "    </tbody>\n",
       "        <tr>\n",
       "            <td>2000  </td> <td>ARI     </td> <td>792 </td> <td>53.3294</td> <td>4061</td> <td>3086  </td> <td>975 </td> <td>961 </td> <td>282 </td> <td>44  </td> <td>179 </td> <td>535 </td> <td>59  </td> <td>97  </td> <td>44  </td>\n",
       "        </tr>\n",
       "    </tbody>\n",
       "        <tr>\n",
       "            <td>2000  </td> <td>ATL     </td> <td>810 </td> <td>71.3294</td> <td>3999</td> <td>2989  </td> <td>1010</td> <td>1011</td> <td>274 </td> <td>26  </td> <td>179 </td> <td>595 </td> <td>59  </td> <td>148 </td> <td>56  </td>\n",
       "        </tr>\n",
       "    </tbody>\n",
       "        <tr>\n",
       "            <td>2000  </td> <td>BAL     </td> <td>794 </td> <td>55.3294</td> <td>4041</td> <td>3141  </td> <td>900 </td> <td>992 </td> <td>310 </td> <td>22  </td> <td>184 </td> <td>558 </td> <td>49  </td> <td>126 </td> <td>65  </td>\n",
       "        </tr>\n",
       "    </tbody>\n",
       "        <tr>\n",
       "            <td>2000  </td> <td>BOS     </td> <td>792 </td> <td>53.3294</td> <td>4127</td> <td>3108  </td> <td>1019</td> <td>988 </td> <td>316 </td> <td>32  </td> <td>167 </td> <td>611 </td> <td>42  </td> <td>43  </td> <td>30  </td>\n",
       "        </tr>\n",
       "    </tbody>\n",
       "</table>\n",
       "<p>... (505 rows omitted)</p"
      ],
      "text/plain": [
       "<IPython.core.display.HTML object>"
      ]
     },
     "metadata": {},
     "output_type": "display_data"
    }
   ],
   "source": [
    "# Load lahman_teams.csv obtained from the lahman_main databank. \n",
    "# This table is a slight modification of the regular table.\n",
    "lahman = ds.Table.read_table(\"lahman_teams.csv\", sep=',')\n",
    "lahman.show(5)"
   ]
  },
  {
   "cell_type": "markdown",
   "metadata": {},
   "source": [
    "### Our first regression model\n",
    "\n",
    "Let's build our first regression model.  We need to tell the function `multiple_regression` which is the dependent variable (the observation) and the independent variables (the inputs).\n",
    "\n",
    "The dependent variable is going to be Runs Above Average and the independent variables will be the events.\n",
    "\n",
    "Comparing the regression to the run values we obtained earlier, we find pretty similar results.  It's hard to argue wih the effectiveness of the regression.\n",
    "\n",
    "| Event | Run Value |\n",
    "| ----------------- |\n",
    "|  Out  |  -0.287   |\n",
    "|  1B   |   0.462   |\n",
    "|  2B   |   0.781   |\n",
    "|  3B   |   1.085   |\n",
    "|  HR   |   1.383   |\n",
    "|  BB   |   0.306   |\n",
    "|  HBP  |   0.336   |\n",
    "\n",
    "From FanGraphs, the run values for SB and CS are .2 and -(2 * run_per_out + 0.075) (generally about -.4).  Our findings align pretty well with that.\n",
    "\n",
    "We could have used additional variables for the regression.  We're a bit limited based on the Lahman dataset so we cannot distinguish between regular walks and intentional walks, or fielder's choice, or reaching base on an error.  Luckily we've got most of the events and the most important ones at that."
   ]
  },
  {
   "cell_type": "code",
   "execution_count": 3,
   "metadata": {},
   "outputs": [
    {
     "data": {
      "text/plain": [
       "{'BB': 0.28638321301612712,\n",
       " 'CS': -0.38989776186549929,\n",
       " 'HBP': 0.33304169100271158,\n",
       " 'HR': 1.4338161249074193,\n",
       " 'O': -0.2720135548403862,\n",
       " 'SB': 0.18417972795862578,\n",
       " 'X1B': 0.47544693639011071,\n",
       " 'X2B': 0.74304556503735408,\n",
       " 'X3B': 1.0736700743249656}"
      ]
     },
     "execution_count": 3,
     "metadata": {},
     "output_type": "execute_result"
    }
   ],
   "source": [
    "dep_vars = 'RAA'\n",
    "ind_vars = ['O', 'X1B', 'X2B', 'X3B', 'HR', 'BB', 'HBP', 'SB', 'CS']\n",
    "coefs, predictions, errors = multiple_regression(dep_vars, ind_vars, lahman)\n",
    "lahman['regress_errors'] = errors\n",
    "lahman['regress_predictions'] = predictions\n",
    "coefs"
   ]
  },
  {
   "cell_type": "markdown",
   "metadata": {},
   "source": [
    "#### Stolen Base Breakeven Probability\n",
    "\n",
    "The breakeven probability for a stolen base tells us how likely a stolen base needs to be to make it an even proposition in terms of run expectancy.  Research has shown that some poorly constructed regression models can fail to provide a properly calibrated model with respect to the breakeven probability.  Our model is pretty close to what we should expect, which is about 70%."
   ]
  },
  {
   "cell_type": "code",
   "execution_count": 4,
   "metadata": {},
   "outputs": [
    {
     "data": {
      "text/plain": [
       "0.6791727053867741"
      ]
     },
     "execution_count": 4,
     "metadata": {},
     "output_type": "execute_result"
    }
   ],
   "source": [
    "np.abs(coefs['CS']) / (coefs['SB'] + np.abs(coefs['CS']))"
   ]
  },
  {
   "cell_type": "markdown",
   "metadata": {},
   "source": [
    "#### Residuals\n",
    "We can look a scatterplot between RAA and the errors from the regression.  The doesn't look eggregiously bad so it looks like we're doing a fair job of capturing run scoring with the events we have used."
   ]
  },
  {
   "cell_type": "code",
   "execution_count": 5,
   "metadata": {},
   "outputs": [
    {
     "data": {
      "image/png": "[encoded data removed]",
      "text/plain": [
       "<matplotlib.figure.Figure at 0x101068320>"
      ]
     },
     "metadata": {},
     "output_type": "display_data"
    }
   ],
   "source": [
    "lahman.scatter('RAA', select='regress_errors')"
   ]
  },
  {
   "cell_type": "markdown",
   "metadata": {},
   "source": [
    "### Are Ks more costly than other outs?\n",
    "\n",
    "Among other variables we could have used is the strikeout.  Presumably striking out and not putting the ball in play, even if it results in an out, should be less valuable.  So is there much of a distinction between regular outs and strikeouts?\n",
    "\n",
    "The evidence is not strong that it's hugely different in value but the diffence is slightly larger in magnitude than\n",
    "what we computed using play-by-play data.\n",
    "\n",
    "\n",
    "| Event | Run Value |\n",
    "| ----------------- |\n",
    "|  Out  |  -0.287   |\n",
    "|   K   |  -0.292   |"
   ]
  },
  {
   "cell_type": "code",
   "execution_count": 6,
   "metadata": {},
   "outputs": [
    {
     "data": {
      "text/plain": [
       "{'BB': 0.28662643975427976,\n",
       " 'CS': -0.40902665944231753,\n",
       " 'HBP': 0.33341587621274904,\n",
       " 'HR': 1.4365313988000503,\n",
       " 'O_nonK': -0.26123185080084926,\n",
       " 'SB': 0.18928883043990463,\n",
       " 'SO': -0.28016407211535588,\n",
       " 'X1B': 0.45417865157588777,\n",
       " 'X2B': 0.73163384286994326,\n",
       " 'X3B': 1.0905362177967339}"
      ]
     },
     "execution_count": 6,
     "metadata": {},
     "output_type": "execute_result"
    }
   ],
   "source": [
    "ind_vars_with_K = ['O_nonK', 'SO', 'X1B', 'X2B', 'X3B', 'HR', 'BB', 'HBP', 'SB', 'CS']\n",
    "coefs_with_K, _, _ = multiple_regression(dep_vars, ind_vars_with_K, lahman)\n",
    "coefs_with_K"
   ]
  },
  {
   "cell_type": "markdown",
   "metadata": {},
   "source": [
    "### What happens if we only use a year of data?\n",
    "\n",
    "We used all years since 2000 to build our regression.  What if we want to compute the run values for a single year, say 2016?  Let's sluff off the rest of the data and run our regression."
   ]
  },
  {
   "cell_type": "code",
   "execution_count": 7,
   "metadata": {},
   "outputs": [
    {
     "data": {
      "text/plain": [
       "{'BB': 0.18655221577597061,\n",
       " 'CS': -0.0053071858808910743,\n",
       " 'HBP': 0.53596880172996053,\n",
       " 'HR': 1.3140872972712316,\n",
       " 'O': -0.25989264826683811,\n",
       " 'SB': 0.13498240576980014,\n",
       " 'X1B': 0.38322356997502072,\n",
       " 'X2B': 1.1326424996671227,\n",
       " 'X3B': 0.83704803308973874}"
      ]
     },
     "execution_count": 7,
     "metadata": {},
     "output_type": "execute_result"
    }
   ],
   "source": [
    "lahman_2016 = lahman.where('yearID', 2016)\n",
    "lahman_2016['RAA'] = lahman_2016['R'] - lahman_2016['R'].mean()\n",
    "coefs_2016, _, _ = multiple_regression(dep_vars, ind_vars, lahman_2016)\n",
    "coefs_2016"
   ]
  },
  {
   "cell_type": "markdown",
   "metadata": {},
   "source": [
    "The end result is not good.  We don't know the ground truth but we have a good idea of where things should be and in this case, some of these values are ludicrous.  The value of a double is way off, especially given that it's worth more than a triple.  The values for HBP and BB are out of whack too.  Most alarmingly, the value for CS is now positive.\n",
    "\n",
    "So what happened?  \n",
    "\n",
    "Not enough data.  That's pretty much it.  One season of MLB has only 30 observations and we tried to estimate 9 coeffients.  30 data points would possibly be okay if we wanted to measure 1 effect.  But 9 simultaneous effects?  No way.\n",
    "\n",
    "The play-by-play method worked for a single season but this regression approach requires multiple years.  This is not great if we want to capture changing run environments.  A potential solution (if we wanted to continue with regression modeling) would be to build a regression using the play-by-play data.  That would be enough data."
   ]
  },
  {
   "cell_type": "markdown",
   "metadata": {},
   "source": [
    "### What happens if we only use a single variable?\n",
    "\n",
    "Let's return to our data for the 2000s but now we'll explore an important phenomenon with regression modeling: misspecification.\n",
    "\n",
    "The underlying mathematical theory says that if you have all the independent variables that the observation depends on (and among other assumptions the true model is linear), regression modeling will properly estimate the coefficients of the model.\n",
    "\n",
    "So far we've seen regression models that do pretty well because we're doing a pretty good job of specifying the model.  Let's see just how the regression could have produced junk results if we did not properly specify the regression model.\n",
    "\n",
    "We specify an constant term in `multiple_regression` because it provides an intercept to the regression line, which is very much needed as indicated by the scatter plot."
   ]
  },
  {
   "cell_type": "code",
   "execution_count": 8,
   "metadata": {},
   "outputs": [
    {
     "data": {
      "text/plain": [
       "{'Intercept': 227.41671011042573, 'SO': -0.20186847358573679}"
      ]
     },
     "execution_count": 8,
     "metadata": {},
     "output_type": "execute_result"
    },
    {
     "data": {
      "image/png": "[encoded data removed]",
      "text/plain": [
       "<matplotlib.figure.Figure at 0x108a6a6a0>"
      ]
     },
     "metadata": {},
     "output_type": "display_data"
    }
   ],
   "source": [
    "dep_vars = 'RAA'\n",
    "ind_vars = 'SO'\n",
    "coefs, predictions, errors = multiple_regression(dep_vars, ind_vars, lahman, constant=True)\n",
    "lahman.scatter(ind_vars, select=dep_vars)\n",
    "coefs"
   ]
  },
  {
   "cell_type": "markdown",
   "metadata": {},
   "source": [
    "While it feels like we should have been able to estimate the individual effects of the events, the poor results show that the simultaneous effects of the different events make it so that you definitely need to incorporate all the events to get proper results.\n",
    "\n",
    "This is huge part of any statistical study using regression: you need to collect as much information as you can that likely is relevant because if you fail to account for relevant information, your results will likely be corrupted and erroneous."
   ]
  },
  {
   "cell_type": "markdown",
   "metadata": {},
   "source": [
    "## Four Factor Model\n",
    "\n",
    "Recall Dean Oliver's four factor model for basketball:\n",
    "\\begin{align*}\n",
    "  \\text{Team Performance} & = .4 \\cdot Z(\\mathit{eFG\\%} -  \\mathit{eFG\\%}_{\\text{Opp}}) \\\\\n",
    "  & \\quad - .25 \\cdot Z(\\text{Turnover Rate} - \\text{Turnover Rate}_{\\text{Opp}}) \\\\\n",
    "  & \\quad + .2 \\cdot Z(\\mathit{OREB\\%} -  \\mathit{OREB\\%}_{\\text{Opp}}) \\\\\n",
    "  & \\quad  + .15 \\cdot Z(\\text{FT Rate} - \\text{FT Rate}_{\\text{Opp}})\n",
    "\\end{align*}\n",
    "\n",
    "The model tried to explain team performance through four fundamental factors.  Dean Oliver prescribed his own relative importance to the factors as 40% for efficient shooting, 25% for turnovers, 20% for rebounding, and 15% for free throw attempts.   Where did Dean Oliver get those values?  Are they the best?\n",
    "\n",
    "We don't know where he got those values but we can see what regression says for the relative importance."
   ]
  },
  {
   "cell_type": "markdown",
   "metadata": {},
   "source": [
    "### Load Data\n",
    "\n",
    "We'll use similar data we used before but cleaned up to have the just the four factors and other relevant data.\n",
    "\n",
    "Recall the two values:\n",
    "\\begin{align*}\n",
    "  \\text{Rating Ratio} & = \\frac{\\text{Off. Rating}}{\\text{Def. Rating}} \\\\\n",
    "  \\text{Log Rating Ratio} & = \\log\\text{Rating Ratio}\n",
    "\\end{align*}"
   ]
  },
  {
   "cell_type": "code",
   "execution_count": 9,
   "metadata": {},
   "outputs": [
    {
     "data": {
      "text/html": [
       "<table border=\"1\" class=\"dataframe\">\n",
       "    <thead>\n",
       "        <tr>\n",
       "            <th>team</th> <th>season</th> <th>win_pct</th> <th>rtg_rat</th> <th>log_rtg_rat</th> <th>eFG</th> <th>Tov</th> <th>Reb</th> <th>Ftr</th>\n",
       "        </tr>\n",
       "    </thead>\n",
       "    <tbody>\n",
       "        <tr>\n",
       "            <td>ORL </td> <td>2000  </td> <td>0.52439 </td> <td>1.01077 </td> <td>0.0107161  </td> <td>0.380505 </td> <td>-1.29962 </td> <td>-0.374888</td> <td>-2.11406 </td>\n",
       "        </tr>\n",
       "    </tbody>\n",
       "        <tr>\n",
       "            <td>OKC </td> <td>2000  </td> <td>0.536585</td> <td>1       </td> <td>0          </td> <td>0.0833955</td> <td>0.241673 </td> <td>-0.335741</td> <td>0.544216 </td>\n",
       "        </tr>\n",
       "    </tbody>\n",
       "        <tr>\n",
       "            <td>UTA </td> <td>2000  </td> <td>0.646341</td> <td>1.05078 </td> <td>0.0495339  </td> <td>0.876757 </td> <td>-0.388508</td> <td>1.10737  </td> <td>-0.801943</td>\n",
       "        </tr>\n",
       "    </tbody>\n",
       "        <tr>\n",
       "            <td>CHI </td> <td>2000  </td> <td>0.182927</td> <td>0.905871</td> <td>-0.0988579 </td> <td>-1.82404 </td> <td>0.602356 </td> <td>-1.02293 </td> <td>-0.950757</td>\n",
       "        </tr>\n",
       "    </tbody>\n",
       "        <tr>\n",
       "            <td>CLE </td> <td>2000  </td> <td>0.365854</td> <td>0.956149</td> <td>-0.0448418 </td> <td>-0.652338</td> <td>0.958817 </td> <td>0.290324 </td> <td>-0.252797</td>\n",
       "        </tr>\n",
       "    </tbody>\n",
       "</table>\n",
       "<p>... (501 rows omitted)</p"
      ],
      "text/plain": [
       "<IPython.core.display.HTML object>"
      ]
     },
     "metadata": {},
     "output_type": "display_data"
    }
   ],
   "source": [
    "nba_teams_full = ds.Table.read_table('team_season_ff_data.csv', sep=',')\n",
    "\n",
    "nba_teams = nba_teams_full.where('season', ds.are.above_or_equal_to(2000))\n",
    "nba_teams.show(5)"
   ]
  },
  {
   "cell_type": "markdown",
   "metadata": {},
   "source": [
    "### Four Factors and Winning Pct\n",
    "\n",
    "Let's first look at a model for winning percentage using the four factors.  Since winning percentage is centered around .500, we need to include a constant term to center our model."
   ]
  },
  {
   "cell_type": "code",
   "execution_count": 10,
   "metadata": {},
   "outputs": [
    {
     "data": {
      "text/plain": [
       "{'Ftr': 0.034652607257466356,\n",
       " 'Intercept': 0.50005666845551222,\n",
       " 'Reb': 0.039496708859596649,\n",
       " 'Tov': -0.058226279568261,\n",
       " 'eFG': 0.1226533269183806}"
      ]
     },
     "execution_count": 10,
     "metadata": {},
     "output_type": "execute_result"
    }
   ],
   "source": [
    "dep_vars = 'win_pct'\n",
    "ind_vars = ['eFG', 'Tov', 'Reb', 'Ftr']\n",
    "coefs, _, _ = multiple_regression(dep_vars, ind_vars, nba_teams, constant=True)\n",
    "coefs"
   ]
  },
  {
   "cell_type": "markdown",
   "metadata": {},
   "source": [
    "We can rescale the non-intercept coefficients to sum to 100 in absolute value so they are relative percentages, as Dean Oliver used.  We got reasonably close to Dean Oliver's prescribed values but it turns out that our model suggests lower weights for **Tov**, **Reb**, and **FTR** in exchange for more importance for **eFG**."
   ]
  },
  {
   "cell_type": "code",
   "execution_count": 11,
   "metadata": {},
   "outputs": [
    {
     "data": {
      "text/plain": [
       "array([ 48.11764706, -22.82352941,  15.49019608,  13.56862745])"
      ]
     },
     "execution_count": 11,
     "metadata": {},
     "output_type": "execute_result"
    }
   ],
   "source": [
    "factor_coefs = np.array([0.1227, -0.0582, 0.0395, 0.0346])\n",
    "factor_coefs / np.abs(factor_coefs).sum() * 100"
   ]
  },
  {
   "cell_type": "markdown",
   "metadata": {},
   "source": [
    "### Four Factors and the log Rating Ratio\n",
    "\n",
    "We can also look at our ole Pythagorean Expectation pal the log rating ratio.  There is no need for an intercept for the log rating ratio since it's centered very close to 0.\n",
    "\n",
    "Perhaps not shockingly, we get similar results for the relative importance.  The **eFG** factor again is more relevant according to this regression."
   ]
  },
  {
   "cell_type": "code",
   "execution_count": 12,
   "metadata": {},
   "outputs": [
    {
     "data": {
      "image/png": "[encoded data removed]",
      "text/plain": [
       "<matplotlib.figure.Figure at 0x108b28898>"
      ]
     },
     "metadata": {},
     "output_type": "display_data"
    }
   ],
   "source": [
    "nba_teams.hist('log_rtg_rat')"
   ]
  },
  {
   "cell_type": "code",
   "execution_count": 13,
   "metadata": {},
   "outputs": [
    {
     "data": {
      "text/plain": [
       "{'Ftr': 0.010432195259326038,\n",
       " 'Intercept': 4.1416575123896706e-05,\n",
       " 'Reb': 0.012797456466873629,\n",
       " 'Tov': -0.018183755455918466,\n",
       " 'eFG': 0.037733556027590834}"
      ]
     },
     "execution_count": 13,
     "metadata": {},
     "output_type": "execute_result"
    }
   ],
   "source": [
    "dep_vars = 'log_rtg_rat'\n",
    "ind_vars = ['eFG', 'Tov', 'Reb', 'Ftr']\n",
    "coefs, _, _ = multiple_regression(dep_vars, ind_vars, nba_teams, constant=True)\n",
    "coefs"
   ]
  },
  {
   "cell_type": "code",
   "execution_count": 14,
   "metadata": {},
   "outputs": [
    {
     "data": {
      "text/plain": [
       "array([ 47.66118837, -23.00884956,  16.18204804,  13.14791403])"
      ]
     },
     "execution_count": 14,
     "metadata": {},
     "output_type": "execute_result"
    }
   ],
   "source": [
    "factor_coefs = np.array([0.0377, -0.0182, 0.0128, 0.0104])\n",
    "factor_coefs / np.abs(factor_coefs).sum() * 100"
   ]
  },
  {
   "cell_type": "markdown",
   "metadata": {},
   "source": [
    "#### As before, what if only include one variable in the regression?\n",
    "\n",
    "The resulting coefficients from the misspecified models are all off, and not in a consistent direction."
   ]
  },
  {
   "cell_type": "code",
   "execution_count": 15,
   "metadata": {},
   "outputs": [
    {
     "data": {
      "text/plain": [
       "(0.019097591027970269, 0.010432195259326038)"
      ]
     },
     "execution_count": 15,
     "metadata": {},
     "output_type": "execute_result"
    }
   ],
   "source": [
    "dep_vars = 'log_rtg_rat'\n",
    "ind_vars = 'Ftr'\n",
    "coefs_misspecified, _, _ = multiple_regression(dep_vars, ind_vars, nba_teams)\n",
    "coefs_misspecified[ind_vars], coefs[ind_vars]"
   ]
  },
  {
   "cell_type": "markdown",
   "metadata": {},
   "source": [
    "### By Games\n",
    "\n",
    "If you recall, the four factor model was also effective for explaning game performance.  Compared to the season level, the performance was quite similar though the games just had more variation.  The regression should still be more effective.  How does that play out here?"
   ]
  },
  {
   "cell_type": "code",
   "execution_count": 16,
   "metadata": {},
   "outputs": [
    {
     "data": {
      "text/html": [
       "<table border=\"1\" class=\"dataframe\">\n",
       "    <thead>\n",
       "        <tr>\n",
       "            <th>GAME_ID</th> <th>TEAM_NAME</th> <th>OPP_TEAM_NAME</th> <th>log_rtg_rat</th> <th>eFG</th> <th>Tov</th> <th>Reb</th> <th>Ftr</th>\n",
       "        </tr>\n",
       "    </thead>\n",
       "    <tbody>\n",
       "        <tr>\n",
       "            <td>21600001</td> <td>Knicks   </td> <td>Cavaliers    </td> <td>-0.23113   </td> <td>-1.39259 </td> <td>0.751141 </td> <td>-0.344226 </td> <td>0.335651</td>\n",
       "        </tr>\n",
       "    </tbody>\n",
       "        <tr>\n",
       "            <td>21600002</td> <td>Jazz     </td> <td>Trail Blazers</td> <td>-0.128505  </td> <td>-0.760523</td> <td>0.0711826</td> <td>-0.0157859</td> <td>-0.67614</td>\n",
       "        </tr>\n",
       "    </tbody>\n",
       "        <tr>\n",
       "            <td>21600003</td> <td>Spurs    </td> <td>Warriors     </td> <td>0.239358   </td> <td>0.318357 </td> <td>-0.448785</td> <td>2.34126   </td> <td>0.536404</td>\n",
       "        </tr>\n",
       "    </tbody>\n",
       "        <tr>\n",
       "            <td>21600004</td> <td>Magic    </td> <td>Heat         </td> <td>-0.09106   </td> <td>-0.967581</td> <td>-0.148804</td> <td>-0.576067 </td> <td>1.31532 </td>\n",
       "        </tr>\n",
       "    </tbody>\n",
       "        <tr>\n",
       "            <td>21600005</td> <td>Pacers   </td> <td>Mavericks    </td> <td>0.0798197  </td> <td>0.438232 </td> <td>0.191175 </td> <td>-0.199326 </td> <td>1.66062 </td>\n",
       "        </tr>\n",
       "    </tbody>\n",
       "</table>\n",
       "<p>... (1225 rows omitted)</p"
      ],
      "text/plain": [
       "<IPython.core.display.HTML object>"
      ]
     },
     "metadata": {},
     "output_type": "display_data"
    }
   ],
   "source": [
    "games = ds.Table.read_table('game_ff_data_2016.csv', sep=',')\n",
    "games.show(5)"
   ]
  },
  {
   "cell_type": "markdown",
   "metadata": {},
   "source": [
    "For 2016, the weight is just a bit more on eFG.  But it appears generally consistent with season level."
   ]
  },
  {
   "cell_type": "code",
   "execution_count": 17,
   "metadata": {},
   "outputs": [
    {
     "data": {
      "text/plain": [
       "{'Ftr': 0.024295414915050502,\n",
       " 'Reb': 0.051561693830323857,\n",
       " 'Tov': -0.059406457503157532,\n",
       " 'eFG': 0.13357198257802982}"
      ]
     },
     "execution_count": 17,
     "metadata": {},
     "output_type": "execute_result"
    }
   ],
   "source": [
    "dep_vars = 'log_rtg_rat'\n",
    "ind_vars = ['eFG', 'Tov', 'Reb', 'Ftr']\n",
    "coefs, _, _ = multiple_regression(dep_vars, ind_vars, games)\n",
    "coefs"
   ]
  },
  {
   "cell_type": "code",
   "execution_count": 18,
   "metadata": {},
   "outputs": [
    {
     "data": {
      "text/plain": [
       "array([ 49.68389736, -22.08999628,  19.1892897 ,   9.03681666])"
      ]
     },
     "execution_count": 18,
     "metadata": {},
     "output_type": "execute_result"
    }
   ],
   "source": [
    "factor_coefs = np.array([0.1336, -0.0594, 0.0516, 0.0243])\n",
    "factor_coefs / np.abs(factor_coefs).sum() * 100"
   ]
  },
  {
   "cell_type": "markdown",
   "metadata": {},
   "source": [
    " We should be heartened by the overall stability of the regression modeling.  It's a good sign when the model is stable and not overly sensitive to changing data."
   ]
  },
  {
   "cell_type": "markdown",
   "metadata": {},
   "source": [
    "## Plus/Minus Regression\n",
    "\n",
    "We can think of a plus/minus rating as simultaneous impacts of players on team performance.  If we track performance over stints, where the same 10 players are on the court, we can measure a player's impact using a regression.\n",
    "\n",
    "The model is:\n",
    "$$\n",
    "    \\mathrm{HomeNetRating}_t = \\mathrm{HomeCourtAdv} + \\mathrm{Sum}(\\mbox{Home Player $i$'s net rating if player $i$ is on the during the $t$-th stint}) - \\mathrm{Sum}(\\mbox{Away Player $i$'s net rating if player $i$ is on the during the $t$-th stint}).\n",
    "$$\n",
    "\n",
    "Using play-by-play data from 2014-15, the stint data is collected into a table.  For each stint, possessions and scoring is tracked as well as the 10 players on the court.  There about about 40k stints over the nba season."
   ]
  },
  {
   "cell_type": "markdown",
   "metadata": {},
   "source": [
    "### Stint data\n",
    "\n",
    "Here we can see the data on all the stints but this isn't really effective for performing a regression analysis.  "
   ]
  },
  {
   "cell_type": "code",
   "execution_count": 19,
   "metadata": {},
   "outputs": [
    {
     "data": {
      "text/html": [
       "<table border=\"1\" class=\"dataframe\">\n",
       "    <thead>\n",
       "        <tr>\n",
       "            <th>away</th> <th>away_ortg</th> <th>away_poss</th> <th>away_pts</th> <th>away_unit</th> <th>home</th> <th>home_ortg</th> <th>home_poss</th> <th>home_pts</th> <th>home_unit</th> <th>net_poss</th> <th>home_netpts</th> <th>home_netrtg</th>\n",
       "        </tr>\n",
       "    </thead>\n",
       "    <tbody>\n",
       "        <tr>\n",
       "            <td>Warriors</td> <td>100      </td> <td>4        </td> <td>4       </td> <td>['Stephen Curry', 'Klay Thompson', 'Andre Iguodala', 'Dr ...</td> <td>Lakers</td> <td>275      </td> <td>4        </td> <td>11      </td> <td>['Ronnie Price', 'Wayne Ellington', 'Wesley Johnson', 'C ...</td> <td>8       </td> <td>7          </td> <td>175        </td>\n",
       "        </tr>\n",
       "    </tbody>\n",
       "        <tr>\n",
       "            <td>Kings   </td> <td>nan      </td> <td>0        </td> <td>0       </td> <td>['Ray McCallum', 'Ben McLemore', 'Nik Stauskas', 'Carl L ...</td> <td>Nets  </td> <td>0        </td> <td>1        </td> <td>0       </td> <td>['Jarrett Jack', 'Alan Anderson', 'Joe Johnson', 'Mason  ...</td> <td>1       </td> <td>0          </td> <td>0          </td>\n",
       "        </tr>\n",
       "    </tbody>\n",
       "        <tr>\n",
       "            <td>Warriors</td> <td>170      </td> <td>10       </td> <td>17      </td> <td>['Stephen Curry', 'Klay Thompson', 'Harrison Barnes', 'D ...</td> <td>Lakers</td> <td>90       </td> <td>10       </td> <td>9       </td> <td>['Ronnie Price', 'Wayne Ellington', 'Wesley Johnson', 'J ...</td> <td>20      </td> <td>-8         </td> <td>-80        </td>\n",
       "        </tr>\n",
       "    </tbody>\n",
       "        <tr>\n",
       "            <td>Warriors</td> <td>0        </td> <td>2        </td> <td>0       </td> <td>['Stephen Curry', 'Klay Thompson', 'Harrison Barnes', 'D ...</td> <td>Lakers</td> <td>200      </td> <td>3        </td> <td>6       </td> <td>['Ronnie Price', 'Wayne Ellington', 'Wesley Johnson', 'J ...</td> <td>5       </td> <td>6          </td> <td>200        </td>\n",
       "        </tr>\n",
       "    </tbody>\n",
       "        <tr>\n",
       "            <td>Warriors</td> <td>100      </td> <td>1        </td> <td>1       </td> <td>['Stephen Curry', 'Klay Thompson', 'Harrison Barnes', 'D ...</td> <td>Lakers</td> <td>nan      </td> <td>0        </td> <td>2       </td> <td>['Ronnie Price', 'Wayne Ellington', 'Wesley Johnson', 'J ...</td> <td>1       </td> <td>1          </td> <td>-100       </td>\n",
       "        </tr>\n",
       "    </tbody>\n",
       "</table>\n",
       "<p>... (40448 rows omitted)</p"
      ],
      "text/plain": [
       "<IPython.core.display.HTML object>"
      ]
     },
     "metadata": {},
     "output_type": "display_data"
    }
   ],
   "source": [
    "from regression_helper import multiple_regression_big\n",
    "\n",
    "t = ds.Table.read_table('nba_stints_2015_full.csv.gz', sep=',')\n",
    "t.show(5)"
   ]
  },
  {
   "cell_type": "markdown",
   "metadata": {},
   "source": [
    "### Stint Data for Regression\n",
    "\n",
    "Instead, we use encoded data that is actually numeric.  Each player is represented by a 0 or 1.  If a player is on the court during the stint, he will have a 1.  Most of the entries will be 0.\n",
    "\n",
    "HCA naturally stands for home court advantage and is actually just a column of 1s.  This is like fitting an intercept.\n",
    "\n",
    "\n",
    "We do this via a big model where each variable corresponds to a player and is 0 if the player was _not_ on the court during the stint and 1 if he was.  This creates a table of 0s and 1s of size Number of Stints by Number of Players + 1.  The +1 is for an extra variable representing the home court advantage.  Each row will only have 10 1s."
   ]
  },
  {
   "cell_type": "code",
   "execution_count": 20,
   "metadata": {},
   "outputs": [
    {
     "data": {
      "text/html": [
       "<table border=\"1\" class=\"dataframe\">\n",
       "    <thead>\n",
       "        <tr>\n",
       "            <th>net_rtg</th> <th>net_poss</th> <th>HCA</th> <th>A.J. Price</th> <th>Aaron Brooks</th> <th>Aaron Gordon</th> <th>Adreian Payne</th> <th>Al Horford</th> <th>Al Jefferson</th> <th>Al-Farouq Aminu</th> <th>Alan Anderson</th> <th>Alec Burks</th> <th>Alex Kirk</th> <th>Alex Len</th> <th>Alexey Shved</th> <th>Alexis Ajinca</th> <th>Allen Crabbe</th> <th>Alonzo Gee</th> <th>Amar'e Stoudemire</th> <th>Amir Johnson</th> <th>Anderson Varejao</th> <th>Andre Dawkins</th> <th>Andre Drummond</th> <th>Andre Iguodala</th> <th>Andre Miller</th> <th>Andre Roberson</th> <th>Andrea Bargnani</th> <th>Andrei Kirilenko</th> <th>Andrew Bogut</th> <th>Andrew Nicholson</th> <th>Andrew Wiggins</th> <th>Anthony Bennett</th> <th>Anthony Davis</th> <th>Anthony Morrow</th> <th>Anthony Tolliver</th> <th>Archie Goodwin</th> <th>Arinze Onuaku</th> <th>Aron Baynes</th> <th>Arron Afflalo</th> <th>Austin Daye</th> <th>Austin Rivers</th> <th>Avery Bradley</th> <th>Ben Gordon</th> <th>Ben McLemore</th> <th>Beno Udrih</th> <th>Bernard James</th> <th>Bismack Biyombo</th> <th>Blake Griffin</th> <th>Bojan Bogdanovic</th> <th>Boris Diaw</th> <th>Bradley Beal</th> <th>Brandan Wright</th> <th>Brandon Bass</th> <th>Brandon Davies</th> <th>Brandon Jennings</th> <th>Brandon Knight</th> <th>Brandon Rush</th> <th>Brendan Haywood</th> <th>Brian Roberts</th> <th>Brook Lopez</th> <th>Bruno Caboclo</th> <th>Bryce Cotton</th> <th>C.J. McCollum</th> <th>C.J. Miles</th> <th>C.J. Watson</th> <th>C.J. Wilcox</th> <th>Cameron Bairstow</th> <th>Carl Landry</th> <th>Carlos Boozer</th> <th>Carmelo Anthony</th> <th>Caron Butler</th> <th>Cartier Martin</th> <th>Chandler Parsons</th> <th>Channing Frye</th> <th>Charlie Villanueva</th> <th>Chase Budinger</th> <th>Chris Andersen</th> <th>Chris Bosh</th> <th>Chris Copeland</th> <th>Chris Douglas-Roberts</th> <th>Chris Johnson</th> <th>Chris Kaman</th> <th>Chris Paul</th> <th>Chuck Hayes</th> <th>Cleanthony Early</th> <th>Clint Capela</th> <th>Cody Zeller</th> <th>Cole Aldrich</th> <th>Corey Brewer</th> <th>Cory Jefferson</th> <th>Cory Joseph</th> <th>Courtney Lee</th> <th>D.J. Augustin</th> <th>Dahntay Jones</th> <th>Damian Lillard</th> <th>Damjan Rudez</th> <th>Danilo Gallinari</th> <th>Danny Granger</th> <th>Danny Green</th> <th>Dante Cunningham</th> <th>Dante Exum</th> <th>Darius Miller</th> <th>Darius Morris</th> <th>Darrell Arthur</th> <th>Darren Collison</th> <th>David Lee</th> <th>David Stockton</th> <th>David Wear</th> <th>David West</th> <th>DeAndre Jordan</th> <th>DeJuan Blair</th> <th>DeMar DeRozan</th> <th>DeMarcus Cousins</th> <th>DeMarre Carroll</th> <th>Dennis Schroder</th> <th>Deron Williams</th> <th>Derrick Favors</th> <th>Derrick Rose</th> <th>Derrick Williams</th> <th>Devin Harris</th> <th>Devyn Marble</th> <th>Dewayne Dedmon</th> <th>Dion Waiters</th> <th>Dirk Nowitzki</th> <th>Donald Sloan</th> <th>Donatas Motiejunas</th> <th>Dorell Wright</th> <th>Doug McDermott</th> <th>Draymond Green</th> <th>Drew Gooden</th> <th>Drew Gordon</th> <th>Dwight Buycks</th> <th>Dwight Howard</th> <th>Dwight Powell</th> <th>Dwyane Wade</th> <th>E'Twaun Moore</th> <th>Earl Barron</th> <th>Earl Clark</th> <th>Ed Davis</th> <th>Ekpe Udoh</th> <th>Elfrid Payton</th> <th>Elijah Millsap</th> <th>Elliot Williams</th> <th>Elton Brand</th> <th>Enes Kanter</th> <th>Eric Bledsoe</th> <th>Eric Gordon</th> <th>Eric Moreland</th> <th>Erick Green</th> <th>Ersan Ilyasova</th> <th>Evan Fournier</th> <th>Evan Turner</th> <th>Festus Ezeli</th> <th>Francisco Garcia</th> <th>Furkan Aldemir</th> <th>Gal Mekel</th> <th>Garrett Temple</th> <th>Gary Harris</th> <th>Gary Neal</th> <th>George Hill</th> <th>Gerald Green</th> <th>Gerald Henderson</th> <th>Gerald Wallace</th> <th>Giannis Antetokounmpo</th> <th>Glen Davis</th> <th>Glen Rice Jr.</th> <th>Glenn Robinson III</th> <th>Goran Dragic</th> <th>Gordon Hayward</th> <th>Gorgui Dieng</th> <th>Grant Jerrett</th> <th>Greg Monroe</th> <th>Greg Smith</th> <th>Greg Stiemsma</th> <th>Greivis Vasquez</th> <th>Harrison Barnes</th> <th>Hassan Whiteside</th> <th>Hedo Turkoglu</th> <th>Henry Sims</th> <th>Henry Walker</th> <th>Hollis Thompson</th> <th>Ian Clark</th> <th>Ian Mahinmi</th> <th>Iman Shumpert</th> <th>Isaiah Canaan</th> <th>Isaiah Thomas</th> <th>Ish Smith</th> <th>J.J. Barea</th> <th>J.J. Hickson</th> <th>J.J. Redick</th> <th>J.R. Smith</th> <th>JaMychal Green</th> <th>JaVale McGee</th> <th>Jabari Brown</th> <th>Jabari Parker</th> <th>Jack Cooley</th> <th>Jae Crowder</th> <th>Jakarr Sampson</th> <th>Jamaal Franklin</th> <th>Jamal Crawford</th> <th>Jameer Nelson</th> <th>James Ennis</th> <th>James Harden</th> <th>James Johnson</th> <th>James Jones</th> <th>James Michael McAdoo</th> <th>James Young</th> <th>Jannero Pargo</th> <th>Jared Cunningham</th> <th>Jared Dudley</th> <th>Jared Sullinger</th> <th>Jarnell Stokes</th> <th>Jarrett Jack</th> <th>Jason Maxiell</th> <th>Jason Richardson</th> <th>Jason Smith</th> <th>Jason Terry</th> <th>Jason Thompson</th> <th>Jeff Adrien</th> <th>Jeff Ayres</th> <th>Jeff Green</th> <th>Jeff Teague</th> <th>Jeff Withey</th> <th>Jeffery Taylor</th> <th>Jerami Grant</th> <th>Jerel McNeal</th> <th>Jeremy Evans</th> <th>Jeremy Lamb</th> <th>Jeremy Lin</th> <th>Jerome Jordan</th> <th>Jerrelle Benimon</th> <th>Jerryd Bayless</th> <th>Jimmer Fredette</th> <th>Jimmy Butler</th> <th>Joakim Noah</th> <th>Jodie Meeks</th> <th>Joe Harris</th> <th>Joe Ingles</th> <th>Joe Johnson</th> <th>Joel Anthony</th> <th>Joel Freeland</th> <th>Joey Dorsey</th> <th>Joffrey Lauvergne</th> <th>John Henson</th> <th>John Jenkins</th> <th>John Lucas III</th> <th>John Salmons</th> <th>John Wall</th> <th>Johnny O'Bryant</th> <th>Jon Leuer</th> <th>Jonas Jerebko</th> <th>Jonas Valanciunas</th> <th>Jordan Adams</th> <th>Jordan Clarkson</th> <th>Jordan Farmar</th> <th>Jordan Hamilton</th> <th>Jordan Hill</th> <th>Jorge Gutierrez</th> <th>Jose Calderon</th> <th>Josh McRoberts</th> <th>Josh Smith</th> <th>Jrue Holiday</th> <th>Julius Randle</th> <th>Justin Hamilton</th> <th>Justin Holiday</th> <th>Jusuf Nurkic</th> <th>K.J. McDaniels</th> <th>Kalin Lucas</th> <th>Kawhi Leonard</th> <th>Kelly Olynyk</th> <th>Kemba Walker</th> <th>Kendall Marshall</th> <th>Kendrick Perkins</th> <th>Kenneth Faried</th> <th>Kent Bazemore</th> <th>Kentavious Caldwell-Pope</th> <th>Kenyon Martin</th> <th>Kevin Durant</th> <th>Kevin Garnett</th> <th>Kevin Love</th> <th>Kevin Martin</th> <th>Kevin Seraphin</th> <th>Khris Middleton</th> <th>Kirk Hinrich</th> <th>Klay Thompson</th> <th>Kobe Bryant</th> <th>Kosta Koufos</th> <th>Kostas Papanikolaou</th> <th>Kris Humphries</th> <th>Kyle Anderson</th> <th>Kyle Korver</th> <th>Kyle Lowry</th> <th>Kyle O'Quinn</th> <th>Kyle Singler</th> <th>Kyrie Irving</th> <th>LaMarcus Aldridge</th> <th>Lance Stephenson</th> <th>Lance Thomas</th> <th>Landry Fields</th> <th>Langston Galloway</th> <th>Larry Drew II</th> <th>Larry Sanders</th> <th>Lavoy Allen</th> <th>LeBron James</th> <th>Leandro Barbosa</th> <th>Lester Hudson</th> <th>Lorenzo Brown</th> <th>Lou Williams</th> <th>Louis Amundson</th> <th>Luc Richard Mbah a Moute</th> <th>Lucas Nogueira</th> <th>Luigi Datome</th> <th>Luis Scola</th> <th>Luke Babbitt</th> <th>Luke Ridnour</th> <th>Luol Deng</th> <th>Malcolm Lee</th> <th>Malcolm Thomas</th> <th>Manu Ginobili</th> <th>Marc Gasol</th> <th>Marcin Gortat</th> <th>Marco Belinelli</th> <th>Marcus Morris</th> <th>Marcus Smart</th> <th>Marcus Thornton</th> <th>Mario Chalmers</th> <th>Markel Brown</th> <th>Markieff Morris</th> <th>Marreese Speights</th> <th>Martell Webster</th> <th>Marvin Williams</th> <th>Mason Plumlee</th> <th>Matt Barnes</th> <th>Matt Bonner</th> <th>Matthew Dellavedova</th> <th>Maurice Harkless</th> <th>Meyers Leonard</th> <th>Michael Beasley</th> <th>Michael Carter-Williams</th> <th>Michael Kidd-Gilchrist</th> <th>Mike Conley</th> <th>Mike Dunleavy</th> <th>Mike Malone</th> <th>Mike Miller</th> <th>Mike Muscala</th> <th>Mike Scott</th> <th>Miles Plumlee</th> <th>Miroslav Raduljica</th> <th>Mirza Teletovic</th> <th>Mitch McGary</th> <th>Mo Williams</th> <th>Monta Ellis</th> <th>Nate Robinson</th> <th>Nate Wolters</th> <th>Nazr Mohammed</th> <th>Nene Hilario</th> <th>Nerlens Noel</th> <th>Nick Calathes</th> <th>Nick Collison</th> <th>Nick Johnson</th> <th>Nick Young</th> <th>Nicolas Batum</th> <th>Nik Stauskas</th> <th>Nikola Mirotic</th> <th>Nikola Pekovic</th> <th>Nikola Vucevic</th> <th>Noah Vonleh</th> <th>Norris Cole</th> <th>O.J. Mayo</th> <th>Ognjen Kuzmic</th> <th>Omer Asik</th> <th>Omri Casspi</th> <th>Otto Porter</th> <th>P.J. Hairston</th> <th>P.J. Tucker</th> <th>Pablo Prigioni</th> <th>Patrick Beverley</th> <th>Patrick Christopher</th> <th>Patrick Mills</th> <th>Patrick Patterson</th> <th>Pau Gasol</th> <th>Paul George</th> <th>Paul Millsap</th> <th>Paul Pierce</th> <th>Pero Antic</th> <th>Perry Jones</th> <th>Phil Pressey</th> <th>Quincy Acy</th> <th>Quincy Miller</th> <th>Quincy Pondexter</th> <th>Rajon Rondo</th> <th>Ramon Sessions</th> <th>Randy Foye</th> <th>Rasual Butler</th> <th>Ray McCallum</th> <th>Raymond Felton</th> <th>Reggie Bullock</th> <th>Reggie Evans</th> <th>Reggie Jackson</th> <th>Reggie Williams</th> <th>Richard Jefferson</th> <th>Ricky Ledo</th> <th>Ricky Rubio</th> <th>Robbie Hummel</th> <th>Robert Covington</th> <th>Robert Sacre</th> <th>Robin Lopez</th> <th>Rodney Hood</th> <th>Rodney Stuckey</th> <th>Ronnie Price</th> <th>Ronny Turiaf</th> <th>Roy Hibbert</th> <th>Rudy Gay</th> <th>Rudy Gobert</th> <th>Russ Smith</th> <th>Russell Westbrook</th> <th>Ryan Anderson</th> <th>Ryan Hollins</th> <th>Ryan Kelly</th> <th>Samuel Dalembert</th> <th>Sean Kilpatrick</th> <th>Sebastian Telfair</th> <th>Serge Ibaka</th> <th>Sergey Karasev</th> <th>Seth Curry</th> <th>Shabazz Muhammad</th> <th>Shabazz Napier</th> <th>Shane Larkin</th> <th>Shannon Brown</th> <th>Shaun Livingston</th> <th>Shavlik Randolph</th> <th>Shawn Marion</th> <th>Shawne Williams</th> <th>Shayne Whittington</th> <th>Shelvin Mack</th> <th>Sim Bhullar</th> <th>Solomon Hill</th> <th>Spencer Dinwiddie</th> <th>Spencer Hawes</th> <th>Stephen Curry</th> <th>Steve Blake</th> <th>Steve Novak</th> <th>Steven Adams</th> <th>T.J. Warren</th> <th>Taj Gibson</th> <th>Tarik Black</th> <th>Tayshaun Prince</th> <th>Terrence Jones</th> <th>Terrence Ross</th> <th>Thabo Sefolosha</th> <th>Thaddeus Young</th> <th>Thomas Robinson</th> <th>Tiago Splitter</th> <th>Tim Duncan</th> <th>Tim Frazier</th> <th>Tim Hardaway Jr.</th> <th>Timofey Mozgov</th> <th>Tobias Harris</th> <th>Toney Douglas</th> <th>Tony Allen</th> <th>Tony Parker</th> <th>Tony Snell</th> <th>Tony Wroten</th> <th>Toure' Murry</th> <th>Travis Wear</th> <th>Trevor Ariza</th> <th>Trevor Booker</th> <th>Trey Burke</th> <th>Tristan Thompson</th> <th>Troy Daniels</th> <th>Ty Lawson</th> <th>Tyler Ennis</th> <th>Tyler Hansbrough</th> <th>Tyler Johnson</th> <th>Tyler Zeller</th> <th>Tyreke Evans</th> <th>Tyrus Thomas</th> <th>Tyson Chandler</th> <th>Udonis Haslem</th> <th>Vander Blue</th> <th>Victor Claver</th> <th>Victor Oladipo</th> <th>Vince Carter</th> <th>Wayne Ellington</th> <th>Wesley Johnson</th> <th>Wesley Matthews</th> <th>Will Barton</th> <th>Will Bynum</th> <th>Will Cherry</th> <th>Willie Green</th> <th>Wilson Chandler</th> <th>Xavier Henry</th> <th>Zach LaVine</th> <th>Zach Randolph</th> <th>Zaza Pachulia</th> <th>Zoran Dragic</th>\n",
       "        </tr>\n",
       "    </thead>\n",
       "    <tbody>\n",
       "        <tr>\n",
       "            <td>175    </td> <td>8       </td> <td>1   </td> <td>0         </td> <td>0           </td> <td>0           </td> <td>0            </td> <td>0         </td> <td>0           </td> <td>0              </td> <td>0            </td> <td>0         </td> <td>0        </td> <td>0       </td> <td>0           </td> <td>0            </td> <td>0           </td> <td>0         </td> <td>0                </td> <td>0           </td> <td>0               </td> <td>0            </td> <td>0             </td> <td>-1            </td> <td>0           </td> <td>0             </td> <td>0              </td> <td>0               </td> <td>0           </td> <td>0               </td> <td>0             </td> <td>0              </td> <td>0            </td> <td>0             </td> <td>0               </td> <td>0             </td> <td>0            </td> <td>0          </td> <td>0            </td> <td>0          </td> <td>0            </td> <td>0            </td> <td>0         </td> <td>0           </td> <td>0         </td> <td>0            </td> <td>0              </td> <td>0            </td> <td>0               </td> <td>0         </td> <td>0           </td> <td>0             </td> <td>0           </td> <td>0             </td> <td>0               </td> <td>0             </td> <td>0           </td> <td>0              </td> <td>0            </td> <td>0          </td> <td>0            </td> <td>0           </td> <td>0            </td> <td>0         </td> <td>0          </td> <td>0          </td> <td>0               </td> <td>0          </td> <td>1            </td> <td>0              </td> <td>0           </td> <td>0             </td> <td>0               </td> <td>0            </td> <td>0                 </td> <td>0             </td> <td>0             </td> <td>0         </td> <td>0             </td> <td>0                    </td> <td>0            </td> <td>0          </td> <td>0         </td> <td>0          </td> <td>0               </td> <td>0           </td> <td>0          </td> <td>0           </td> <td>0           </td> <td>0             </td> <td>0          </td> <td>0           </td> <td>0            </td> <td>0            </td> <td>0             </td> <td>0           </td> <td>0               </td> <td>0            </td> <td>0          </td> <td>0               </td> <td>0         </td> <td>0            </td> <td>0            </td> <td>0             </td> <td>0              </td> <td>0        </td> <td>0             </td> <td>0         </td> <td>0         </td> <td>0             </td> <td>0           </td> <td>0            </td> <td>0               </td> <td>0              </td> <td>0              </td> <td>0             </td> <td>0             </td> <td>0           </td> <td>0               </td> <td>0           </td> <td>0           </td> <td>0             </td> <td>0           </td> <td>0            </td> <td>0           </td> <td>0                 </td> <td>0            </td> <td>0             </td> <td>-1            </td> <td>0          </td> <td>0          </td> <td>0            </td> <td>0            </td> <td>0            </td> <td>0          </td> <td>0            </td> <td>0          </td> <td>0         </td> <td>0       </td> <td>0        </td> <td>0            </td> <td>0             </td> <td>0              </td> <td>0          </td> <td>0          </td> <td>0           </td> <td>0          </td> <td>0            </td> <td>0          </td> <td>0             </td> <td>0            </td> <td>0          </td> <td>0           </td> <td>0               </td> <td>0             </td> <td>0        </td> <td>0             </td> <td>0          </td> <td>0        </td> <td>0          </td> <td>0           </td> <td>0               </td> <td>0             </td> <td>0                    </td> <td>0         </td> <td>0            </td> <td>0                 </td> <td>0           </td> <td>0             </td> <td>0           </td> <td>0            </td> <td>0          </td> <td>0         </td> <td>0            </td> <td>0              </td> <td>-1             </td> <td>0               </td> <td>0            </td> <td>0         </td> <td>0           </td> <td>0              </td> <td>0        </td> <td>0          </td> <td>0            </td> <td>0            </td> <td>0            </td> <td>0        </td> <td>0         </td> <td>0           </td> <td>0          </td> <td>0         </td> <td>0             </td> <td>0           </td> <td>0           </td> <td>0            </td> <td>0          </td> <td>0          </td> <td>0             </td> <td>0              </td> <td>0             </td> <td>0            </td> <td>0          </td> <td>0           </td> <td>0            </td> <td>0          </td> <td>0                   </td> <td>0          </td> <td>0            </td> <td>0               </td> <td>0           </td> <td>0              </td> <td>0             </td> <td>0           </td> <td>0            </td> <td>0               </td> <td>0          </td> <td>0          </td> <td>0             </td> <td>0          </td> <td>0         </td> <td>0         </td> <td>0          </td> <td>0          </td> <td>0             </td> <td>0           </td> <td>0           </td> <td>0           </td> <td>0          </td> <td>0         </td> <td>0            </td> <td>0               </td> <td>0             </td> <td>0              </td> <td>0           </td> <td>0          </td> <td>0          </td> <td>0         </td> <td>0         </td> <td>0          </td> <td>0           </td> <td>0            </td> <td>0          </td> <td>0                </td> <td>0          </td> <td>0           </td> <td>0             </td> <td>0           </td> <td>0        </td> <td>0              </td> <td>0        </td> <td>0            </td> <td>0                </td> <td>0           </td> <td>0              </td> <td>0            </td> <td>0              </td> <td>0          </td> <td>0              </td> <td>0            </td> <td>0             </td> <td>0         </td> <td>0           </td> <td>0            </td> <td>0              </td> <td>0             </td> <td>0           </td> <td>0             </td> <td>0          </td> <td>0            </td> <td>0           </td> <td>0           </td> <td>0               </td> <td>0               </td> <td>0             </td> <td>0            </td> <td>0                       </td> <td>0            </td> <td>0           </td> <td>0            </td> <td>0         </td> <td>0           </td> <td>0             </td> <td>0              </td> <td>0           </td> <td>-1           </td> <td>0          </td> <td>0           </td> <td>0                  </td> <td>0             </td> <td>0            </td> <td>0          </td> <td>0         </td> <td>0           </td> <td>0           </td> <td>0           </td> <td>0                </td> <td>0               </td> <td>0           </td> <td>0            </td> <td>0                </td> <td>0            </td> <td>0            </td> <td>0          </td> <td>0           </td> <td>0              </td> <td>0            </td> <td>0            </td> <td>0           </td> <td>0             </td> <td>0                       </td> <td>0             </td> <td>0           </td> <td>0         </td> <td>0           </td> <td>0           </td> <td>0        </td> <td>0          </td> <td>0             </td> <td>0            </td> <td>0         </td> <td>0            </td> <td>0              </td> <td>0            </td> <td>0           </td> <td>0              </td> <td>0             </td> <td>0           </td> <td>0              </td> <td>0                </td> <td>0              </td> <td>0              </td> <td>0            </td> <td>0          </td> <td>0          </td> <td>0                  </td> <td>0               </td> <td>0             </td> <td>0              </td> <td>0                      </td> <td>0                     </td> <td>0          </td> <td>0            </td> <td>0          </td> <td>0          </td> <td>0           </td> <td>0         </td> <td>0            </td> <td>0                 </td> <td>0              </td> <td>0           </td> <td>0          </td> <td>0          </td> <td>0            </td> <td>0           </td> <td>0            </td> <td>0           </td> <td>0           </td> <td>0            </td> <td>0            </td> <td>0           </td> <td>0         </td> <td>0            </td> <td>0           </td> <td>0             </td> <td>0             </td> <td>0             </td> <td>0          </td> <td>0          </td> <td>0        </td> <td>0            </td> <td>0        </td> <td>0          </td> <td>0          </td> <td>0            </td> <td>0          </td> <td>0             </td> <td>0               </td> <td>0                  </td> <td>0            </td> <td>0                </td> <td>0        </td> <td>0          </td> <td>0           </td> <td>0          </td> <td>0         </td> <td>0          </td> <td>0           </td> <td>0         </td> <td>0            </td> <td>0               </td> <td>0          </td> <td>0             </td> <td>0         </td> <td>0            </td> <td>0           </td> <td>0             </td> <td>0             </td> <td>0           </td> <td>0             </td> <td>0              </td> <td>0                </td> <td>0         </td> <td>0          </td> <td>0            </td> <td>0               </td> <td>1           </td> <td>0          </td> <td>0          </td> <td>0             </td> <td>1           </td> <td>0           </td> <td>0          </td> <td>0       </td> <td>0          </td> <td>0         </td> <td>0                </td> <td>0            </td> <td>0           </td> <td>0         </td> <td>0               </td> <td>0              </td> <td>0                </td> <td>0          </td> <td>0             </td> <td>0         </td> <td>0               </td> <td>0             </td> <td>0           </td> <td>0            </td> <td>0               </td> <td>0               </td> <td>0           </td> <td>0              </td> <td>0                 </td> <td>0           </td> <td>0          </td> <td>0           </td> <td>0                </td> <td>0            </td> <td>-1           </td> <td>0          </td> <td>0          </td> <td>0           </td> <td>0          </td> <td>0         </td> <td>0          </td> <td>0              </td> <td>0             </td> <td>0            </td> <td>0              </td> <td>0             </td> <td>0              </td> <td>0             </td> <td>0         </td> <td>0          </td> <td>0               </td> <td>0             </td> <td>0            </td> <td>0            </td> <td>0         </td> <td>0          </td> <td>0         </td> <td>0          </td> <td>0           </td> <td>0          </td> <td>0           </td> <td>0            </td> <td>0         </td> <td>0               </td> <td>0           </td> <td>0        </td> <td>0          </td> <td>0               </td> <td>0            </td> <td>0           </td> <td>0           </td> <td>0           </td> <td>0             </td> <td>0            </td> <td>0          </td> <td>0            </td> <td>0             </td> <td>0           </td> <td>1              </td> <td>1             </td> <td>0              </td> <td>0          </td> <td>0         </td> <td>0          </td> <td>0           </td> <td>0              </td> <td>0           </td> <td>0          </td> <td>0            </td> <td>0            </td> <td>0           </td>\n",
       "        </tr>\n",
       "    </tbody>\n",
       "        <tr>\n",
       "            <td>0      </td> <td>1       </td> <td>1   </td> <td>0         </td> <td>0           </td> <td>0           </td> <td>0            </td> <td>0         </td> <td>0           </td> <td>0              </td> <td>1            </td> <td>0         </td> <td>0        </td> <td>0       </td> <td>0           </td> <td>0            </td> <td>0           </td> <td>0         </td> <td>0                </td> <td>0           </td> <td>0               </td> <td>0            </td> <td>0             </td> <td>0             </td> <td>0           </td> <td>0             </td> <td>0              </td> <td>0               </td> <td>0           </td> <td>0               </td> <td>0             </td> <td>0              </td> <td>0            </td> <td>0             </td> <td>0               </td> <td>0             </td> <td>0            </td> <td>0          </td> <td>0            </td> <td>0          </td> <td>0            </td> <td>0            </td> <td>0         </td> <td>-1          </td> <td>0         </td> <td>0            </td> <td>0              </td> <td>0            </td> <td>0               </td> <td>0         </td> <td>0           </td> <td>0             </td> <td>0           </td> <td>0             </td> <td>0               </td> <td>0             </td> <td>0           </td> <td>0              </td> <td>0            </td> <td>0          </td> <td>0            </td> <td>0           </td> <td>0            </td> <td>0         </td> <td>0          </td> <td>0          </td> <td>0               </td> <td>-1         </td> <td>0            </td> <td>0              </td> <td>0           </td> <td>0             </td> <td>0               </td> <td>0            </td> <td>0                 </td> <td>0             </td> <td>0             </td> <td>0         </td> <td>0             </td> <td>0                    </td> <td>0            </td> <td>0          </td> <td>0         </td> <td>0          </td> <td>0               </td> <td>0           </td> <td>0          </td> <td>0           </td> <td>0           </td> <td>0             </td> <td>0          </td> <td>0           </td> <td>0            </td> <td>0            </td> <td>0             </td> <td>0           </td> <td>0               </td> <td>0            </td> <td>0          </td> <td>0               </td> <td>0         </td> <td>0            </td> <td>0            </td> <td>0             </td> <td>0              </td> <td>0        </td> <td>0             </td> <td>0         </td> <td>0         </td> <td>0             </td> <td>0           </td> <td>0            </td> <td>0               </td> <td>0              </td> <td>0              </td> <td>0             </td> <td>0             </td> <td>0           </td> <td>0               </td> <td>0           </td> <td>0           </td> <td>0             </td> <td>0           </td> <td>0            </td> <td>0           </td> <td>0                 </td> <td>0            </td> <td>0             </td> <td>0             </td> <td>0          </td> <td>0          </td> <td>0            </td> <td>0            </td> <td>0            </td> <td>0          </td> <td>0            </td> <td>0          </td> <td>0         </td> <td>0       </td> <td>0        </td> <td>0            </td> <td>0             </td> <td>0              </td> <td>0          </td> <td>0          </td> <td>0           </td> <td>0          </td> <td>0            </td> <td>0          </td> <td>0             </td> <td>0            </td> <td>0          </td> <td>0           </td> <td>0               </td> <td>0             </td> <td>0        </td> <td>0             </td> <td>0          </td> <td>0        </td> <td>0          </td> <td>0           </td> <td>0               </td> <td>0             </td> <td>0                    </td> <td>0         </td> <td>0            </td> <td>0                 </td> <td>0           </td> <td>0             </td> <td>0           </td> <td>0            </td> <td>0          </td> <td>0         </td> <td>0            </td> <td>0              </td> <td>0              </td> <td>0               </td> <td>0            </td> <td>0         </td> <td>0           </td> <td>0              </td> <td>0        </td> <td>0          </td> <td>0            </td> <td>0            </td> <td>0            </td> <td>0        </td> <td>0         </td> <td>0           </td> <td>0          </td> <td>0         </td> <td>0             </td> <td>0           </td> <td>0           </td> <td>0            </td> <td>0          </td> <td>0          </td> <td>0             </td> <td>0              </td> <td>0             </td> <td>0            </td> <td>0          </td> <td>0           </td> <td>0            </td> <td>0          </td> <td>0                   </td> <td>0          </td> <td>0            </td> <td>0               </td> <td>0           </td> <td>0              </td> <td>0             </td> <td>1           </td> <td>0            </td> <td>0               </td> <td>0          </td> <td>0          </td> <td>0             </td> <td>0          </td> <td>0         </td> <td>0         </td> <td>0          </td> <td>0          </td> <td>0             </td> <td>0           </td> <td>0           </td> <td>0           </td> <td>0          </td> <td>0         </td> <td>0            </td> <td>0               </td> <td>0             </td> <td>0              </td> <td>0           </td> <td>0          </td> <td>0          </td> <td>0         </td> <td>0         </td> <td>1          </td> <td>0           </td> <td>0            </td> <td>0          </td> <td>0                </td> <td>0          </td> <td>0           </td> <td>0             </td> <td>0           </td> <td>0        </td> <td>0              </td> <td>0        </td> <td>0            </td> <td>0                </td> <td>0           </td> <td>0              </td> <td>0            </td> <td>0              </td> <td>0          </td> <td>0              </td> <td>0            </td> <td>0             </td> <td>0         </td> <td>0           </td> <td>0            </td> <td>0              </td> <td>0             </td> <td>0           </td> <td>0             </td> <td>0          </td> <td>0            </td> <td>0           </td> <td>0           </td> <td>0               </td> <td>0               </td> <td>0             </td> <td>0            </td> <td>0                       </td> <td>0            </td> <td>0           </td> <td>1            </td> <td>0         </td> <td>0           </td> <td>0             </td> <td>0              </td> <td>0           </td> <td>0            </td> <td>0          </td> <td>0           </td> <td>0                  </td> <td>0             </td> <td>0            </td> <td>0          </td> <td>0         </td> <td>0           </td> <td>0           </td> <td>0           </td> <td>0                </td> <td>0               </td> <td>0           </td> <td>0            </td> <td>0                </td> <td>0            </td> <td>0            </td> <td>0          </td> <td>0           </td> <td>0              </td> <td>0            </td> <td>0            </td> <td>0           </td> <td>0             </td> <td>0                       </td> <td>0             </td> <td>0           </td> <td>0         </td> <td>0           </td> <td>0           </td> <td>0        </td> <td>0          </td> <td>0             </td> <td>0            </td> <td>0         </td> <td>0            </td> <td>0              </td> <td>0            </td> <td>0           </td> <td>0              </td> <td>0             </td> <td>0           </td> <td>0              </td> <td>0                </td> <td>0              </td> <td>0              </td> <td>1            </td> <td>0          </td> <td>0          </td> <td>0                  </td> <td>0               </td> <td>0             </td> <td>0              </td> <td>0                      </td> <td>0                     </td> <td>0          </td> <td>0            </td> <td>0          </td> <td>0          </td> <td>0           </td> <td>0         </td> <td>0            </td> <td>0                 </td> <td>0              </td> <td>0           </td> <td>0          </td> <td>0          </td> <td>0            </td> <td>0           </td> <td>0            </td> <td>0           </td> <td>0           </td> <td>0            </td> <td>0            </td> <td>0           </td> <td>0         </td> <td>0            </td> <td>-1          </td> <td>0             </td> <td>0             </td> <td>0             </td> <td>0          </td> <td>0          </td> <td>0        </td> <td>0            </td> <td>0        </td> <td>0          </td> <td>0          </td> <td>0            </td> <td>0          </td> <td>0             </td> <td>0               </td> <td>0                  </td> <td>0            </td> <td>0                </td> <td>0        </td> <td>0          </td> <td>0           </td> <td>0          </td> <td>0         </td> <td>0          </td> <td>0           </td> <td>0         </td> <td>0            </td> <td>0               </td> <td>0          </td> <td>0             </td> <td>0         </td> <td>0            </td> <td>-1          </td> <td>0             </td> <td>0             </td> <td>0           </td> <td>0             </td> <td>0              </td> <td>0                </td> <td>0         </td> <td>0          </td> <td>0            </td> <td>0               </td> <td>0           </td> <td>0          </td> <td>0          </td> <td>0             </td> <td>0           </td> <td>0           </td> <td>0          </td> <td>-1      </td> <td>0          </td> <td>0         </td> <td>0                </td> <td>0            </td> <td>0           </td> <td>0         </td> <td>0               </td> <td>0              </td> <td>0                </td> <td>0          </td> <td>0             </td> <td>0         </td> <td>0               </td> <td>0             </td> <td>0           </td> <td>0            </td> <td>0               </td> <td>0               </td> <td>0           </td> <td>0              </td> <td>0                 </td> <td>0           </td> <td>0          </td> <td>0           </td> <td>0                </td> <td>0            </td> <td>0            </td> <td>0          </td> <td>0          </td> <td>0           </td> <td>0          </td> <td>0         </td> <td>0          </td> <td>0              </td> <td>0             </td> <td>0            </td> <td>0              </td> <td>0             </td> <td>0              </td> <td>0             </td> <td>0         </td> <td>0          </td> <td>0               </td> <td>0             </td> <td>0            </td> <td>0            </td> <td>0         </td> <td>0          </td> <td>0         </td> <td>0          </td> <td>0           </td> <td>0          </td> <td>0           </td> <td>0            </td> <td>0         </td> <td>0               </td> <td>0           </td> <td>0        </td> <td>0          </td> <td>0               </td> <td>0            </td> <td>0           </td> <td>0           </td> <td>0           </td> <td>0             </td> <td>0            </td> <td>0          </td> <td>0            </td> <td>0             </td> <td>0           </td> <td>0              </td> <td>0             </td> <td>0              </td> <td>0          </td> <td>0         </td> <td>0          </td> <td>0           </td> <td>0              </td> <td>0           </td> <td>0          </td> <td>0            </td> <td>0            </td> <td>0           </td>\n",
       "        </tr>\n",
       "    </tbody>\n",
       "        <tr>\n",
       "            <td>-80    </td> <td>20      </td> <td>1   </td> <td>0         </td> <td>0           </td> <td>0           </td> <td>0            </td> <td>0         </td> <td>0           </td> <td>0              </td> <td>0            </td> <td>0         </td> <td>0        </td> <td>0       </td> <td>0           </td> <td>0            </td> <td>0           </td> <td>0         </td> <td>0                </td> <td>0           </td> <td>0               </td> <td>0            </td> <td>0             </td> <td>0             </td> <td>0           </td> <td>0             </td> <td>0              </td> <td>0               </td> <td>0           </td> <td>0               </td> <td>0             </td> <td>0              </td> <td>0            </td> <td>0             </td> <td>0               </td> <td>0             </td> <td>0            </td> <td>0          </td> <td>0            </td> <td>0          </td> <td>0            </td> <td>0            </td> <td>0         </td> <td>0           </td> <td>0         </td> <td>0            </td> <td>0              </td> <td>0            </td> <td>0               </td> <td>0         </td> <td>0           </td> <td>0             </td> <td>0           </td> <td>0             </td> <td>0               </td> <td>0             </td> <td>0           </td> <td>0              </td> <td>0            </td> <td>0          </td> <td>0            </td> <td>0           </td> <td>0            </td> <td>0         </td> <td>0          </td> <td>0          </td> <td>0               </td> <td>0          </td> <td>0            </td> <td>0              </td> <td>0           </td> <td>0             </td> <td>0               </td> <td>0            </td> <td>0                 </td> <td>0             </td> <td>0             </td> <td>0         </td> <td>0             </td> <td>0                    </td> <td>0            </td> <td>0          </td> <td>0         </td> <td>0          </td> <td>0               </td> <td>0           </td> <td>0          </td> <td>0           </td> <td>0           </td> <td>0             </td> <td>0          </td> <td>0           </td> <td>0            </td> <td>0            </td> <td>0             </td> <td>0           </td> <td>0               </td> <td>0            </td> <td>0          </td> <td>0               </td> <td>0         </td> <td>0            </td> <td>0            </td> <td>0             </td> <td>0              </td> <td>0        </td> <td>0             </td> <td>0         </td> <td>0         </td> <td>0             </td> <td>0           </td> <td>0            </td> <td>0               </td> <td>0              </td> <td>0              </td> <td>0             </td> <td>0             </td> <td>0           </td> <td>0               </td> <td>0           </td> <td>0           </td> <td>0             </td> <td>0           </td> <td>0            </td> <td>0           </td> <td>0                 </td> <td>0            </td> <td>0             </td> <td>-1            </td> <td>0          </td> <td>0          </td> <td>0            </td> <td>0            </td> <td>0            </td> <td>0          </td> <td>0            </td> <td>0          </td> <td>0         </td> <td>1       </td> <td>0        </td> <td>0            </td> <td>0             </td> <td>0              </td> <td>0          </td> <td>0          </td> <td>0           </td> <td>0          </td> <td>0            </td> <td>0          </td> <td>0             </td> <td>0            </td> <td>0          </td> <td>0           </td> <td>0               </td> <td>0             </td> <td>0        </td> <td>0             </td> <td>0          </td> <td>0        </td> <td>0          </td> <td>0           </td> <td>0               </td> <td>0             </td> <td>0                    </td> <td>0         </td> <td>0            </td> <td>0                 </td> <td>0           </td> <td>0             </td> <td>0           </td> <td>0            </td> <td>0          </td> <td>0         </td> <td>0            </td> <td>0              </td> <td>-1             </td> <td>0               </td> <td>0            </td> <td>0         </td> <td>0           </td> <td>0              </td> <td>0        </td> <td>0          </td> <td>0            </td> <td>0            </td> <td>0            </td> <td>0        </td> <td>0         </td> <td>0           </td> <td>0          </td> <td>0         </td> <td>0             </td> <td>0           </td> <td>0           </td> <td>0            </td> <td>0          </td> <td>0          </td> <td>0             </td> <td>0              </td> <td>0             </td> <td>0            </td> <td>0          </td> <td>0           </td> <td>0            </td> <td>0          </td> <td>0                   </td> <td>0          </td> <td>0            </td> <td>0               </td> <td>0           </td> <td>0              </td> <td>0             </td> <td>0           </td> <td>0            </td> <td>0               </td> <td>0          </td> <td>0          </td> <td>0             </td> <td>0          </td> <td>0         </td> <td>0         </td> <td>0          </td> <td>0          </td> <td>0             </td> <td>0           </td> <td>0           </td> <td>0           </td> <td>0          </td> <td>0         </td> <td>0            </td> <td>0               </td> <td>0             </td> <td>0              </td> <td>0           </td> <td>0          </td> <td>0          </td> <td>0         </td> <td>0         </td> <td>0          </td> <td>0           </td> <td>0            </td> <td>0          </td> <td>0                </td> <td>0          </td> <td>0           </td> <td>0             </td> <td>0           </td> <td>0        </td> <td>0              </td> <td>0        </td> <td>0            </td> <td>0                </td> <td>0           </td> <td>0              </td> <td>0            </td> <td>0              </td> <td>1          </td> <td>0              </td> <td>0            </td> <td>0             </td> <td>0         </td> <td>0           </td> <td>0            </td> <td>0              </td> <td>0             </td> <td>0           </td> <td>0             </td> <td>0          </td> <td>0            </td> <td>0           </td> <td>0           </td> <td>0               </td> <td>0               </td> <td>0             </td> <td>0            </td> <td>0                       </td> <td>0            </td> <td>0           </td> <td>0            </td> <td>0         </td> <td>0           </td> <td>0             </td> <td>0              </td> <td>0           </td> <td>-1           </td> <td>0          </td> <td>0           </td> <td>0                  </td> <td>0             </td> <td>0            </td> <td>0          </td> <td>0         </td> <td>0           </td> <td>0           </td> <td>0           </td> <td>0                </td> <td>0               </td> <td>0           </td> <td>0            </td> <td>0                </td> <td>0            </td> <td>0            </td> <td>0          </td> <td>0           </td> <td>0              </td> <td>0            </td> <td>0            </td> <td>0           </td> <td>0             </td> <td>0                       </td> <td>0             </td> <td>0           </td> <td>0         </td> <td>0           </td> <td>0           </td> <td>0        </td> <td>0          </td> <td>0             </td> <td>0            </td> <td>0         </td> <td>0            </td> <td>0              </td> <td>0            </td> <td>0           </td> <td>0              </td> <td>0             </td> <td>0           </td> <td>0              </td> <td>-1               </td> <td>0              </td> <td>0              </td> <td>0            </td> <td>0          </td> <td>0          </td> <td>0                  </td> <td>0               </td> <td>0             </td> <td>0              </td> <td>0                      </td> <td>0                     </td> <td>0          </td> <td>0            </td> <td>0          </td> <td>0          </td> <td>0           </td> <td>0         </td> <td>0            </td> <td>0                 </td> <td>0              </td> <td>0           </td> <td>0          </td> <td>0          </td> <td>0            </td> <td>0           </td> <td>0            </td> <td>0           </td> <td>0           </td> <td>0            </td> <td>0            </td> <td>0           </td> <td>0         </td> <td>0            </td> <td>0           </td> <td>0             </td> <td>0             </td> <td>0             </td> <td>0          </td> <td>0          </td> <td>0        </td> <td>0            </td> <td>0        </td> <td>0          </td> <td>0          </td> <td>0            </td> <td>0          </td> <td>0             </td> <td>0               </td> <td>0                  </td> <td>0            </td> <td>0                </td> <td>0        </td> <td>0          </td> <td>0           </td> <td>0          </td> <td>0         </td> <td>0          </td> <td>0           </td> <td>0         </td> <td>0            </td> <td>0               </td> <td>0          </td> <td>0             </td> <td>0         </td> <td>0            </td> <td>0           </td> <td>0             </td> <td>0             </td> <td>0           </td> <td>0             </td> <td>0              </td> <td>0                </td> <td>0         </td> <td>0          </td> <td>0            </td> <td>0               </td> <td>0           </td> <td>0          </td> <td>0          </td> <td>0             </td> <td>1           </td> <td>0           </td> <td>0          </td> <td>0       </td> <td>0          </td> <td>0         </td> <td>0                </td> <td>0            </td> <td>0           </td> <td>0         </td> <td>0               </td> <td>0              </td> <td>0                </td> <td>0          </td> <td>0             </td> <td>0         </td> <td>0               </td> <td>0             </td> <td>0           </td> <td>0            </td> <td>0               </td> <td>0               </td> <td>0           </td> <td>0              </td> <td>0                 </td> <td>0           </td> <td>0          </td> <td>0           </td> <td>0                </td> <td>0            </td> <td>-1           </td> <td>0          </td> <td>0          </td> <td>0           </td> <td>0          </td> <td>0         </td> <td>0          </td> <td>0              </td> <td>0             </td> <td>0            </td> <td>0              </td> <td>0             </td> <td>0              </td> <td>0             </td> <td>0         </td> <td>0          </td> <td>0               </td> <td>0             </td> <td>0            </td> <td>0            </td> <td>0         </td> <td>0          </td> <td>0         </td> <td>0          </td> <td>0           </td> <td>0          </td> <td>0           </td> <td>0            </td> <td>0         </td> <td>0               </td> <td>0           </td> <td>0        </td> <td>0          </td> <td>0               </td> <td>0            </td> <td>0           </td> <td>0           </td> <td>0           </td> <td>0             </td> <td>0            </td> <td>0          </td> <td>0            </td> <td>0             </td> <td>0           </td> <td>1              </td> <td>1             </td> <td>0              </td> <td>0          </td> <td>0         </td> <td>0          </td> <td>0           </td> <td>0              </td> <td>0           </td> <td>0          </td> <td>0            </td> <td>0            </td> <td>0           </td>\n",
       "        </tr>\n",
       "    </tbody>\n",
       "        <tr>\n",
       "            <td>200    </td> <td>5       </td> <td>1   </td> <td>0         </td> <td>0           </td> <td>0           </td> <td>0            </td> <td>0         </td> <td>0           </td> <td>0              </td> <td>0            </td> <td>0         </td> <td>0        </td> <td>0       </td> <td>0           </td> <td>0            </td> <td>0           </td> <td>0         </td> <td>0                </td> <td>0           </td> <td>0               </td> <td>0            </td> <td>0             </td> <td>0             </td> <td>0           </td> <td>0             </td> <td>0              </td> <td>0               </td> <td>0           </td> <td>0               </td> <td>0             </td> <td>0              </td> <td>0            </td> <td>0             </td> <td>0               </td> <td>0             </td> <td>0            </td> <td>0          </td> <td>0            </td> <td>0          </td> <td>0            </td> <td>0            </td> <td>0         </td> <td>0           </td> <td>0         </td> <td>0            </td> <td>0              </td> <td>0            </td> <td>0               </td> <td>0         </td> <td>0           </td> <td>0             </td> <td>0           </td> <td>0             </td> <td>0               </td> <td>0             </td> <td>0           </td> <td>0              </td> <td>0            </td> <td>0          </td> <td>0            </td> <td>0           </td> <td>0            </td> <td>0         </td> <td>0          </td> <td>0          </td> <td>0               </td> <td>0          </td> <td>0            </td> <td>0              </td> <td>0           </td> <td>0             </td> <td>0               </td> <td>0            </td> <td>0                 </td> <td>0             </td> <td>0             </td> <td>0         </td> <td>0             </td> <td>0                    </td> <td>0            </td> <td>0          </td> <td>0         </td> <td>0          </td> <td>0               </td> <td>0           </td> <td>0          </td> <td>0           </td> <td>0           </td> <td>0             </td> <td>0          </td> <td>0           </td> <td>0            </td> <td>0            </td> <td>0             </td> <td>0           </td> <td>0               </td> <td>0            </td> <td>0          </td> <td>0               </td> <td>0         </td> <td>0            </td> <td>0            </td> <td>0             </td> <td>0              </td> <td>0        </td> <td>0             </td> <td>0         </td> <td>0         </td> <td>0             </td> <td>0           </td> <td>0            </td> <td>0               </td> <td>0              </td> <td>0              </td> <td>0             </td> <td>0             </td> <td>0           </td> <td>0               </td> <td>0           </td> <td>0           </td> <td>0             </td> <td>0           </td> <td>0            </td> <td>0           </td> <td>0                 </td> <td>0            </td> <td>0             </td> <td>-1            </td> <td>0          </td> <td>0          </td> <td>0            </td> <td>0            </td> <td>0            </td> <td>0          </td> <td>0            </td> <td>0          </td> <td>0         </td> <td>1       </td> <td>0        </td> <td>0            </td> <td>0             </td> <td>0              </td> <td>0          </td> <td>0          </td> <td>0           </td> <td>0          </td> <td>0            </td> <td>0          </td> <td>0             </td> <td>0            </td> <td>0          </td> <td>-1          </td> <td>0               </td> <td>0             </td> <td>0        </td> <td>0             </td> <td>0          </td> <td>0        </td> <td>0          </td> <td>0           </td> <td>0               </td> <td>0             </td> <td>0                    </td> <td>0         </td> <td>0            </td> <td>0                 </td> <td>0           </td> <td>0             </td> <td>0           </td> <td>0            </td> <td>0          </td> <td>0         </td> <td>0            </td> <td>0              </td> <td>-1             </td> <td>0               </td> <td>0            </td> <td>0         </td> <td>0           </td> <td>0              </td> <td>0        </td> <td>0          </td> <td>0            </td> <td>0            </td> <td>0            </td> <td>0        </td> <td>0         </td> <td>0           </td> <td>0          </td> <td>0         </td> <td>0             </td> <td>0           </td> <td>0           </td> <td>0            </td> <td>0          </td> <td>0          </td> <td>0             </td> <td>0              </td> <td>0             </td> <td>0            </td> <td>0          </td> <td>0           </td> <td>0            </td> <td>0          </td> <td>0                   </td> <td>0          </td> <td>0            </td> <td>0               </td> <td>0           </td> <td>0              </td> <td>0             </td> <td>0           </td> <td>0            </td> <td>0               </td> <td>0          </td> <td>0          </td> <td>0             </td> <td>0          </td> <td>0         </td> <td>0         </td> <td>0          </td> <td>0          </td> <td>0             </td> <td>0           </td> <td>0           </td> <td>0           </td> <td>0          </td> <td>0         </td> <td>0            </td> <td>0               </td> <td>0             </td> <td>0              </td> <td>0           </td> <td>0          </td> <td>0          </td> <td>0         </td> <td>0         </td> <td>0          </td> <td>0           </td> <td>0            </td> <td>0          </td> <td>0                </td> <td>0          </td> <td>0           </td> <td>0             </td> <td>0           </td> <td>0        </td> <td>0              </td> <td>0        </td> <td>0            </td> <td>0                </td> <td>0           </td> <td>0              </td> <td>0            </td> <td>0              </td> <td>1          </td> <td>0              </td> <td>0            </td> <td>0             </td> <td>0         </td> <td>0           </td> <td>0            </td> <td>0              </td> <td>0             </td> <td>0           </td> <td>0             </td> <td>0          </td> <td>0            </td> <td>0           </td> <td>0           </td> <td>0               </td> <td>0               </td> <td>0             </td> <td>0            </td> <td>0                       </td> <td>0            </td> <td>0           </td> <td>0            </td> <td>0         </td> <td>0           </td> <td>0             </td> <td>0              </td> <td>0           </td> <td>-1           </td> <td>0          </td> <td>0           </td> <td>0                  </td> <td>0             </td> <td>0            </td> <td>0          </td> <td>0         </td> <td>0           </td> <td>0           </td> <td>0           </td> <td>0                </td> <td>0               </td> <td>0           </td> <td>0            </td> <td>0                </td> <td>0            </td> <td>0            </td> <td>0          </td> <td>0           </td> <td>0              </td> <td>0            </td> <td>0            </td> <td>0           </td> <td>0             </td> <td>0                       </td> <td>0             </td> <td>0           </td> <td>0         </td> <td>0           </td> <td>0           </td> <td>0        </td> <td>0          </td> <td>0             </td> <td>0            </td> <td>0         </td> <td>0            </td> <td>0              </td> <td>0            </td> <td>0           </td> <td>0              </td> <td>0             </td> <td>0           </td> <td>0              </td> <td>0                </td> <td>0              </td> <td>0              </td> <td>0            </td> <td>0          </td> <td>0          </td> <td>0                  </td> <td>0               </td> <td>0             </td> <td>0              </td> <td>0                      </td> <td>0                     </td> <td>0          </td> <td>0            </td> <td>0          </td> <td>0          </td> <td>0           </td> <td>0         </td> <td>0            </td> <td>0                 </td> <td>0              </td> <td>0           </td> <td>0          </td> <td>0          </td> <td>0            </td> <td>0           </td> <td>0            </td> <td>0           </td> <td>0           </td> <td>0            </td> <td>0            </td> <td>0           </td> <td>0         </td> <td>0            </td> <td>0           </td> <td>0             </td> <td>0             </td> <td>0             </td> <td>0          </td> <td>0          </td> <td>0        </td> <td>0            </td> <td>0        </td> <td>0          </td> <td>0          </td> <td>0            </td> <td>0          </td> <td>0             </td> <td>0               </td> <td>0                  </td> <td>0            </td> <td>0                </td> <td>0        </td> <td>0          </td> <td>0           </td> <td>0          </td> <td>0         </td> <td>0          </td> <td>0           </td> <td>0         </td> <td>0            </td> <td>0               </td> <td>0          </td> <td>0             </td> <td>0         </td> <td>0            </td> <td>0           </td> <td>0             </td> <td>0             </td> <td>0           </td> <td>0             </td> <td>0              </td> <td>0                </td> <td>0         </td> <td>0          </td> <td>0            </td> <td>0               </td> <td>0           </td> <td>0          </td> <td>0          </td> <td>0             </td> <td>1           </td> <td>0           </td> <td>0          </td> <td>0       </td> <td>0          </td> <td>0         </td> <td>0                </td> <td>0            </td> <td>0           </td> <td>0         </td> <td>0               </td> <td>0              </td> <td>0                </td> <td>0          </td> <td>0             </td> <td>0         </td> <td>0               </td> <td>0             </td> <td>0           </td> <td>0            </td> <td>0               </td> <td>0               </td> <td>0           </td> <td>0              </td> <td>0                 </td> <td>0           </td> <td>0          </td> <td>0           </td> <td>0                </td> <td>0            </td> <td>-1           </td> <td>0          </td> <td>0          </td> <td>0           </td> <td>0          </td> <td>0         </td> <td>0          </td> <td>0              </td> <td>0             </td> <td>0            </td> <td>0              </td> <td>0             </td> <td>0              </td> <td>0             </td> <td>0         </td> <td>0          </td> <td>0               </td> <td>0             </td> <td>0            </td> <td>0            </td> <td>0         </td> <td>0          </td> <td>0         </td> <td>0          </td> <td>0           </td> <td>0          </td> <td>0           </td> <td>0            </td> <td>0         </td> <td>0               </td> <td>0           </td> <td>0        </td> <td>0          </td> <td>0               </td> <td>0            </td> <td>0           </td> <td>0           </td> <td>0           </td> <td>0             </td> <td>0            </td> <td>0          </td> <td>0            </td> <td>0             </td> <td>0           </td> <td>1              </td> <td>1             </td> <td>0              </td> <td>0          </td> <td>0         </td> <td>0          </td> <td>0           </td> <td>0              </td> <td>0           </td> <td>0          </td> <td>0            </td> <td>0            </td> <td>0           </td>\n",
       "        </tr>\n",
       "    </tbody>\n",
       "        <tr>\n",
       "            <td>-100   </td> <td>1       </td> <td>1   </td> <td>0         </td> <td>0           </td> <td>0           </td> <td>0            </td> <td>0         </td> <td>0           </td> <td>0              </td> <td>0            </td> <td>0         </td> <td>0        </td> <td>0       </td> <td>0           </td> <td>0            </td> <td>0           </td> <td>0         </td> <td>0                </td> <td>0           </td> <td>0               </td> <td>0            </td> <td>0             </td> <td>0             </td> <td>0           </td> <td>0             </td> <td>0              </td> <td>0               </td> <td>0           </td> <td>0               </td> <td>0             </td> <td>0              </td> <td>0            </td> <td>0             </td> <td>0               </td> <td>0             </td> <td>0            </td> <td>0          </td> <td>0            </td> <td>0          </td> <td>0            </td> <td>0            </td> <td>0         </td> <td>0           </td> <td>0         </td> <td>0            </td> <td>0              </td> <td>0            </td> <td>0               </td> <td>0         </td> <td>0           </td> <td>0             </td> <td>0           </td> <td>0             </td> <td>0               </td> <td>0             </td> <td>0           </td> <td>0              </td> <td>0            </td> <td>0          </td> <td>0            </td> <td>0           </td> <td>0            </td> <td>0         </td> <td>0          </td> <td>0          </td> <td>0               </td> <td>0          </td> <td>1            </td> <td>0              </td> <td>0           </td> <td>0             </td> <td>0               </td> <td>0            </td> <td>0                 </td> <td>0             </td> <td>0             </td> <td>0         </td> <td>0             </td> <td>0                    </td> <td>0            </td> <td>0          </td> <td>0         </td> <td>0          </td> <td>0               </td> <td>0           </td> <td>0          </td> <td>0           </td> <td>0           </td> <td>0             </td> <td>0          </td> <td>0           </td> <td>0            </td> <td>0            </td> <td>0             </td> <td>0           </td> <td>0               </td> <td>0            </td> <td>0          </td> <td>0               </td> <td>0         </td> <td>0            </td> <td>0            </td> <td>0             </td> <td>0              </td> <td>0        </td> <td>0             </td> <td>0         </td> <td>0         </td> <td>0             </td> <td>0           </td> <td>0            </td> <td>0               </td> <td>0              </td> <td>0              </td> <td>0             </td> <td>0             </td> <td>0           </td> <td>0               </td> <td>0           </td> <td>0           </td> <td>0             </td> <td>0           </td> <td>0            </td> <td>0           </td> <td>0                 </td> <td>0            </td> <td>0             </td> <td>-1            </td> <td>0          </td> <td>0          </td> <td>0            </td> <td>0            </td> <td>0            </td> <td>0          </td> <td>0            </td> <td>0          </td> <td>0         </td> <td>0       </td> <td>0        </td> <td>0            </td> <td>0             </td> <td>0              </td> <td>0          </td> <td>0          </td> <td>0           </td> <td>0          </td> <td>0            </td> <td>0          </td> <td>0             </td> <td>0            </td> <td>0          </td> <td>0           </td> <td>0               </td> <td>0             </td> <td>0        </td> <td>0             </td> <td>0          </td> <td>0        </td> <td>0          </td> <td>0           </td> <td>0               </td> <td>0             </td> <td>0                    </td> <td>0         </td> <td>0            </td> <td>0                 </td> <td>0           </td> <td>0             </td> <td>0           </td> <td>0            </td> <td>0          </td> <td>0         </td> <td>0            </td> <td>0              </td> <td>-1             </td> <td>0               </td> <td>0            </td> <td>0         </td> <td>0           </td> <td>0              </td> <td>0        </td> <td>0          </td> <td>0            </td> <td>0            </td> <td>0            </td> <td>0        </td> <td>0         </td> <td>0           </td> <td>0          </td> <td>0         </td> <td>0             </td> <td>0           </td> <td>0           </td> <td>0            </td> <td>0          </td> <td>0          </td> <td>0             </td> <td>0              </td> <td>0             </td> <td>0            </td> <td>0          </td> <td>0           </td> <td>0            </td> <td>0          </td> <td>0                   </td> <td>0          </td> <td>0            </td> <td>0               </td> <td>0           </td> <td>0              </td> <td>0             </td> <td>0           </td> <td>0            </td> <td>0               </td> <td>0          </td> <td>0          </td> <td>0             </td> <td>0          </td> <td>0         </td> <td>0         </td> <td>0          </td> <td>0          </td> <td>0             </td> <td>0           </td> <td>0           </td> <td>0           </td> <td>0          </td> <td>0         </td> <td>0            </td> <td>0               </td> <td>0             </td> <td>0              </td> <td>0           </td> <td>0          </td> <td>0          </td> <td>0         </td> <td>0         </td> <td>0          </td> <td>0           </td> <td>0            </td> <td>0          </td> <td>0                </td> <td>0          </td> <td>0           </td> <td>0             </td> <td>0           </td> <td>0        </td> <td>0              </td> <td>0        </td> <td>0            </td> <td>0                </td> <td>0           </td> <td>0              </td> <td>0            </td> <td>0              </td> <td>1          </td> <td>0              </td> <td>0            </td> <td>0             </td> <td>0         </td> <td>0           </td> <td>0            </td> <td>0              </td> <td>0             </td> <td>0           </td> <td>0             </td> <td>0          </td> <td>0            </td> <td>0           </td> <td>0           </td> <td>0               </td> <td>0               </td> <td>0             </td> <td>0            </td> <td>0                       </td> <td>0            </td> <td>0           </td> <td>0            </td> <td>0         </td> <td>0           </td> <td>0             </td> <td>0              </td> <td>0           </td> <td>-1           </td> <td>0          </td> <td>0           </td> <td>0                  </td> <td>0             </td> <td>0            </td> <td>0          </td> <td>0         </td> <td>0           </td> <td>0           </td> <td>0           </td> <td>0                </td> <td>0               </td> <td>0           </td> <td>0            </td> <td>0                </td> <td>0            </td> <td>0            </td> <td>0          </td> <td>0           </td> <td>0              </td> <td>0            </td> <td>0            </td> <td>0           </td> <td>0             </td> <td>0                       </td> <td>0             </td> <td>0           </td> <td>0         </td> <td>0           </td> <td>0           </td> <td>0        </td> <td>0          </td> <td>0             </td> <td>0            </td> <td>0         </td> <td>0            </td> <td>0              </td> <td>0            </td> <td>0           </td> <td>0              </td> <td>0             </td> <td>0           </td> <td>0              </td> <td>-1               </td> <td>0              </td> <td>0              </td> <td>0            </td> <td>0          </td> <td>0          </td> <td>0                  </td> <td>0               </td> <td>0             </td> <td>0              </td> <td>0                      </td> <td>0                     </td> <td>0          </td> <td>0            </td> <td>0          </td> <td>0          </td> <td>0           </td> <td>0         </td> <td>0            </td> <td>0                 </td> <td>0              </td> <td>0           </td> <td>0          </td> <td>0          </td> <td>0            </td> <td>0           </td> <td>0            </td> <td>0           </td> <td>0           </td> <td>0            </td> <td>0            </td> <td>0           </td> <td>0         </td> <td>0            </td> <td>0           </td> <td>0             </td> <td>0             </td> <td>0             </td> <td>0          </td> <td>0          </td> <td>0        </td> <td>0            </td> <td>0        </td> <td>0          </td> <td>0          </td> <td>0            </td> <td>0          </td> <td>0             </td> <td>0               </td> <td>0                  </td> <td>0            </td> <td>0                </td> <td>0        </td> <td>0          </td> <td>0           </td> <td>0          </td> <td>0         </td> <td>0          </td> <td>0           </td> <td>0         </td> <td>0            </td> <td>0               </td> <td>0          </td> <td>0             </td> <td>0         </td> <td>0            </td> <td>0           </td> <td>0             </td> <td>0             </td> <td>0           </td> <td>0             </td> <td>0              </td> <td>0                </td> <td>0         </td> <td>0          </td> <td>0            </td> <td>0               </td> <td>0           </td> <td>0          </td> <td>0          </td> <td>0             </td> <td>1           </td> <td>0           </td> <td>0          </td> <td>0       </td> <td>0          </td> <td>0         </td> <td>0                </td> <td>0            </td> <td>0           </td> <td>0         </td> <td>0               </td> <td>0              </td> <td>0                </td> <td>0          </td> <td>0             </td> <td>0         </td> <td>0               </td> <td>0             </td> <td>0           </td> <td>0            </td> <td>0               </td> <td>0               </td> <td>0           </td> <td>0              </td> <td>0                 </td> <td>0           </td> <td>0          </td> <td>0           </td> <td>0                </td> <td>0            </td> <td>-1           </td> <td>0          </td> <td>0          </td> <td>0           </td> <td>0          </td> <td>0         </td> <td>0          </td> <td>0              </td> <td>0             </td> <td>0            </td> <td>0              </td> <td>0             </td> <td>0              </td> <td>0             </td> <td>0         </td> <td>0          </td> <td>0               </td> <td>0             </td> <td>0            </td> <td>0            </td> <td>0         </td> <td>0          </td> <td>0         </td> <td>0          </td> <td>0           </td> <td>0          </td> <td>0           </td> <td>0            </td> <td>0         </td> <td>0               </td> <td>0           </td> <td>0        </td> <td>0          </td> <td>0               </td> <td>0            </td> <td>0           </td> <td>0           </td> <td>0           </td> <td>0             </td> <td>0            </td> <td>0          </td> <td>0            </td> <td>0             </td> <td>0           </td> <td>1              </td> <td>1             </td> <td>0              </td> <td>0          </td> <td>0         </td> <td>0          </td> <td>0           </td> <td>0              </td> <td>0           </td> <td>0          </td> <td>0            </td> <td>0            </td> <td>0           </td>\n",
       "        </tr>\n",
       "    </tbody>\n",
       "</table>\n",
       "<p>... (38416 rows omitted)</p"
      ],
      "text/plain": [
       "<IPython.core.display.HTML object>"
      ]
     },
     "metadata": {},
     "output_type": "display_data"
    }
   ],
   "source": [
    "stints = ds.Table.read_table('nba_stints_2015_binary.csv.gz', sep=',')\n",
    "players = list(stints.labels[3:])\n",
    "\n",
    "stints.show(5)"
   ]
  },
  {
   "cell_type": "markdown",
   "metadata": {},
   "source": [
    "### Adjusted Plus/Minus\n",
    "\n",
    "We need a more advanced solver for the regression model that can handle this much bigger problem.  This is where `multiple_regression_big` comes in.\n",
    "\n",
    "We set `net_rtg` as the dep_var and we set `HCA` and the players as the independent vars.  We also utilize weights: each stint has a total number of possessions.  We want the results from stints with more possessions to be weighted more than other possessions.\n",
    "\n",
    "After we compute the regression model, we can see some of the results that come out for the first ten players alphabetically.  These are the _Adjusted Plus/Minus_ or APM ratings\n",
    "\n",
    "The result of this regression model is a player rating which should indicate the impact the player had on Net Rating relative to league average.  A positive value obviously indicates a positive impact on Net Rating.  We could in fact use this to construct lineup net ratings above average by summing across a lineup of players."
   ]
  },
  {
   "cell_type": "code",
   "execution_count": 21,
   "metadata": {},
   "outputs": [
    {
     "data": {
      "text/html": [
       "<table border=\"1\" class=\"dataframe\">\n",
       "    <thead>\n",
       "        <tr>\n",
       "            <th>Player</th> <th>APM</th>\n",
       "        </tr>\n",
       "    </thead>\n",
       "    <tbody>\n",
       "        <tr>\n",
       "            <td>A.J. Price     </td> <td>-13.1576</td>\n",
       "        </tr>\n",
       "    </tbody>\n",
       "        <tr>\n",
       "            <td>Aaron Brooks   </td> <td>-2.42985</td>\n",
       "        </tr>\n",
       "    </tbody>\n",
       "        <tr>\n",
       "            <td>Aaron Gordon   </td> <td>-14.6887</td>\n",
       "        </tr>\n",
       "    </tbody>\n",
       "        <tr>\n",
       "            <td>Adreian Payne  </td> <td>-20.7324</td>\n",
       "        </tr>\n",
       "    </tbody>\n",
       "        <tr>\n",
       "            <td>Al Horford     </td> <td>-9.46531</td>\n",
       "        </tr>\n",
       "    </tbody>\n",
       "        <tr>\n",
       "            <td>Al Jefferson   </td> <td>-15.8512</td>\n",
       "        </tr>\n",
       "    </tbody>\n",
       "        <tr>\n",
       "            <td>Al-Farouq Aminu</td> <td>-1.81871</td>\n",
       "        </tr>\n",
       "    </tbody>\n",
       "        <tr>\n",
       "            <td>Alan Anderson  </td> <td>-3.35999</td>\n",
       "        </tr>\n",
       "    </tbody>\n",
       "        <tr>\n",
       "            <td>Alec Burks     </td> <td>-15.8052</td>\n",
       "        </tr>\n",
       "    </tbody>\n",
       "        <tr>\n",
       "            <td>Alex Kirk      </td> <td>-57.5857</td>\n",
       "        </tr>\n",
       "    </tbody>\n",
       "</table>\n",
       "<p>... (483 rows omitted)</p"
      ],
      "text/plain": [
       "<IPython.core.display.HTML object>"
      ]
     },
     "metadata": {},
     "output_type": "display_data"
    }
   ],
   "source": [
    "dep_var = 'net_rtg'\n",
    "ind_vars = ['HCA'] + players\n",
    "apm_dict = multiple_regression_big(dep_var, ind_vars, stints, weights='net_poss')\n",
    "\n",
    "apm = ds.Table().with_columns([\n",
    "    'Player', players,\n",
    "    'APM', [apm_dict[p] for p in players]\n",
    "])\n",
    "apm.show(10)"
   ]
  },
  {
   "cell_type": "markdown",
   "metadata": {},
   "source": [
    "Let's take a look at the histogram plot.\n",
    "\n",
    "This is odd... there are some very large values.  This is supposed to be the player's impact on net rating and there are values over 100 in magnitude??\n",
    "\n",
    "Did we do something wrong?"
   ]
  },
  {
   "cell_type": "code",
   "execution_count": 22,
   "metadata": {},
   "outputs": [
    {
     "data": {
      "image/png": "[encoded data removed]",
      "text/plain": [
       "<matplotlib.figure.Figure at 0x10328d198>"
      ]
     },
     "metadata": {},
     "output_type": "display_data"
    }
   ],
   "source": [
    "apm.hist('APM', bins=50)"
   ]
  },
  {
   "cell_type": "markdown",
   "metadata": {},
   "source": [
    "Let's look at the top ranked players.\n",
    "\n",
    "Geez, who are some of these guys?  Where's Lebron??\n",
    "\n",
    "What happened?"
   ]
  },
  {
   "cell_type": "code",
   "execution_count": 23,
   "metadata": {},
   "outputs": [
    {
     "name": "stdout",
     "output_type": "stream",
     "text": [
      "Home Court Advantage for Net Rating: 2.56\n",
      "\n",
      "Top 20 by APM\n",
      "========================================\n"
     ]
    },
    {
     "data": {
      "text/html": [
       "<table border=\"1\" class=\"dataframe\">\n",
       "    <thead>\n",
       "        <tr>\n",
       "            <th>Player</th> <th>APM</th>\n",
       "        </tr>\n",
       "    </thead>\n",
       "    <tbody>\n",
       "        <tr>\n",
       "            <td>Jerrelle Benimon  </td> <td>132.576</td>\n",
       "        </tr>\n",
       "    </tbody>\n",
       "        <tr>\n",
       "            <td>Malcolm Lee       </td> <td>93.6164</td>\n",
       "        </tr>\n",
       "    </tbody>\n",
       "        <tr>\n",
       "            <td>Sim Bhullar       </td> <td>85.0795</td>\n",
       "        </tr>\n",
       "    </tbody>\n",
       "        <tr>\n",
       "            <td>Eric Moreland     </td> <td>38.696 </td>\n",
       "        </tr>\n",
       "    </tbody>\n",
       "        <tr>\n",
       "            <td>Toure' Murry      </td> <td>13.3057</td>\n",
       "        </tr>\n",
       "    </tbody>\n",
       "        <tr>\n",
       "            <td>Lucas Nogueira    </td> <td>12.6539</td>\n",
       "        </tr>\n",
       "    </tbody>\n",
       "        <tr>\n",
       "            <td>Sean Kilpatrick   </td> <td>12.1147</td>\n",
       "        </tr>\n",
       "    </tbody>\n",
       "        <tr>\n",
       "            <td>David Stockton    </td> <td>10.2613</td>\n",
       "        </tr>\n",
       "    </tbody>\n",
       "        <tr>\n",
       "            <td>Stephen Curry     </td> <td>8.39463</td>\n",
       "        </tr>\n",
       "    </tbody>\n",
       "        <tr>\n",
       "            <td>C.J. Wilcox       </td> <td>8.29079</td>\n",
       "        </tr>\n",
       "    </tbody>\n",
       "        <tr>\n",
       "            <td>Cory Jefferson    </td> <td>6.65065</td>\n",
       "        </tr>\n",
       "    </tbody>\n",
       "        <tr>\n",
       "            <td>Russ Smith        </td> <td>6.56183</td>\n",
       "        </tr>\n",
       "    </tbody>\n",
       "        <tr>\n",
       "            <td>Xavier Henry      </td> <td>6.15298</td>\n",
       "        </tr>\n",
       "    </tbody>\n",
       "        <tr>\n",
       "            <td>Quincy Miller     </td> <td>5.74116</td>\n",
       "        </tr>\n",
       "    </tbody>\n",
       "        <tr>\n",
       "            <td>James Harden      </td> <td>5.59806</td>\n",
       "        </tr>\n",
       "    </tbody>\n",
       "        <tr>\n",
       "            <td>Glenn Robinson III</td> <td>5.16451</td>\n",
       "        </tr>\n",
       "    </tbody>\n",
       "        <tr>\n",
       "            <td>Devyn Marble      </td> <td>5.02913</td>\n",
       "        </tr>\n",
       "    </tbody>\n",
       "        <tr>\n",
       "            <td>Kawhi Leonard     </td> <td>4.96007</td>\n",
       "        </tr>\n",
       "    </tbody>\n",
       "        <tr>\n",
       "            <td>Ricky Rubio       </td> <td>4.28468</td>\n",
       "        </tr>\n",
       "    </tbody>\n",
       "        <tr>\n",
       "            <td>Derrick Rose      </td> <td>4.27482</td>\n",
       "        </tr>\n",
       "    </tbody>\n",
       "</table>\n",
       "<p>... (473 rows omitted)</p"
      ],
      "text/plain": [
       "<IPython.core.display.HTML object>"
      ]
     },
     "metadata": {},
     "output_type": "display_data"
    },
    {
     "name": "stdout",
     "output_type": "stream",
     "text": [
      "\n",
      "Bottom 20 by APM\n",
      "========================================\n"
     ]
    },
    {
     "data": {
      "text/html": [
       "<table border=\"1\" class=\"dataframe\">\n",
       "    <thead>\n",
       "        <tr>\n",
       "            <th>Player</th> <th>APM</th>\n",
       "        </tr>\n",
       "    </thead>\n",
       "    <tbody>\n",
       "        <tr>\n",
       "            <td>Julius Randle      </td> <td>-106.443</td>\n",
       "        </tr>\n",
       "    </tbody>\n",
       "        <tr>\n",
       "            <td>Bruno Caboclo      </td> <td>-89.1908</td>\n",
       "        </tr>\n",
       "    </tbody>\n",
       "        <tr>\n",
       "            <td>David Wear         </td> <td>-80.8084</td>\n",
       "        </tr>\n",
       "    </tbody>\n",
       "        <tr>\n",
       "            <td>Kalin Lucas        </td> <td>-78.8952</td>\n",
       "        </tr>\n",
       "    </tbody>\n",
       "        <tr>\n",
       "            <td>Mike Malone        </td> <td>-66.3561</td>\n",
       "        </tr>\n",
       "    </tbody>\n",
       "        <tr>\n",
       "            <td>Alex Kirk          </td> <td>-57.5857</td>\n",
       "        </tr>\n",
       "    </tbody>\n",
       "        <tr>\n",
       "            <td>Patrick Christopher</td> <td>-56.4504</td>\n",
       "        </tr>\n",
       "    </tbody>\n",
       "        <tr>\n",
       "            <td>Glen Rice Jr.      </td> <td>-49.0212</td>\n",
       "        </tr>\n",
       "    </tbody>\n",
       "        <tr>\n",
       "            <td>Andrei Kirilenko   </td> <td>-47.9859</td>\n",
       "        </tr>\n",
       "    </tbody>\n",
       "        <tr>\n",
       "            <td>Brandon Rush       </td> <td>-43.6257</td>\n",
       "        </tr>\n",
       "    </tbody>\n",
       "        <tr>\n",
       "            <td>Reggie Williams    </td> <td>-41.2385</td>\n",
       "        </tr>\n",
       "    </tbody>\n",
       "        <tr>\n",
       "            <td>Dahntay Jones      </td> <td>-40.8985</td>\n",
       "        </tr>\n",
       "    </tbody>\n",
       "        <tr>\n",
       "            <td>Landry Fields      </td> <td>-39.7698</td>\n",
       "        </tr>\n",
       "    </tbody>\n",
       "        <tr>\n",
       "            <td>Brendan Haywood    </td> <td>-38.613 </td>\n",
       "        </tr>\n",
       "    </tbody>\n",
       "        <tr>\n",
       "            <td>John Lucas III     </td> <td>-38.5627</td>\n",
       "        </tr>\n",
       "    </tbody>\n",
       "        <tr>\n",
       "            <td>Tyrus Thomas       </td> <td>-36.6378</td>\n",
       "        </tr>\n",
       "    </tbody>\n",
       "        <tr>\n",
       "            <td>Seth Curry         </td> <td>-34.8098</td>\n",
       "        </tr>\n",
       "    </tbody>\n",
       "        <tr>\n",
       "            <td>Malcolm Thomas     </td> <td>-33.1009</td>\n",
       "        </tr>\n",
       "    </tbody>\n",
       "        <tr>\n",
       "            <td>Zoran Dragic       </td> <td>-32.6847</td>\n",
       "        </tr>\n",
       "    </tbody>\n",
       "        <tr>\n",
       "            <td>Will Bynum         </td> <td>-32.405 </td>\n",
       "        </tr>\n",
       "    </tbody>\n",
       "</table>\n",
       "<p>... (473 rows omitted)</p"
      ],
      "text/plain": [
       "<IPython.core.display.HTML object>"
      ]
     },
     "metadata": {},
     "output_type": "display_data"
    }
   ],
   "source": [
    "apm_HCA = apm_dict['HCA']\n",
    "print(\"Home Court Advantage for Net Rating: {:.2f}\".format(apm_HCA))\n",
    "print()\n",
    "print(\"Top 20 by APM\\n\" + 40*\"=\")\n",
    "apm.sort('APM', descending=True).show(20)\n",
    "print()\n",
    "print(\"Bottom 20 by APM\\n\" + 40*\"=\")\n",
    "apm.sort('APM', descending=False).show(20)"
   ]
  },
  {
   "cell_type": "code",
   "execution_count": 24,
   "metadata": {},
   "outputs": [
    {
     "data": {
      "text/plain": [
       "1.0"
      ]
     },
     "execution_count": 24,
     "metadata": {},
     "output_type": "execute_result"
    }
   ],
   "source": [
    "np.abs(stints[\"Malcolm Lee\"]).sum()"
   ]
  },
  {
   "cell_type": "markdown",
   "metadata": {},
   "source": [
    "### Penalizing the Least Squares Fit: Regularized Adjusted Plus Minus (xRAPM)\n",
    "\n",
    "We just ran into a few issues:\n",
    "+ Players who we should have dropped due to not having many minutes.  If they have a raw net rating of 200 in 1 possession, the regression will still try to aggressively optimize and give that player a high rating.  We can bucket those players together or force the regression optimizer to not be so aggressive\n",
    "+ Lineups do not behave like randomized controlled trials.  Given nine players on the court, we can do a really good job predicting the tenth.  Sometimes two players almost always play together.  Or two players switch for each other.\n",
    "+ This lack of randomization leads to a condition called _multicollinearity_ and is a huge potential problem in multiple regression problems.  Due to issues that can be derived/explained with Linear Algebra, if multicollinearity is present the regression will likely falter and not be able to distinguish well what is happening.  \n",
    "\n",
    "Our solution is to use something called _penalization_ or _regularization_.\n",
    "\n",
    "Instead of just aggressively minimizing the mean square error, we reframe the regression to simultaneously minimize mean square error but penalize aggressive fitting by the optimizer.  If the optimization wants to assign a big rating alue to a player, it better have a lot of evidence behind it, ie. the reduction in the least squares needs to offset the penalty imposed.\n",
    "\n",
    "What exactly is the penalty?  We penalize the sum of squares of the coefficients and we introduce a penalty parameter that quantifies the strength of this penalty.  This parameter is our choice but there are methods (beyond the scope of this demo) that can suggest a good value.\n",
    "\n",
    "The result of this is a statistic attributed to Jerry Engelmann called _Regularized Adjusted Plus Minus_ or xRAPM.  It is actually the cousin/basis for ESPN's Real Plus/Minus statistic. \n",
    "\n",
    "We use a new function to perform this: `multiple_regression_big_with_penalty`.\n"
   ]
  },
  {
   "cell_type": "code",
   "execution_count": 25,
   "metadata": {},
   "outputs": [
    {
     "data": {
      "text/html": [
       "<table border=\"1\" class=\"dataframe\">\n",
       "    <thead>\n",
       "        <tr>\n",
       "            <th>Player</th> <th>RAPM</th>\n",
       "        </tr>\n",
       "    </thead>\n",
       "    <tbody>\n",
       "        <tr>\n",
       "            <td>A.J. Price     </td> <td>-1.59026 </td>\n",
       "        </tr>\n",
       "    </tbody>\n",
       "        <tr>\n",
       "            <td>Aaron Brooks   </td> <td>2.08051  </td>\n",
       "        </tr>\n",
       "    </tbody>\n",
       "        <tr>\n",
       "            <td>Aaron Gordon   </td> <td>-1.92665 </td>\n",
       "        </tr>\n",
       "    </tbody>\n",
       "        <tr>\n",
       "            <td>Adreian Payne  </td> <td>-3.50721 </td>\n",
       "        </tr>\n",
       "    </tbody>\n",
       "        <tr>\n",
       "            <td>Al Horford     </td> <td>0.290931 </td>\n",
       "        </tr>\n",
       "    </tbody>\n",
       "        <tr>\n",
       "            <td>Al Jefferson   </td> <td>-1.08135 </td>\n",
       "        </tr>\n",
       "    </tbody>\n",
       "        <tr>\n",
       "            <td>Al-Farouq Aminu</td> <td>4.22562  </td>\n",
       "        </tr>\n",
       "    </tbody>\n",
       "        <tr>\n",
       "            <td>Alan Anderson  </td> <td>2.48445  </td>\n",
       "        </tr>\n",
       "    </tbody>\n",
       "        <tr>\n",
       "            <td>Alec Burks     </td> <td>-1.54853 </td>\n",
       "        </tr>\n",
       "    </tbody>\n",
       "        <tr>\n",
       "            <td>Alex Kirk      </td> <td>-0.737028</td>\n",
       "        </tr>\n",
       "    </tbody>\n",
       "</table>\n",
       "<p>... (483 rows omitted)</p"
      ],
      "text/plain": [
       "<IPython.core.display.HTML object>"
      ]
     },
     "metadata": {},
     "output_type": "display_data"
    }
   ],
   "source": [
    "from regression_helper import multiple_regression_big_with_penalty\n",
    "\n",
    "rapm_dict = multiple_regression_big_with_penalty(\n",
    "    'net_rtg', ind_vars, stints, weights='net_poss', penalty=3400.)\n",
    "\n",
    "rapm = ds.Table().with_columns([\n",
    "    'Player', players,\n",
    "    'RAPM', [rapm_dict[p] for p in players]\n",
    "])\n",
    "rapm.show(10)"
   ]
  },
  {
   "cell_type": "markdown",
   "metadata": {},
   "source": [
    "This looks way better.  Now we see the people we expect to see at the top.  There are some interesting names at the top like Kyle Korver or Kelly Olynyk.  I certainly would have expected them to rank so high."
   ]
  },
  {
   "cell_type": "code",
   "execution_count": 26,
   "metadata": {},
   "outputs": [
    {
     "name": "stdout",
     "output_type": "stream",
     "text": [
      "Home Court Advantage for Net Rating: 2.63\n",
      "\n",
      "Top 20 by RAPM\n",
      "========================================\n"
     ]
    },
    {
     "data": {
      "text/html": [
       "<table border=\"1\" class=\"dataframe\">\n",
       "    <thead>\n",
       "        <tr>\n",
       "            <th>Player</th> <th>RAPM</th>\n",
       "        </tr>\n",
       "    </thead>\n",
       "    <tbody>\n",
       "        <tr>\n",
       "            <td>Stephen Curry    </td> <td>8.92882</td>\n",
       "        </tr>\n",
       "    </tbody>\n",
       "        <tr>\n",
       "            <td>Draymond Green   </td> <td>8.66792</td>\n",
       "        </tr>\n",
       "    </tbody>\n",
       "        <tr>\n",
       "            <td>LeBron James     </td> <td>7.80214</td>\n",
       "        </tr>\n",
       "    </tbody>\n",
       "        <tr>\n",
       "            <td>Kawhi Leonard    </td> <td>7.72977</td>\n",
       "        </tr>\n",
       "    </tbody>\n",
       "        <tr>\n",
       "            <td>Kyle Korver      </td> <td>7.38718</td>\n",
       "        </tr>\n",
       "    </tbody>\n",
       "        <tr>\n",
       "            <td>Anthony Davis    </td> <td>7.06756</td>\n",
       "        </tr>\n",
       "    </tbody>\n",
       "        <tr>\n",
       "            <td>James Harden     </td> <td>7.05184</td>\n",
       "        </tr>\n",
       "    </tbody>\n",
       "        <tr>\n",
       "            <td>Chris Paul       </td> <td>6.37666</td>\n",
       "        </tr>\n",
       "    </tbody>\n",
       "        <tr>\n",
       "            <td>Zach Randolph    </td> <td>6.18023</td>\n",
       "        </tr>\n",
       "    </tbody>\n",
       "        <tr>\n",
       "            <td>DeMarcus Cousins </td> <td>6.13593</td>\n",
       "        </tr>\n",
       "    </tbody>\n",
       "        <tr>\n",
       "            <td>Khris Middleton  </td> <td>6.0728 </td>\n",
       "        </tr>\n",
       "    </tbody>\n",
       "        <tr>\n",
       "            <td>Kelly Olynyk     </td> <td>6.01578</td>\n",
       "        </tr>\n",
       "    </tbody>\n",
       "        <tr>\n",
       "            <td>Timofey Mozgov   </td> <td>5.75682</td>\n",
       "        </tr>\n",
       "    </tbody>\n",
       "        <tr>\n",
       "            <td>Tony Allen       </td> <td>5.49861</td>\n",
       "        </tr>\n",
       "    </tbody>\n",
       "        <tr>\n",
       "            <td>Danny Green      </td> <td>5.46023</td>\n",
       "        </tr>\n",
       "    </tbody>\n",
       "        <tr>\n",
       "            <td>Dwight Howard    </td> <td>5.21068</td>\n",
       "        </tr>\n",
       "    </tbody>\n",
       "        <tr>\n",
       "            <td>Kyle Lowry       </td> <td>5.12812</td>\n",
       "        </tr>\n",
       "    </tbody>\n",
       "        <tr>\n",
       "            <td>LaMarcus Aldridge</td> <td>5.00965</td>\n",
       "        </tr>\n",
       "    </tbody>\n",
       "        <tr>\n",
       "            <td>George Hill      </td> <td>4.92482</td>\n",
       "        </tr>\n",
       "    </tbody>\n",
       "        <tr>\n",
       "            <td>C.J. Miles       </td> <td>4.88697</td>\n",
       "        </tr>\n",
       "    </tbody>\n",
       "</table>\n",
       "<p>... (473 rows omitted)</p"
      ],
      "text/plain": [
       "<IPython.core.display.HTML object>"
      ]
     },
     "metadata": {},
     "output_type": "display_data"
    },
    {
     "name": "stdout",
     "output_type": "stream",
     "text": [
      "\n",
      "Bottom 20 by RAPM\n",
      "========================================\n"
     ]
    },
    {
     "data": {
      "text/html": [
       "<table border=\"1\" class=\"dataframe\">\n",
       "    <thead>\n",
       "        <tr>\n",
       "            <th>Player</th> <th>RAPM</th>\n",
       "        </tr>\n",
       "    </thead>\n",
       "    <tbody>\n",
       "        <tr>\n",
       "            <td>Brandon Rush     </td> <td>-7.60146</td>\n",
       "        </tr>\n",
       "    </tbody>\n",
       "        <tr>\n",
       "            <td>Perry Jones      </td> <td>-6.11035</td>\n",
       "        </tr>\n",
       "    </tbody>\n",
       "        <tr>\n",
       "            <td>Martell Webster  </td> <td>-5.84327</td>\n",
       "        </tr>\n",
       "    </tbody>\n",
       "        <tr>\n",
       "            <td>Zach LaVine      </td> <td>-5.60154</td>\n",
       "        </tr>\n",
       "    </tbody>\n",
       "        <tr>\n",
       "            <td>Anthony Bennett  </td> <td>-5.47278</td>\n",
       "        </tr>\n",
       "    </tbody>\n",
       "        <tr>\n",
       "            <td>Andrea Bargnani  </td> <td>-5.30338</td>\n",
       "        </tr>\n",
       "    </tbody>\n",
       "        <tr>\n",
       "            <td>Luke Babbitt     </td> <td>-5.14346</td>\n",
       "        </tr>\n",
       "    </tbody>\n",
       "        <tr>\n",
       "            <td>Archie Goodwin   </td> <td>-5.12992</td>\n",
       "        </tr>\n",
       "    </tbody>\n",
       "        <tr>\n",
       "            <td>Landry Fields    </td> <td>-5.08603</td>\n",
       "        </tr>\n",
       "    </tbody>\n",
       "        <tr>\n",
       "            <td>Derrick Williams </td> <td>-5.04586</td>\n",
       "        </tr>\n",
       "    </tbody>\n",
       "        <tr>\n",
       "            <td>Jason Smith      </td> <td>-4.73954</td>\n",
       "        </tr>\n",
       "    </tbody>\n",
       "        <tr>\n",
       "            <td>Udonis Haslem    </td> <td>-4.65238</td>\n",
       "        </tr>\n",
       "    </tbody>\n",
       "        <tr>\n",
       "            <td>Johnny O'Bryant  </td> <td>-4.60058</td>\n",
       "        </tr>\n",
       "    </tbody>\n",
       "        <tr>\n",
       "            <td>Jabari Brown     </td> <td>-4.58936</td>\n",
       "        </tr>\n",
       "    </tbody>\n",
       "        <tr>\n",
       "            <td>Joffrey Lauvergne</td> <td>-4.45697</td>\n",
       "        </tr>\n",
       "    </tbody>\n",
       "        <tr>\n",
       "            <td>Mike Miller      </td> <td>-4.4281 </td>\n",
       "        </tr>\n",
       "    </tbody>\n",
       "        <tr>\n",
       "            <td>Samuel Dalembert </td> <td>-4.39826</td>\n",
       "        </tr>\n",
       "    </tbody>\n",
       "        <tr>\n",
       "            <td>Ray McCallum     </td> <td>-4.36918</td>\n",
       "        </tr>\n",
       "    </tbody>\n",
       "        <tr>\n",
       "            <td>Malcolm Thomas   </td> <td>-4.34889</td>\n",
       "        </tr>\n",
       "    </tbody>\n",
       "        <tr>\n",
       "            <td>Kris Humphries   </td> <td>-4.26156</td>\n",
       "        </tr>\n",
       "    </tbody>\n",
       "</table>\n",
       "<p>... (473 rows omitted)</p"
      ],
      "text/plain": [
       "<IPython.core.display.HTML object>"
      ]
     },
     "metadata": {},
     "output_type": "display_data"
    },
    {
     "data": {
      "image/png": "[encoded data removed]",
      "text/plain": [
       "<matplotlib.figure.Figure at 0x116158898>"
      ]
     },
     "metadata": {},
     "output_type": "display_data"
    }
   ],
   "source": [
    "rapm.hist('RAPM', bins=50)\n",
    "\n",
    "rapm_HCA = rapm_dict['HCA']\n",
    "print(f\"Home Court Advantage for Net Rating: {rapm_HCA:.2f}\")\n",
    "print()\n",
    "print(\"Top 20 by RAPM\\n\" + 40*\"=\")\n",
    "rapm.sort('RAPM', descending=True).show(20)\n",
    "print()\n",
    "print(\"Bottom 20 by RAPM\\n\" + 40*\"=\")\n",
    "rapm.sort('RAPM', descending=False).show(20)"
   ]
  },
  {
   "cell_type": "markdown",
   "metadata": {},
   "source": [
    "### How penalizing the coefficients cleans things up\n",
    "\n",
    "Let's take a look at some Grizzlies players.  Of particular interest is Kosta Koufos and Marc Gasol.  They are both centers who rarely played together but combined covered most of the possessions at center for the grizzlies.\n",
    "\n",
    "We shouldn't be so outright dismissive of the APM results just because these three players look \"off\".  But one thing you can see is how the gap between Koufos and Gasol was shrunk in half (and of course they went from negative to positive)."
   ]
  },
  {
   "cell_type": "code",
   "execution_count": 27,
   "metadata": {},
   "outputs": [
    {
     "data": {
      "text/html": [
       "<table border=\"1\" class=\"dataframe\">\n",
       "    <thead>\n",
       "        <tr>\n",
       "            <th>Player</th> <th>APM</th>\n",
       "        </tr>\n",
       "    </thead>\n",
       "    <tbody>\n",
       "        <tr>\n",
       "            <td>Kosta Koufos </td> <td>-3.6586 </td>\n",
       "        </tr>\n",
       "    </tbody>\n",
       "        <tr>\n",
       "            <td>Marc Gasol   </td> <td>-5.75652</td>\n",
       "        </tr>\n",
       "    </tbody>\n",
       "        <tr>\n",
       "            <td>Zach Randolph</td> <td>1.9972  </td>\n",
       "        </tr>\n",
       "    </tbody>\n",
       "</table>"
      ],
      "text/plain": [
       "Player        | APM\n",
       "Kosta Koufos  | -3.6586\n",
       "Marc Gasol    | -5.75652\n",
       "Zach Randolph | 1.9972"
      ]
     },
     "execution_count": 27,
     "metadata": {},
     "output_type": "execute_result"
    }
   ],
   "source": [
    "apm.where('Player', ds.are.contained_in([\"Kosta Koufos\", \"Marc Gasol\", \"Zach Randolph\"]))"
   ]
  },
  {
   "cell_type": "code",
   "execution_count": 28,
   "metadata": {},
   "outputs": [
    {
     "data": {
      "text/html": [
       "<table border=\"1\" class=\"dataframe\">\n",
       "    <thead>\n",
       "        <tr>\n",
       "            <th>Player</th> <th>RAPM</th>\n",
       "        </tr>\n",
       "    </thead>\n",
       "    <tbody>\n",
       "        <tr>\n",
       "            <td>Kosta Koufos </td> <td>2.57694</td>\n",
       "        </tr>\n",
       "    </tbody>\n",
       "        <tr>\n",
       "            <td>Marc Gasol   </td> <td>1.2791 </td>\n",
       "        </tr>\n",
       "    </tbody>\n",
       "        <tr>\n",
       "            <td>Zach Randolph</td> <td>6.18023</td>\n",
       "        </tr>\n",
       "    </tbody>\n",
       "</table>"
      ],
      "text/plain": [
       "Player        | RAPM\n",
       "Kosta Koufos  | 2.57694\n",
       "Marc Gasol    | 1.2791\n",
       "Zach Randolph | 6.18023"
      ]
     },
     "execution_count": 28,
     "metadata": {},
     "output_type": "execute_result"
    }
   ],
   "source": [
    "rapm.where('Player', ds.are.contained_in([\"Kosta Koufos\", \"Marc Gasol\", \"Zach Randolph\"]))"
   ]
  },
  {
   "cell_type": "markdown",
   "metadata": {},
   "source": [
    "When looking at all Grizzly players, you see how the ratings are cleaned up a lot.  Note that not all of the relative positionings are the same.  Some players went from negative to positive, some switched order.  This suggests we're doing what we want to do: not just contract everyone's rating towards 0 but find a result that is more stable."
   ]
  },
  {
   "cell_type": "code",
   "execution_count": 29,
   "metadata": {},
   "outputs": [
    {
     "data": {
      "text/html": [
       "<table border=\"1\" class=\"dataframe\">\n",
       "    <thead>\n",
       "        <tr>\n",
       "            <th>Player</th> <th>APM</th>\n",
       "        </tr>\n",
       "    </thead>\n",
       "    <tbody>\n",
       "        <tr>\n",
       "            <td>Beno Udrih      </td> <td>-13.9473</td>\n",
       "        </tr>\n",
       "    </tbody>\n",
       "        <tr>\n",
       "            <td>Courtney Lee    </td> <td>-9.40777</td>\n",
       "        </tr>\n",
       "    </tbody>\n",
       "        <tr>\n",
       "            <td>JaMychal Green  </td> <td>-14.3699</td>\n",
       "        </tr>\n",
       "    </tbody>\n",
       "        <tr>\n",
       "            <td>Jarnell Stokes  </td> <td>-17.3352</td>\n",
       "        </tr>\n",
       "    </tbody>\n",
       "        <tr>\n",
       "            <td>Jeff Green      </td> <td>-18.3214</td>\n",
       "        </tr>\n",
       "    </tbody>\n",
       "        <tr>\n",
       "            <td>Jon Leuer       </td> <td>-15.7943</td>\n",
       "        </tr>\n",
       "    </tbody>\n",
       "        <tr>\n",
       "            <td>Jordan Adams    </td> <td>-7.44116</td>\n",
       "        </tr>\n",
       "    </tbody>\n",
       "        <tr>\n",
       "            <td>Kalin Lucas     </td> <td>-78.8952</td>\n",
       "        </tr>\n",
       "    </tbody>\n",
       "        <tr>\n",
       "            <td>Kosta Koufos    </td> <td>-3.6586 </td>\n",
       "        </tr>\n",
       "    </tbody>\n",
       "        <tr>\n",
       "            <td>Marc Gasol      </td> <td>-5.75652</td>\n",
       "        </tr>\n",
       "    </tbody>\n",
       "        <tr>\n",
       "            <td>Mike Conley     </td> <td>-10.3209</td>\n",
       "        </tr>\n",
       "    </tbody>\n",
       "        <tr>\n",
       "            <td>Nick Calathes   </td> <td>-4.01856</td>\n",
       "        </tr>\n",
       "    </tbody>\n",
       "        <tr>\n",
       "            <td>Quincy Pondexter</td> <td>-8.91912</td>\n",
       "        </tr>\n",
       "    </tbody>\n",
       "        <tr>\n",
       "            <td>Russ Smith      </td> <td>6.56183 </td>\n",
       "        </tr>\n",
       "    </tbody>\n",
       "        <tr>\n",
       "            <td>Tayshaun Prince </td> <td>-15.2545</td>\n",
       "        </tr>\n",
       "    </tbody>\n",
       "        <tr>\n",
       "            <td>Tony Allen      </td> <td>-2.85499</td>\n",
       "        </tr>\n",
       "    </tbody>\n",
       "        <tr>\n",
       "            <td>Tyrus Thomas    </td> <td>-36.6378</td>\n",
       "        </tr>\n",
       "    </tbody>\n",
       "        <tr>\n",
       "            <td>Vince Carter    </td> <td>-11.9831</td>\n",
       "        </tr>\n",
       "    </tbody>\n",
       "        <tr>\n",
       "            <td>Zach Randolph   </td> <td>1.9972  </td>\n",
       "        </tr>\n",
       "    </tbody>\n",
       "</table>"
      ],
      "text/plain": [
       "<IPython.core.display.HTML object>"
      ]
     },
     "metadata": {},
     "output_type": "display_data"
    }
   ],
   "source": [
    "griz_players = ['Jordan Adams', 'Tony Allen', 'Nick Calathes', 'Vince Carter',\n",
    "       'Mike Conley', 'Marc Gasol', 'JaMychal Green', 'Jeff Green',\n",
    "       'Kosta Koufos', 'Courtney Lee', 'Jon Leuer', 'Kalin Lucas',\n",
    "       'Quincy Pondexter', 'Tayshaun Prince', 'Zach Randolph',\n",
    "       'Russ Smith', 'Jarnell Stokes', 'Tyrus Thomas', 'Beno Udrih']\n",
    "apm.where('Player', ds.are.contained_in(griz_players)).show(19)"
   ]
  },
  {
   "cell_type": "code",
   "execution_count": 30,
   "metadata": {},
   "outputs": [
    {
     "data": {
      "text/html": [
       "<table border=\"1\" class=\"dataframe\">\n",
       "    <thead>\n",
       "        <tr>\n",
       "            <th>Player</th> <th>RAPM</th>\n",
       "        </tr>\n",
       "    </thead>\n",
       "    <tbody>\n",
       "        <tr>\n",
       "            <td>Beno Udrih      </td> <td>-1.20759  </td>\n",
       "        </tr>\n",
       "    </tbody>\n",
       "        <tr>\n",
       "            <td>Courtney Lee    </td> <td>0.970357  </td>\n",
       "        </tr>\n",
       "    </tbody>\n",
       "        <tr>\n",
       "            <td>JaMychal Green  </td> <td>-0.447767 </td>\n",
       "        </tr>\n",
       "    </tbody>\n",
       "        <tr>\n",
       "            <td>Jarnell Stokes  </td> <td>0.26266   </td>\n",
       "        </tr>\n",
       "    </tbody>\n",
       "        <tr>\n",
       "            <td>Jeff Green      </td> <td>-4.06567  </td>\n",
       "        </tr>\n",
       "    </tbody>\n",
       "        <tr>\n",
       "            <td>Jon Leuer       </td> <td>-1.63962  </td>\n",
       "        </tr>\n",
       "    </tbody>\n",
       "        <tr>\n",
       "            <td>Jordan Adams    </td> <td>0.843452  </td>\n",
       "        </tr>\n",
       "    </tbody>\n",
       "        <tr>\n",
       "            <td>Kalin Lucas     </td> <td>-0.415726 </td>\n",
       "        </tr>\n",
       "    </tbody>\n",
       "        <tr>\n",
       "            <td>Kosta Koufos    </td> <td>2.57694   </td>\n",
       "        </tr>\n",
       "    </tbody>\n",
       "        <tr>\n",
       "            <td>Marc Gasol      </td> <td>1.2791    </td>\n",
       "        </tr>\n",
       "    </tbody>\n",
       "        <tr>\n",
       "            <td>Mike Conley     </td> <td>1.49306   </td>\n",
       "        </tr>\n",
       "    </tbody>\n",
       "        <tr>\n",
       "            <td>Nick Calathes   </td> <td>3.06486   </td>\n",
       "        </tr>\n",
       "    </tbody>\n",
       "        <tr>\n",
       "            <td>Quincy Pondexter</td> <td>-0.218636 </td>\n",
       "        </tr>\n",
       "    </tbody>\n",
       "        <tr>\n",
       "            <td>Russ Smith      </td> <td>1.38139   </td>\n",
       "        </tr>\n",
       "    </tbody>\n",
       "        <tr>\n",
       "            <td>Tayshaun Prince </td> <td>-2.93969  </td>\n",
       "        </tr>\n",
       "    </tbody>\n",
       "        <tr>\n",
       "            <td>Tony Allen      </td> <td>5.49861   </td>\n",
       "        </tr>\n",
       "    </tbody>\n",
       "        <tr>\n",
       "            <td>Tyrus Thomas    </td> <td>-0.0435359</td>\n",
       "        </tr>\n",
       "    </tbody>\n",
       "        <tr>\n",
       "            <td>Vince Carter    </td> <td>-0.753477 </td>\n",
       "        </tr>\n",
       "    </tbody>\n",
       "        <tr>\n",
       "            <td>Zach Randolph   </td> <td>6.18023   </td>\n",
       "        </tr>\n",
       "    </tbody>\n",
       "</table>"
      ],
      "text/plain": [
       "<IPython.core.display.HTML object>"
      ]
     },
     "metadata": {},
     "output_type": "display_data"
    }
   ],
   "source": [
    "rapm.where('Player', ds.are.contained_in(griz_players)).show(19)"
   ]
  },
  {
   "cell_type": "markdown",
   "metadata": {},
   "source": [
    "### Compare to ESPN's RPM\n",
    "\n",
    "We can compare our results ESPN's Real Plus/Minus statistic.\n",
    "\n",
    "Compared against overall RPM from 2014-15, our rating is actually that not that bad.  We're overrating players a bit and maybe using more years would help.  RPM actually uses box score data and some biographic data to help stabilize the regression further.  We are working purely with lineup data so if they are doing things well, that extra data will improve things for them.\n",
    "\n",
    "Also note that ESPN produces Offensive RPM and Defensive RPM. To do this, we need to break up the stint data into offense and defense performance and have _two_ effects for each player, one for offense and one for defense.\n",
    "\n",
    "They also convert RPM to Wins, presumably using something like the pythagorean expectation formula.  Kevin Pelton's WARP statistic does similarly."
   ]
  },
  {
   "cell_type": "code",
   "execution_count": 31,
   "metadata": {},
   "outputs": [
    {
     "data": {
      "text/html": [
       "<table border=\"1\" class=\"dataframe\">\n",
       "    <thead>\n",
       "        <tr>\n",
       "            <th>RK</th> <th>NAME</th> <th>TEAM</th> <th>GP</th> <th>MPG</th> <th>ORPM</th> <th>DRPM</th> <th>RPM</th> <th>WINS</th>\n",
       "        </tr>\n",
       "    </thead>\n",
       "    <tbody>\n",
       "        <tr>\n",
       "            <td>1   </td> <td>Stephen Curry, PG    </td> <td>GS  </td> <td>80  </td> <td>32.7</td> <td>7.43 </td> <td>1.91 </td> <td>9.34</td> <td>20.07</td>\n",
       "        </tr>\n",
       "    </tbody>\n",
       "        <tr>\n",
       "            <td>2   </td> <td>LeBron James, SF     </td> <td>CLE </td> <td>69  </td> <td>36.1</td> <td>6.02 </td> <td>2.76 </td> <td>8.78</td> <td>17.03</td>\n",
       "        </tr>\n",
       "    </tbody>\n",
       "        <tr>\n",
       "            <td>3   </td> <td>James Harden, PG     </td> <td>HOU </td> <td>81  </td> <td>36.8</td> <td>8.66 </td> <td>-0.16</td> <td>8.5 </td> <td>20.63</td>\n",
       "        </tr>\n",
       "    </tbody>\n",
       "        <tr>\n",
       "            <td>4   </td> <td>Anthony Davis, PF    </td> <td>NO  </td> <td>68  </td> <td>36.1</td> <td>3.98 </td> <td>4.2  </td> <td>8.18</td> <td>15.86</td>\n",
       "        </tr>\n",
       "    </tbody>\n",
       "        <tr>\n",
       "            <td>5   </td> <td>Kawhi Leonard, SF    </td> <td>SA  </td> <td>64  </td> <td>31.8</td> <td>2.98 </td> <td>4.59 </td> <td>7.57</td> <td>12.67</td>\n",
       "        </tr>\n",
       "    </tbody>\n",
       "        <tr>\n",
       "            <td>6   </td> <td>Russell Westbrook, PG</td> <td>OKC </td> <td>67  </td> <td>34.4</td> <td>7.79 </td> <td>-0.71</td> <td>7.08</td> <td>14.15</td>\n",
       "        </tr>\n",
       "    </tbody>\n",
       "        <tr>\n",
       "            <td>7   </td> <td>Chris Paul, PG       </td> <td>LAC </td> <td>82  </td> <td>34.8</td> <td>6.45 </td> <td>0.47 </td> <td>6.92</td> <td>16.75</td>\n",
       "        </tr>\n",
       "    </tbody>\n",
       "        <tr>\n",
       "            <td>8   </td> <td>Draymond Green, PF   </td> <td>GS  </td> <td>79  </td> <td>31.5</td> <td>1.57 </td> <td>5.23 </td> <td>6.8 </td> <td>14.8 </td>\n",
       "        </tr>\n",
       "    </tbody>\n",
       "        <tr>\n",
       "            <td>9   </td> <td>DeMarcus Cousins, C  </td> <td>SAC </td> <td>59  </td> <td>34.1</td> <td>1.41 </td> <td>4.71 </td> <td>6.12</td> <td>10.86</td>\n",
       "        </tr>\n",
       "    </tbody>\n",
       "        <tr>\n",
       "            <td>10  </td> <td>Khris Middleton, SF  </td> <td>MIL </td> <td>79  </td> <td>30.1</td> <td>1.97 </td> <td>4.09 </td> <td>6.06</td> <td>12.42</td>\n",
       "        </tr>\n",
       "    </tbody>\n",
       "        <tr>\n",
       "            <td>11  </td> <td>Kyle Korver, SG      </td> <td>ATL </td> <td>75  </td> <td>32.2</td> <td>4.08 </td> <td>1.34 </td> <td>5.42</td> <td>11.59</td>\n",
       "        </tr>\n",
       "    </tbody>\n",
       "        <tr>\n",
       "            <td>12  </td> <td>Danny Green, SG      </td> <td>SA  </td> <td>81  </td> <td>28.5</td> <td>3.25 </td> <td>2.16 </td> <td>5.41</td> <td>11   </td>\n",
       "        </tr>\n",
       "    </tbody>\n",
       "        <tr>\n",
       "            <td>13  </td> <td>Tim Duncan, C        </td> <td>SA  </td> <td>77  </td> <td>28.9</td> <td>0.53 </td> <td>4.67 </td> <td>5.2 </td> <td>10.33</td>\n",
       "        </tr>\n",
       "    </tbody>\n",
       "        <tr>\n",
       "            <td>14  </td> <td>Paul Millsap, PF     </td> <td>ATL </td> <td>73  </td> <td>32.7</td> <td>2.87 </td> <td>2.22 </td> <td>5.09</td> <td>11.01</td>\n",
       "        </tr>\n",
       "    </tbody>\n",
       "        <tr>\n",
       "            <td>15  </td> <td>Tony Allen, SG       </td> <td>MEM </td> <td>63  </td> <td>26.2</td> <td>-0.11</td> <td>4.92 </td> <td>4.81</td> <td>7.23 </td>\n",
       "        </tr>\n",
       "    </tbody>\n",
       "        <tr>\n",
       "            <td>16  </td> <td>Zaza Pachulia, C     </td> <td>MIL </td> <td>73  </td> <td>23.7</td> <td>1.38 </td> <td>3.42 </td> <td>4.8 </td> <td>7.66 </td>\n",
       "        </tr>\n",
       "    </tbody>\n",
       "        <tr>\n",
       "            <td>17  </td> <td>Tyson Chandler, C    </td> <td>DAL </td> <td>75  </td> <td>30.5</td> <td>1.04 </td> <td>3.54 </td> <td>4.58</td> <td>9.99 </td>\n",
       "        </tr>\n",
       "    </tbody>\n",
       "        <tr>\n",
       "            <td>18  </td> <td>Zach Randolph, PF    </td> <td>MEM </td> <td>71  </td> <td>32.5</td> <td>1.84 </td> <td>2.71 </td> <td>4.55</td> <td>9.58 </td>\n",
       "        </tr>\n",
       "    </tbody>\n",
       "        <tr>\n",
       "            <td>19  </td> <td>Gordon Hayward, SF   </td> <td>UTAH</td> <td>76  </td> <td>34.4</td> <td>3.3  </td> <td>1.19 </td> <td>4.49</td> <td>10.81</td>\n",
       "        </tr>\n",
       "    </tbody>\n",
       "        <tr>\n",
       "            <td>20  </td> <td>DeAndre Jordan, C    </td> <td>LAC </td> <td>82  </td> <td>34.4</td> <td>2.03 </td> <td>2.43 </td> <td>4.46</td> <td>12.08</td>\n",
       "        </tr>\n",
       "    </tbody>\n",
       "</table>\n",
       "<p>... (20 rows omitted)</p"
      ],
      "text/plain": [
       "<IPython.core.display.HTML object>"
      ]
     },
     "metadata": {},
     "output_type": "display_data"
    }
   ],
   "source": [
    "rpm = ds.Table.read_table('rpm.csv', sep=',')\n",
    "rpm.show(20)"
   ]
  }
 ],
 "metadata": {
  "hide_input": false,
  "kernelspec": {
   "display_name": "Python 3",
   "language": "python",
   "name": "python3"
  },
  "language_info": {
   "codemirror_mode": {
    "name": "ipython",
    "version": 3
   },
   "file_extension": ".py",
   "mimetype": "text/x-python",
   "name": "python",
   "nbconvert_exporter": "python",
   "pygments_lexer": "ipython3",
   "version": "3.6.1"
  },
  "toc": {
   "nav_menu": {},
   "number_sections": true,
   "sideBar": true,
   "skip_h1_title": true,
   "title_cell": "Table of Contents",
   "title_sidebar": "Contents",
   "toc_cell": true,
   "toc_position": {},
   "toc_section_display": true,
   "toc_window_display": false
  },
  "varInspector": {
   "cols": {
    "lenName": 16,
    "lenType": 16,
    "lenVar": 40
   },
   "kernels_config": {
    "python": {
     "delete_cmd_postfix": "",
     "delete_cmd_prefix": "del ",
     "library": "var_list.py",
     "varRefreshCmd": "print(var_dic_list())"
    },
    "r": {
     "delete_cmd_postfix": ") ",
     "delete_cmd_prefix": "rm(",
     "library": "var_list.r",
     "varRefreshCmd": "cat(var_dic_list()) "
    }
   },
   "types_to_exclude": [
    "module",
    "function",
    "builtin_function_or_method",
    "instance",
    "_Feature"
   ],
   "window_display": false
  }
 },
 "nbformat": 4,
 "nbformat_minor": 2
}
