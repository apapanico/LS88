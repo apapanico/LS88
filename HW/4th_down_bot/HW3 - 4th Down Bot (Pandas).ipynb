{
 "cells": [
  {
   "cell_type": "markdown",
   "metadata": {
    "toc": true
   },
   "source": [
    "<h1>Table of Contents<span class=\"tocSkip\"></span></h1>\n",
    "<div class=\"toc\"><ul class=\"toc-item\"><li><span><a href=\"#The-Model\" data-toc-modified-id=\"The-Model-1\"><span class=\"toc-item-num\">1&nbsp;&nbsp;</span>The Model</a></span></li><li><span><a href=\"#Load-the-NFL-PxP-Data\" data-toc-modified-id=\"Load-the-NFL-PxP-Data-2\"><span class=\"toc-item-num\">2&nbsp;&nbsp;</span>Load the NFL PxP Data</a></span><ul class=\"toc-item\"><li><span><a href=\"#Kickoffs-and-Possession-Starts\" data-toc-modified-id=\"Kickoffs-and-Possession-Starts-2.1\"><span class=\"toc-item-num\">2.1&nbsp;&nbsp;</span>Kickoffs and Possession Starts</a></span></li><li><span><a href=\"#Punts\" data-toc-modified-id=\"Punts-2.2\"><span class=\"toc-item-num\">2.2&nbsp;&nbsp;</span>Punts</a></span></li><li><span><a href=\"#Field-Goals\" data-toc-modified-id=\"Field-Goals-2.3\"><span class=\"toc-item-num\">2.3&nbsp;&nbsp;</span>Field Goals</a></span></li><li><span><a href=\"#Third-Downs\" data-toc-modified-id=\"Third-Downs-2.4\"><span class=\"toc-item-num\">2.4&nbsp;&nbsp;</span>Third Downs</a></span></li></ul></li><li><span><a href=\"#Expected-Value-Models\" data-toc-modified-id=\"Expected-Value-Models-3\"><span class=\"toc-item-num\">3&nbsp;&nbsp;</span>Expected Value Models</a></span><ul class=\"toc-item\"><li><span><a href=\"#Possessions-and-Kickoffs\" data-toc-modified-id=\"Possessions-and-Kickoffs-3.1\"><span class=\"toc-item-num\">3.1&nbsp;&nbsp;</span>Possessions and Kickoffs</a></span><ul class=\"toc-item\"><li><span><a href=\"#Expected-Kickoff-Value\" data-toc-modified-id=\"Expected-Kickoff-Value-3.1.1\"><span class=\"toc-item-num\">3.1.1&nbsp;&nbsp;</span>Expected Kickoff Value</a></span></li><li><span><a href=\"#Expected-Possession-Value\" data-toc-modified-id=\"Expected-Possession-Value-3.1.2\"><span class=\"toc-item-num\">3.1.2&nbsp;&nbsp;</span>Expected Possession Value</a></span></li></ul></li><li><span><a href=\"#Expected-Conversion-Percentage\" data-toc-modified-id=\"Expected-Conversion-Percentage-3.2\"><span class=\"toc-item-num\">3.2&nbsp;&nbsp;</span>Expected Conversion Percentage</a></span><ul class=\"toc-item\"><li><span><a href=\"#Conversion-Percentages\" data-toc-modified-id=\"Conversion-Percentages-3.2.1\"><span class=\"toc-item-num\">3.2.1&nbsp;&nbsp;</span>Conversion Percentages</a></span></li></ul></li><li><span><a href=\"#Net-Punt-Distance\" data-toc-modified-id=\"Net-Punt-Distance-3.3\"><span class=\"toc-item-num\">3.3&nbsp;&nbsp;</span>Net Punt Distance</a></span></li><li><span><a href=\"#Expected-Field-Goal-Probability\" data-toc-modified-id=\"Expected-Field-Goal-Probability-3.4\"><span class=\"toc-item-num\">3.4&nbsp;&nbsp;</span>Expected Field Goal Probability</a></span></li><li><span><a href=\"#Extracting-Model-Values\" data-toc-modified-id=\"Extracting-Model-Values-3.5\"><span class=\"toc-item-num\">3.5&nbsp;&nbsp;</span>Extracting Model Values</a></span></li></ul></li><li><span><a href=\"#Decision-Making\" data-toc-modified-id=\"Decision-Making-4\"><span class=\"toc-item-num\">4&nbsp;&nbsp;</span>Decision Making</a></span><ul class=\"toc-item\"><li><span><a href=\"#An-Example\" data-toc-modified-id=\"An-Example-4.1\"><span class=\"toc-item-num\">4.1&nbsp;&nbsp;</span>An Example</a></span><ul class=\"toc-item\"><li><span><a href=\"#On-Your-Own:-Expected-value-of-going-for-it\" data-toc-modified-id=\"On-Your-Own:-Expected-value-of-going-for-it-4.1.1\"><span class=\"toc-item-num\">4.1.1&nbsp;&nbsp;</span>On Your Own: Expected value of going for it</a></span></li><li><span><a href=\"#On-Your-Own:-Expected-value-of-punting\" data-toc-modified-id=\"On-Your-Own:-Expected-value-of-punting-4.1.2\"><span class=\"toc-item-num\">4.1.2&nbsp;&nbsp;</span>On Your Own: Expected value of punting</a></span></li><li><span><a href=\"#On-Your-Own:-Expected-value-of-kicking\" data-toc-modified-id=\"On-Your-Own:-Expected-value-of-kicking-4.1.3\"><span class=\"toc-item-num\">4.1.3&nbsp;&nbsp;</span>On Your Own: Expected value of kicking</a></span></li><li><span><a href=\"#Decision\" data-toc-modified-id=\"Decision-4.1.4\"><span class=\"toc-item-num\">4.1.4&nbsp;&nbsp;</span>Decision</a></span></li></ul></li></ul></li><li><span><a href=\"#Visualizing-Decisions\" data-toc-modified-id=\"Visualizing-Decisions-5\"><span class=\"toc-item-num\">5&nbsp;&nbsp;</span>Visualizing Decisions</a></span><ul class=\"toc-item\"><li><span><a href=\"#4th-Down-Bot-Decisions\" data-toc-modified-id=\"4th-Down-Bot-Decisions-5.1\"><span class=\"toc-item-num\">5.1&nbsp;&nbsp;</span>4th Down Bot Decisions</a></span></li><li><span><a href=\"#Second-Choices\" data-toc-modified-id=\"Second-Choices-5.2\"><span class=\"toc-item-num\">5.2&nbsp;&nbsp;</span>Second Choices</a></span></li><li><span><a href=\"#Expected-Values\" data-toc-modified-id=\"Expected-Values-5.3\"><span class=\"toc-item-num\">5.3&nbsp;&nbsp;</span>Expected Values</a></span></li><li><span><a href=\"#Expected-Value-over-Second-Choice\" data-toc-modified-id=\"Expected-Value-over-Second-Choice-5.4\"><span class=\"toc-item-num\">5.4&nbsp;&nbsp;</span>Expected Value over Second Choice</a></span></li><li><span><a href=\"#Coaches'-Choices\" data-toc-modified-id=\"Coaches'-Choices-5.5\"><span class=\"toc-item-num\">5.5&nbsp;&nbsp;</span>Coaches' Choices</a></span></li></ul></li><li><span><a href=\"#Wrap-Up\" data-toc-modified-id=\"Wrap-Up-6\"><span class=\"toc-item-num\">6&nbsp;&nbsp;</span>Wrap Up</a></span></li></ul></div>"
   ]
  },
  {
   "cell_type": "code",
   "execution_count": null,
   "metadata": {},
   "outputs": [],
   "source": [
    "import matplotlib.pyplot as plt\n",
    "plt.style.use('fivethirtyeight')\n",
    "%matplotlib inline\n",
    "\n",
    "import numpy as np\n",
    "import pandas as pd\n",
    "from datascience_helpers import *\n",
    "\n",
    "pd.set_option(\"display.max_rows\", 30)"
   ]
  },
  {
   "cell_type": "markdown",
   "metadata": {},
   "source": [
    "# 4th Down Bot\n",
    "\n",
    "The NYT 4th Down Bot uses NFL play-by-play data to make a recommendation for 4th down decisions.  The current model behind the 4th Down Bot estimates the win probability given a state of the game.  We will do a recreation of the original 4th Down Bot model from Brian Burke (now of ESPN, formerly of Advanced Football Analytics).\n",
    "\n",
    "The basic premise of the model is to maximize the expected value of the 4th down decision. To do this, we will use NFL play-by-play data to estimate quantities related to the value of a location on the field, punt distance, likelihood of converting a first down, and likelihood of making a field goal.  This notebook builds a replica of the bot.\n",
    "\n",
    "+ The NYT 4th Down Bot can be found here: http://nyt4thdownbot.com/ \n",
    "+ The model: http://www.advancedfootballanalytics.com/index.php/home/research/game-strategy/120-4th-down-study\n",
    "+ Coverage: http://www.nytimes.com/newsgraphics/2013/11/28/fourth-downs/post.html\n",
    "+ More coverage: https://www.nytimes.com/2015/10/02/upshot/a-better-4th-down-bot-giving-analysis-before-the-play.html\n",
    "+ Slides on the construction of the new model: http://slides.com/treycausey/4thdownbot#/\n",
    "+ The new model on GitHub: https://github.com/TheUpshot/4thdownbot-model\n",
    "+ Berkeley's own David Romer on 4th down decisions: https://eml.berkeley.edu/~dromer/papers/JPE_April06.pdf"
   ]
  },
  {
   "cell_type": "markdown",
   "metadata": {},
   "source": [
    "## The Model\n",
    "\n",
    "Our goal will be to maximize the expected value of the decision to go for it, punt, or kick a field goal.  This means we need to compute the following four quantities:\n",
    "\n",
    "1. **Expected Possession Value (EPV):** The value, in points, of a first down at any location on the field.  Kickoffs will also require an expected value.\n",
    "2. **Probability of making a 4th down conversion:** Probability of conversion given a location on the field, eg. how likely a team is to make a 4th and 3 conversion from the opponent 47 yard line.  We can use this with EPV to quantify the expected value of going for the first down.\n",
    "3. **Expected net punt distance:** Net punt distance given a location on the field.  Coupled with EPV, this quantifies the expected value of punting.\n",
    "4. **Field Goal Probability:** Probability of making a field goal from a given distance, eg. how likely it is to make a 45 yard field goal.  Combined with the EPV for field location and kickoffs, we can compute an expected value of kicking the field goal by estimating the likelihood and expected value of a miss or a make.\n",
    " \n",
    "These 4 quantities can be combined to produce expected value of going for the first down, punting, or kicking the field goal.  Our decision rule will be to choose the option that maximizes expected value.  The model we will build is a baseline \"average\" model that can be used as a starting point before factoring in issues like quality of field goal kicker, offense or defense quality, or weather.\n",
    "\n",
    "More details on the individual computations for the three expected value quantities is below."
   ]
  },
  {
   "cell_type": "markdown",
   "metadata": {},
   "source": [
    "## Load the NFL PxP Data\n",
    "\n",
    "NFL play-by-play data is available in csv format.  The required data for building the model has already been computed.  See the companion notebooks if you want to know more about how the data was handled to aid this assignment. \n",
    "\n",
    "Below is a partial list of the available columns in the full play-by-play dataset.  Many are self explanatory so when needed, a description will be given.  These are the main columns that get used to put together a data analysis.  There are many more fields available that are not used.\n",
    "+ GameID\n",
    "+ Drive - index given the # of the drive within the game\n",
    "+ qtr\n",
    "+ down\n",
    "+ yrdline100 - the yard line expressed on a scale of 1 to 99 instead of 1 to 50 and back to 1.\n",
    "+ ydstogo - yards to go for a first down\n",
    "+ Yards.Gained - yards gained on the play\n",
    "+ posteam - possessing team\n",
    "+ DefensiveTeam - defensive team\n",
    "+ PlayType - label for what type of play\n",
    "+ Touchdown - 0,1 indicating if a TD was scored\n",
    "+ FieldGoalResult - label indicating good, blocked, or no good.\n",
    "+ FieldGoalDistance\n",
    "+ PosTeamScore - Score of the possessing team.  This will flip when the possession flips.\n",
    "+ DefTeamScore - Score of the defensive team.  This will flip when the possession flips.\n",
    "+ HomeTeam\n",
    "+ AwayTeam\n",
    "\n",
    "\n",
    "A few convenient data fields are added to easy computation of possession value.\n",
    "\n",
    "+ half\n",
    "+ yrdregion - region of the field: Inside the 10, 10 to 20, and beyond 20.\n",
    "+ HomeScore & AwayScore - The score of the possession and defensive teams are given.  This changes as the ball changes possession\n",
    "+ nextposteam - The team possessing the ball in the next play. Non-plays are ignored\n",
    "+ nextyrdline100 - Where the ball is on the next play. Non-plays are ignored\n",
    "+ nextdown - The down for the next play\n",
    "+ 1stdownconversion - Whether the current play converted a first down (0 or 1 value)"
   ]
  },
  {
   "cell_type": "code",
   "execution_count": null,
   "metadata": {},
   "outputs": [],
   "source": [
    "pxp = pd.read_csv('data/nfl_pxp_2009_2016.csv.gz', nrows=15)\n",
    "pxp"
   ]
  },
  {
   "cell_type": "markdown",
   "metadata": {},
   "source": [
    "### Kickoffs and Possession Starts\n",
    "\n",
    "From the full play-by-play, we need kickoffs and possession starts in order to build a possession value calculator.  To do that, this process was used:\n",
    "1. **Extract kickoffs by using PlayType.**\n",
    "2. **Extract possession starts**  Drill down by GameID and Drive # (ignoring kickoffs) and take the first play of the drive.  We need to ignore kickoffs and extra points because those can both appear as the first play of a drive.  This will pollute our results if we do not ignore them.\n",
    "    \n",
    "3. **Find the next score in the game for each possession.**  This is the hardest computation.  We do this by computing differences in the home and away scores and then fill those backward.  We treat home scores as positive and away scores as negative.  We only consider possession value within a half.  So if there is no score before halftime or the end of the game, the value is 0.   Here is a toy example:\n",
    "    \n",
    "| Drive | Team | Poss Score | Next Score |\n",
    "| ----- | ---- | ---------- | ---------- |\n",
    "| 1     | Pit  | 0          |   Pit +7   |\n",
    "| 2     | NYJ  | 0          |   Pit +7   |\n",
    "| 3     | Pit  | 7          |   Pit +7   |\n",
    "| 4     | NYJ  | 3          |   NYJ +3   |\n",
    "\n",
    "4. **Compute possession value.**  We multiply the next score value by +1 or -1 depending on if the current possessing team is the home team or away team.  If its the home team, then multiply by +1 because the next score is already oriented to the home team.  If its the away team, then multiply by -1 because a positive next score is a negative for the away team.\n",
    "5. **Restrict possessions to the first and third quarter.**\n",
    "\n",
    "Some caveats:\n",
    "+ The dataset used is not perfect so while we expect this procedure to work a vast majority of the time, it may miss some results because of holes in the dataset.  It is unlikely this affects the analysis too much.\n",
    "+ While we restricted to first and third quarters, we did not restrict cases when there is a blowout.  Competitive games lead to more reliable results so this is probably the first issue to address going forward.\n",
    "\n",
    "The kickoff and possession data can be loaded in `possessions.csv`."
   ]
  },
  {
   "cell_type": "code",
   "execution_count": null,
   "metadata": {},
   "outputs": [],
   "source": [
    "poss = pd.read_csv('data/possessions.csv')\n",
    "poss.head()"
   ]
  },
  {
   "cell_type": "markdown",
   "metadata": {},
   "source": [
    "**Questions**\n",
    "\n",
    "1. Why do we want to only use data from the first and third quarters?  \n",
    "2. We didn't restrict to non-blowouts situations but how would removing blowouts help clean up the analysis?  \n",
    "3. What's the overarching premise of removing certain observations from a dataset?\n",
    "\n",
    "**Answers**"
   ]
  },
  {
   "cell_type": "markdown",
   "metadata": {},
   "source": [
    "### Punts\n",
    "\n",
    "We need net punt distance.  Extracting punts from the full play-by-play is easy (there's a playtype flag).  Determining net punt distance is tricky.  A few things can happen on a punt: \n",
    "+ It goes off as expected\n",
    "+ Returned for a touchdown\n",
    "+ Muffed\n",
    "+ Fumbled\n",
    "+ Blocked.  \n",
    "\n",
    "There may be even more wrinkles.  Suffice to say, this is a bit complicated.  To simplify things, we just want to know the expected net punt distance for punts that are not returned, muffed, fumbled, blocked, or anything else.  \n",
    "\n",
    "We compute net punt distance by finding regular punts and determining the field position change."
   ]
  },
  {
   "cell_type": "code",
   "execution_count": null,
   "metadata": {},
   "outputs": [],
   "source": [
    "punts = pd.read_csv('data/punts.csv')\n",
    "punts.head()"
   ]
  },
  {
   "cell_type": "markdown",
   "metadata": {},
   "source": [
    "**Question**\n",
    "\n",
    "1. Why is it okay to simplify things?  For your information, in 2017 NFL teams averages 1 punt return TD per 100 punt return attempts.  By about how many points in expectation does ignoring punt return TDs change the result?\n",
    "\n",
    "**Answer**"
   ]
  },
  {
   "cell_type": "markdown",
   "metadata": {},
   "source": [
    "### Field Goals\n",
    "\n",
    "For field goal results, we just need FieldGoalDistance and FieldGoalResult and then to compute a 0-1 value representing the success.  This is straightforward."
   ]
  },
  {
   "cell_type": "code",
   "execution_count": null,
   "metadata": {},
   "outputs": [],
   "source": [
    "fgs = pd.read_csv('data/fgs.csv')\n",
    "fgs.head()"
   ]
  },
  {
   "cell_type": "markdown",
   "metadata": {},
   "source": [
    "### Third Downs\n",
    "\n",
    "In the dataset, various non-relevant plays can occur on third down.  We need to ignore these.  Also, we can likely safely assume that beyond 9 yards we do not need to consider going for it."
   ]
  },
  {
   "cell_type": "code",
   "execution_count": null,
   "metadata": {},
   "outputs": [],
   "source": [
    "third_downs = pd.read_csv('data/third_downs.csv')\n",
    "third_downs.head()"
   ]
  },
  {
   "cell_type": "markdown",
   "metadata": {},
   "source": [
    "**Question**\n",
    "\n",
    "1. We are going to use third down conversion percentage as a proxy for 4th down conversion percentage.  Why does it make sense to approximate the conversion percentage using 3rd down data?\n",
    "\n",
    "**Answer**"
   ]
  },
  {
   "cell_type": "markdown",
   "metadata": {},
   "source": [
    "## Expected Value Models\n",
    "\n",
    "### Possessions and Kickoffs\n",
    "\n",
    "#### Expected Kickoff Value\n",
    "\n",
    "In the dataset, the return team is considered the possessing team.  So computing the average value represents the expected value to the return team.\n",
    "\n",
    "After this, `ekv` contains our model for Expected Kickoff Value."
   ]
  },
  {
   "cell_type": "code",
   "execution_count": null,
   "metadata": {},
   "outputs": [],
   "source": [
    "# Restrict to kickoff events\n",
    "ko = poss['PlayType'] == 'Kickoff'\n",
    "# Compute the average kickoff value\n",
    "ekv = poss.loc[ko]['PossessionValue'].mean()\n",
    "print(f\"Expected Kickoff Value: {ekv:.3f} pts\")"
   ]
  },
  {
   "cell_type": "markdown",
   "metadata": {},
   "source": [
    "#### Expected Possession Value \n",
    "\n",
    "We group by each yard line, excluding kickoffs, and compute the average possession value.\n",
    "\n",
    "The plot below shows the results of our estimation.  We clearly see a strong relationship between the Raw Expected Possession Value but the noise in the estimation is apparent.  The expected value should be \"smooth\" and increasing as you get closer and not fluctuating so much."
   ]
  },
  {
   "cell_type": "code",
   "execution_count": null,
   "metadata": {},
   "outputs": [],
   "source": [
    "# 1. Ignore kickoffs\n",
    "# 2. Group by yardline \n",
    "# 3. Take the average of PossessionValue\n",
    "raw_poss_epv = poss.loc[~ko].\\\n",
    "    groupby('yrdline100')['PossessionValue'].\\\n",
    "    mean()"
   ]
  },
  {
   "cell_type": "code",
   "execution_count": null,
   "metadata": {},
   "outputs": [],
   "source": [
    "ax = raw_poss_epv.plot(linestyle='', marker='.')\n",
    "ax.grid(True)"
   ]
  },
  {
   "cell_type": "markdown",
   "metadata": {},
   "source": [
    "##### Model\n",
    "\n",
    "We can run a simple regression of the raw value on the yard line to produce a \"smoothed\" estimate of the Expected Possession Value.\n",
    "\n",
    "After this, `epv_model` contains our model for Expected Possession Value for a location on the field."
   ]
  },
  {
   "cell_type": "code",
   "execution_count": null,
   "metadata": {},
   "outputs": [],
   "source": [
    "_, epv_values, _ = linear_fit(raw_poss_epv.index, raw_poss_epv.values)\n",
    "epv_model = pd.Series(data=epv_values, index=raw_poss_epv.index)\n",
    "\n",
    "ax = raw_poss_epv.plot(linestyle='', marker='.')\n",
    "epv_model.plot(ax=ax, lw=3)\n",
    "ax.grid(True)"
   ]
  },
  {
   "cell_type": "markdown",
   "metadata": {},
   "source": [
    "**Questions**\n",
    "\n",
    "1. Around the 10 yard line, the expected value is 0.  What does this mean?\n",
    "2. What is the significance of the slope of the line?  What are its units?\n",
    "3. What about the intercept of the line?  \n",
    "4. Consider two hypothetical scenarios:\n",
    " + The line goes from left to right from +6 to +5.  \n",
    " + The line goes from +6 to -6 and passes 0 at the 50 yard line.\n",
    " \n",
    "    What would you conclude about possession and scoring in these two hypothetical situations?\n",
    "\n",
    "**Answers**"
   ]
  },
  {
   "cell_type": "markdown",
   "metadata": {},
   "source": [
    "### Expected Conversion Percentage\n",
    "\n",
    "#### Conversion Percentages\n",
    "\n",
    "We each separate region on the field (inside the 10 yardline, from the 10 yardline to the 20 yardline, and beyond the 20 yardline), and compute the expected conversion percentage for each yard to go value.  We separate into regions because we have reason to believe that near the goalline, the offense is less likely to convert given less room to work with.  The data bears this out.  This change in conversion percentage can affect the expected value quantities.\n",
    "\n",
    "As with possession value, we need to smooth out the values since they should be consistent as the yards change incrementally."
   ]
  },
  {
   "cell_type": "code",
   "execution_count": null,
   "metadata": {},
   "outputs": [],
   "source": [
    "# 1. Group by region and yards to go\n",
    "# 2. Take the average success rate\n",
    "raw_conv_pct = third_downs.\\\n",
    "    groupby(['yrdregion', 'ydstogo'])['1stdownconversion'].\\\n",
    "    mean()\n",
    "raw_conv_pct"
   ]
  },
  {
   "cell_type": "code",
   "execution_count": null,
   "metadata": {},
   "outputs": [],
   "source": [
    "fig, ax = plt.subplots()\n",
    "for region in ['Inside10', '10to20', 'Beyond20']:\n",
    "    raw_conv_pct[region].plot(\n",
    "        ax=ax, linestyle=':', label='Raw Conv Pct ' + region)\n",
    "\n",
    "ax.legend(loc=1)\n",
    "ax.grid(True)\n",
    "ax.set_xlabel('yrdstogo')\n",
    "ax.set_ylabel('ConvPct');"
   ]
  },
  {
   "cell_type": "markdown",
   "metadata": {},
   "source": [
    "##### Model\n",
    "\n",
    "Unlike for EPV which uses a simple line-fit regression model, we should run a more advanced regression model called LOWESS regression.  In simple terms, it is a curve fit instead of a straight line fit.  We clearly require this since we do not want straight lines for Expected Conversion Percentage.\n",
    "\n",
    "Our final model for Expected Conversion Percentage will be in `conv_pct_model`."
   ]
  },
  {
   "cell_type": "code",
   "execution_count": null,
   "metadata": {},
   "outputs": [],
   "source": [
    "conv_pct_model = raw_conv_pct.copy()\n",
    "for region in ['Inside10', '10to20', 'Beyond20']:\n",
    "    conv_pct_region = raw_conv_pct[region]\n",
    "    fitted_vals = curve_fit(conv_pct_region.index, conv_pct_region.values)\n",
    "    conv_pct_model[region] = fitted_vals\n",
    "\n",
    "conv_pct_model"
   ]
  },
  {
   "cell_type": "code",
   "execution_count": null,
   "metadata": {},
   "outputs": [],
   "source": [
    "fig, ax = plt.subplots()\n",
    "for region in ['Inside10', '10to20', 'Beyond20']:\n",
    "    raw_conv_pct[region].plot(\n",
    "        ax=ax, ls=':', label='Raw Conv Pct ' + region)\n",
    "    conv_pct_model[region].plot(ax=ax, lw=3, label='xConvPct ' + region)\n",
    "\n",
    "ax.legend(loc=1)\n",
    "ax.grid(True)\n",
    "ax.set_ylabel('ConvPct')"
   ]
  },
  {
   "cell_type": "markdown",
   "metadata": {},
   "source": [
    "**Questions**\n",
    "\n",
    "1. What is the likely reason that it makes a difference in conversion percentage where on the field the ball is?  For example, do you think it is easier or harder to convert a third down at your own 30 yard line versus at your opponent's 7 yard line?\n",
    "2. The change in conversion percentage is about 10% between the middle of the field and inside the 10 yard line.  How large of an effect is this?\n",
    "\n",
    "**Answers**"
   ]
  },
  {
   "cell_type": "markdown",
   "metadata": {},
   "source": [
    "### Net Punt Distance\n",
    "\n",
    "To compute net punt distance, we consider all the \"successful\" punts we extracted (ie. ignoring return TDs, muffs, and fumbles, etc).  In building the punts table, we look at the current yardline and the next yardline and computed a difference (accounting for the switch in orientation of the 100 yard value) to get net punt distance.  Now we just need to average.\n",
    "\n",
    "In the plot below, we see a beautiful relationship between expected punt distance and the yardline.  As with Expected Possession Value, the expected net punt distance should be increasing as you get closer and not fluctuating as much."
   ]
  },
  {
   "cell_type": "code",
   "execution_count": null,
   "metadata": {},
   "outputs": [],
   "source": [
    "# 1. Group by yardline\n",
    "# 2. Take the average of net_punt_len (the average automatically ignores null values!)\n",
    "raw_punt_dist = punts.\\\n",
    "    groupby('yrdline100')['net_punt_dist'].\\\n",
    "    mean()\n",
    "raw_punt_dist"
   ]
  },
  {
   "cell_type": "code",
   "execution_count": null,
   "metadata": {},
   "outputs": [],
   "source": [
    "ax = raw_punt_dist.plot(linestyle='', marker='.')\n",
    "ax.set_xlim(-.3, 102.3)\n",
    "ax.set_ylim(-4, 53)\n",
    "ax.legend(loc=2)\n",
    "ax.grid(True)"
   ]
  },
  {
   "cell_type": "markdown",
   "metadata": {},
   "source": [
    "##### Model\n",
    "\n",
    "We can run our curve fit to generate a final model.  We clearly require this since we do not want a straight line for Expected Net Punt Distance.\n",
    "\n",
    "`punt_dist_model` will contain our model for Expected Net Punt Distance."
   ]
  },
  {
   "cell_type": "code",
   "execution_count": null,
   "metadata": {},
   "outputs": [],
   "source": [
    "punt_dist_values = curve_fit(raw_punt_dist.index, raw_punt_dist.values)\n",
    "# Convert to integer values\n",
    "punt_dist_values = np.round(punt_dist_values).astype(int)\n",
    "punt_dist_model = pd.Series(\n",
    "    data=punt_dist_values,\n",
    "    index=raw_punt_dist.index,\n",
    "    name='Expected Net Punt Dist'\n",
    ")\n",
    "\n",
    "ax = raw_punt_dist.plot(linestyle='', marker='.')\n",
    "punt_dist_model.plot(ax=ax, lw=3)\n",
    "ax.set_xlim(-.3, 102.3)\n",
    "ax.set_ylim(-4, 53)\n",
    "ax.legend(loc=2)\n",
    "ax.grid(True)"
   ]
  },
  {
   "cell_type": "markdown",
   "metadata": {},
   "source": [
    "**Question**\n",
    "1. How would you modify the model to account for the quality of the punter/coverage team?\n",
    "\n",
    "**Answer**"
   ]
  },
  {
   "cell_type": "markdown",
   "metadata": {},
   "source": [
    "### Expected Field Goal Probability\n",
    "\n",
    "We gather field goal results and compute the expected probability of success.\n",
    "\n",
    "Raw field goal probability is a bit noisy as we have grown accustom to seeing so far.  We fit a curve but this time we ignore data observations beyond 63 yards since they are extra noisy."
   ]
  },
  {
   "cell_type": "code",
   "execution_count": null,
   "metadata": {},
   "outputs": [],
   "source": [
    "# 1. Group by distance \n",
    "# 2. Take the average success rate\n",
    "raw_fg_prob = fgs.\\\n",
    "    groupby('FieldGoalDistance')['FieldGoalSuccess'].\\\n",
    "    mean()\n",
    "raw_fg_prob"
   ]
  },
  {
   "cell_type": "code",
   "execution_count": null,
   "metadata": {},
   "outputs": [],
   "source": [
    "ax = raw_fg_prob.plot(linestyle='', marker='.')\n",
    "ax.legend(loc=0)\n",
    "ax.grid(True)"
   ]
  },
  {
   "cell_type": "markdown",
   "metadata": {},
   "source": [
    "##### Model\n",
    "\n",
    "We can run another curve fit to get a nice estimate of field goal probability.\n",
    "\n",
    "`fg_prob_model` will contain our field goal probability model."
   ]
  },
  {
   "cell_type": "code",
   "execution_count": null,
   "metadata": {},
   "outputs": [],
   "source": [
    "fg_prob_values = curve_fit(raw_fg_prob.index, raw_fg_prob.values)\n",
    "fg_prob_model = pd.Series(data=fg_prob_values, index=raw_fg_prob.index)\n",
    "\n",
    "ax = raw_fg_prob.plot(linestyle='', marker='.')\n",
    "fg_prob_model.plot(ax=ax, lw=3)\n",
    "ax.grid(True)"
   ]
  },
  {
   "cell_type": "markdown",
   "metadata": {},
   "source": [
    "**Question**\n",
    "\n",
    "1. We are computing a baseline \"average\" model that can be used as a starting point.  Obviously the quality of the kicker and the field/weather conditions are incredibly important to kicking.  How would you adjust our model to account for these considerations?\n",
    "\n",
    "**Answer**"
   ]
  },
  {
   "cell_type": "markdown",
   "metadata": {},
   "source": [
    "### Extracting Model Values"
   ]
  },
  {
   "cell_type": "code",
   "execution_count": null,
   "metadata": {},
   "outputs": [],
   "source": [
    "# Model values can be extracted easily\n",
    "print(f\"EPV at 60 yards: {epv_model[60]:.2f}\")\n",
    "print(f\"Exp Conv Pct inside the 10 with 1 yard to go: {conv_pct_model['Inside10'][1]:.2f}\")\n",
    "print(f\"Exp Net Punt Dist from the 50: {punt_dist_model[50]:.2f}\")\n",
    "print(f\"Exp FG Pct from 45 yards: {fg_prob_model[45]:.2f}\")"
   ]
  },
  {
   "cell_type": "markdown",
   "metadata": {},
   "source": [
    "## Decision Making\n",
    "\n",
    "### An Example\n",
    "\n",
    "Let's consider an example: it's 4th and 4 from the opponent's 42 yard line (this means `yrdline100` is 42).  What are the expected values for the three choices and what choice should we make?"
   ]
  },
  {
   "cell_type": "code",
   "execution_count": null,
   "metadata": {},
   "outputs": [],
   "source": [
    "yrdline100 = 42\n",
    "region = 'Beyond20'\n",
    "ydstogo = 4"
   ]
  },
  {
   "cell_type": "markdown",
   "metadata": {},
   "source": [
    "#### On Your Own: Expected value of going for it\n",
    "1. Determine the value of a successful conversion\n",
    "    + If the yardline is the same as the yards to go, then conversion is a TD so take 7 minus the value of a kickoff.\n",
    "    + Otherwise, get the EPV of the yardline at the spot of the conversion (assume the down is converted with the smalled possible number of yards, ie. the yards to go)\n",
    "2. Determine the value of a failed conversion\n",
    "    + Take 100 minus the current yardline for the starting yardline for the opposing team\n",
    "    + Get the EPV for this starting position \n",
    "3. Compute the expected value using the conversion success probability\n",
    "    + Weight the above expected values by the conversion success probability based on the region of the field"
   ]
  },
  {
   "cell_type": "code",
   "execution_count": null,
   "metadata": {},
   "outputs": [],
   "source": []
  },
  {
   "cell_type": "markdown",
   "metadata": {},
   "source": [
    "#### On Your Own: Expected value of punting\n",
    "1. Determine the expected net punt distance.\n",
    "2. Compute the expected value of the expected yardline after the punt\n",
    "    + The expected yardline following the punt is 100 minus the current position plus the expected punt distance\n",
    "    + Get the EPV for the expected starting position"
   ]
  },
  {
   "cell_type": "code",
   "execution_count": null,
   "metadata": {},
   "outputs": [],
   "source": []
  },
  {
   "cell_type": "markdown",
   "metadata": {},
   "source": [
    "#### On Your Own: Expected value of kicking\n",
    "1. Compute the value of making the field goal: 3 minus the value of a kickoff\n",
    "2. Compute the value of missing the field goal.\n",
    "    + The starting position for the opposing team is 100 minus the yardline of the kick\n",
    "3. Compute the expected value using the field goal success probability\n",
    "    + Weight the two values by the field goal success probability"
   ]
  },
  {
   "cell_type": "code",
   "execution_count": null,
   "metadata": {},
   "outputs": [],
   "source": []
  },
  {
   "cell_type": "markdown",
   "metadata": {},
   "source": [
    "#### Decision\n",
    "\n",
    "Print out the three expected values. (To check your work, you should get .77, -0.07, and -.84 for going for it, punting, and kicking a field goal, respectively)\n",
    "\n",
    "**Questions**\n",
    "\n",
    "1. Which choice would you make?  Why?  What else would go into your decision?\n",
    "2. How much extra is the decision worth in expected points?\n",
    "\n",
    "**Answers**"
   ]
  },
  {
   "cell_type": "code",
   "execution_count": null,
   "metadata": {},
   "outputs": [],
   "source": [
    "# print(f\"EV going for it: {ev_goforit:.2f}\")\n",
    "# print(f\"EV punting:      {ev_punt:.2f}\")\n",
    "# print(f\"EV field goal:   {ev_fg:.2f}\")"
   ]
  },
  {
   "cell_type": "markdown",
   "metadata": {},
   "source": [
    "## Visualizing Decisions\n",
    "\n",
    "We can use a helper function which iterates over all the yardline and yards-to-go combinations to compute the decisions (as well as EV, alternate choices, and difference between first and second choice)."
   ]
  },
  {
   "cell_type": "code",
   "execution_count": null,
   "metadata": {},
   "outputs": [],
   "source": [
    "data = compute_4thdownbot_data(ekv, epv_model, conv_pct_model, punt_dist_model, fg_prob_model)\n",
    "\n",
    "yrdline100 = 20\n",
    "yrdstogo = 5\n",
    "print(data[yrdstogo][yrdline100])"
   ]
  },
  {
   "cell_type": "markdown",
   "metadata": {},
   "source": [
    "### 4th Down Bot Decisions\n",
    "\n",
    "A helper function helps us visualize the decision space.\n",
    "\n",
    "**Question**\n",
    "1. If we just show the best decision choices, what are we missing in terms of information?  What else would you want to know regarding making any decisions?\n",
    "\n",
    "**Answer**"
   ]
  },
  {
   "cell_type": "code",
   "execution_count": null,
   "metadata": {},
   "outputs": [],
   "source": [
    "plot_4thdown_decision(data)"
   ]
  },
  {
   "cell_type": "markdown",
   "metadata": {},
   "source": [
    "### Second Choices\n",
    "\n",
    "We can also look at the second best choices.\n",
    "\n",
    "**Question**\n",
    "1. What appears to happen around the 37-38 yard line with respect to punting and kicking a field goal?"
   ]
  },
  {
   "cell_type": "code",
   "execution_count": null,
   "metadata": {
    "code_folding": []
   },
   "outputs": [],
   "source": [
    "plot_4thdown_second_choices(data)"
   ]
  },
  {
   "cell_type": "markdown",
   "metadata": {},
   "source": [
    "### Expected Values\n",
    "\n",
    "It would be useful to know how many points we expect when making our decision."
   ]
  },
  {
   "cell_type": "code",
   "execution_count": null,
   "metadata": {},
   "outputs": [],
   "source": [
    "plot_4thdown_evs(data)"
   ]
  },
  {
   "cell_type": "markdown",
   "metadata": {},
   "source": [
    "### Expected Value over Second Choice\n",
    "\n",
    "Even more useful would be to know how many more points our top choice is worth relative to the next best choice.\n",
    "**Question**\n",
    "1. What is the significance of the bright yellow region around the 38 yard line?  What is it telling us about punting or kicking a field goal relative to trying to hold onto possession?\n",
    "2. There is a huge region over which the 4th Down Bot says to go for it.  Does the increase in expected value from going for it seem particularly large over most of that region?"
   ]
  },
  {
   "cell_type": "code",
   "execution_count": null,
   "metadata": {},
   "outputs": [],
   "source": [
    "plot_4thdown_ev_over_second(data)"
   ]
  },
  {
   "cell_type": "markdown",
   "metadata": {},
   "source": [
    "### Coaches' Choices\n",
    "\n",
    "![coaches_decisions](coach_decisions.png \"Coaches Decisions\")"
   ]
  },
  {
   "cell_type": "markdown",
   "metadata": {},
   "source": [
    "Compare the 4th Down Bot's decisions with the actual coaches decisions (courtesy of the NYT).  \n",
    "\n",
    "**Question**\n",
    "1. How does the previous plot showing the expected value over the second choice compare to the coaches' choices?"
   ]
  },
  {
   "cell_type": "markdown",
   "metadata": {},
   "source": [
    "## Wrap Up\n",
    "\n",
    "This notebook went over step by step how to piece together components using historical NFL play-by-play data to build a decision making 4th Down Bot.  The expected value analysis is very useful for beginning to think in a data-driven way.  Wrapping up, we finish with some general questions about expected value analysis and some considerations we might want to make.\n",
    "\n",
    "In finance, there is a concept called _risk premium_ which refers to how much more return we demand for taking a riskier asset compared to a less risky asset.  That is, just because an asset has higher return, we will not necessarily take it due to the potential increase in risk.\n",
    "\n",
    "Here's a simple example:  consider a game show where you may choose one of two doors which are hiding \\$1,000 and \\$0. Suppose I offer you \\$500 instead of choosing a door.  Would you take the \\$500 or choose a door?\n",
    "\n",
    "The risk in this situation is the uncertainty of the payout and the possibility of ending up with \\$0.  If you are unconcerned with risk, you view those options as equivalent.  If you are risk averse, you will opt for the \\$500.  And if you are risk loving (ie. you derive utility or joy or something from taking risk) you will gamble on a door.\n",
    "\n",
    "There is an amount called the _certainty equivalent_ where you would view that amount as equal to the gamble.  Since the expected value of the gamble is \\$500, if you are risk averse the certainty equivalent is less than \\$500.  It is the point at which below that amount you'd prefer the gamble and above that amount you'd prefer the certain payout.\n",
    "\n",
    "The difference between the certainty equivalent and the expected value of the gamble would be the risk premium.\n",
    "\n",
    "The game show Deal or No Deal is an example of offering certainty amounts against gambles on large payouts.\n",
    "\n",
    "Returning to football and 4th down decisions, maximizing expected value tells us to go for it even deep in our own territory when its 4th and short.  Even from our own 10 yard line. Some numbers for 4th and 1 from your own 10 yard line:\n",
    "+ The expected value after conversion is about -0.06 points\n",
    "+ The expected value after a failed conversion is -5.14 points\n",
    "+ The conversion percentage is 70% so the overall expected value of going for it is -1.6\n",
    "+ The expected value from punting is -2.30, .7 points lower than going for it.\n",
    "+ If we only achive 75% of the net punt distance we expect, then punting drops to -2.9 points"
   ]
  },
  {
   "cell_type": "markdown",
   "metadata": {},
   "source": [
    "**Questions**\n",
    "1. How does punting represent a \"certain\" choice (or at least a less risky choice)?  \n",
    "2. How does maximizing expected value ignore risk?\n",
    "3. The evidence from the NYT suggests that coaches are risk averse and the risk of going for it is not adequately compensated in the increase in expected points.  Do you think coaches have a static risk aversion?  That is, from the start of the game to the end, do they have the same aversion to risk or does it vary as the game plays out?  \n",
    "4. Does maximizing expected points make sense throughout the game?  What about at the end of the game?\n",
    "4. One possible alternative is to build a model for win probability given a game state (the new NYT 4th Down Bot model does this) and make decisions that maximize win probability instead.  We saw something like this for bunting and stolen bases.  How would risk aversion still play a role in this model?  Think of the classic Belichick choice against the Colts: go for it on 4th and short in your own territory at the end. [See here](https://fifthdown.blogs.nytimes.com/2009/11/16/defending-belichicks-fourth-down-decision/)\n",
    "\n",
    "    Here are some toy numbers.  Say it's 50-50 whether you make the conversion.  If you do, 100% win probability.  If you don't, you turn it over to Peyton Manning in his prime and now have a 20% win probability.  If you punt, you give the ball to Manning and its 60-40 in your favor.  Overall you have 60% win probability in each case.  How does your risk aversion feel about this choice?  Does the fact that I'm quoting win probability instead of points make it any better?\n",
    "    \n",
    "**Answers**"
   ]
  }
 ],
 "metadata": {
  "hide_input": false,
  "kernelspec": {
   "display_name": "Python 3",
   "language": "python",
   "name": "python3"
  },
  "language_info": {
   "codemirror_mode": {
    "name": "ipython",
    "version": 3
   },
   "file_extension": ".py",
   "mimetype": "text/x-python",
   "name": "python",
   "nbconvert_exporter": "python",
   "pygments_lexer": "ipython3",
   "version": "3.6.1"
  },
  "toc": {
   "nav_menu": {},
   "number_sections": true,
   "sideBar": true,
   "skip_h1_title": true,
   "title_cell": "Table of Contents",
   "title_sidebar": "Contents",
   "toc_cell": true,
   "toc_position": {},
   "toc_section_display": true,
   "toc_window_display": false
  },
  "varInspector": {
   "cols": {
    "lenName": 16,
    "lenType": 16,
    "lenVar": 40
   },
   "kernels_config": {
    "python": {
     "delete_cmd_postfix": "",
     "delete_cmd_prefix": "del ",
     "library": "var_list.py",
     "varRefreshCmd": "print(var_dic_list())"
    },
    "r": {
     "delete_cmd_postfix": ") ",
     "delete_cmd_prefix": "rm(",
     "library": "var_list.r",
     "varRefreshCmd": "cat(var_dic_list()) "
    }
   },
   "types_to_exclude": [
    "module",
    "function",
    "builtin_function_or_method",
    "instance",
    "_Feature"
   ],
   "window_display": false
  }
 },
 "nbformat": 4,
 "nbformat_minor": 2
}
