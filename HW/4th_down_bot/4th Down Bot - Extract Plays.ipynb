{
 "cells": [
  {
   "cell_type": "markdown",
   "metadata": {
    "toc": true
   },
   "source": [
    "<h1>Table of Contents<span class=\"tocSkip\"></span></h1>\n",
    "<div class=\"toc\"><ul class=\"toc-item\"><li><span><a href=\"#NFL-PxP-Data\" data-toc-modified-id=\"NFL-PxP-Data-1\"><span class=\"toc-item-num\">1&nbsp;&nbsp;</span>NFL PxP Data</a></span><ul class=\"toc-item\"><li><span><a href=\"#Extract-Kickoffs-and-Possession-Starts\" data-toc-modified-id=\"Extract-Kickoffs-and-Possession-Starts-1.1\"><span class=\"toc-item-num\">1.1&nbsp;&nbsp;</span>Extract Kickoffs and Possession Starts</a></span></li><li><span><a href=\"#Extract-Punts\" data-toc-modified-id=\"Extract-Punts-1.2\"><span class=\"toc-item-num\">1.2&nbsp;&nbsp;</span>Extract Punts</a></span></li><li><span><a href=\"#Extract-Field-Goals\" data-toc-modified-id=\"Extract-Field-Goals-1.3\"><span class=\"toc-item-num\">1.3&nbsp;&nbsp;</span>Extract Field Goals</a></span></li><li><span><a href=\"#Extract-Third-Downs\" data-toc-modified-id=\"Extract-Third-Downs-1.4\"><span class=\"toc-item-num\">1.4&nbsp;&nbsp;</span>Extract Third Downs</a></span></li></ul></li></ul></div>"
   ]
  },
  {
   "cell_type": "code",
   "execution_count": null,
   "metadata": {},
   "outputs": [],
   "source": [
    "import numpy as np\n",
    "import pandas as pd"
   ]
  },
  {
   "cell_type": "markdown",
   "metadata": {},
   "source": [
    "# Extracting Plays\n",
    "\n",
    "This notebook is an optional companion to the homework and shows how the play-by-play data was handled to extract the necessary components for modeling 4th downs."
   ]
  },
  {
   "cell_type": "markdown",
   "metadata": {},
   "source": [
    "## NFL PxP Data\n",
    "\n",
    "NFL play-by-play data is loaded from csv format.  \n",
    "\n",
    "Below is a list of avaible columns we will use.  Many are self explanatory so when needed, a description will be given.  Note, there are many more fields available that we will not use.\n",
    "+ GameID\n",
    "+ Drive - index given the # of the drive within the game\n",
    "+ qtr\n",
    "+ down\n",
    "+ yrdline100 - the yard line expressed on a scale of 1 to 99 instead of 1 to 50 and back to 1.\n",
    "+ ydstogo - yards to go for a first down\n",
    "+ Yards.Gained - yards gained on the play\n",
    "+ posteam - possessing team\n",
    "+ DefensiveTeam - defensive team\n",
    "+ ~~desc - play description~~  <-- Had to drop this due to memory problems\n",
    "+ PlayType - label for what type of play\n",
    "+ Touchdown - 0,1 indicating if a TD was scored\n",
    "+ FieldGoalResult - label indicating good, blocked, or no good.\n",
    "+ FieldGoalDistance\n",
    "+ PosTeamScore - Score of the possessing team.  This will flip when the possession flips.\n",
    "+ DefTeamScore - Score of the defensive team.  This will flip when the possession flips.\n",
    "+ HomeTeam\n",
    "+ AwayTeam\n",
    "\n",
    "\n",
    "A few convenient data fields are added to easy computation of possession value.\n",
    "\n",
    "+ half\n",
    "+ yrdregion - region of the field: Inside the 10, 10 to 20, and beyond 20.\n",
    "+ HomeScore & AwayScore - The score of the possession and defensive teams are given.  This changes as the ball changes possession\n",
    "+ nextposteam - The team possessing the ball in the next play. Non-plays are ignored\n",
    "+ nextyrdline100 - Where the ball is on the next play. Non-plays are ignored\n",
    "+ nextdown - The down for the next play\n",
    "+ 1stdownconversion - Whether the current play converted a first down (0 or 1 value)"
   ]
  },
  {
   "cell_type": "code",
   "execution_count": null,
   "metadata": {},
   "outputs": [],
   "source": [
    "pxp = pd.read_csv('data/nfl_pxp_2009_2016.csv.gz')"
   ]
  },
  {
   "cell_type": "code",
   "execution_count": null,
   "metadata": {},
   "outputs": [],
   "source": [
    "pxp.head()"
   ]
  },
  {
   "cell_type": "markdown",
   "metadata": {},
   "source": [
    "### Extract Kickoffs and Possession Starts\n",
    "\n",
    "We need to extract kickoffs and possession starts in order to build a possession value calculator.  To do that, we follow this process:\n",
    "1. **Extract kickoffs by using PlayType.**\n",
    "2. **Extract possession starts**  Drill down by GameID and Drive # (ignoring kickoffs) and take the first play of the drive.  We need to ignore kickoffs and extra points because those can both appear as the first play of a drive.  This will pollute our results if we do not ignore them.\n",
    "    \n",
    "3. **Find the next score in the game for each possession.**  This is the hardest computation.  We do this by computing differences in the home and away scores and then fill those backward.  We treat home scores as positive and away scores as negative.  We only consider possession value within a half.  So if there is no score before halftime or the end of the game, the value is 0.\n",
    "\n",
    "4. **Compute possession value.**  We multiply the next score value by +1 or -1 depending on if the current possessing team is the home team or away team.  If its the home team, then multiply by +1 because the next score is already oriented to the home team.  If its the away team, then multiply by -1 because a positive next score is a negative for the away team.\n",
    "5. **Restrict possessions to the first and third quarter.**  We want to avoid end of half/game effects like settling for points at the end of the first half or playing to win at the end of the game.\n",
    "\n",
    "Some caveats:\n",
    "+ The dataset used is not perfect so while we expect this procedure to work a vast majority of the time, it may miss some results because of holes in the dataset.  It is unlikely this affects the analysis too much.\n",
    "+ While we restricted to first and third quarters, we did not restrict cases when there is a blowout.  Competitive games lead to more reliable results so this is probably the first issue to address going forward."
   ]
  },
  {
   "cell_type": "code",
   "execution_count": null,
   "metadata": {},
   "outputs": [],
   "source": [
    "def extract_kickoffs_and_possessions(pxp):\n",
    "    # Step 1: extract kickoffs\n",
    "    ko_mask = pxp['PlayType'] == 'Kickoff'\n",
    "    kickoffs = pxp.loc[ko_mask]\n",
    "\n",
    "    # Step 2: extracting possessions\n",
    "    # Exclude kickoffs and XPs and groupby GameID and Drive\n",
    "    xp_mask = pxp['PlayType'] == 'Extra Point'\n",
    "    game_drives = pxp.loc[~ko_mask & ~xp_mask].groupby(['GameID', 'Drive'])\n",
    "\n",
    "    # Take first play\n",
    "    poss_starts = game_drives.head(1)\n",
    "\n",
    "    # Concatenate kickoffs and first plays, sort, and reindex\n",
    "    poss = pd.concat([kickoffs, poss_starts])\n",
    "    poss.sort_values(['GameID', 'Drive', 'down'],\n",
    "                     na_position='first', inplace=True)\n",
    "    poss.reset_index(drop=True, inplace=True)\n",
    "\n",
    "    # Step 3: Find the next score\n",
    "    # Group by game halves\n",
    "    game_halves = poss.groupby(['GameID', 'half'])\n",
    "    # Compute changes in the scores.  + for Home and - for Away.\n",
    "    score_change = game_halves['AwayScore'].diff(-1) - \\\n",
    "        game_halves['HomeScore'].diff(-1)\n",
    "    # Backfill the score change so that each possession now has a value for next score in the game\n",
    "    next_score = score_change.replace(to_replace=0., method='bfill').fillna(0)\n",
    "    poss['NextScore'] = next_score\n",
    "\n",
    "    # Step 4: Compute possession value\n",
    "    # Determine if the possessing team is home or away\n",
    "    posteam = poss['posteam']\n",
    "    hometeam = poss['HomeTeam']\n",
    "    awayteam = poss['AwayTeam']\n",
    "    posteam_is_home = np.where(posteam == hometeam, 1, 0)\n",
    "    posteam_is_away = np.where(posteam == awayteam, 1, 0)\n",
    "    # NextScore is unchanged if posteam == hometeam and negated if posteam == awayteam\n",
    "    poss['PossessionValue'] = poss['NextScore'] * \\\n",
    "        (posteam_is_home - posteam_is_away)\n",
    "\n",
    "    # Step 5: Retrict to first and third quarters\n",
    "    first_and_third_qtr = (poss['qtr'] == 1) | (poss['qtr'] == 3)\n",
    "    poss = poss.loc[first_and_third_qtr].copy()\n",
    "\n",
    "    cols = ['GameID', 'HomeTeam', 'AwayTeam', 'Drive', 'half', 'qtr', 'down',  'posteam',\n",
    "            'yrdline100', 'yrdregion', 'PlayType', 'NextScore', 'PossessionValue']\n",
    "    poss = poss[cols]\n",
    "    poss.reset_index(drop=True, inplace=True)\n",
    "    return poss"
   ]
  },
  {
   "cell_type": "code",
   "execution_count": null,
   "metadata": {},
   "outputs": [],
   "source": [
    "poss = extract_kickoffs_and_possessions(pxp)\n",
    "poss.to_csv('data/possessions.csv', index=False)\n",
    "poss.head(20)"
   ]
  },
  {
   "cell_type": "markdown",
   "metadata": {},
   "source": [
    "### Extract Punts\n",
    "\n",
    "We need to extract net punt distance.  Extracing punts is easy.  Determining net punt distance is tricky.  A few things can happen on a punt: \n",
    "+ It goes off as expected\n",
    "+ Returned for a touchdown\n",
    "+ Muffed\n",
    "+ Fumbled\n",
    "+ Blocked.  \n",
    "\n",
    "There may be even more wrinkles.  Suffice to say, this is a bit complicated.  To simplify things, we just want to know the expected net punt distance for punts that are not returned, muffed, fumbled, blocked, or anything else.  \n",
    "\n",
    "Why is it okay to simplify things?  Those complicating events do not happen often enough to materially affect the computation and just add a nuisance to the whole model.  Consider a return TD worth about 7 points.  If a return TD happens every 100 punts, then its worth about 0.01 points in expectation.  Not really a huge amount.\n",
    "\n",
    "We compute net punt distance by finding regular punts and determining the field position change."
   ]
  },
  {
   "cell_type": "code",
   "execution_count": null,
   "metadata": {},
   "outputs": [],
   "source": [
    "def extract_punts(pxp):\n",
    "    # Build table of punts    \n",
    "    punt_mask = pxp['PlayType'] == 'Punt'\n",
    "    punts = pxp.loc[punt_mask].copy()\n",
    "    punts.reset_index(drop=True, inplace=True)\n",
    "\n",
    "    # Determine if there was a possession change, ie. the punt went off as expected.\n",
    "    # This excludes muffs or fumbled returns.  It also exludes return TDs and probably\n",
    "    # some other cases.  It is likely not too bad to do this since these events are rare.\n",
    "    posteam = punts['posteam']\n",
    "    nextposteam = punts['nextposteam']\n",
    "    punts = punts.loc[(posteam != nextposteam)].copy()\n",
    "\n",
    "    # Determine the net punt distance\n",
    "    yrdline = punts['yrdline100']\n",
    "    nextyardline = punts['nextyrdline100'] \n",
    "    net_punt_dist = (yrdline - (100 - nextyardline))\n",
    "\n",
    "    # Add net punt length to punts table\n",
    "    punts['net_punt_dist'] = net_punt_dist\n",
    "\n",
    "    cols = ['GameID', 'HomeTeam', 'AwayTeam', 'Drive', 'half', 'qtr', 'down',  'posteam',\n",
    "            'yrdline100', 'yrdregion', 'PlayType', 'net_punt_dist']\n",
    "    punts = punts[cols]\n",
    "    punts.reset_index(drop=True, inplace=True)\n",
    "    return punts"
   ]
  },
  {
   "cell_type": "code",
   "execution_count": null,
   "metadata": {},
   "outputs": [],
   "source": [
    "punts = extract_punts(pxp)\n",
    "punts.to_csv('data/punts.csv', index=False)\n",
    "punts.head(10)"
   ]
  },
  {
   "cell_type": "markdown",
   "metadata": {},
   "source": [
    "### Extract Field Goals\n",
    "\n",
    "For field goal results, we just need FieldGoalDistance and FieldGoalResult and then to compute a 0-1 value representing the success.  This is straightforward.\n",
    "\n",
    "When it comes to making 4th down decisions, the quality of the kicker and the field/weather conditions should definitely be taken into consideration.  Remember, we are computing a baseline \"average\" model that can be used as a starting point."
   ]
  },
  {
   "cell_type": "code",
   "execution_count": null,
   "metadata": {},
   "outputs": [],
   "source": [
    "def extract_fgs(pxp):\n",
    "    # Extract field goals\n",
    "    fg_mask = (pxp['PlayType'] == 'Field Goal')\n",
    "    fg_cols = ['FieldGoalDistance', 'FieldGoalResult']\n",
    "    fgs = pxp.loc[fg_mask, fg_cols]\n",
    "    # restrict to fgs less than or equal to 63 yards\n",
    "    fgs = fgs.loc[fgs['FieldGoalDistance'] <= 63.].copy()\n",
    "    # Compute success flag\n",
    "    fgs['FieldGoalSuccess'] = np.where(fgs['FieldGoalResult'] == 'Good', 1, 0)\n",
    "    \n",
    "    fgs.reset_index(drop=True, inplace=True)\n",
    "    return fgs"
   ]
  },
  {
   "cell_type": "code",
   "execution_count": null,
   "metadata": {},
   "outputs": [],
   "source": [
    "fgs = extract_fgs(pxp)\n",
    "fgs.to_csv('data/fgs.csv', index=False)\n",
    "fgs.head(20)"
   ]
  },
  {
   "cell_type": "markdown",
   "metadata": {},
   "source": [
    "### Extract Third Downs\n",
    "\n",
    "First, why third downs?  Since most teams do not go for it on fourth down, we need a proxy for the likelihood of converting the first down.  Since third downs are generally considered make-or-break, we opt to substitute performance on third downs for fourth down.\n",
    "\n",
    "In the dataset, various non-relevant plays can occur on third down.  We need to ignore these.  Also, we can likely safely assume that beyond 9 yards we do not need to consider going for it."
   ]
  },
  {
   "cell_type": "code",
   "execution_count": null,
   "metadata": {},
   "outputs": [],
   "source": [
    "def extract_third_downs(pxp):\n",
    "    # Ignore certain set of plays\n",
    "    ignored_plays = ['Punt', 'Field Goal', 'No Play', 'QB Kneel', 'Spike']\n",
    "    ignored_plays_mask = pxp['PlayType'].isin(ignored_plays)\n",
    "    valid_plays = pxp.loc[~ignored_plays_mask]\n",
    "    # third downs\n",
    "    all_third_downs_mask = (valid_plays['down'] == 3)\n",
    "    # Restrict to less than 10 yards to go\n",
    "    under_10_to_go = (valid_plays['ydstogo'] <= 9)\n",
    "    third_down_mask = all_third_downs_mask & under_10_to_go\n",
    "    # Extract relevant plays\n",
    "    third_down_plays = valid_plays.loc[third_down_mask].copy()\n",
    "    \n",
    "    cols = ['GameID', 'HomeTeam', 'AwayTeam', 'Drive', 'half', 'qtr', 'down',  'posteam',\n",
    "            'yrdline100', 'yrdregion', 'ydstogo', 'PlayType', '1stdownconversion']\n",
    "    third_down_plays = third_down_plays[cols]\n",
    "    third_down_plays.reset_index(drop=True, inplace=True)\n",
    "    return third_down_plays"
   ]
  },
  {
   "cell_type": "code",
   "execution_count": null,
   "metadata": {},
   "outputs": [],
   "source": [
    "third_downs = extract_third_downs(pxp)\n",
    "third_downs.to_csv('data/third_downs.csv', index=False)\n",
    "third_downs.head(20)"
   ]
  }
 ],
 "metadata": {
  "hide_input": false,
  "is_executable": false,
  "kernelspec": {
   "display_name": "Python 3",
   "language": "python",
   "name": "python3"
  },
  "language_info": {
   "codemirror_mode": {
    "name": "ipython",
    "version": 3
   },
   "file_extension": ".py",
   "mimetype": "text/x-python",
   "name": "python",
   "nbconvert_exporter": "python",
   "pygments_lexer": "ipython3",
   "version": "3.6.4"
  },
  "toc": {
   "base_numbering": 1,
   "nav_menu": {},
   "number_sections": true,
   "sideBar": true,
   "skip_h1_title": true,
   "title_cell": "Table of Contents",
   "title_sidebar": "Contents",
   "toc_cell": true,
   "toc_position": {},
   "toc_section_display": true,
   "toc_window_display": false
  },
  "varInspector": {
   "cols": {
    "lenName": 16,
    "lenType": 16,
    "lenVar": 40
   },
   "kernels_config": {
    "python": {
     "delete_cmd_postfix": "",
     "delete_cmd_prefix": "del ",
     "library": "var_list.py",
     "varRefreshCmd": "print(var_dic_list())"
    },
    "r": {
     "delete_cmd_postfix": ") ",
     "delete_cmd_prefix": "rm(",
     "library": "var_list.r",
     "varRefreshCmd": "cat(var_dic_list()) "
    }
   },
   "types_to_exclude": [
    "module",
    "function",
    "builtin_function_or_method",
    "instance",
    "_Feature"
   ],
   "window_display": false
  }
 },
 "nbformat": 4,
 "nbformat_minor": 2
}
