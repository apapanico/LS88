{
 "cells": [
  {
   "cell_type": "markdown",
   "metadata": {
    "toc": true
   },
   "source": [
    "<h1>Table of Contents<span class=\"tocSkip\"></span></h1>\n",
    "<div class=\"toc\"><ul class=\"toc-item\"><li><span><a href=\"#NFL-PxP-Data\" data-toc-modified-id=\"NFL-PxP-Data-1\"><span class=\"toc-item-num\">1&nbsp;&nbsp;</span>NFL PxP Data</a></span></li><li><span><a href=\"#Processing-the-PxP-data\" data-toc-modified-id=\"Processing-the-PxP-data-2\"><span class=\"toc-item-num\">2&nbsp;&nbsp;</span>Processing the PxP data</a></span></li><li><span><a href=\"#Save-DataFrame\" data-toc-modified-id=\"Save-DataFrame-3\"><span class=\"toc-item-num\">3&nbsp;&nbsp;</span>Save DataFrame</a></span></li></ul></div>"
   ]
  },
  {
   "cell_type": "code",
   "execution_count": null,
   "metadata": {},
   "outputs": [],
   "source": [
    "import numpy as np\n",
    "import pandas as pd"
   ]
  },
  {
   "cell_type": "markdown",
   "metadata": {},
   "source": [
    "# Handling NFL Play-by-Play\n",
    "\n",
    "This notebook is an optional companion to the homework and shows how the play-by-play data was handled to extract the necessary components for modeling 4th downs."
   ]
  },
  {
   "cell_type": "markdown",
   "metadata": {},
   "source": [
    "## NFL PxP Data\n",
    "\n",
    "\n",
    "\n",
    "NFL play-by-play data is loaded from csv format.  Originally there were larger files containing all the fields and one file for each year.  The dataset has been pared down before this notebook to save space.\n",
    "\n",
    "Below is a list of avaible columns we will use.  Many are self explanatory so when needed, a description will be given.  Note, there are many more fields available that we will not use.\n",
    "+ GameID\n",
    "+ Drive - index given the # of the drive within the game\n",
    "+ qtr\n",
    "+ down\n",
    "+ yrdline100 - the yard line expressed on a scale of 1 to 99 instead of 1 to 50 and back to 1.\n",
    "+ ydstogo - yards to go for a first down\n",
    "+ Yards.Gained - yards gained on the play\n",
    "+ posteam - possessing team\n",
    "+ DefensiveTeam - defensive team\n",
    "+ ~~desc - play description~~  <-- Had to drop this due to memory problems\n",
    "+ PlayType - label for what type of play\n",
    "+ Touchdown - 0,1 indicating if a TD was scored\n",
    "+ FieldGoalResult - label indicating good, blocked, or no good.\n",
    "+ FieldGoalDistance\n",
    "+ PosTeamScore - Score of the possessing team.  This will flip when the possession flips.\n",
    "+ DefTeamScore - Score of the defensive team.  This will flip when the possession flips.\n",
    "+ HomeTeam\n",
    "+ AwayTeam\n",
    "\n",
    "\n",
    "A few convenient data fields are added to ease computation of possession value.\n",
    "\n",
    "+ half\n",
    "+ yrdregion - region of the field: Inside the 10, 10 to 20, and beyond 20.\n",
    "+ HomeScore & AwayScore - The score of the possession and defensive teams are given.  This changes as the ball changes possession\n",
    "+ nextposteam - The team possessing the ball in the next play. Non-plays are ignored\n",
    "+ nextyrdline100 - Where the ball is on the next play. Non-plays are ignored\n",
    "+ nextdown - The down for the next play\n",
    "+ 1stdownconversion - Whether the current play converted a first down (0 or 1 value)"
   ]
  },
  {
   "cell_type": "code",
   "execution_count": null,
   "metadata": {},
   "outputs": [],
   "source": [
    "pxp = pd.read_csv(f'data/nfl_pxp_2009_2016_reduced.csv.gz')\n",
    "pxp.head(10)"
   ]
  },
  {
   "cell_type": "markdown",
   "metadata": {},
   "source": [
    "## Processing the PxP data\n",
    "\n",
    "The PxP data doesn't have everything we want so we can compute some things:\n",
    "1. We use a helper function `cut` which will cut the values of an array into bins.  An easy example of this is how we cut `qtr` to get `half`.  Another example is how we cut `yrdline100` to get regions on the field.\n",
    "2. We need to compute the home team score and the away team score.  Using `posteam`, `DefensiveTeam`, `PosTeamScore`, `DefTeamScore`, `HomeTeam`, and `AwayTeam`, we can piece these values together with some simple logic.  For some reason certain events leave null values in the dataset so we fill those values in using a helper function `fill_null`.  We forward fill the score values since one of these events doesn't lead to score changes.\n",
    "3. We compute `nextposteam`, `nextyrdline100`, `nextdown`, and `1stdownconversion`.  This basically tracks the result the current play to find where things stand at the end of the play.  This is a rather involved part that is not possible with the `datascience` package.  For details, see the code comments."
   ]
  },
  {
   "cell_type": "code",
   "execution_count": null,
   "metadata": {},
   "outputs": [],
   "source": [
    "def process_pxp(pxp):\n",
    "    # Step 1\n",
    "    # Compute half.  For OT, use half = 3.\n",
    "    pxp['half'] = pd.cut(\n",
    "        pxp['qtr'], [1, 2, 4, 5], labels=[1, 2, 3], include_lowest=True)\n",
    "\n",
    "    # Compute field region\n",
    "    pxp['yrdregion'] = pd.cut(\n",
    "        pxp['yrdline100'], [0., 9., 20., 100.], labels=['Inside10', '10to20', 'Beyond20'])\n",
    "    \n",
    "    # Step 2\n",
    "    # Convert PosTeamScore/DefTeamScore to HomeScore/AwayScore\n",
    "    pos_is_home = np.where(pxp['HomeTeam'] == pxp['posteam'], 1, 0)\n",
    "    def_is_home = np.where(pxp['HomeTeam'] == pxp['DefensiveTeam'], 1, 0)\n",
    "    pos_is_away = np.where(pxp['AwayTeam'] == pxp['posteam'], 1, 0)\n",
    "    def_is_away = np.where(pxp['AwayTeam'] == pxp['DefensiveTeam'], 1, 0)\n",
    "\n",
    "    pxp['HomeScore'] = pos_is_home * pxp['PosTeamScore'] + \\\n",
    "        def_is_home * pxp['DefTeamScore']\n",
    "    pxp['HomeScore'].fillna(method='ffill', inplace=True)\n",
    "    pxp['AwayScore'] = pos_is_away * pxp['PosTeamScore'] + \\\n",
    "        def_is_away * pxp['DefTeamScore']\n",
    "    pxp['AwayScore'].fillna(method='ffill', inplace=True)\n",
    "\n",
    "    # Step 3\n",
    "    # Compute nextposteam, nextyrdline100, nextdown, and 1stdownconversion.  \n",
    "    # Must be within a game and a half since possession doesn't carry between \n",
    "    # halves and obviously not between games.\n",
    "    # Non-relevant plays are ignored so that computations aren't mangled.\n",
    "\n",
    "    # Group by game halves\n",
    "    game_halves = pxp.groupby(['GameID', 'half'])\n",
    "    \n",
    "    for col in ['posteam', 'yrdline100', 'down']:\n",
    "        next_col = 'next' + col\n",
    "        # Within a game half, shift the values for the column backward so that \n",
    "        # the n+1st entry becomes the nth entry\n",
    "        next_col_vals = game_halves[col].shift(-1)\n",
    "        # Plays we want to ignore\n",
    "        next_col_vals.fillna(method='bfill', inplace=True)\n",
    "        # add the new column to the table\n",
    "        pxp[next_col] = next_col_vals\n",
    "\n",
    "    mask = (pxp['nextdown'] == 1.) | (pxp['ydstogo'] <= pxp['Yards.Gained']) | \\\n",
    "        (pxp['Touchdown'] == 1)\n",
    "    pxp['1stdownconversion'] = np.where(mask, 1, 0)\n",
    "    \n",
    "    # Cleanup NaNs\n",
    "    for c in pxp.select_dtypes(include=['object']).columns:\n",
    "        pxp[c].fillna('None', inplace=True)\n",
    "    \n",
    "    # Clean index\n",
    "    pxp.reset_index(drop=True, inplace=True)\n",
    "\n",
    "    return pxp"
   ]
  },
  {
   "cell_type": "code",
   "execution_count": null,
   "metadata": {},
   "outputs": [],
   "source": [
    "pxp = process_pxp(pxp)"
   ]
  },
  {
   "cell_type": "code",
   "execution_count": null,
   "metadata": {},
   "outputs": [],
   "source": [
    "pxp.info()"
   ]
  },
  {
   "cell_type": "markdown",
   "metadata": {},
   "source": [
    "## Save DataFrame"
   ]
  },
  {
   "cell_type": "code",
   "execution_count": null,
   "metadata": {},
   "outputs": [],
   "source": [
    "pxp.to_csv('data/nfl_pxp_2009_2016.csv.gz', compression='gzip', index=False)"
   ]
  }
 ],
 "metadata": {
  "executable": false,
  "hide_input": false,
  "kernelspec": {
   "display_name": "Python 3",
   "language": "python",
   "name": "python3"
  },
  "language_info": {
   "codemirror_mode": {
    "name": "ipython",
    "version": 3
   },
   "file_extension": ".py",
   "mimetype": "text/x-python",
   "name": "python",
   "nbconvert_exporter": "python",
   "pygments_lexer": "ipython3",
   "version": "3.6.4"
  },
  "toc": {
   "base_numbering": 1,
   "nav_menu": {},
   "number_sections": true,
   "sideBar": true,
   "skip_h1_title": true,
   "title_cell": "Table of Contents",
   "title_sidebar": "Contents",
   "toc_cell": true,
   "toc_position": {},
   "toc_section_display": true,
   "toc_window_display": false
  },
  "varInspector": {
   "cols": {
    "lenName": 16,
    "lenType": 16,
    "lenVar": 40
   },
   "kernels_config": {
    "python": {
     "delete_cmd_postfix": "",
     "delete_cmd_prefix": "del ",
     "library": "var_list.py",
     "varRefreshCmd": "print(var_dic_list())"
    },
    "r": {
     "delete_cmd_postfix": ") ",
     "delete_cmd_prefix": "rm(",
     "library": "var_list.r",
     "varRefreshCmd": "cat(var_dic_list()) "
    }
   },
   "types_to_exclude": [
    "module",
    "function",
    "builtin_function_or_method",
    "instance",
    "_Feature"
   ],
   "window_display": false
  }
 },
 "nbformat": 4,
 "nbformat_minor": 2
}
