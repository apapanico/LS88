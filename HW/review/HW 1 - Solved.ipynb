{
 "cells": [
  {
   "cell_type": "markdown",
   "metadata": {},
   "source": [
    "# HW 1: Review and Intro\n",
    "\n",
    "This homework should serve as a simple review of Data 8.  There are 8 parts, with the last one consisting of questions about the you and your interest in the course."
   ]
  },
  {
   "cell_type": "markdown",
   "metadata": {},
   "source": [
    "#### Setup"
   ]
  },
  {
   "cell_type": "code",
   "execution_count": null,
   "metadata": {},
   "outputs": [],
   "source": [
    "%run ../../utils/notebook_setup.py"
   ]
  },
  {
   "cell_type": "code",
   "execution_count": null,
   "metadata": {},
   "outputs": [],
   "source": [
    "import numpy as np\n",
    "from datascience_stats import linear_fit\n",
    "\n",
    "from datascience import Table, make_array"
   ]
  },
  {
   "cell_type": "markdown",
   "metadata": {},
   "source": [
    "#### 1. Data load\n",
    "Load the file `NBAPlayerStats2017.csv` into a file.  Call the table `players`. Display the first five rows."
   ]
  },
  {
   "cell_type": "code",
   "execution_count": null,
   "metadata": {},
   "outputs": [],
   "source": [
    "players = Table().read_table('NBAPlayerStats2017.csv')"
   ]
  },
  {
   "cell_type": "code",
   "execution_count": null,
   "metadata": {},
   "outputs": [],
   "source": [
    "players.take[:5]"
   ]
  },
  {
   "cell_type": "markdown",
   "metadata": {},
   "source": [
    "#### 2. Quick Clean\n",
    "The column `Player` contains strings that contain the player name as well as a unique ID for the player.  We should split these up.\n",
    "\n",
    "Loop through the entries in the column `Player` and split the string on the character `\\`.  Overwrite the column `Player` with the player name and add a new column `Player ID`.\n",
    "\n",
    "Some players switched teams midseason.  Quincy Acy is an example.  His team's are listed as `DAL`, `BRK`, and `TOT`, where `TOT` refers to his total statistics.  For the purposes of the rest of the notebook, remove all the rows with `TOT` as team."
   ]
  },
  {
   "cell_type": "code",
   "execution_count": null,
   "metadata": {},
   "outputs": [],
   "source": [
    "player_names = []\n",
    "player_ids = []\n",
    "for player in players['Player']:\n",
    "    player_name, player_id = player.split('\\\\')\n",
    "    player_names.append(player_name)\n",
    "    player_ids.append(player_id)\n",
    "    \n",
    "players = players.with_columns(['Player', player_names, 'PlayerID', player_ids]).\\\n",
    "    move_to_start('PlayerID').\\\n",
    "    move_to_start('Rk')\n",
    "players.take[:5]"
   ]
  },
  {
   "cell_type": "code",
   "execution_count": null,
   "metadata": {},
   "outputs": [],
   "source": [
    "players = players.where(players['Tm'] != 'TOT')"
   ]
  },
  {
   "cell_type": "markdown",
   "metadata": {},
   "source": [
    "#### 3. Group\n",
    "Select the column `Tm` and the counting stats `FG`, `FGA`, `3P`, `3PA`, `2P`, `2PA`, `FT`, `FTA`, `ORB`, `DRB`, `TRB`, `AST`, `STL`, `BLK`, `TOV`, `PF`, `PTS`.  Then group by `Tm` and compute a sum and store the result as `teams`.\n",
    "\n",
    "For each of the counting stats, the new column in `teams` will have `' sum'` appended.  Relabel each of the stat columns to remove that appended string."
   ]
  },
  {
   "cell_type": "code",
   "execution_count": null,
   "metadata": {},
   "outputs": [],
   "source": [
    "stats = ['FG', 'FGA', '3P', '3PA', '2P', '2PA', 'FT', 'FTA', 'ORB', \n",
    "         'DRB', 'TRB', 'AST', 'STL', 'BLK', 'TOV', 'PF', 'PTS']\n",
    "teams = players.select('Tm', *stats).group(['Tm'], sum)\n",
    "\n",
    "for stat in stats:\n",
    "    teams.relabel(stat + ' sum', stat)"
   ]
  },
  {
   "cell_type": "markdown",
   "metadata": {},
   "source": [
    "#### 4. Sort\n",
    "Sort teams by most 3-point attempts (`3PA`) from most to least and take the first 10 rows after sorting.  Display the result."
   ]
  },
  {
   "cell_type": "code",
   "execution_count": null,
   "metadata": {},
   "outputs": [],
   "source": [
    "n = 10\n",
    "most_3PAs = teams.sort('3PA', descending=True).take[:n]\n",
    "most_3PAs"
   ]
  },
  {
   "cell_type": "markdown",
   "metadata": {},
   "source": [
    "Reorder this top ten in `3PA` according to 2-point attempts from most to least."
   ]
  },
  {
   "cell_type": "code",
   "execution_count": null,
   "metadata": {},
   "outputs": [],
   "source": [
    "most_3PAs.sort('2PA', descending=True)"
   ]
  },
  {
   "cell_type": "markdown",
   "metadata": {},
   "source": [
    "Add a new column to `teams` called effective field goal percentage, `eFG%`:\n",
    "$$\n",
    "    \\mathit{eFG\\%} = \\frac{\\mathit{FG} + .5\\cdot\\mathit{3P}}{\\mathit{FGA}}\n",
    "$$\n",
    "This is a nice way to balance between the different values of shots since $3 > 2$.\n",
    "\n",
    "After adding the new column to `team`, regenerate the table of top ten teams in most `3PA` and then sort on `eFG%` from highest to lowest.\n"
   ]
  },
  {
   "cell_type": "code",
   "execution_count": null,
   "metadata": {},
   "outputs": [],
   "source": [
    "teams['eFG%'] = np.round((teams['FG'] + .5 * teams['3P']) / teams['FGA'], 3)\n",
    "\n",
    "most_3PAs = teams.sort('3PA', descending=True).take[:n]\n",
    "most_3PAs.sort('eFG%', descending=True)"
   ]
  },
  {
   "cell_type": "markdown",
   "metadata": {},
   "source": [
    "#### 5. Plots\n",
    "Generate a scatter plot from `teams` with `AST` on the $x$-axis and `eFG%` on the $y$-axis.  Include the best-fit line."
   ]
  },
  {
   "cell_type": "code",
   "execution_count": null,
   "metadata": {
    "scrolled": true
   },
   "outputs": [],
   "source": [
    "teams.scatter('AST', select='eFG%', fit_line=True)"
   ]
  },
  {
   "cell_type": "markdown",
   "metadata": {},
   "source": [
    "Add a column points per game, `ppg`, that gives the points per game (82) for each team.  Create a histogram plot on `ppg` and display the top 5 teams in points per game."
   ]
  },
  {
   "cell_type": "code",
   "execution_count": null,
   "metadata": {},
   "outputs": [],
   "source": [
    "teams['ppg'] = teams['PTS'] / 82\n",
    "teams.hist('ppg')\n",
    "teams.sort('ppg', descending=True).take[:5]"
   ]
  },
  {
   "cell_type": "markdown",
   "metadata": {},
   "source": [
    "#### 6. Linear Fit\n",
    "Below is a simple scatter plot and linear fit on field goal attempts and points scored for players.\n",
    "\n",
    "The second cell contains a scatter plot of the errors of the linear fit, i.e. the player's points minus the predicted points according to the fitted line.\n",
    "\n",
    "What is wrong with this fitted model?  A basic assumption regarding simple linear modeling like this is ignored and can be observed in the errors?  What is the cause of this? (Think about this: What is the range of points possible if I take 1 shot versus if I take 2000 shots?)"
   ]
  },
  {
   "cell_type": "code",
   "execution_count": null,
   "metadata": {},
   "outputs": [],
   "source": [
    "players.scatter('FGA', select='PTS', fit_line=True)"
   ]
  },
  {
   "cell_type": "code",
   "execution_count": null,
   "metadata": {},
   "outputs": [],
   "source": [
    "def linear_fit(x, y, constant=True):\n",
    "    import statsmodels.api as _sm\n",
    "    if constant:\n",
    "        x = _sm.add_constant(x)\n",
    "    fit = _sm.OLS(y, x).fit()\n",
    "    out = (fit.params, fit.fittedvalues, fit.resid)\n",
    "    return out\n",
    "\n",
    "# Ignore the first two returned quantities and just get the error values\n",
    "_, _, err = linear_fit(players['FGA'] , players['PTS'])\n",
    "Table().with_columns(['FGA', players['FGA'], 'err', err]).scatter('FGA')"
   ]
  },
  {
   "cell_type": "markdown",
   "metadata": {},
   "source": [
    "Here is an alternatively constructed fit taken by dividing the above quantities by minutes played.\n",
    "\n",
    "The linear fits appear qualitatively improved.  It's not perfect and I'd recommend not making too much of this.  \n",
    "\n",
    "The improvement can be seen from the errors, which show a more even variation across values for `FGApm`.  Why does it make sense to divide by minutes played?"
   ]
  },
  {
   "cell_type": "code",
   "execution_count": null,
   "metadata": {},
   "outputs": [],
   "source": [
    "FGApm = players['FGA'] / players['MP']\n",
    "PPM = players['PTS'] / players['MP']\n",
    "\n",
    "Table().with_columns(['FGApm', FGApm, 'PPM', PPM]).\\\n",
    "    scatter('FGApm', select='PPM', fit_line=True)\n",
    "\n",
    "# Ignore the first two returned quantities and just get the error values\n",
    "_, _, err = linear_fit(FGApm, PPM)\n",
    "Table().with_columns(['FGA', players['FGA'] / players['MP'], 'err', err]).scatter('FGA')"
   ]
  },
  {
   "cell_type": "markdown",
   "metadata": {},
   "source": [
    "#### 7. Expected Value\n",
    "\n",
    "Generate a list of 10 types of events labeled `'A'` through `'J'`.  Each type has a value associated it given, in order, as \n",
    "1.42, -1.07, -0.21 , -2.64, -1.57, 1.45,  0.70,  1.17 ,  3.09,  0.26.  The number of observations for each type of event, again in order, is 44, 759, 584, 174, 114,  28,  91, 148, 302, 148.\n",
    "\n",
    "Build a table with this data and that compute a column `p` with the frequency of the occurrence each type of event.  The frequency of a type is the number of observations over the total number of observations.\n",
    "\n",
    "Display the result."
   ]
  },
  {
   "cell_type": "code",
   "execution_count": null,
   "metadata": {},
   "outputs": [],
   "source": [
    "names = list('ABCDEFGHIJ')\n",
    "\n",
    "n = make_array(44, 759, 584, 174, 114,  28,  91, 148, 302, 148)\n",
    "vals = make_array(1.42, -1.07, -0.21 , -2.64, -1.57, 1.45,  0.70,  1.17 ,  3.09,  0.26)\n",
    "t = Table().with_columns(['name', names, 'n', n, 'val', vals])\n",
    "t['p'] = t['n'] / t['n'].sum()\n",
    "t"
   ]
  },
  {
   "cell_type": "markdown",
   "metadata": {},
   "source": [
    "We make the next observation and it ends up as type `'J'`.  Our example here is actually a game and part of the game is we can change the type of the event we just observed.  We can change the type from `'J'` to either `'A'` or `'C'`, but it is a 50-50 toss up whether we change from to `'A'` or `'C'`.  The value of `'A`' is higher than `'J'` but the value of `'C'` is lower.  Ideally we would like to change to `'A'`.  What is expected value of the outcome of changing the event type."
   ]
  },
  {
   "cell_type": "code",
   "execution_count": null,
   "metadata": {},
   "outputs": [],
   "source": [
    "ev = np.sum(t['p'] * t['val'])\n",
    "print(ev)"
   ]
  },
  {
   "cell_type": "markdown",
   "metadata": {},
   "source": [
    "Assume the probabilities of the type of our next observation is governed by the frequency we computed.\n",
    "Using the frequencies and the values, compute the expected value of the next event.  "
   ]
  },
  {
   "cell_type": "code",
   "execution_count": null,
   "metadata": {},
   "outputs": [],
   "source": [
    "val_J = t.where('name', 'J')['val'][0]\n",
    "val_A = t.where('name', 'A')['val'][0]\n",
    "val_C = t.where('name', 'C')['val'][0]\n",
    "\n",
    "p = .5\n",
    "val_new = p * val_A + (1 - p) * val_C"
   ]
  },
  {
   "cell_type": "markdown",
   "metadata": {},
   "source": [
    "#### 8. Questions\n",
    "\n",
    "1. What interests you about sports and data science?  \n",
    "2. Why did you opt for this course?\n",
    "3. What do you hope to learn from this course?\n",
    "4. Is there a particular sport/stat/concept that intrigued you and got you interested in sports stats/analytics?"
   ]
  }
 ],
 "metadata": {
  "hide_input": false,
  "kernelspec": {
   "display_name": "Python 3",
   "language": "python",
   "name": "python3"
  },
  "language_info": {
   "codemirror_mode": {
    "name": "ipython",
    "version": 3
   },
   "file_extension": ".py",
   "mimetype": "text/x-python",
   "name": "python",
   "nbconvert_exporter": "python",
   "pygments_lexer": "ipython3",
   "version": "3.6.1"
  },
  "toc": {
   "nav_menu": {},
   "number_sections": false,
   "sideBar": true,
   "skip_h1_title": false,
   "title_cell": "Table of Contents",
   "title_sidebar": "Contents",
   "toc_cell": false,
   "toc_position": {},
   "toc_section_display": true,
   "toc_window_display": false
  },
  "varInspector": {
   "cols": {
    "lenName": 16,
    "lenType": 16,
    "lenVar": 40
   },
   "kernels_config": {
    "python": {
     "delete_cmd_postfix": "",
     "delete_cmd_prefix": "del ",
     "library": "var_list.py",
     "varRefreshCmd": "print(var_dic_list())"
    },
    "r": {
     "delete_cmd_postfix": ") ",
     "delete_cmd_prefix": "rm(",
     "library": "var_list.r",
     "varRefreshCmd": "cat(var_dic_list()) "
    }
   },
   "types_to_exclude": [
    "module",
    "function",
    "builtin_function_or_method",
    "instance",
    "_Feature"
   ],
   "window_display": false
  }
 },
 "nbformat": 4,
 "nbformat_minor": 2
}
