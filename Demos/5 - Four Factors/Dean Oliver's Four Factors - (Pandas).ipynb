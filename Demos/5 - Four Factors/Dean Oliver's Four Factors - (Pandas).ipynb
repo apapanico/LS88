{
 "cells": [
  {
   "cell_type": "markdown",
   "metadata": {
    "toc": true
   },
   "source": [
    "<h1>Table of Contents<span class=\"tocSkip\"></span></h1>\n",
    "<div class=\"toc\"><ul class=\"toc-item\"><li><span><a href=\"#Team-Season-Level\" data-toc-modified-id=\"Team-Season-Level-1\"><span class=\"toc-item-num\">1&nbsp;&nbsp;</span>Team-Season Level</a></span><ul class=\"toc-item\"><li><span><a href=\"#Setup\" data-toc-modified-id=\"Setup-1.1\"><span class=\"toc-item-num\">1.1&nbsp;&nbsp;</span>Setup</a></span></li><li><span><a href=\"#Computing-the-Factors\" data-toc-modified-id=\"Computing-the-Factors-1.2\"><span class=\"toc-item-num\">1.2&nbsp;&nbsp;</span>Computing the Factors</a></span><ul class=\"toc-item\"><li><span><a href=\"#And-for-the-defense/opposition...\" data-toc-modified-id=\"And-for-the-defense/opposition...-1.2.1\"><span class=\"toc-item-num\">1.2.1&nbsp;&nbsp;</span>And for the defense/opposition...</a></span></li></ul></li><li><span><a href=\"#Factor-Scores\" data-toc-modified-id=\"Factor-Scores-1.3\"><span class=\"toc-item-num\">1.3&nbsp;&nbsp;</span>Factor Scores</a></span><ul class=\"toc-item\"><li><span><a href=\"#Z-Scores\" data-toc-modified-id=\"Z-Scores-1.3.1\"><span class=\"toc-item-num\">1.3.1&nbsp;&nbsp;</span>Z-Scores</a></span></li></ul></li><li><span><a href=\"#The-Four-Factor-Model\" data-toc-modified-id=\"The-Four-Factor-Model-1.4\"><span class=\"toc-item-num\">1.4&nbsp;&nbsp;</span>The Four Factor Model</a></span></li><li><span><a href=\"#The-Four-Factor-Model-and-Winning\" data-toc-modified-id=\"The-Four-Factor-Model-and-Winning-1.5\"><span class=\"toc-item-num\">1.5&nbsp;&nbsp;</span>The Four Factor Model and Winning</a></span><ul class=\"toc-item\"><li><span><a href=\"#Do-all-four-factors-actually-matter?\" data-toc-modified-id=\"Do-all-four-factors-actually-matter?-1.5.1\"><span class=\"toc-item-num\">1.5.1&nbsp;&nbsp;</span>Do all four factors actually matter?</a></span></li></ul></li><li><span><a href=\"#Team-Season-Conclusion\" data-toc-modified-id=\"Team-Season-Conclusion-1.6\"><span class=\"toc-item-num\">1.6&nbsp;&nbsp;</span>Team-Season Conclusion</a></span></li></ul></li><li><span><a href=\"#Game-Level-2016-17\" data-toc-modified-id=\"Game-Level-2016-17-2\"><span class=\"toc-item-num\">2&nbsp;&nbsp;</span>Game Level 2016-17</a></span><ul class=\"toc-item\"><li><span><a href=\"#Setup\" data-toc-modified-id=\"Setup-2.1\"><span class=\"toc-item-num\">2.1&nbsp;&nbsp;</span>Setup</a></span></li><li><span><a href=\"#Four-Factor-Model\" data-toc-modified-id=\"Four-Factor-Model-2.2\"><span class=\"toc-item-num\">2.2&nbsp;&nbsp;</span>Four Factor Model</a></span><ul class=\"toc-item\"><li><span><a href=\"#Compute-the-Factors\" data-toc-modified-id=\"Compute-the-Factors-2.2.1\"><span class=\"toc-item-num\">2.2.1&nbsp;&nbsp;</span>Compute the Factors</a></span></li><li><span><a href=\"#Build-the-Model\" data-toc-modified-id=\"Build-the-Model-2.2.2\"><span class=\"toc-item-num\">2.2.2&nbsp;&nbsp;</span>Build the Model</a></span></li></ul></li><li><span><a href=\"#Four-Factor-Model-and-Game-Performance\" data-toc-modified-id=\"Four-Factor-Model-and-Game-Performance-2.3\"><span class=\"toc-item-num\">2.3&nbsp;&nbsp;</span>Four Factor Model and Game Performance</a></span><ul class=\"toc-item\"><li><span><a href=\"#Factor-Correlations\" data-toc-modified-id=\"Factor-Correlations-2.3.1\"><span class=\"toc-item-num\">2.3.1&nbsp;&nbsp;</span>Factor Correlations</a></span></li><li><span><a href=\"#Factor-Scatter-Matrix-Plot\" data-toc-modified-id=\"Factor-Scatter-Matrix-Plot-2.3.2\"><span class=\"toc-item-num\">2.3.2&nbsp;&nbsp;</span>Factor Scatter Matrix Plot</a></span></li></ul></li><li><span><a href=\"#Game-Level-Conclusion\" data-toc-modified-id=\"Game-Level-Conclusion-2.4\"><span class=\"toc-item-num\">2.4&nbsp;&nbsp;</span>Game Level Conclusion</a></span></li></ul></li></ul></div>"
   ]
  },
  {
   "cell_type": "markdown",
   "metadata": {},
   "source": [
    "# Dean Oliver's Four Factors\n",
    "\n",
    "Dean Oliver's Four Factor Model is a succinct and useful model for explaining team performance.  The four fundamental components of basketball captured in the model are\n",
    "+ Efficient shooting\n",
    "+ Protecting the ball\n",
    "+ Rebounding\n",
    "+ Getting free throws\n",
    "\n",
    "This notebook works through these four factors and shows how well they capture variation in team performance both at the season level and the game level."
   ]
  },
  {
   "cell_type": "code",
   "execution_count": null,
   "metadata": {},
   "outputs": [],
   "source": [
    "%run ../../utils/notebook_setup.py"
   ]
  },
  {
   "cell_type": "code",
   "execution_count": null,
   "metadata": {},
   "outputs": [],
   "source": [
    "import matplotlib as mpl\n",
    "import matplotlib.pyplot as plt\n",
    "plt.style.use('fivethirtyeight')\n",
    "%matplotlib inline\n",
    "mpl.rcParams['figure.facecolor'] = (0.941, 0.941, 0.941, 1.0)\n",
    "\n",
    "import pandas as pd\n",
    "import numpy as np\n",
    "from scipy.stats import zscore\n",
    "import matplotlib.pyplot as plt\n",
    "from datascience_helpers import correlation, linear_fit\n",
    "from pandas.tools.plotting import scatter_matrix\n",
    "\n",
    "pd.set_option('precision', 2)"
   ]
  },
  {
   "cell_type": "markdown",
   "metadata": {},
   "source": [
    "## Team-Season Level\n",
    "\n",
    "We  begin by exploring the Four Factors at the team-season level.  We do this by looking at how the four factors relate to team winning percentage.  Intuitively, the four factors make sense but it remains to be determined that they do actually matter and to what extent."
   ]
  },
  {
   "cell_type": "markdown",
   "metadata": {},
   "source": [
    "### Setup\n",
    "\n",
    "Load the team data (restricted to 1980 and later).  The data contains both offensive values and defensive values (ie. opposition values)."
   ]
  },
  {
   "cell_type": "code",
   "execution_count": null,
   "metadata": {},
   "outputs": [],
   "source": [
    "teams = pd.read_csv('team_season_data.csv')"
   ]
  },
  {
   "cell_type": "code",
   "execution_count": null,
   "metadata": {},
   "outputs": [],
   "source": [
    "teams.head()"
   ]
  },
  {
   "cell_type": "markdown",
   "metadata": {},
   "source": [
    "### Computing the Factors\n",
    "\n",
    "The formulas for the underlying components are pretty simple.  All the data we need is available."
   ]
  },
  {
   "cell_type": "code",
   "execution_count": null,
   "metadata": {},
   "outputs": [],
   "source": [
    "teams['efg'] = (teams['fg'] + .5 * teams['fg3']) / teams['fga']\n",
    "teams['to'] = teams['tov'] / (teams['tov'] + teams['fga'] + .44 * teams['fta'])\n",
    "teams['oreb'] = teams['orb'] / (teams['orb'] + teams['opp_drb'])\n",
    "teams['ftr'] = teams['ft'] / teams['fga']"
   ]
  },
  {
   "cell_type": "markdown",
   "metadata": {},
   "source": [
    "#### And for the defense/opposition..."
   ]
  },
  {
   "cell_type": "code",
   "execution_count": null,
   "metadata": {},
   "outputs": [],
   "source": [
    "teams['opp_efg'] = (teams['opp_fg'] + .5 * teams['opp_fg3']) / teams['opp_fga']\n",
    "teams['opp_to'] = teams['opp_tov'] / \\\n",
    "    (teams['opp_tov'] + teams['opp_fga'] + .44 * teams['opp_fta'])\n",
    "teams['opp_oreb'] = teams['opp_orb'] / (teams['opp_orb'] + teams['drb'])\n",
    "teams['opp_ftr'] = teams['opp_ft'] / teams['opp_fga']"
   ]
  },
  {
   "cell_type": "markdown",
   "metadata": {},
   "source": [
    "### Factor Scores\n",
    "\n",
    "Since there is both a team value and an defense/opposition value for each factor (so 8 values total), we will combine the team and opposition value by a difference.  For example, the shooting efficiency factor will be the difference between the team's shooting efficiency and the shooting efficiency allowed by its defense.\n",
    "\n",
    "Intuitively this makes sense: if the shooting efficiency of a team and its defense are the same, then the factor score for shooting efficiency should be 0 and the game should come down to the other parts: turnovers, rebounding, and free throws since those represent varying opportunities at scoring.\n",
    "\n",
    "#### Z-Scores\n",
    "\n",
    "Another thing we do is standardize the factor scores.\n",
    "\n",
    "If you have a set of observations $x_1, \\ldots, x_N$, the Z-scores for the observations are given by,\n",
    "$$\n",
    "    z_i = \\frac{x_i - \\mathrm{Avg}(x_1, \\ldots, x_N)}{\\mathrm{Std}(x_1, \\ldots, x_N)}\n",
    "$$\n",
    "\n",
    "The premise of a Z-score is to convert any kind of set of observations (of continous values, not discrete/categories) to a standardized scale."
   ]
  },
  {
   "cell_type": "code",
   "execution_count": null,
   "metadata": {},
   "outputs": [],
   "source": [
    "teams['eFG'] = zscore(teams['efg'] - teams['opp_efg'])\n",
    "teams['Tov'] = zscore(teams['to'] - teams['opp_to'])\n",
    "teams['Reb'] = zscore(teams['oreb'] - teams['opp_oreb'])\n",
    "teams['Ftr'] = zscore(teams['ftr'] - teams['opp_ftr'])"
   ]
  },
  {
   "cell_type": "markdown",
   "metadata": {},
   "source": [
    "The shape of the histogram is exactly the same but we're on a standardized scale now (the standard deviation is 1.0).  This will be the case for all four of the factors and is valuable because now we can compare performance between the factors on the same scale.\n",
    "\n",
    "If we hadn't standardized the factors, we could have one factor varying on a scale of 100 to 200 and another on a scale .1 to .2.  Any weights we come up with to balance the importance of the factors would then have to account for the scale and therefore be uncomparable. "
   ]
  },
  {
   "cell_type": "code",
   "execution_count": null,
   "metadata": {},
   "outputs": [],
   "source": [
    "fig, ax = plt.subplots(nrows=2)\n",
    "tmp = teams['efg'] - teams['opp_efg']\n",
    "tmp.plot.hist(ax=ax[0], bins=50)\n",
    "teams['eFG'].plot.hist(ax=ax[1], bins=50)\n",
    "\n",
    "print(f\"\"\"\n",
    "Compare Std Deviations for eFG:\n",
    "Original: {np.std(tmp):.03f}\n",
    "Z-Scored: {np.std(teams['eFG']):.03f}\n",
    "\"\"\")"
   ]
  },
  {
   "cell_type": "markdown",
   "metadata": {},
   "source": [
    "### The Four Factor Model\n",
    "\n",
    "Dean Oliver's weights of importance were 40\\% for shooting (effective field goal percentage), 25% for turnovers (turnover rate), 20% for rebounding (offensive rebounding rate), and 15% for free throws (free throw rate).\n",
    "\n",
    "Since our factors are all on the same scale, we can combine them using Dean Oliver's weighting to build a composite model (we negative the Tov factor since turnovers are obviously bad unless filled with apples)."
   ]
  },
  {
   "cell_type": "code",
   "execution_count": null,
   "metadata": {},
   "outputs": [],
   "source": [
    "teams['Four Factors'] = .4 * teams['eFG'] - .25 * teams['Tov'] + \\\n",
    "    .20 * teams['Reb'] + .15 * teams['Ftr']"
   ]
  },
  {
   "cell_type": "markdown",
   "metadata": {},
   "source": [
    "### The Four Factor Model and Winning\n",
    "\n",
    "We can take a look at how the four factor model at a team-season level relates to team winning percentage and offensive and defensive ratings.  The result is pretty clear, the four factor model has a strong relation with performance and winning."
   ]
  },
  {
   "cell_type": "code",
   "execution_count": null,
   "metadata": {},
   "outputs": [],
   "source": [
    "teams['win_pct'] = teams['wins'] / (teams['wins'] + teams['losses'])"
   ]
  },
  {
   "cell_type": "markdown",
   "metadata": {},
   "source": [
    "Recall from the empirical analysis of Pythagorean Expectation we looked at,\n",
    "$$\n",
    "    \\text{Performance Ratio} = \\frac{\\text{Off Rating}}{\\text{Def Rating}}.\n",
    "$$\n",
    "\n",
    "Since this is the input into the Pythagorean Expectation formula, we're going to look at the four factor model relates to the performance ratio.  Similar results will hold with Net Rating as well."
   ]
  },
  {
   "cell_type": "code",
   "execution_count": null,
   "metadata": {},
   "outputs": [],
   "source": [
    "teams['pr'] = teams['off_rtg'] / teams['def_rtg']\n",
    "teams['log_pr'] = np.log(teams['pr'])"
   ]
  },
  {
   "cell_type": "code",
   "execution_count": null,
   "metadata": {},
   "outputs": [],
   "source": [
    "fig, ax = plt.subplots()\n",
    "teams.plot.scatter('Four Factors', 'win_pct', ax=ax)\n",
    "ax.set_ylim(0, 1)\n",
    "ax.set_xlim(-2, 2);"
   ]
  },
  {
   "cell_type": "markdown",
   "metadata": {},
   "source": [
    "Recall from Pythagorean Expectation how net rating and winning percentage are linked in a non-linear manner.  The driver of winning is a positive net rating and the four factor model creates an effective model of net rating."
   ]
  },
  {
   "cell_type": "code",
   "execution_count": null,
   "metadata": {},
   "outputs": [],
   "source": [
    "fig, ax = plt.subplots()\n",
    "teams.plot.scatter('Four Factors', 'log_pr', ax=ax)\n",
    "ax.set_ylim(-0.175, 0.175)\n",
    "ax.set_xlim(-2, 2);"
   ]
  },
  {
   "cell_type": "markdown",
   "metadata": {},
   "source": [
    "#### Do all four factors actually matter?\n",
    "\n",
    "Just because the four factor model works, why should the individual components matter?  We could have just added in junk instead of provided an effective deconstruction of net rating into four factors."
   ]
  },
  {
   "cell_type": "markdown",
   "metadata": {},
   "source": [
    "##### Factor Correlations"
   ]
  },
  {
   "cell_type": "code",
   "execution_count": null,
   "metadata": {},
   "outputs": [],
   "source": [
    "df = teams[['win_pct', 'log_pr', 'eFG', 'Tov', 'Reb', 'Ftr', 'Four Factors']]\n",
    "df.corr()"
   ]
  },
  {
   "cell_type": "markdown",
   "metadata": {},
   "source": [
    "##### Factor Scatter Matrix Plot"
   ]
  },
  {
   "cell_type": "code",
   "execution_count": null,
   "metadata": {},
   "outputs": [],
   "source": [
    "scatter_matrix(df, figsize=(10, 10));"
   ]
  },
  {
   "cell_type": "markdown",
   "metadata": {},
   "source": [
    "##### Linear Fit\n",
    "\n",
    "Since the four factor model produces an output that is a rather meaningless value, we should use a linear fit between net rating and the four factor model to find a scaling that will give a good estimate of net rating.\n",
    "\n",
    "If the four factor model completely captures everything about basketball and team performance, then the errors from the linear fit should contain not further information about team performance, i.e. the errors should be uncorrelated with net rating."
   ]
  },
  {
   "cell_type": "code",
   "execution_count": null,
   "metadata": {},
   "outputs": [],
   "source": [
    "params, predictions, errors = linear_fit(\n",
    "    teams['Four Factors'], teams['log_pr'], constant=False)\n",
    "\n",
    "beta = params['Four Factors']\n",
    "print(\"Computed Linear Fit:\")\n",
    "print(\"====================\")\n",
    "s = f\"xLogPR = {beta:.3f} * FourFactorModel\"\n",
    "print(s)\n",
    "\n",
    "fig, ax = plt.subplots()\n",
    "teams.plot.scatter('Four Factors', 'log_pr', ax=ax)\n",
    "\n",
    "teams['xLogPR'] = predictions\n",
    "ax.plot(teams['Four Factors'], predictions, color='C1', label='xLogPR')\n",
    "\n",
    "ax.legend()\n",
    "ax.set_ylim(-0.175, 0.175)\n",
    "ax.set_xlim(-2, 2);"
   ]
  },
  {
   "cell_type": "markdown",
   "metadata": {},
   "source": [
    "The residual errors from the predictions of the four factor model may have a faint signal lingering (the correlation is not particularly strong and may be just noise).\n",
    "\n",
    "However, note this:\n",
    "+ The correlation between the four factor model and the log performance ratio is 0.98 \n",
    "+ The magnitude of the errors are $\\sim \\pm 0.005$\n",
    "\n",
    "If there is any remaining feature of basketball that hasn't been captured, it's not that important.  And slightly different weightings could capture it.  (many people, yours truly included, think the weighting on shooting should be higher)."
   ]
  },
  {
   "cell_type": "code",
   "execution_count": null,
   "metadata": {},
   "outputs": [],
   "source": [
    "corr = correlation(errors, teams['log_pr'])\n",
    "print(f\"\"\"\n",
    "Correlation of errors and log PR: {corr:.03f}\n",
    "\"\"\")\n",
    "fig, ax = plt.subplots()\n",
    "ax.plot(teams['log_pr'], errors, '.')\n",
    "ax.set_xlabel('log_pr')\n",
    "ax.set_ylabel('error');"
   ]
  },
  {
   "cell_type": "markdown",
   "metadata": {},
   "source": [
    "### Team-Season Conclusion\n",
    "\n",
    "It turns out that the factors do all matter.  As set forth by Dean Oliver, efficient shooting from the floor is the most important factor and explains the most about team performance.  Also it appears the factors are not redundant since the correlations between the factors is not strong.  The only factor that has redundancy appears to be the Free Throw Rate (and this redundancy likely drives it's correlation with winning percentage).\n",
    "\n",
    "Also, the four factor model does a good job of capturing a lot of the information with respect to team performance.  Different weightings could be proposed but they are unlikely to yield huge improvements.\n",
    "\n",
    "It should also be noted that one could use Net Rating instead of the log Performance Ratio (even though PR makes more sense due to Pythagorean Expectation) but the results will be pretty similar."
   ]
  },
  {
   "cell_type": "markdown",
   "metadata": {},
   "source": [
    "## Game Level 2016-17\n",
    "\n",
    "At the team-season level, the four factors were shown to provide a strong predictor for winning percentage.  We can also view how the factors associate with performance at the game level, specifically with respect to point differential."
   ]
  },
  {
   "cell_type": "markdown",
   "metadata": {},
   "source": [
    "### Setup\n",
    "\n",
    "The NBA Stats website publishes the underlying factor components for each game for both teams.  The dataset was gathered using the package `nba_py` which allows for extracting data from the NBA Stats site.\n",
    "\n",
    "Each row represents a game from the perspective of the away team (the opponent team is the home team).  The original data had the computed values for each team for each game but only one team is needed since the other values are redundant."
   ]
  },
  {
   "cell_type": "code",
   "execution_count": null,
   "metadata": {},
   "outputs": [],
   "source": [
    "games = pd.read_csv('four_factor_game_data.csv')\n",
    "games.head()"
   ]
  },
  {
   "cell_type": "markdown",
   "metadata": {},
   "source": [
    "### Four Factor Model\n",
    "\n",
    "For the game level data, we compute the four factor model again.\n",
    "\n",
    "#### Compute the Factors\n",
    "\n",
    "Once again, we compute differences between the underlying components and use Z-Scores to put the factors on the same scale."
   ]
  },
  {
   "cell_type": "code",
   "execution_count": null,
   "metadata": {},
   "outputs": [],
   "source": [
    "games['eFG'] = zscore(games['EFG_PCT'] - games['OPP_EFG_PCT'])\n",
    "games['Tov'] = zscore(games['TOV_PCT'] - games['OPP_TOV_PCT'])\n",
    "games['Reb'] = zscore(games['OREB_PCT'] - games['OPP_OREB_PCT'])\n",
    "games['Ftr'] = zscore(games['FTA_RATE'] - games['OPP_FTA_RATE'])"
   ]
  },
  {
   "cell_type": "markdown",
   "metadata": {},
   "source": [
    "#### Build the Model"
   ]
  },
  {
   "cell_type": "code",
   "execution_count": null,
   "metadata": {},
   "outputs": [],
   "source": [
    "games['Four Factors'] = .4 * games['eFG'] - .25 * games['Tov'] + \\\n",
    "    .20 * games['Reb'] + .15 * games['Ftr']"
   ]
  },
  {
   "cell_type": "markdown",
   "metadata": {},
   "source": [
    "### Four Factor Model and Game Performance\n",
    "\n",
    "As we did with the season level data, we look at the performance ratio for a game using offensive and defensive ratings to see how the four factor model relates. Using offensive and defensive ratings is better than raw point differential since we can account for varying pace/number of possessions in the game."
   ]
  },
  {
   "cell_type": "code",
   "execution_count": null,
   "metadata": {},
   "outputs": [],
   "source": [
    "games['LOG_PR'] = np.log(games['OFF_RATING'] / games['DEF_RATING'])"
   ]
  },
  {
   "cell_type": "markdown",
   "metadata": {},
   "source": [
    "Since we are looking at game level data, the variation in log performance ratio will naturally be a lot larger than the season level data.  Some games will be blowouts, hence the large values, but over a season the performance will average out."
   ]
  },
  {
   "cell_type": "code",
   "execution_count": null,
   "metadata": {},
   "outputs": [],
   "source": [
    "fig, ax = plt.subplots()\n",
    "games.plot.scatter('Four Factors', 'LOG_PR', ax=ax)\n",
    "ax.set_ylim(-0.6, 0.6)\n",
    "ax.set_xlim(-1.75, 1.75)\n",
    "ax.set_yticks(np.arange(-.45, .46, .15))\n",
    "ax.set_xticks(np.arange(-1.5, 1.6, .5));"
   ]
  },
  {
   "cell_type": "markdown",
   "metadata": {},
   "source": [
    "#### Factor Correlations"
   ]
  },
  {
   "cell_type": "code",
   "execution_count": null,
   "metadata": {},
   "outputs": [],
   "source": [
    "df = games[['LOG_PR', 'eFG', 'Tov', 'Reb', 'Ftr', 'Four Factors']]\n",
    "df.corr()"
   ]
  },
  {
   "cell_type": "markdown",
   "metadata": {},
   "source": [
    "#### Factor Scatter Matrix Plot"
   ]
  },
  {
   "cell_type": "code",
   "execution_count": null,
   "metadata": {},
   "outputs": [],
   "source": [
    "scatter_matrix(df, figsize=(10, 10));"
   ]
  },
  {
   "cell_type": "markdown",
   "metadata": {},
   "source": [
    "##### Linear Fit\n",
    "\n",
    "As with the season level data, we can analyze the linear fit of the four factor model and the log performance ratio."
   ]
  },
  {
   "cell_type": "code",
   "execution_count": null,
   "metadata": {},
   "outputs": [],
   "source": [
    "params, predictions, errors = linear_fit(\n",
    "    games['Four Factors'], games['LOG_PR'], constant=False)\n",
    "\n",
    "beta = params['Four Factors']\n",
    "print(\"Computed Linear Fit:\")\n",
    "print(\"====================\")\n",
    "s = f\"xLogPR = {beta:.3f} * FourFactorModel\"\n",
    "print(s)\n",
    "\n",
    "fig, ax = plt.subplots()\n",
    "games.plot.scatter('Four Factors', 'LOG_PR', ax=ax)\n",
    "\n",
    "games['xLogPR'] = predictions\n",
    "ax.plot(games['Four Factors'], predictions, color='C1', label='xLogPR')\n",
    "\n",
    "ax.legend()\n",
    "ax.set_ylim(-0.6, 0.6)\n",
    "ax.set_xlim(-1.75, 1.75)\n",
    "ax.set_yticks(np.arange(-.45, .46, .15))\n",
    "ax.set_xticks(np.arange(-1.5, 1.6, .5));"
   ]
  },
  {
   "cell_type": "markdown",
   "metadata": {},
   "source": [
    "This time when we look at the errors, the evidence more strongly suggests the four factor model may not be capturing everything."
   ]
  },
  {
   "cell_type": "code",
   "execution_count": null,
   "metadata": {},
   "outputs": [],
   "source": [
    "corr = correlation(errors, games['LOG_PR'])\n",
    "print(f\"\"\"\n",
    "Correlation of errors and log PR: {corr:.03f}\n",
    "\"\"\")\n",
    "fig, ax = plt.subplots()\n",
    "ax.plot(games['LOG_PR'], errors, '.')\n",
    "ax.set_xlabel('LOG_PR')\n",
    "ax.set_ylabel('error');"
   ]
  },
  {
   "cell_type": "markdown",
   "metadata": {},
   "source": [
    "### Game Level Conclusion\n",
    "\n",
    "The four factor model works well again at the game level but it appears that there may be \n",
    "some issues to work out.\n",
    "\n",
    "Possible reasons that as data scientists we would have to explore are:\n",
    "+ The factors are good but Dean Oliver's weightings are suboptimal\n",
    "+ Blowouts are inducing some kind of effect/bias in the data and we are observing the artifacts of that (does it appear as though the worst performance of the model comes at the high and low ends, ie. blowouts?)\n",
    "+ We are missing factors and need to better model the game\n",
    "\n",
    "It should be pointed out that the previous analyses could be performed using Net Rating instead.  The results will still be similar: there are still some issues to work out."
   ]
  }
 ],
 "metadata": {
  "hide_input": false,
  "kernelspec": {
   "display_name": "Python 3",
   "language": "python",
   "name": "python3"
  },
  "language_info": {
   "codemirror_mode": {
    "name": "ipython",
    "version": 3
   },
   "file_extension": ".py",
   "mimetype": "text/x-python",
   "name": "python",
   "nbconvert_exporter": "python",
   "pygments_lexer": "ipython3",
   "version": "3.6.1"
  },
  "toc": {
   "nav_menu": {},
   "number_sections": true,
   "sideBar": true,
   "skip_h1_title": true,
   "title_cell": "Table of Contents",
   "title_sidebar": "Contents",
   "toc_cell": true,
   "toc_position": {},
   "toc_section_display": true,
   "toc_window_display": false
  },
  "varInspector": {
   "cols": {
    "lenName": 16,
    "lenType": 16,
    "lenVar": 40
   },
   "kernels_config": {
    "python": {
     "delete_cmd_postfix": "",
     "delete_cmd_prefix": "del ",
     "library": "var_list.py",
     "varRefreshCmd": "print(var_dic_list())"
    },
    "r": {
     "delete_cmd_postfix": ") ",
     "delete_cmd_prefix": "rm(",
     "library": "var_list.r",
     "varRefreshCmd": "cat(var_dic_list()) "
    }
   },
   "types_to_exclude": [
    "module",
    "function",
    "builtin_function_or_method",
    "instance",
    "_Feature"
   ],
   "window_display": false
  }
 },
 "nbformat": 4,
 "nbformat_minor": 2
}
