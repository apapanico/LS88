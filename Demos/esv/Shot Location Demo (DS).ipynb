{
 "cells": [
  {
   "cell_type": "markdown",
   "metadata": {
    "toc": true
   },
   "source": [
    "<h1>Table of Contents<span class=\"tocSkip\"></span></h1>\n",
    "<div class=\"toc\"><ul class=\"toc-item\"><li><span><a href=\"#Setup-and-Load-Data\" data-toc-modified-id=\"Setup-and-Load-Data-1\"><span class=\"toc-item-num\">1&nbsp;&nbsp;</span>Setup and Load Data</a></span></li><li><span><a href=\"#Defender-Distance\" data-toc-modified-id=\"Defender-Distance-2\"><span class=\"toc-item-num\">2&nbsp;&nbsp;</span>Defender Distance</a></span></li><li><span><a href=\"#Shot-Distance\" data-toc-modified-id=\"Shot-Distance-3\"><span class=\"toc-item-num\">3&nbsp;&nbsp;</span>Shot Distance</a></span></li><li><span><a href=\"#Shot-Distance-and-Defender-Distance\" data-toc-modified-id=\"Shot-Distance-and-Defender-Distance-4\"><span class=\"toc-item-num\">4&nbsp;&nbsp;</span>Shot Distance and Defender Distance</a></span><ul class=\"toc-item\"><li><span><a href=\"#Hexbin-Plot\" data-toc-modified-id=\"Hexbin-Plot-4.1\"><span class=\"toc-item-num\">4.1&nbsp;&nbsp;</span>Hexbin Plot</a></span></li></ul></li><li><span><a href=\"#Expected-Shot-Value\" data-toc-modified-id=\"Expected-Shot-Value-5\"><span class=\"toc-item-num\">5&nbsp;&nbsp;</span>Expected Shot Value</a></span></li><li><span><a href=\"#An-Improved-Shooting-Metric?\" data-toc-modified-id=\"An-Improved-Shooting-Metric?-6\"><span class=\"toc-item-num\">6&nbsp;&nbsp;</span>An Improved Shooting Metric?</a></span><ul class=\"toc-item\"><li><span><a href=\"#Player-ESV\" data-toc-modified-id=\"Player-ESV-6.1\"><span class=\"toc-item-num\">6.1&nbsp;&nbsp;</span>Player ESV</a></span></li><li><span><a href=\"#Team-ESV-per-85-FGA\" data-toc-modified-id=\"Team-ESV-per-85-FGA-6.2\"><span class=\"toc-item-num\">6.2&nbsp;&nbsp;</span>Team ESV per 85 FGA</a></span></li><li><span><a href=\"#Player-Points-Above-Average-per-FGA\" data-toc-modified-id=\"Player-Points-Above-Average-per-FGA-6.3\"><span class=\"toc-item-num\">6.3&nbsp;&nbsp;</span>Player Points Above Average per FGA</a></span></li><li><span><a href=\"#Team-Points-Above-Average-per-85-FGA\" data-toc-modified-id=\"Team-Points-Above-Average-per-85-FGA-6.4\"><span class=\"toc-item-num\">6.4&nbsp;&nbsp;</span>Team Points Above Average per 85 FGA</a></span></li></ul></li><li><span><a href=\"#Does-Defender-Distance-Relate-to-Shooter-Quality?\" data-toc-modified-id=\"Does-Defender-Distance-Relate-to-Shooter-Quality?-7\"><span class=\"toc-item-num\">7&nbsp;&nbsp;</span>Does Defender Distance Relate to Shooter Quality?</a></span></li></ul></div>"
   ]
  },
  {
   "cell_type": "markdown",
   "metadata": {},
   "source": [
    "# Expected Value Modeling for NBA Shot Locations\n",
    "\n",
    "We should expect that two important drivers of the likelihood of making a shot are the shot distance and how near the closest defender is.  Using data obtained from NBA.com for the 2014-2015 season, this demo explores how you can build an expected value model for shooting."
   ]
  },
  {
   "cell_type": "markdown",
   "metadata": {},
   "source": [
    "## Setup and Load Data"
   ]
  },
  {
   "cell_type": "code",
   "execution_count": null,
   "metadata": {},
   "outputs": [],
   "source": [
    "%run ../../utils/notebook_setup.py"
   ]
  },
  {
   "cell_type": "code",
   "execution_count": null,
   "metadata": {},
   "outputs": [],
   "source": [
    "%matplotlib inline\n",
    "import datascience as ds\n",
    "import numpy as np\n",
    "import matplotlib.pyplot as plt\n",
    "plt.style.use('fivethirtyeight')\n",
    "\n",
    "from datascience_utils import hexbin_plot, sorted_boxplot\n",
    "from datascience_topic import build_expected_shot_values_from_hexbin"
   ]
  },
  {
   "cell_type": "code",
   "execution_count": null,
   "metadata": {},
   "outputs": [],
   "source": [
    "t = ds.Table.read_table('shot_logs_2014_15.csv.gz', sep=',')"
   ]
  },
  {
   "cell_type": "code",
   "execution_count": null,
   "metadata": {},
   "outputs": [],
   "source": [
    "t.show(5)"
   ]
  },
  {
   "cell_type": "markdown",
   "metadata": {},
   "source": [
    "## Defender Distance\n",
    "There are lots of things you could do with this data but let's just jump right in with defender distance.\n",
    "\n",
    "We use the 1ft buckets in `CLOSE_DEF_DIST_ROUNDED` to compute FG% as a function of defender distance.\n",
    "\n",
    "After grouping, we plot the relation and... wait, why does defender distance not seem to matter!?\n",
    "\n",
    "_Question_\n",
    "+ What might explain this seeming lack of relationship?  Does shot type matter?  Anything else?"
   ]
  },
  {
   "cell_type": "code",
   "execution_count": null,
   "metadata": {},
   "outputs": [],
   "source": [
    "result = t.select('CLOSE_DEF_DIST_ROUNDED', 'SHOT_RESULT_BIN').\\\n",
    "    group('CLOSE_DEF_DIST_ROUNDED', collect=np.mean)\n",
    "\n",
    "result = result.relabel('SHOT_RESULT_BIN mean', 'SHOT_PCT')\n",
    "result.where('CLOSE_DEF_DIST_ROUNDED', ds.are.below_or_equal_to(14)).\\\n",
    "    plot(column_for_xticks='CLOSE_DEF_DIST_ROUNDED', select='SHOT_PCT')\n",
    "\n",
    "plt.gca().set_ylim(0, .7);"
   ]
  },
  {
   "cell_type": "markdown",
   "metadata": {},
   "source": [
    "Okay, now we separate by shot type.  Clearly defender distance is a big deal for 3pt shots.  But it still doesn't seem that important for 2pt shots.\n",
    "\n",
    "_Question_\n",
    "+ Should 2pt shooting % be immune defender distance?  Why or why not?  Is there something else missing?"
   ]
  },
  {
   "cell_type": "code",
   "execution_count": null,
   "metadata": {},
   "outputs": [],
   "source": [
    "result = t.select('PTS_TYPE', 'CLOSE_DEF_DIST_ROUNDED', 'SHOT_RESULT_BIN').\\\n",
    "    group(['PTS_TYPE', 'CLOSE_DEF_DIST_ROUNDED'], collect=np.mean)\n",
    "\n",
    "result = result.relabel('SHOT_RESULT_BIN mean', 'SHOT_PCT')\n",
    "\n",
    "result = result.pivot('PTS_TYPE', 'CLOSE_DEF_DIST_ROUNDED', values='SHOT_PCT', collect=np.mean)\n",
    "result.where('CLOSE_DEF_DIST_ROUNDED', ds.are.below_or_equal_to(14)).\\\n",
    "    plot(column_for_xticks='CLOSE_DEF_DIST_ROUNDED', select=['2', '3'])"
   ]
  },
  {
   "cell_type": "markdown",
   "metadata": {},
   "source": [
    "## Shot Distance\n",
    "\n",
    "We can quickly visualize the variability in shot distance with a pair of histogram plots.  The distance of the NBA 3pt line is not uniform but generally you see the overall pattern of shots."
   ]
  },
  {
   "cell_type": "code",
   "execution_count": null,
   "metadata": {},
   "outputs": [],
   "source": [
    "t.select('PTS_TYPE', 'SHOT_DIST').\\\n",
    "    pivot('PTS_TYPE', 'SHOT_DIST').\\\n",
    "    bar('SHOT_DIST', select=['2', '3'])"
   ]
  },
  {
   "cell_type": "markdown",
   "metadata": {},
   "source": [
    "We can group by shot type and shot distance (rounded to nearest half foot) to get a feel for how shooting percentage varies with shot distance.  Obviously close in shots are layups/dunks that are almost always converted."
   ]
  },
  {
   "cell_type": "code",
   "execution_count": null,
   "metadata": {},
   "outputs": [],
   "source": [
    "result = t.select('PTS_TYPE', 'SHOT_DIST_ROUNDED', 'SHOT_RESULT_BIN').\\\n",
    "    group(['PTS_TYPE', 'SHOT_DIST_ROUNDED'], collect=np.mean)\n",
    "\n",
    "result = result.relabel('SHOT_RESULT_BIN mean', 'SHOT_PCT')\n",
    "\n",
    "result = result.pivot('PTS_TYPE', 'SHOT_DIST_ROUNDED', values='SHOT_PCT', collect=np.mean)\n",
    "\n",
    "result['2'][result['SHOT_DIST_ROUNDED'] > 24] = np.nan\n",
    "result['3'][(result['SHOT_DIST_ROUNDED'] < 21) | (result['SHOT_DIST_ROUNDED'] > 29)] = np.nan\n",
    "\n",
    "result.plot(column_for_xticks='SHOT_DIST_ROUNDED', select=['2', '3'])\n",
    "plt.gca().set_ylim(0, .7);"
   ]
  },
  {
   "cell_type": "markdown",
   "metadata": {},
   "source": [
    "## Shot Distance and Defender Distance\n",
    "\n",
    "Okay, we saw defender distance mattered for 3s and shot distance matters.  Let's combine the two.  We use the shot distance buckets in `SHOT_DIST_BUCKET` as well as the rounded defender distance to show how shooting percentage varies both in shot distance and defender distance."
   ]
  },
  {
   "cell_type": "code",
   "execution_count": null,
   "metadata": {},
   "outputs": [],
   "source": [
    "result = t.select('SHOT_DIST_BUCKET', 'CLOSE_DEF_DIST_ROUNDED', 'SHOT_RESULT_BIN').\\\n",
    "    group(['SHOT_DIST_BUCKET', 'CLOSE_DEF_DIST_ROUNDED'], collect=np.mean)\n",
    "result = result.relabel('SHOT_RESULT_BIN mean', 'SHOT_PCT')\n",
    "\n",
    "result = result.pivot(\n",
    "    'SHOT_DIST_BUCKET', 'CLOSE_DEF_DIST_ROUNDED', values='SHOT_PCT', collect=np.mean)\n",
    "result.where('CLOSE_DEF_DIST_ROUNDED', ds.are.below_or_equal_to(14)).\\\n",
    "    plot(column_for_xticks='CLOSE_DEF_DIST_ROUNDED')\n",
    "plt.gca().set_ylim(0, 1.03);"
   ]
  },
  {
   "cell_type": "markdown",
   "metadata": {},
   "source": [
    "### Hexbin Plot\n",
    "\n",
    "We can view the relationship between the in more continuous space with a hexbin plot.  A hexbin plot segments the space and all shots that lie within a hexagon will be grouped together.  Then within that hexagon, we will compute the shooting percentage.  We can see how regardless of shot distance, the defender distance near 0 drives down shooting percentage at that distance from the basket.\n",
    "\n",
    "_Question_\n",
    "+ Why are there some spots that are extra dark or white that don't really fit with the general pattern?\n",
    "+ What is going on with that spike on the left side?  What kind of shot has a high percentage, is near the basket, and has no defender nearby?"
   ]
  },
  {
   "cell_type": "code",
   "execution_count": null,
   "metadata": {},
   "outputs": [],
   "source": [
    "hexbin_plot(\n",
    "    t.where('SHOT_DIST', ds.are.below_or_equal_to(30)),\n",
    "    'SHOT_DIST',\n",
    "    'CLOSE_DEF_DIST',\n",
    "    C='SHOT_RESULT_BIN',\n",
    "    collect=np.mean,\n",
    "    gridsize=20,\n",
    "    figsize=(10, 6),\n",
    "    cmap=plt.cm.viridis_r,\n",
    "    mincnt=5,\n",
    "    vmin=0.2,\n",
    "    vmax=0.8\n",
    ");"
   ]
  },
  {
   "cell_type": "markdown",
   "metadata": {},
   "source": [
    "## Expected Shot Value\n",
    "\n",
    "We can do the same hexbin plot but compute expected points.  This makes more sense due to the 3pt line and represents a shooting efficiency due to the variable value of shots.\n",
    "\n",
    "_Question_\n",
    "+ What does this hexbin plot say about mid/long-distance 2s as well?  How bad is a closely guarded mid/long 2 point shot?"
   ]
  },
  {
   "cell_type": "code",
   "execution_count": null,
   "metadata": {},
   "outputs": [],
   "source": [
    "hexbin_esv_plot = hexbin_plot(\n",
    "    t.where('SHOT_DIST', ds.are.below_or_equal_to(30)),\n",
    "    'SHOT_DIST',\n",
    "    'CLOSE_DEF_DIST',\n",
    "    C='PTS_MADE',\n",
    "    collect=np.mean,\n",
    "    gridsize=20,\n",
    "    cmap=plt.cm.viridis_r,\n",
    "    figsize=(10, 6),\n",
    "    mincnt=5,\n",
    "    vmin=0.5,\n",
    "    vmax=1.6\n",
    ")"
   ]
  },
  {
   "cell_type": "markdown",
   "metadata": {},
   "source": [
    "## An Improved Shooting Metric?\n",
    "\n",
    "Recall the Effective Field Goal Pct was given by\n",
    "$$\n",
    "    \\text{eFG\\%} = \\frac{\\mathit{FG} + .5 \\cdot \\mathit{3FG}}{\\mathit{FGA}} = \\frac{\\text{Total Points (excluding FT)}}{2 \\cdot \\mathit{FGA}}\n",
    "$$\n",
    "\n",
    "Ignoring the division by 2, our ESV computation is akin to the EFG computation: expected points scored per attempt.\n",
    "\n",
    "Here's a metric we can build along what we've seen already in baseball: for each shot use the hexbin plot to compute the ESV.  \n",
    "\n",
    "$$\n",
    "    \\text{eSV} = \\frac{\\text{Total Expected Points}}{\\mathit{FGA}}\n",
    "$$\n",
    "\n",
    "We can also compute the points above average for each shot as\n",
    "$$\n",
    "    \\text{Points Above Average} = \\text{Points Made} - \\text{eSV}\n",
    "$$\n",
    "\n",
    "This is actually akin to what was proposed in this [paper][1] at the Sloan conference.\n",
    "\n",
    "[1]: http://www.sloansportsconference.com/wp-content/uploads/2014/02/2014-SSAC-Quantifying-Shot-Quality-in-the-NBA.pdf"
   ]
  },
  {
   "cell_type": "code",
   "execution_count": null,
   "metadata": {},
   "outputs": [],
   "source": [
    "# Use a helper function to get the bin (and therefore ESV) for each shot\n",
    "esv = build_expected_shot_values_from_hexbin(\n",
    "    t['SHOT_DIST'], t['CLOSE_DEF_DIST'], hexbin_esv_plot)\n",
    "t['EXPECTED_SHOT_VALUE'] = esv\n",
    "\n",
    "# remove Nan\n",
    "not_nan = ~np.isnan(esv)\n",
    "esv_t = t.where(not_nan)"
   ]
  },
  {
   "cell_type": "code",
   "execution_count": null,
   "metadata": {},
   "outputs": [],
   "source": [
    "esv_t.show(5)"
   ]
  },
  {
   "cell_type": "code",
   "execution_count": null,
   "metadata": {},
   "outputs": [],
   "source": [
    "esv_t.hist('EXPECTED_SHOT_VALUE', bins=50)"
   ]
  },
  {
   "cell_type": "code",
   "execution_count": null,
   "metadata": {},
   "outputs": [],
   "source": [
    "esv_t['PTS_ABOVE_AVG'] = esv_t['PTS_MADE'] - esv_t['EXPECTED_SHOT_VALUE']\n",
    "esv_t.hist('PTS_ABOVE_AVG', bins=50)"
   ]
  },
  {
   "cell_type": "markdown",
   "metadata": {},
   "source": [
    "### Player ESV\n",
    "Which players are taking the highest value shots?  How about the lowest?"
   ]
  },
  {
   "cell_type": "code",
   "execution_count": null,
   "metadata": {},
   "outputs": [],
   "source": [
    "result = esv_t.select('playerName', 'EXPECTED_SHOT_VALUE').\\\n",
    "    group('playerName', collect=np.mean)\n",
    "result_ct = esv_t.select('playerName').group('playerName')\n",
    "\n",
    "player_esv = result.join('playerName', result_ct)\n",
    "\n",
    "player_esv = player_esv.relabel('EXPECTED_SHOT_VALUE mean', 'ESVperFGA').\\\n",
    "    relabel('count', 'FGA')"
   ]
  },
  {
   "cell_type": "code",
   "execution_count": null,
   "metadata": {},
   "outputs": [],
   "source": [
    "player_esv.where('FGA', ds.are.above(100)).\\\n",
    "    sort('ESVperFGA', descending=True).\\\n",
    "    show(20)"
   ]
  },
  {
   "cell_type": "code",
   "execution_count": null,
   "metadata": {},
   "outputs": [],
   "source": [
    "player_esv.where('FGA', ds.are.above(100)).\\\n",
    "    sort('ESVperFGA', descending=False).\\\n",
    "    show(20)"
   ]
  },
  {
   "cell_type": "markdown",
   "metadata": {},
   "source": [
    "### Team ESV per 85 FGA \n",
    "\n",
    "Which teams take the best shots?  85 FGA is about 1 game."
   ]
  },
  {
   "cell_type": "code",
   "execution_count": null,
   "metadata": {},
   "outputs": [],
   "source": [
    "result = esv_t.select('PLAYER_TEAM', 'EXPECTED_SHOT_VALUE').\\\n",
    "    group('PLAYER_TEAM', collect=np.mean)\n",
    "result_ct = esv_t.select('PLAYER_TEAM').group('PLAYER_TEAM')\n",
    "\n",
    "team_esv = result.join('PLAYER_TEAM', result_ct)\n",
    "\n",
    "team_esv = team_esv.relabel('EXPECTED_SHOT_VALUE mean', 'ESVperFGA').\\\n",
    "    relabel('count', 'FGA')\n",
    "    \n",
    "team_esv['ESVper85FGA'] = 85 * team_esv['ESVperFGA']\n",
    "team_esv.sort('ESVper85FGA', descending=True).show()"
   ]
  },
  {
   "cell_type": "markdown",
   "metadata": {},
   "source": [
    "### Player Points Above Average per FGA\n",
    "We can compute PAA per FGA for each player."
   ]
  },
  {
   "cell_type": "code",
   "execution_count": null,
   "metadata": {},
   "outputs": [],
   "source": [
    "result = esv_t.select('playerName', 'PTS_ABOVE_AVG').\\\n",
    "    group('playerName', collect=np.mean)\n",
    "result_ct = esv_t.select('playerName').group('playerName')   \n",
    "\n",
    "paa = result.join('playerName', result_ct)\n",
    "\n",
    "paa.relabel('PTS_ABOVE_AVG mean', 'PAAperFGA').\\\n",
    "    relabel('count', 'FGA')"
   ]
  },
  {
   "cell_type": "code",
   "execution_count": null,
   "metadata": {},
   "outputs": [],
   "source": [
    "paa.where('FGA', ds.are.above(100)).\\\n",
    "    sort('PAAperFGA', descending=True).\\\n",
    "    show(20)"
   ]
  },
  {
   "cell_type": "code",
   "execution_count": null,
   "metadata": {},
   "outputs": [],
   "source": [
    "paa.where('FGA', ds.are.above(100)).\\\n",
    "    sort('PAAperFGA', descending=True).\\\n",
    "    take[-20:].show()"
   ]
  },
  {
   "cell_type": "markdown",
   "metadata": {},
   "source": [
    "### Team Points Above Average per 85 FGA \n",
    "We can compute PAA per 85 FGA for each team."
   ]
  },
  {
   "cell_type": "code",
   "execution_count": null,
   "metadata": {},
   "outputs": [],
   "source": [
    "paa_team = esv_t.select('PLAYER_TEAM', 'PTS_ABOVE_AVG').\\\n",
    "    group('PLAYER_TEAM', collect=np.mean).\\\n",
    "    relabel('PTS_ABOVE_AVG mean', 'PAAperFGA')\n",
    "paa_team['PAAper85FGA'] = 85 * paa_team['PAAperFGA']\n",
    "paa_team.sort('PAAper85FGA', descending=True).show()"
   ]
  },
  {
   "cell_type": "markdown",
   "metadata": {},
   "source": [
    "## Does Defender Distance Relate to Shooter Quality?\n",
    "\n",
    "Presumably better shooters will be guarded more closely, right?  To study this, let's restrict to 3pt shots."
   ]
  },
  {
   "cell_type": "code",
   "execution_count": null,
   "metadata": {},
   "outputs": [],
   "source": [
    "t.where('playerName', 'Stephen Curry').\\\n",
    "    where('PTS_TYPE', 3).\\\n",
    "    hist('CLOSE_DEF_DIST', bins=30)"
   ]
  },
  {
   "cell_type": "markdown",
   "metadata": {},
   "source": [
    "We take all players with at least 50 shots, sort them by their 3FG% (from left to right), and construct boxplots showing defender distance.  If 3FG% indicates better shooters, and it should, then those players should be guarded tighter than poor shooters. We should see some kind of pattern in the plot that will reflect this hypothesis.\n",
    "\n",
    "_Question_\n",
    "+ What pattern emerges from this plot?  Can you think of a plausible explanation? "
   ]
  },
  {
   "cell_type": "code",
   "execution_count": null,
   "metadata": {},
   "outputs": [],
   "source": [
    "num_3pt_shots = 50\n",
    "by = 'playerName'\n",
    "column = \"CLOSE_DEF_DIST\"\n",
    "\n",
    "three_pt_shots = t.where('PTS_TYPE', 3)\n",
    "\n",
    "result = three_pt_shots.select(by, 'SHOT_RESULT_BIN').\\\n",
    "    group(by, collect=np.mean)\n",
    "result2 = three_pt_shots.select(by).group(by)\n",
    "result = result.join(by, result2)\n",
    "result.relabel('SHOT_RESULT_BIN mean', '3FG%').\\\n",
    "    relabel('count', 'FGA')\n",
    "    \n",
    "by_3pt_pct = result.where('FGA', ds.are.above(num_3pt_shots)).\\\n",
    "    sort('3FG%', descending=True) \n",
    "    \n",
    "sorted_boxplot(\n",
    "    three_pt_shots.to_df(),\n",
    "    by,\n",
    "    column,\n",
    "    by_3pt_pct[by],\n",
    "    figsize=(25, 10),\n",
    "    fontsize=8\n",
    ")"
   ]
  }
 ],
 "metadata": {
  "hide_input": false,
  "kernelspec": {
   "display_name": "Python 3",
   "language": "python",
   "name": "python3"
  },
  "language_info": {
   "codemirror_mode": {
    "name": "ipython",
    "version": 3
   },
   "file_extension": ".py",
   "mimetype": "text/x-python",
   "name": "python",
   "nbconvert_exporter": "python",
   "pygments_lexer": "ipython3",
   "version": "3.6.4"
  },
  "latex_envs": {
   "LaTeX_envs_menu_present": true,
   "autoclose": false,
   "autocomplete": true,
   "bibliofile": "biblio.bib",
   "cite_by": "apalike",
   "current_citInitial": 1,
   "eqLabelWithNumbers": true,
   "eqNumInitial": 1,
   "hotkeys": {
    "equation": "Ctrl-E",
    "itemize": "Ctrl-I"
   },
   "labels_anchors": false,
   "latex_user_defs": false,
   "report_style_numbering": false,
   "user_envs_cfg": false
  },
  "toc": {
   "base_numbering": 1,
   "nav_menu": {},
   "number_sections": true,
   "sideBar": true,
   "skip_h1_title": true,
   "title_cell": "Table of Contents",
   "title_sidebar": "Contents",
   "toc_cell": true,
   "toc_position": {},
   "toc_section_display": true,
   "toc_window_display": false
  },
  "varInspector": {
   "cols": {
    "lenName": 16,
    "lenType": 16,
    "lenVar": 40
   },
   "kernels_config": {
    "python": {
     "delete_cmd_postfix": "",
     "delete_cmd_prefix": "del ",
     "library": "var_list.py",
     "varRefreshCmd": "print(var_dic_list())"
    },
    "r": {
     "delete_cmd_postfix": ") ",
     "delete_cmd_prefix": "rm(",
     "library": "var_list.r",
     "varRefreshCmd": "cat(var_dic_list()) "
    }
   },
   "types_to_exclude": [
    "module",
    "function",
    "builtin_function_or_method",
    "instance",
    "_Feature"
   ],
   "window_display": false
  }
 },
 "nbformat": 4,
 "nbformat_minor": 2
}
