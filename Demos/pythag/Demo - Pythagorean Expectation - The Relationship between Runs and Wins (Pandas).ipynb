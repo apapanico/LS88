{
 "cells": [
  {
   "cell_type": "markdown",
   "metadata": {
    "toc": true
   },
   "source": [
    "<h1>Table of Contents<span class=\"tocSkip\"></span></h1>\n",
    "<div class=\"toc\"><ul class=\"toc-item\"><li><span><a href=\"#MLB:-The-Relationship-between-Runs-and-Wins\" data-toc-modified-id=\"MLB:-The-Relationship-between-Runs-and-Wins-1\"><span class=\"toc-item-num\">1&nbsp;&nbsp;</span>MLB: The Relationship between Runs and Wins</a></span><ul class=\"toc-item\"><li><span><a href=\"#Setup\" data-toc-modified-id=\"Setup-1.1\"><span class=\"toc-item-num\">1.1&nbsp;&nbsp;</span>Setup</a></span></li><li><span><a href=\"#First-Look\" data-toc-modified-id=\"First-Look-1.2\"><span class=\"toc-item-num\">1.2&nbsp;&nbsp;</span>First Look</a></span></li><li><span><a href=\"#Linear-Fit\" data-toc-modified-id=\"Linear-Fit-1.3\"><span class=\"toc-item-num\">1.3&nbsp;&nbsp;</span>Linear Fit</a></span></li><li><span><a href=\"#Pythagorean-Expectation\" data-toc-modified-id=\"Pythagorean-Expectation-1.4\"><span class=\"toc-item-num\">1.4&nbsp;&nbsp;</span>Pythagorean Expectation</a></span></li><li><span><a href=\"#Deriving-the-Pythagorean-Expectation-Formula\" data-toc-modified-id=\"Deriving-the-Pythagorean-Expectation-Formula-1.5\"><span class=\"toc-item-num\">1.5&nbsp;&nbsp;</span>Deriving the Pythagorean Expectation Formula</a></span></li><li><span><a href=\"#Pythagorean-Luck\" data-toc-modified-id=\"Pythagorean-Luck-1.6\"><span class=\"toc-item-num\">1.6&nbsp;&nbsp;</span>Pythagorean Luck</a></span></li><li><span><a href=\"#10-Runs-to-a-Win?\" data-toc-modified-id=\"10-Runs-to-a-Win?-1.7\"><span class=\"toc-item-num\">1.7&nbsp;&nbsp;</span>10 Runs to a Win?</a></span></li></ul></li><li><span><a href=\"#On-You-Own:-Pythagorean-Expectation-for-NBA\" data-toc-modified-id=\"On-You-Own:-Pythagorean-Expectation-for-NBA-2\"><span class=\"toc-item-num\">2&nbsp;&nbsp;</span>On You Own: Pythagorean Expectation for NBA</a></span></li><li><span><a href=\"#Wrap-Up\" data-toc-modified-id=\"Wrap-Up-3\"><span class=\"toc-item-num\">3&nbsp;&nbsp;</span>Wrap Up</a></span></li></ul></div>"
   ]
  },
  {
   "cell_type": "markdown",
   "metadata": {},
   "source": [
    "# Demo - Pythagorean Expectation\n",
    "\n",
    "## MLB: The Relationship between Runs and Wins\n",
    "\n",
    "Bill James' formula known as _Pythagorean Expectation_ for MLB is summarized as\n",
    "$$\n",
    "    \\text{Pythagorean Win Pct}\n",
    "        = \\frac{\\text{Runs Scored}^2}{\\text{Runs Scored}^2 + \\text{Runs Allowed}^2}\n",
    "        = \\frac{(\\text{Runs Scored}\\ /\\ \\text{Runs Allowed})^2}{1 + (\\text{Runs Scored}\\ /\\ \\text{Runs Allowed})^2}\n",
    "$$\n",
    "The formula produces an expected winning percentage given run scoring data.  The name comes from the similar appearance to the classic Pythagorean Theorem.\n",
    "\n",
    "The Pythagorean Expectation is an empirically motivated relationship between the runs scored and allowed by a team and the team's winning percentage.  That is, the original insight was motivated by observing an empirical phenomenon.  It is beyond the scope of this lab but there is a theoretical justification which can be read about here: https://arxiv.org/abs/math/0509698.\n",
    "\n",
    "\n",
    "An obvious result of the Pythagorean Expectation formula is that if a team scores more runs, holding runs allowed fixed, its expected winning percentage will go up.  It cannot be stressed enough that this formula is not exact, hence the usage of the term _expected_.\n",
    "\n",
    "Let us begin.  This notebook explores the empirical relationship between runs and wins, derives the Pythagorean Expectation formula, explores some of its consequences, and then in the second part does the same for NBA data."
   ]
  },
  {
   "cell_type": "markdown",
   "metadata": {},
   "source": [
    "### Setup"
   ]
  },
  {
   "cell_type": "code",
   "execution_count": null,
   "metadata": {},
   "outputs": [],
   "source": [
    "%run ../../utils/notebook_setup.py"
   ]
  },
  {
   "cell_type": "code",
   "execution_count": null,
   "metadata": {},
   "outputs": [],
   "source": [
    "import pandas as pd\n",
    "import numpy as np\n",
    "\n",
    "from datascience_utils import scatterplot_by_x\n",
    "from datascience_stats import linear_fit"
   ]
  },
  {
   "cell_type": "code",
   "execution_count": null,
   "metadata": {},
   "outputs": [],
   "source": [
    "# Load lahman_teams.csv obtained from the Lahman databank\n",
    "lahman = pd.read_csv(\"lahman_teams.csv\", usecols=[0, 1, 2, 3, 6, 8, 9, 14, 26, 40])\n",
    "\n",
    "# Define some extra values: win pct, loss pct, and run differential\n",
    "lahman['Wpct'] = lahman['W'] / lahman[\"G\"]\n",
    "lahman['Lpct'] = 1 - lahman['Wpct']\n",
    "lahman[\"RD\"] = lahman[\"R\"] - lahman[\"RA\"]\n",
    "lahman[\"RDperG\"] = lahman[\"RD\"] / lahman[\"G\"]\n",
    "\n",
    "# Restrict to after the year 2000\n",
    "lahman = lahman.loc[lahman['yearID'] >= 2000].copy()\n",
    "\n",
    "lahman.head()"
   ]
  },
  {
   "cell_type": "markdown",
   "metadata": {},
   "source": [
    "### First Look\n",
    "Let's create scatter plots showing the relationship between runs scored, runs allowed, and run differential.  Clearly as runs scored increases, runs allowed decreased, or run differential increases, we should expect to win more games.   While it is not guaranteed that scoring more runs or allowing fewer runs will yield more wins, the tendency is quite strong.  The strongest relationship is clearly with run differential since winning isn't solely about scoring or preventing runs but doing both.\n",
    "\n",
    "Also, the relationship appears to be very linear.  The incremental improvement in run differential will yield the same improvement in expected winning percentage regardless the overall size of the run differential.  A team with a net negative 200 run differential improving by 30 runs will see the same increase in expected winning percentage as a team with a net positive 200 run differential improving by 30 runs.\n",
    "\n",
    "_Question_\n",
    "\n",
    "1. What do you make of the phrase \"defense wins championships\" given the plots below?"
   ]
  },
  {
   "cell_type": "code",
   "execution_count": null,
   "metadata": {},
   "outputs": [],
   "source": [
    "fig, axarr = plt.subplots(ncols=3, figsize=(12,4), sharey=True)\n",
    "lahman.plot.scatter(ax=axarr[0], x='R', y='Wpct')\n",
    "lahman.plot.scatter(ax=axarr[1], x='RA', y='Wpct')\n",
    "lahman.plot.scatter(ax=axarr[2], x=\"RD\", y='Wpct')\n",
    "fig.suptitle(\"Runs vs Win Pct\");"
   ]
  },
  {
   "cell_type": "markdown",
   "metadata": {},
   "source": [
    "### Linear Fit\n",
    "\n",
    "Let's compute a simple linear fit for wins against run differential.  This is given by the equation\n",
    "$$\n",
    "    \\text{Linear Win pct} = \\alpha  + \\beta \\cdot \\text{Run Differential per Game}\n",
    "$$\n",
    "where $\\alpha$ gives $\\text{Average Win Pct}$ (which we reason should be $0.500$) and $\\beta$ gives $\\text{Wins per Unit Run Differential}$.\n",
    "\n",
    "The next cell computes $\\alpha=0.500$ and $\\beta = 0.101$.  \n",
    "\n",
    "_Questions_\n",
    "\n",
    "1. What are the units for $\\alpha$ and $\\beta$?  \n",
    "2. What is the meaning of the reciprocal $1 / \\beta$?\n",
    "3. If a team improves its differential per game by by .1 runs (16.2 total runs / 162 games), how many more wins do we expect to have?"
   ]
  },
  {
   "cell_type": "code",
   "execution_count": null,
   "metadata": {},
   "outputs": [],
   "source": [
    "# Compute a linear fit\n",
    "params, predictions, errors = linear_fit(lahman['RDperG'], lahman['Wpct'])\n",
    "\n",
    "alpha, beta = params['const'], params['RDperG']\n",
    "print(\"Computed Linear Fit:\")\n",
    "print(\"====================\")\n",
    "s = \"xWpct = {alpha:.3f} + {beta:.3f} * RDperG\".format(alpha=alpha, beta=beta)\n",
    "print(s)\n",
    "\n",
    "fig, ax = plt.subplots()\n",
    "lahman.plot.scatter(ax=ax, x=\"RDperG\", y='Wpct')\n",
    "\n",
    "lahman['xWpct'] = predictions\n",
    "plt.plot(lahman['RDperG'], predictions, color='C1', label='xWpct')\n",
    "plt.legend();"
   ]
  },
  {
   "cell_type": "markdown",
   "metadata": {},
   "source": [
    "### Pythagorean Expectation\n",
    "\n",
    "Recall from above Bill James' formula for Pythagorean Expectation:\n",
    "$$\n",
    "    \\text{Pythagorean Win Pct}\n",
    "        = \\frac{\\text{Runs Scored}^2}{\\text{Runs Scored}^2 + \\text{Runs Allowed}^2}\n",
    "        = \\frac{(\\text{Runs Scored}\\ /\\ \\text{Runs Allowed})^2}{1 + (\\text{Runs Scored}\\ /\\ \\text{Runs Allowed})^2}\n",
    "$$\n",
    "\n",
    "_Questions_\n",
    "\n",
    "1. What's the difference between Pythagorean Expectation and our linear fit above?\n",
    "\n",
    "2. What happens if the run differential is every really high or low?\n",
    "\n"
   ]
  },
  {
   "cell_type": "markdown",
   "metadata": {},
   "source": [
    "Performance wise, both formulas do the trick.  Normally we'd opt for a simpler formula like the linear win percentage formula but the Pythagorean formula is still fairly simple and elegant.  There are a few other areas where the Pythagorean formula is a bit better.\n",
    "\n",
    "If the run differential is every really high or low, the linear win percentage formula could be greater than 1 or negative.  The Pythagorean formula also does a bit better in handling teams at the extremes (like the 2001 Seattle Mariners or 2003 Detroit Tigers).  \n",
    "\n",
    "Finally, the Pythagorean formula better quantifies performance by being dependent on the run ratio,\n",
    "$$\n",
    "    \\text{Runs Scored}\\ /\\ \\text{Runs Allowed}\n",
    "$$\n",
    "instead of the run differential\n",
    "$$\n",
    "    \\text{Runs Scored} - \\text{Runs Allowed}.\n",
    "$$\n",
    "\n",
    "To see why this is more desirable, consider an era where defense and pitching are strong and fewer runs scored.  The linear win percentage formula will always require a 10 run change in total run differential to increase expected wins by 1.  A run poor environment like this should require fewer runs in order to increase winning percentage.  Conversely, a run rich environment should require more runs.  The Pythagorean formula captures this.\n",
    "\n",
    "The plot in the following cell shows how win percentage, expected win percentage from the linear fit, and the Pythagorean Expectation compare as a function of the run ratio."
   ]
  },
  {
   "cell_type": "code",
   "execution_count": null,
   "metadata": {},
   "outputs": [],
   "source": [
    "K = 2\n",
    "lahman['RR'] = lahman['R'] / lahman['RA']\n",
    "lahman['pythag_Wpct'] = 1 / (1 + (1 / lahman['RR'])**K)"
   ]
  },
  {
   "cell_type": "code",
   "execution_count": null,
   "metadata": {},
   "outputs": [],
   "source": [
    "fig, ax = plt.subplots()\n",
    "lahman.plot.scatter(ax=ax, x=\"RR\", y='Wpct', color='C0')\n",
    "lahman.plot.scatter(ax=ax, x=\"RR\", y='xWpct', color='C1', label='xWpct')\n",
    "lahman.plot.scatter(ax=ax, x=\"RR\", y='pythag_Wpct',\n",
    "                    color='C2', label='pythag_Wpct')\n",
    "plt.legend()\n",
    "ax.set_ylabel('Wpct');"
   ]
  },
  {
   "cell_type": "markdown",
   "metadata": {},
   "source": [
    "### Deriving the Pythagorean Expectation Formula\n",
    "\n",
    "Where does the exponent come from in the Pythagorean Expectation formula?  Consider the ratio of wins to losses:\n",
    "$$\n",
    "    \\frac{\\text{Pythagorean Win Pct}}{\\text{Pythagorean Loss Pct}}\n",
    "        = \\frac{\\text{Pythagorean Win Pct}}{1 - \\text{Pythagorean Win Pct}}\n",
    "        = \\left(\\frac{\\text{Runs Scored}}{\\text{Runs Allowed}}\\right)^2\n",
    "$$\n",
    "If we take the log we get a linear relationship:\n",
    "$$\n",
    "    \\log\\left(\\frac{\\text{Pythagorean Win Pct}}{\\text{Pythagorean Loss Pct}}\\right)\n",
    "        = 2\\log\\left(\\frac{\\text{Runs Scored}}{\\text{Runs Allowed}}\\right)\n",
    "$$\n",
    "\n",
    "This suggests that we should explore the log win-loss ratio on the left-hand side and the log run ratio on the right-hand side. \n",
    "\n",
    "In the next cell, we show the scatter plot and the result of the linear fit\n",
    "$$\n",
    "    \\text{Log Win-Loss Ratio} = K \\cdot \\text{Log Run Ratio}\n",
    "$$\n",
    "\n",
    "The linear relationship of the log values is clear.  And our fit produces a value of $K = 1.87$.  This shows where the Pythagorean Expectation formula comes from.  While not exactly the same, taking $K=2$ is \"good enough\"."
   ]
  },
  {
   "cell_type": "code",
   "execution_count": null,
   "metadata": {},
   "outputs": [],
   "source": [
    "lahman['log_RR'] = np.log(lahman['RR'])\n",
    "lahman['log_Wrat'] = np.log(lahman[\"W\"] / lahman[\"L\"])\n",
    "\n",
    "params, predictions, errors = linear_fit(\n",
    "    lahman['log_RR'], lahman['log_Wrat'], constant=False)\n",
    "\n",
    "K = params['log_RR']\n",
    "\n",
    "print(\"Computed Linear Fit:\")\n",
    "print(\"====================\")\n",
    "s = \"xlog_Wrat = {K:.2f} * log_RR\".format(K=K)\n",
    "print(s)\n",
    "\n",
    "fig, ax = plt.subplots()\n",
    "lahman.plot.scatter(ax=ax, x='log_RR', y='log_Wrat')\n",
    "\n",
    "pythag_log_Wrat = lahman['log_RR'] * 2\n",
    "lahman['xlog_Wrat'] = predictions\n",
    "\n",
    "lahman.plot.scatter(ax=ax, x='log_RR', y='xlog_Wrat', color='C1')\n",
    "plt.plot(lahman['log_RR'], pythag_log_Wrat, '.',\n",
    "         color='C2', label='pythag_log_Wrat')\n",
    "plt.legend();"
   ]
  },
  {
   "cell_type": "markdown",
   "metadata": {},
   "source": [
    "### Pythagorean Luck\n",
    "\n",
    "One thing we can use Pythagorean Expectation for is determining the extent of luck or lack of it.  Given that we have a formula for expected winning percentage given a run differential, we consider deviations from the expectation to be attributable to luck.  \n",
    "\n",
    "_Question_\n",
    "\n",
    "1. Before reading on, think about that assumption.  What are we assuming about the way a team scores runs both game to game but also in relation to its opponents?"
   ]
  },
  {
   "cell_type": "markdown",
   "metadata": {},
   "source": [
    "So why are we considering this definition of luck?  Our assumption is that a team cannot perform magic and optimally allocate runs so that it wins many games by only one run.  Instead, the spread of runs is random enough that over 162 games, short by statistical standards, pockets of run clustering can form.  For example, a team with a narrow run differential that managed to win a lot of one run games despite a relatively poor run differential was lucky in how the runs clustered together to produce wins.  \n",
    "\n",
    "We compute Pythagorean Luck as the difference in wins and expected wins:\n",
    "$$\n",
    "    \\text{Pythagorean Luck} = \\text{Games} * (\\text{Win Pct} - \\text{Pythagorean Win Pct})\n",
    "$$\n",
    "\n",
    "_Questions_\n",
    "\n",
    "1. What is one way we could employ the Pythagorean Win Pct formula and the notion of Pythagorean Luck midseason?\n",
    "2. Based on the histogram below, how much do you think luck plays a role in determining the final standings?"
   ]
  },
  {
   "cell_type": "code",
   "execution_count": null,
   "metadata": {},
   "outputs": [],
   "source": [
    "lahman['pythag_luck'] = lahman['G'] * (lahman['Wpct'] - lahman['pythag_Wpct'])"
   ]
  },
  {
   "cell_type": "code",
   "execution_count": null,
   "metadata": {},
   "outputs": [],
   "source": [
    "lahman[['yearID', 'name', 'W', 'L', 'RD', 'pythag_luck']].\\\n",
    "    sort_values(by='pythag_luck', ascending=False).\\\n",
    "    head(10)"
   ]
  },
  {
   "cell_type": "code",
   "execution_count": null,
   "metadata": {},
   "outputs": [],
   "source": [
    "lahman[['yearID', 'name', 'W', 'L', 'RD', 'pythag_luck']].\\\n",
    "    sort_values(by='pythag_luck', ascending=True).\\\n",
    "    head(10)"
   ]
  },
  {
   "cell_type": "code",
   "execution_count": null,
   "metadata": {},
   "outputs": [],
   "source": [
    "lahman['pythag_luck'].plot.hist(bins=70);"
   ]
  },
  {
   "cell_type": "code",
   "execution_count": null,
   "metadata": {},
   "outputs": [],
   "source": [
    "lahman['pythag_W'] = lahman['G'] * lahman['pythag_Wpct']\n",
    "\n",
    "fig, axarr = plt.subplots(ncols=2, figsize=(12, 5))\n",
    "lahman.plot.scatter(ax=axarr[0], x='W', y='pythag_luck')\n",
    "lahman.plot.scatter(ax=axarr[1], x='pythag_W', y='pythag_luck');"
   ]
  },
  {
   "cell_type": "markdown",
   "metadata": {},
   "source": [
    "### 10 Runs to a Win?\n",
    "\n",
    "There is a common approximation in baseball analysis that it takes about 10 extra wins to generate a win.  That is, all things being equal, if you add 10 runs to a team's season total (or take away from their runs allowed total, or in general to their differential), you should expect about an increase of 1 win.  Can we derive this empirically?  Yes!\n",
    "\n",
    "First off, from the linear formula for expected winning percentage, it is clear that increasing the run differential by 10 runs translated to about 1 win (this is found by $1 / \\beta$).  A similar value will hold for the Pythagorean Expectation which we explore here.\n",
    "\n",
    "To find the number of runs needed to increase wins, we first take a derivative of the Pythagorean Expectation with respect to runs scored.  This will give us the change in wins per run scored.  From a little calculus and algebra:\n",
    "$$\n",
    "    \\text{Change in Wins per Run Scored}\n",
    "    = 2\\frac{\\text{Games}}{\\text{Runs Scored}} \\cdot\n",
    "        \\left(\n",
    "            \\frac\n",
    "                {\\text{Runs Allowed}\\ /\\ \\text{Runs Scored}}\n",
    "                {1 + (\\text{Runs Allowed}\\ /\\ \\text{Runs Scored})^2}\n",
    "        \\right)^{2}\n",
    "$$\n",
    "\n",
    "We invert the formula to get the change in runs scored per win.  This gives us what we're interested in.  We can also convert Runs Scored and Runs Allowed to 'per game' values and drop Games.\n",
    "$$\n",
    "    \\text{Change in Runs Scored per Win}\n",
    "    = \\frac12 \\cdot\n",
    "        \\text{Runs Scored per Game} \\cdot\n",
    "        \\left(\n",
    "            \\frac\n",
    "                {1 + (\\text{Runs Allowed per Game}\\ /\\ \\text{Runs Scored per Game})^2}\n",
    "                {\\text{Runs Allowed per Game}\\ /\\ \\text{Runs Scored per Game}}\n",
    "        \\right)^{2}\n",
    "$$\n",
    "\n",
    "Okay, great!  But what does this formula tell us?  As is, it's not particularly illuminating but we can plug in some values and get a feel for it.\n",
    "\n",
    "In the next cell, we produce a runs-to-wins table for various runs scoring enviroments. \n",
    "\n",
    "_Questions_\n",
    "\n",
    "1. What do you observe about the lower right corner of the chart where more runs are scored by teams?\n",
    "2. What about the upper left corner when fewer runs are scored?\n",
    "3. How does the value of an extra run change as more runs are scored?\n",
    "\n",
    "\n",
    "\n",
    "To put this in historical perspective, in 1968 runs per game was as low as 3.4 and in 2000 runs per game was as high as 5.2.  The varying level offense in baseball shows that the value of a hitter's performance can vary considerably depending on the run scoring environment.  E.g. in 2000, a hitter with 30 homeruns wouldn't even sniff the top ten but in 1968 would be near top 5.  And things can change pretty quickly, not just over multiple decades!"
   ]
  },
  {
   "cell_type": "code",
   "execution_count": null,
   "metadata": {},
   "outputs": [],
   "source": [
    "def runs_per_win(R=5, RA=5):\n",
    "    return R * (((RA / R)**2 + 1.) / (RA / R))**2 / 2.\n",
    "\n",
    "\n",
    "runs = np.arange(3, 6.5, .5)\n",
    "run_vals = np.around(\n",
    "    [[runs_per_win(R=r, RA=ra) for r in runs] for ra in runs], decimals=2)\n",
    "runs_to_wins = pd.DataFrame(\n",
    "    run_vals,\n",
    "    index=pd.Series(runs, name='RAperG'),\n",
    "    columns=pd.Series(runs, name='RperG')\n",
    ")\n",
    "runs_to_wins"
   ]
  },
  {
   "cell_type": "markdown",
   "metadata": {},
   "source": [
    "## On You Own: Pythagorean Expectation for NBA\n",
    "\n",
    "In this portion of the lab, you will perform the same analysis for the NBA reusing much of the same code from above but tweaked whereever necessary.  If you are unsure how to do something, just look to the corresponding part of the MLB section and emulate the code.  The data is loaded in the first cell.\n",
    "\n",
    "The columns (excluding some self-explanatory ones):\n",
    "+ `lg_id`: League ID\n",
    "+ `off_rtg`: Offensive rating.  Number of points scored per 100 possessions.\n",
    "+ `def_rtg`: Defensive rating.  Number of points allowed per 100 possessions.\n",
    "+ `off_rtg_rel`, `def_rtg_rel`: Off rating and Def rating relative to the league average for the season.\n",
    "+ `mp`: minutes played\n",
    "+ `pts`: points scored\n",
    "+ `opp_pts`: opponent points scored"
   ]
  },
  {
   "cell_type": "code",
   "execution_count": null,
   "metadata": {},
   "outputs": [],
   "source": [
    "nba = pd.read_csv(\n",
    "    \"nba_team_season_data.csv\", \n",
    "    usecols=[1, 2, 3, 8, 9, 10, 11, 12, 16, 17, 38, 59, 60, 61]\n",
    ")\n",
    "nba.head()"
   ]
  },
  {
   "cell_type": "markdown",
   "metadata": {},
   "source": [
    "##### 1. The first thing we need to do is compute the winning percentage $\\text{Win Pct} = W / G$."
   ]
  },
  {
   "cell_type": "code",
   "execution_count": null,
   "metadata": {},
   "outputs": [],
   "source": []
  },
  {
   "cell_type": "markdown",
   "metadata": {},
   "source": [
    "##### 2. Then we need to compute the Net Rating\n",
    "\\begin{align*}\n",
    "    \\text{Net Rating} & = \\text{Off Rating} - \\text{Def Rating}\n",
    "\\end{align*}\n",
    "\n",
    "_Question_\n",
    "\n",
    "1. Should we use 82 or perhaps something else?  What happened in the NBA that might necessitate not using 82?"
   ]
  },
  {
   "cell_type": "code",
   "execution_count": null,
   "metadata": {},
   "outputs": [],
   "source": []
  },
  {
   "cell_type": "markdown",
   "metadata": {},
   "source": [
    "Show the top 10 team seasons by Net Rating.  Only show the following columns: `team_id, wins, losses, off_rtg, def_rtg, net_rtg`"
   ]
  },
  {
   "cell_type": "code",
   "execution_count": null,
   "metadata": {},
   "outputs": [],
   "source": []
  },
  {
   "cell_type": "markdown",
   "metadata": {},
   "source": [
    "##### 3. Reusing the code from the MLB portion (but with changes to fit for the NBA example), compute the model\n",
    "$$\n",
    "    \\text{Linear Win Pct} = \\alpha  + \\beta \\cdot \\text{Net Rating}\n",
    "$$\n",
    "where $\\alpha$ gives $\\text{Average Win Pct}$ and $\\beta$ gives $\\text{Win Pct per Net Rating}$.  It should be pointed out that Net Rating is in points per 100 possessions.\n",
    "\n",
    "The model (and the Pythagorean Expectation model) could be done using per game values and the results would be basically identical.\n",
    "\n",
    "Also, plot the linear model results as we did with MLB\n",
    "\n",
    "_ Question_\n",
    "\n",
    "1. For what values of Net Rating does $\\text{Linear Win Pct} < 0$ and $\\text{Linear Win Pct} > 1$?  How much of an issue is that here?\n"
   ]
  },
  {
   "cell_type": "code",
   "execution_count": null,
   "metadata": {},
   "outputs": [],
   "source": []
  },
  {
   "cell_type": "markdown",
   "metadata": {},
   "source": [
    "The estimated value of $\\beta$ should be about $0.03$.\n",
    "\n",
    "Compute the \"Net Rating per Win\" from the linear model."
   ]
  },
  {
   "cell_type": "code",
   "execution_count": null,
   "metadata": {},
   "outputs": [],
   "source": []
  },
  {
   "cell_type": "markdown",
   "metadata": {},
   "source": [
    "##### 4. Now compute the following values:\n",
    "\\begin{align*}\n",
    "    \\text{Points Ratio} & = \\text{Offense Rating}\\ /\\ \\text{Defense Rating} \\\\\n",
    "    \\text{Log Points Ratio} & = \\log \\text{Points Ratio} \\\\\n",
    "    \\text{Log Win Ratio} & = \\log \\text{Wins}\\ /\\ \\text{Losses}\n",
    "\\end{align*}"
   ]
  },
  {
   "cell_type": "code",
   "execution_count": null,
   "metadata": {},
   "outputs": [],
   "source": []
  },
  {
   "cell_type": "markdown",
   "metadata": {},
   "source": [
    "##### 5. Again, reusing the MLB code with appropriate changes, compute a Pythagorean exponent for the NBA\n",
    "\n",
    "Plot the results of the model for the Pythagorean exponent.  \n",
    "\n",
    "You should get a large value (around 14).  We could perform this analysis on all sorts of sports. \n",
    "\n",
    "_Question_\n",
    "\n",
    "1. What does it mean for a sport to have a large Pythagorean exponent versus a small exponent?  Put another way, if a team scores more points than it allows, in which sport would you expect that team to have a higher winning percentage, one with a large exponent or one with a small exponent?\n"
   ]
  },
  {
   "cell_type": "code",
   "execution_count": null,
   "metadata": {},
   "outputs": [],
   "source": []
  },
  {
   "cell_type": "markdown",
   "metadata": {},
   "source": [
    "##### 6. Using the computed exponent*, compute the Pythagorean Expectation\n",
    "*To skip the previous cell if it isn't working immediately: use 14. \n",
    "\n",
    "_Question_\n",
    "\n",
    "1. For team with really poor net scoring performance, how does the Pythagorean formula compare to the linear formula?  Which seems to perform better in this case?\n",
    "\n"
   ]
  },
  {
   "cell_type": "code",
   "execution_count": null,
   "metadata": {},
   "outputs": [],
   "source": []
  },
  {
   "cell_type": "markdown",
   "metadata": {},
   "source": [
    "##### 7. Compute Pythagorean Luck\n",
    "\n",
    "Again, use the columns `team_id, wins, losses, off_rtg, def_rtg, net_rtg`\n",
    "\n",
    "+ Who have been the \"luckiest\" teams?\n",
    "+ Who have been the \"unluckiest\"?"
   ]
  },
  {
   "cell_type": "code",
   "execution_count": null,
   "metadata": {},
   "outputs": [],
   "source": []
  },
  {
   "cell_type": "markdown",
   "metadata": {},
   "source": [
    "##### 8. Compute a table of rating per game to wins\n",
    "\n",
    "+ A function with the Net Rating per Win formula has been provided\n",
    "+ A range of rating values for offensive and defensive rating has been provided\n",
    "+ Compute the net rating per win for various rating values\n",
    "\n",
    "_Question_\n",
    "\n",
    "1. Say a team has a star player averages 20-30 points per game.  Give your own estimate (with a bit of explanation your thinking) of how many extra games we should expect a team without the star to lose."
   ]
  },
  {
   "cell_type": "code",
   "execution_count": null,
   "metadata": {},
   "outputs": [],
   "source": [
    "def rtg_per_win(offrtg, defrtg, K):\n",
    "    return offrtg * ((defrtg / offrtg)**K + 1.)**2 / (defrtg / offrtg)**K / K\n",
    "\n",
    "rtg_rng = np.arange(85, 130, 5)"
   ]
  },
  {
   "cell_type": "code",
   "execution_count": null,
   "metadata": {},
   "outputs": [],
   "source": []
  },
  {
   "cell_type": "markdown",
   "metadata": {},
   "source": [
    "## Wrap Up\n",
    "\n",
    "And that wraps up our exploration of runs, points, and wins and how we can link them through a beautiful empirical rule like the Pythagorean Expectation formula."
   ]
  }
 ],
 "metadata": {
  "hide_input": false,
  "kernelspec": {
   "display_name": "Python 3",
   "language": "python",
   "name": "python3"
  },
  "language_info": {
   "codemirror_mode": {
    "name": "ipython",
    "version": 3
   },
   "file_extension": ".py",
   "mimetype": "text/x-python",
   "name": "python",
   "nbconvert_exporter": "python",
   "pygments_lexer": "ipython3",
   "version": "3.6.1"
  },
  "toc": {
   "nav_menu": {},
   "number_sections": true,
   "sideBar": true,
   "skip_h1_title": true,
   "title_cell": "Table of Contents",
   "title_sidebar": "Contents",
   "toc_cell": true,
   "toc_position": {},
   "toc_section_display": true,
   "toc_window_display": false
  },
  "varInspector": {
   "cols": {
    "lenName": 16,
    "lenType": 16,
    "lenVar": 40
   },
   "kernels_config": {
    "python": {
     "delete_cmd_postfix": "",
     "delete_cmd_prefix": "del ",
     "library": "var_list.py",
     "varRefreshCmd": "print(var_dic_list())"
    },
    "r": {
     "delete_cmd_postfix": ") ",
     "delete_cmd_prefix": "rm(",
     "library": "var_list.r",
     "varRefreshCmd": "cat(var_dic_list()) "
    }
   },
   "types_to_exclude": [
    "module",
    "function",
    "builtin_function_or_method",
    "instance",
    "_Feature"
   ],
   "window_display": false
  }
 },
 "nbformat": 4,
 "nbformat_minor": 2
}
