{
 "cells": [
  {
   "cell_type": "markdown",
   "metadata": {
    "toc": true
   },
   "source": [
    "<h1>Table of Contents<span class=\"tocSkip\"></span></h1>\n",
    "<div class=\"toc\"><ul class=\"toc-item\"><li><span><a href=\"#Classical-Baseball-Statistics\" data-toc-modified-id=\"Classical-Baseball-Statistics-1\"><span class=\"toc-item-num\">1&nbsp;&nbsp;</span>Classical Baseball Statistics</a></span><ul class=\"toc-item\"><li><span><a href=\"#Computing-Classical-Statistics\" data-toc-modified-id=\"Computing-Classical-Statistics-1.1\"><span class=\"toc-item-num\">1.1&nbsp;&nbsp;</span>Computing Classical Statistics</a></span></li><li><span><a href=\"#Classical-Stats-and-Runs-Scored\" data-toc-modified-id=\"Classical-Stats-and-Runs-Scored-1.2\"><span class=\"toc-item-num\">1.2&nbsp;&nbsp;</span>Classical Stats and Runs Scored</a></span><ul class=\"toc-item\"><li><span><a href=\"#Correlation-with-Team-Runs\" data-toc-modified-id=\"Correlation-with-Team-Runs-1.2.1\"><span class=\"toc-item-num\">1.2.1&nbsp;&nbsp;</span>Correlation with Team Runs</a></span></li></ul></li><li><span><a href=\"#Correlation-Between-Statistics\" data-toc-modified-id=\"Correlation-Between-Statistics-1.3\"><span class=\"toc-item-num\">1.3&nbsp;&nbsp;</span>Correlation Between Statistics</a></span></li></ul></li><li><span><a href=\"#Advanced-Statistics\" data-toc-modified-id=\"Advanced-Statistics-2\"><span class=\"toc-item-num\">2&nbsp;&nbsp;</span>Advanced Statistics</a></span><ul class=\"toc-item\"><li><span><a href=\"#OPS\" data-toc-modified-id=\"OPS-2.1\"><span class=\"toc-item-num\">2.1&nbsp;&nbsp;</span>OPS</a></span></li><li><span><a href=\"#wOBA\" data-toc-modified-id=\"wOBA-2.2\"><span class=\"toc-item-num\">2.2&nbsp;&nbsp;</span>wOBA</a></span></li><li><span><a href=\"#Advanced-Stats-and-Runs-Scored\" data-toc-modified-id=\"Advanced-Stats-and-Runs-Scored-2.3\"><span class=\"toc-item-num\">2.3&nbsp;&nbsp;</span>Advanced Stats and Runs Scored</a></span></li></ul></li><li><span><a href=\"#Wrapping-up\" data-toc-modified-id=\"Wrapping-up-3\"><span class=\"toc-item-num\">3&nbsp;&nbsp;</span>Wrapping up</a></span></li></ul></div>"
   ]
  },
  {
   "cell_type": "markdown",
   "metadata": {},
   "source": [
    "# Demo - Offensive Metrics in Baseball\n",
    "\n",
    "\n",
    "The classical baseball statistics are _Batting Average_, _On-Base Percentage_, and _Slugging Percentage_, which make up what is commonly known as a batters _Slash Line_ due to how the stats are displayed in order with a \"/\" between them.  \n",
    "\n",
    "This demo will explore how these metrics perform in quantifying team run scoring performance.  We will look at how well a statistic correlates with team run scoring to determine how well it serves as a measurement of a team's ability to score runs.  We will then look at advanced metrics like OPS and an empirical, data-driven metric known as wOBA.  We will show how these stats improve on the classical metrics.  \n",
    "\n",
    "The demo shows how we should think about evaluating metrics and provide motivation for exploring the construction process for building the advanced metrics.\n",
    "\n",
    "For this demo, we assume the user is familiar with the usual acronyms, shorthand abbreviations, and definitions of commonly used categories in baseball like BA for Batting Average, 1B for singles, and PA for plate appearances. "
   ]
  },
  {
   "cell_type": "markdown",
   "metadata": {},
   "source": [
    "## Classical Baseball Statistics\n",
    "\n",
    "In this first part, we study the classical baseball statistics that have been used extensively over the years.  We use team-level data from the Lahman Database which is obtainable here in CSV form: http://www.seanlahman.com/baseball-archive/statistics/\n",
    "\n",
    "The cell below loads the dataset and performs a few extra operations:\n",
    "+ We restrict to year 2000 and later.  We could take the analysis back further to say 1962 but we definitely should not consider the entire dataset without careful considerations (What happened in 1962 to the schedule? What was baseball like in 1900? What about 1994?).*  \n",
    "+ The dataset does not contain a field for singles so this is easy to compute from the available data as $H - \\mathit{2B} - \\mathit{3B} - \\mathit{HR}$\n",
    "+ $\\mathit{HBP}$ is a field that is not guaranteed to be recorded in the dataset.  After 2000 it is but if you make any modifications in your explorations, you'll want to 0 it out (we know it shouldn't be zero but we have no better option right now).\n",
    "+ Finally, we need to add plate appearances.  The quantity is only an approximate value for PA.  The reason is that there are other baseball events that occur but one unfortunate limitation of the Lahman Database is that it can sometimes have holes like this.\n",
    "\n",
    "*If you like, after working through this part of the notebook rerun the analyses and see what happens if you comment out the year restriction part.  If you know your ancient baseball history, think about the nature of the game at the end of the 19th century and the beginning of the 20th century and how its different from today."
   ]
  },
  {
   "cell_type": "code",
   "execution_count": null,
   "metadata": {},
   "outputs": [],
   "source": [
    "%run ../../utils/notebook_setup.py"
   ]
  },
  {
   "cell_type": "code",
   "execution_count": null,
   "metadata": {},
   "outputs": [],
   "source": [
    "from datascience import Table\n",
    "from datascience.util import table_apply\n",
    "\n",
    "import numpy as np\n",
    "\n",
    "# custom functions that will help do some simple tasks\n",
    "from datascience_utils import *\n",
    "from datascience_stats import *\n",
    "from datascience_topic import fast_run_expectancy, most_common_lineup_position"
   ]
  },
  {
   "cell_type": "code",
   "execution_count": null,
   "metadata": {},
   "outputs": [],
   "source": [
    "# Load lahman_teams.csv obtained from the Lahman databank.  We only need a selection of the columns.\n",
    "lahman = Table.read_table(\"lahman_teams.csv\", usecols=[0, 3, 6] + list(range(14, 28)))\n",
    "\n",
    "# Restrict to after the year 2000\n",
    "lahman = lahman.where(lahman['yearID'] >= 2000).copy()\n",
    "\n",
    "# Need to add two fields, singles and PA (which is only approximate)\n",
    "lahman['1B'] = lahman['H'] - lahman['2B'] - lahman['3B'] - lahman['HR']\n",
    "lahman['HBP'] = fill_null(lahman, fill_column='HBP', fill_value=0)\n",
    "lahman['PA'] = lahman['AB'] + lahman['BB'] + lahman['HBP'] + lahman['SF']\n",
    "\n",
    "lahman.show(5)"
   ]
  },
  {
   "cell_type": "markdown",
   "metadata": {},
   "source": [
    "### Computing Classical Statistics\n",
    "\n",
    "Using the formula for BA, OBP, and SLG, we add the classical stats to the dataset."
   ]
  },
  {
   "cell_type": "code",
   "execution_count": null,
   "metadata": {},
   "outputs": [],
   "source": [
    "# Batting Average\n",
    "lahman['BA'] = lahman['H'] / lahman['AB']\n",
    "# On-Base Percentage\n",
    "lahman['OBP'] = (lahman['H'] + lahman['BB'] + lahman['HBP']) / lahman['PA']\n",
    "# Slugging Percentage\n",
    "lahman['SLG'] = (lahman['1B'] + 2 * lahman['2B'] +\n",
    "                 3 * lahman['3B'] + 4 * lahman['HR']) / lahman['AB']"
   ]
  },
  {
   "cell_type": "markdown",
   "metadata": {},
   "source": [
    "We can visualize the typical team values for the stats to get a feel for what we can expect from teams.  Team values will be inherently more concentrated than player values since teams are made up of an assortment of player ability levels."
   ]
  },
  {
   "cell_type": "code",
   "execution_count": null,
   "metadata": {},
   "outputs": [],
   "source": [
    "lahman.hist('BA', bins=20)"
   ]
  },
  {
   "cell_type": "code",
   "execution_count": null,
   "metadata": {},
   "outputs": [],
   "source": [
    "lahman.hist('OBP', bins=20)"
   ]
  },
  {
   "cell_type": "code",
   "execution_count": null,
   "metadata": {},
   "outputs": [],
   "source": [
    "lahman.hist('SLG', bins=20)"
   ]
  },
  {
   "cell_type": "markdown",
   "metadata": {},
   "source": [
    "### Classical Stats and Runs Scored\n",
    "\n",
    "We can look at simple scatter plots between the classic stats and runs scored to see how they relate.  We will also compute some metrics that quantify the relationship but suffice to say, having higher values for these metrics will tend to increase run scoring.  The most tenuous relationship definitely appears to be batting average.\n"
   ]
  },
  {
   "cell_type": "code",
   "execution_count": null,
   "metadata": {},
   "outputs": [],
   "source": [
    "stats = ['BA', 'OBP', 'SLG']\n",
    "scatterplot_by_x(lahman, stats, 'R', title='Classical Stats vs Runs')"
   ]
  },
  {
   "cell_type": "markdown",
   "metadata": {},
   "source": [
    "#### Correlation with Team Runs\n",
    "\n",
    "This is the most involved step of Part I of the lab.  For each of the three classical stats, we need to do four things:\n",
    "1. Compute a linear relationship between Team Runs and the statistic.  For example, for Batting Average:\n",
    "$$\n",
    "    \\text{Predicted Team Runs} = \\alpha + \\beta \\cdot \\text{Team Batting Average}\n",
    "$$\n",
    "Each statistic will have its own $\\alpha, \\beta$ value.  We are not so interested in those values but rather the predicted value of Team Runs given a Team Batting Average and its error.\n",
    "2. The error of the prediction in 1:\n",
    "$$\n",
    "    \\text{Error} = \\text{Team Runs} - \\text{Predicted Team Runs}\n",
    "$$\n",
    "3. The correlation between the statistic and Team Runs\n",
    "4. Plots of the relationship between Team Runs and the statistic, the linear relationship, and the errors.\n"
   ]
  },
  {
   "cell_type": "markdown",
   "metadata": {},
   "source": [
    "##### 1. and 2. Linear Relationship and Error"
   ]
  },
  {
   "cell_type": "code",
   "execution_count": null,
   "metadata": {},
   "outputs": [],
   "source": [
    "linear_relationships = {}\n",
    "errors = {}\n",
    "\n",
    "linear_fits = Table().with_column('R', lahman['R'])\n",
    "\n",
    "for i, stat in enumerate(stats):\n",
    "    # Linear fit\n",
    "    params, predictions, error = linear_fit(lahman[stat], lahman['R'])\n",
    "    linear_relationships[stat] = params\n",
    "    linear_fits = linear_fits.with_column(stat, lahman[stat])\n",
    "    linear_fits = linear_fits.with_column(stat + '_pred', predictions)\n",
    "    linear_fits = linear_fits.with_column(stat + '_err', error)\n",
    "\n",
    "linear_fits.show(10)"
   ]
  },
  {
   "cell_type": "markdown",
   "metadata": {},
   "source": [
    "##### 3. Correlation"
   ]
  },
  {
   "cell_type": "code",
   "execution_count": null,
   "metadata": {},
   "outputs": [],
   "source": [
    "correlations = {}\n",
    "\n",
    "for i, stat in enumerate(stats):\n",
    "    # Correlation\n",
    "    correlations[stat] = correlation(lahman[stat], lahman['R'])"
   ]
  },
  {
   "cell_type": "markdown",
   "metadata": {},
   "source": [
    "##### 4. Plotting the results\n",
    "\n",
    "We put together the results into a simple set of pairs of plots\n",
    "+ In the first plot we show a scatter plot and the linear relationship between a statistic and team runs.  What is immediately clear is that these stats are in fact related to scoring and not complete nonsense. In fact, if they were all you had, they would be okay.  But as we will see, you can do better.\n",
    "+ In the second plot, we show the errors between the actual team run values and the predicted values from the linear relationship.  We do this because we want to visually see that OBP and SLG do in fact improve on BA in terms of the size of the errors.  By tending to have smaller error, this shows OBP and SLG correlate/associate with run scoring in a stronger manner than just batting average."
   ]
  },
  {
   "cell_type": "code",
   "execution_count": null,
   "metadata": {},
   "outputs": [],
   "source": [
    "stat = 'BA'\n",
    "linear_fits.scatter(stat, select='R', fit_line=True, color='C0')\n",
    "linear_fits.scatter(stat, select=stat + '_err', color='C1')"
   ]
  },
  {
   "cell_type": "code",
   "execution_count": null,
   "metadata": {},
   "outputs": [],
   "source": [
    "stat = 'OBP'\n",
    "linear_fits.scatter(stat, select='R', fit_line=True, color='C0')\n",
    "linear_fits.scatter(stat, select=stat + '_err', color='C1')"
   ]
  },
  {
   "cell_type": "code",
   "execution_count": null,
   "metadata": {
    "scrolled": true
   },
   "outputs": [],
   "source": [
    "stat = 'SLG'\n",
    "linear_fits.scatter(stat, select='R', fit_line=True, color='C0')\n",
    "linear_fits.scatter(stat, select=stat + '_err', color='C1')"
   ]
  },
  {
   "cell_type": "markdown",
   "metadata": {},
   "source": [
    "We also print out some results for each statistic."
   ]
  },
  {
   "cell_type": "code",
   "execution_count": null,
   "metadata": {},
   "outputs": [],
   "source": [
    "def stat_summary_print(stat, corr, err_std):\n",
    "    print(f\"Stat: {stat}\")\n",
    "    print(\"=\" * 20)\n",
    "    print(f\"Correlation with Runs: {corr:.3f}\")\n",
    "    print(f\"Std dev of errors (in Runs): {err_std:.3f}\")\n",
    "    print()\n",
    "    \n",
    "for stat in stats:\n",
    "    corr = correlations[stat]\n",
    "    err_std = np.std(linear_fits[stat + '_err'])\n",
    "    # Print summary\n",
    "    stat_summary_print(stat, corr, err_std)"
   ]
  },
  {
   "cell_type": "markdown",
   "metadata": {},
   "source": [
    "The correlation shows that OBP and SLG have a stronger link to run scoring.  The standard deviation of the prediction errors, which measures the overall magnitude of the errors (and is in the units of runs) and shows that errors are dramatically reduced by considering OBP and SLG.  A difference in standard deviation between BA and SLG of 15 runs translates to about 1.5 wins, no small matter."
   ]
  },
  {
   "cell_type": "markdown",
   "metadata": {},
   "source": [
    "_Questions_\n",
    "\n",
    "+ If we came up with a metric that can perfectly predict team run scoring in the period we have been exploring (post year 2000), why should we be suspicious of this metric?\n",
    "+ What do you think of the implicit assumption that if a metric works well in measuring team performance that it works well at the player level?  Do you have a problem with the assumpion and if so, why?  If not, give a justification for the assumption."
   ]
  },
  {
   "cell_type": "markdown",
   "metadata": {},
   "source": [
    "### Correlation Between Statistics\n",
    "\n",
    "One thing we might wonder is since OBP and SLG are seemingly both improvements on BA, are they telling us something different?  Well, for one, based on the construction we know that has to be true.  The extra weighting of extra base hits means they cannot possibly be the same.  But to what extent are they different?  \n",
    "\n",
    "Well, we can look at the correlations between the three statistics to see how closely they relate to each other.  We find that OBP is pretty closely linked to BA and we know that whatever difference exists there is due entirely to ignoring walks and hit py pitch events. \n",
    "\n",
    "SLG shows a lower correlation with either BA and OBP, clearly due to its weighting for extra base hits."
   ]
  },
  {
   "cell_type": "code",
   "execution_count": null,
   "metadata": {},
   "outputs": [],
   "source": [
    "rho_obp_ba = correlation(lahman[\"OBP\"], lahman['BA'])\n",
    "rho_obp_slg = correlation(lahman[\"OBP\"], lahman['SLG'])\n",
    "rho_ba_slg = correlation(lahman[\"BA\"], lahman['SLG'])\n",
    "\n",
    "print(f\" BA and OBP: {rho_obp_ba:.3f}\")\n",
    "print(f\" BA and SLG: {rho_ba_slg:.3f}\")\n",
    "print(f\"OBP and SLG: {rho_obp_slg:.3f}\")"
   ]
  },
  {
   "cell_type": "markdown",
   "metadata": {},
   "source": [
    "_Question_\n",
    "+ Why does it matter that OBP and SLG correlate with team runs but not completely with each other?"
   ]
  },
  {
   "cell_type": "markdown",
   "metadata": {},
   "source": [
    "## Advanced Statistics\n",
    "\n",
    "### OPS\n",
    "\n",
    "OPS stands for \"On-Base Plus Slugging\".  The formula for OPS is pretty obvious:\n",
    "$$\n",
    "    \\mathit{OPS} = \\mathit{OBP} + \\mathit{SLG}\n",
    "$$\n",
    "OPS is probably the most well-known advanced metric since it is often the first foray into advanced stats for people.\n",
    "\n",
    "As we've seen above, OBP and SLG are both good metrics for run scoring.  Because they're not perfectly correlated, we can try to combine them in some way (in this case, just adding them) and hopefully gain some extra power in measuring performance.\n",
    "\n",
    "One thing that should be pointed out about OPS is that is adds two metrics that measure two entirely different things: times on-base per plate appearance vs. total bases per at-bat.  Therefore, the actual number coming out of OPS is meaningless other than higher is better. "
   ]
  },
  {
   "cell_type": "code",
   "execution_count": null,
   "metadata": {},
   "outputs": [],
   "source": [
    "# Team OPS\n",
    "lahman['OPS'] = lahman['OBP'] + lahman['SLG']"
   ]
  },
  {
   "cell_type": "markdown",
   "metadata": {},
   "source": [
    "As before, we can visualize the typical team values for OPS to get a feel for what we can expect from teams.  Since the actual numeric value of OPS has no meaning, it's important to know what typical team OPS values are.  "
   ]
  },
  {
   "cell_type": "code",
   "execution_count": null,
   "metadata": {},
   "outputs": [],
   "source": [
    "lahman.hist('OPS', bins=20)"
   ]
  },
  {
   "cell_type": "markdown",
   "metadata": {},
   "source": [
    "### wOBA\n",
    "\n",
    "wOBA stands for \"Weighted On Base Average\" and is one of the premier advanced stats out there.  It is empirically driven meaning that it was created using play-by-play baseball data and is specifically designed to perform well.  This is in contrast to BA, OBP, SLG, and OPS that were designed on intuition to measure something we had good to think mattered.  And to a large degree, BA, OBP, and SLG do measure things that matter as the above analysis showed.\n",
    "\n",
    "The formula for wOBA is given by,\n",
    "$$\n",
    "    \\mathit{wOBA} =\n",
    "    \\frac{0.72\\cdot \\mathit{BB} + 0.75\\cdot \\mathit{HBP} + 0.90\\cdot \\mathit{1B} + 1.24\\cdot\\mathit{2B} + 1.56\\cdot\\mathit{3B} + 1.95\\cdot\\mathit{HR}}{\\mathit{PA}}\n",
    "$$\n",
    "Notice how wOBA values events differently but in different proportion from SLG.  A HR is only worth about 2.2x as much as a single instead of 4x as in SLG.  We'll dive into why wOBA doesn't weight HR as strongly but the main point is that it's actually the data telling us not to weight HR as strongly compared to a (sort of) arbitrary choice to weight using the number of bases for the hit.  \n",
    "\n",
    "Also notice also that BB and HBP are worth not quite as much as a single.  This is actually pretty easy to grasp: we naturally prefer (and thus weight more heavily) a single to a walk because while both events leave you at first, a single puts the ball in play and therefore can lead to more advancement of runners and thus more scoring.  "
   ]
  },
  {
   "cell_type": "code",
   "execution_count": null,
   "metadata": {},
   "outputs": [],
   "source": [
    "# Team wOBA\n",
    "lahman['wOBA']= (\n",
    "    .72 * lahman['BB'] + .75 * lahman['HBP'] + \n",
    "    .9 * lahman['1B'] + 1.24 * lahman['2B'] +  \n",
    "    1.56 * lahman['3B'] + 1.95 * lahman['HR']\n",
    ") / lahman['PA']"
   ]
  },
  {
   "cell_type": "markdown",
   "metadata": {},
   "source": [
    "You may notice with wOBA that it appears to be very similar in scale to OBP.  In fact, that is by design: a typical good OBP for a player or a team is also a typical good wOBA value.  Ditto for bad OBP values."
   ]
  },
  {
   "cell_type": "code",
   "execution_count": null,
   "metadata": {},
   "outputs": [],
   "source": [
    "lahman.hist('wOBA', bins=20)"
   ]
  },
  {
   "cell_type": "markdown",
   "metadata": {},
   "source": [
    "### Advanced Stats and Runs Scored\n",
    "\n",
    "1. We'll reuse the previous correlation and linear fit analysis for BA, OBP, and SLG and compute the corresponding quantities for OPS and wOBA.\n",
    "2. Then we'll generate the same scatter plots of OPS and wOBA vs Runs Scored as well as the scatter plots on the errors.\n",
    "3. We'll use the `stat_summary_print` function to print out the results\n",
    "4. Finally, we'll generate the correlation between wOBA and OPS"
   ]
  },
  {
   "cell_type": "code",
   "execution_count": null,
   "metadata": {},
   "outputs": [],
   "source": [
    "adv_stats = ['OPS', 'wOBA']\n",
    "\n",
    "for i, stat in enumerate(adv_stats):\n",
    "    # Linear fit\n",
    "    params, predictions, error = linear_fit(lahman[stat], lahman['R']) \n",
    "    linear_relationships[stat] = params\n",
    "    correlations[stat] = correlation(lahman[stat], lahman['R'])\n",
    "    linear_fits = linear_fits.with_column(stat, lahman[stat])\n",
    "    linear_fits = linear_fits.with_column(stat + '_pred', predictions)\n",
    "    linear_fits = linear_fits.with_column(stat + '_err', error)"
   ]
  },
  {
   "cell_type": "code",
   "execution_count": null,
   "metadata": {},
   "outputs": [],
   "source": [
    "stat = 'OPS'\n",
    "linear_fits.scatter(stat, select='R', fit_line=True, color='C0')\n",
    "linear_fits.scatter(stat, select=stat + '_err', color='C1')"
   ]
  },
  {
   "cell_type": "code",
   "execution_count": null,
   "metadata": {},
   "outputs": [],
   "source": [
    "stat = 'wOBA'\n",
    "linear_fits.scatter(stat, select='R', fit_line=True, color='C0')\n",
    "linear_fits.scatter(stat, select=stat + '_err', color='C1')"
   ]
  },
  {
   "cell_type": "code",
   "execution_count": null,
   "metadata": {},
   "outputs": [],
   "source": [
    "for stat in adv_stats:\n",
    "    corr = correlations[stat]\n",
    "    err_std = np.std(linear_fits[stat + '_err'])\n",
    "    # Print summary\n",
    "    stat_summary_print(stat, corr, err_std)"
   ]
  },
  {
   "cell_type": "code",
   "execution_count": null,
   "metadata": {},
   "outputs": [],
   "source": [
    "rho_ops_wOBA = correlation(lahman[\"OPS\"], lahman['wOBA'])\n",
    "print(f\"wOBA and OPS: {rho_ops_wOBA:.3f}\")"
   ]
  },
  {
   "cell_type": "markdown",
   "metadata": {},
   "source": [
    "## Wrapping up\n",
    "\n",
    "Okay, this was a pretty fun entry into developing some empirically driven approaches to measuring performance.\n",
    "\n",
    "Some final questions:\n",
    "\n",
    "+ What does our analysis say about future performance?  Does it say anything? \n",
    "+ Say a player has a .400 wOBA for a season.  What might we want to know about the metric wOBA when evaluating the player and valuing the player's future performance?"
   ]
  }
 ],
 "metadata": {
  "document_info": {
   "title": "Title"
  },
  "hide_input": false,
  "kernelspec": {
   "display_name": "Python 3",
   "language": "python",
   "name": "python3"
  },
  "language_info": {
   "codemirror_mode": {
    "name": "ipython",
    "version": 3
   },
   "file_extension": ".py",
   "mimetype": "text/x-python",
   "name": "python",
   "nbconvert_exporter": "python",
   "pygments_lexer": "ipython3",
   "version": "3.6.1"
  },
  "toc": {
   "nav_menu": {},
   "number_sections": true,
   "sideBar": true,
   "skip_h1_title": true,
   "title_cell": "Table of Contents",
   "title_sidebar": "Contents",
   "toc_cell": true,
   "toc_position": {
    "height": "calc(100% - 180px)",
    "left": "10px",
    "top": "150px",
    "width": "444px"
   },
   "toc_section_display": false,
   "toc_window_display": false
  },
  "varInspector": {
   "cols": {
    "lenName": 16,
    "lenType": 16,
    "lenVar": 40
   },
   "kernels_config": {
    "python": {
     "delete_cmd_postfix": "",
     "delete_cmd_prefix": "del ",
     "library": "var_list.py",
     "varRefreshCmd": "print(var_dic_list())"
    },
    "r": {
     "delete_cmd_postfix": ") ",
     "delete_cmd_prefix": "rm(",
     "library": "var_list.r",
     "varRefreshCmd": "cat(var_dic_list()) "
    }
   },
   "types_to_exclude": [
    "module",
    "function",
    "builtin_function_or_method",
    "instance",
    "_Feature"
   ],
   "window_display": false
  }
 },
 "nbformat": 4,
 "nbformat_minor": 2
}
