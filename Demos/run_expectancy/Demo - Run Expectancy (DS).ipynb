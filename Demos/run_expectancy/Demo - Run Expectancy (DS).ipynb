{
 "cells": [
  {
   "cell_type": "markdown",
   "metadata": {
    "toc": true
   },
   "source": [
    "<h1>Table of Contents<span class=\"tocSkip\"></span></h1>\n",
    "<div class=\"toc\"><ul class=\"toc-item\"><li><span><a href=\"#Run-Expectancy\" data-toc-modified-id=\"Run-Expectancy-1\"><span class=\"toc-item-num\">1&nbsp;&nbsp;</span>Run Expectancy</a></span><ul class=\"toc-item\"><li><span><a href=\"#Load-Play-by-Play-Data-from-Retrosheet\" data-toc-modified-id=\"Load-Play-by-Play-Data-from-Retrosheet-1.1\"><span class=\"toc-item-num\">1.1&nbsp;&nbsp;</span>Load Play-by-Play Data from Retrosheet</a></span></li><li><span><a href=\"#Runs-in-Remainder-of-Inning\" data-toc-modified-id=\"Runs-in-Remainder-of-Inning-1.2\"><span class=\"toc-item-num\">1.2&nbsp;&nbsp;</span>Runs in Remainder of Inning</a></span></li><li><span><a href=\"#Run-Expectancy-Matrix\" data-toc-modified-id=\"Run-Expectancy-Matrix-1.3\"><span class=\"toc-item-num\">1.3&nbsp;&nbsp;</span>Run Expectancy Matrix</a></span></li><li><span><a href=\"#On-Your-Own:-Evaluating-Strategies\" data-toc-modified-id=\"On-Your-Own:-Evaluating-Strategies-1.4\"><span class=\"toc-item-num\">1.4&nbsp;&nbsp;</span>On Your Own: Evaluating Strategies</a></span><ul class=\"toc-item\"><li><span><a href=\"#Stealing-Bases\" data-toc-modified-id=\"Stealing-Bases-1.4.1\"><span class=\"toc-item-num\">1.4.1&nbsp;&nbsp;</span>Stealing Bases</a></span></li><li><span><a href=\"#Bunting\" data-toc-modified-id=\"Bunting-1.4.2\"><span class=\"toc-item-num\">1.4.2&nbsp;&nbsp;</span>Bunting</a></span></li></ul></li><li><span><a href=\"#On-Your-Own:-End-of-Game-Stealing/Bunting\" data-toc-modified-id=\"On-Your-Own:-End-of-Game-Stealing/Bunting-1.5\"><span class=\"toc-item-num\">1.5&nbsp;&nbsp;</span>On Your Own: End of Game Stealing/Bunting</a></span><ul class=\"toc-item\"><li><span><a href=\"#End-of-Game-Stealing\" data-toc-modified-id=\"End-of-Game-Stealing-1.5.1\"><span class=\"toc-item-num\">1.5.1&nbsp;&nbsp;</span>End of Game Stealing</a></span></li><li><span><a href=\"#End-of-game-bunting\" data-toc-modified-id=\"End-of-game-bunting-1.5.2\"><span class=\"toc-item-num\">1.5.2&nbsp;&nbsp;</span>End of game bunting</a></span></li></ul></li></ul></li></ul></div>"
   ]
  },
  {
   "cell_type": "markdown",
   "metadata": {},
   "source": [
    "# Demo - Run Expectancy\n",
    "\n",
    "This demo explores the concept of run expectancy and the _Run Expectancy Matrix_, an empirically driven measurement of how many runs we should expect to score in a given out/baserunner state.  We use run expectancy to explore basic baseball strategies like bunting and stealing."
   ]
  },
  {
   "cell_type": "code",
   "execution_count": null,
   "metadata": {},
   "outputs": [],
   "source": [
    "%run ../../utils/notebook_setup.py"
   ]
  },
  {
   "cell_type": "code",
   "execution_count": null,
   "metadata": {},
   "outputs": [],
   "source": [
    "from datascience import Table\n",
    "import numpy as np\n",
    "\n",
    "# custom functions that will help do some simple tasks\n",
    "from datascience_utils import *\n",
    "from datascience_stats import *\n",
    "from datascience_topic import fast_run_expectancy"
   ]
  },
  {
   "cell_type": "markdown",
   "metadata": {},
   "source": [
    "## Run Expectancy"
   ]
  },
  {
   "cell_type": "markdown",
   "metadata": {},
   "source": [
    "### Load Play-by-Play Data from Retrosheet\n",
    "\n",
    "Raw Retrosheet data (http://www.retrosheet.org/) contains play-by-play event logs, representing very raw information about the events in a baseball game. Lucky for us, the software program Chadwick (found here:http://chadwick.sourceforge.net/doc/index.html) was created to handle a lot of the messy work to compiled the data into a useable form.  Chadwick converts the raw logs into CSV which is what we use here.  Also, Chadwick computes some pretty important quantities that we make use of.\n",
    "\n",
    "Note: This notebook uses data from 2001.  We could have used more recent data but Barry Bonds is a baseball god so part of this notebook is an excuse to revel in his statistical absurdity.\n",
    "\n",
    "For computing the Run Expectancy Matrix as well as other analsis, we only need a few columns.  The relevant columns are:\n",
    "+ EVENT_ID - An ID for the event in the dataset\n",
    "+ INN_CT - Inning number\n",
    "+ EVENT_CD - A code for what happened in the event\n",
    "+ OUTS_CT - Number of outs\n",
    "+ BAT_LINEUP_ID - Place in the batting order.  1 through 9.\n",
    "+ BAT_EVENT_FL - A T/F flag as to whether the play-by-play event corresponds to a plate appearance (T) or some other type of event (F).\n",
    "+ START_BASES_CD - An integer code representing the state of the runners, eg. runner on 2nd\n",
    "+ END_BASES_CD - An integer code representing the state of the runners AFTER the event ends.\n",
    "+ EVENT_OUTS_CT - Number of outs recorded on this event\n",
    "+ EVENT_RUNS_CT - Number of runs scored on this event\n",
    "+ FATE_RUNS_CT - Number of runs scored AFTER this event"
   ]
  },
  {
   "cell_type": "code",
   "execution_count": null,
   "metadata": {},
   "outputs": [],
   "source": [
    "cols = ['EVENT_ID', 'INN_CT', 'EVENT_CD', 'OUTS_CT', 'BAT_ID', 'BAT_LINEUP_ID',\n",
    "        'BAT_EVENT_FL', 'START_BASES_CD', 'END_BASES_CD', 'EVENT_OUTS_CT',\n",
    "        'EVENT_RUNS_CT', 'FATE_RUNS_CT']\n",
    "retro = Table.read_table('retrosheet_events-2001.csv.gz', sep=',', usecols=cols)\n",
    "\n",
    "new_cols = ['ID', 'Inning', 'Event_Type', 'Outs', 'Batter_ID', 'Lineup_Order',\n",
    "            'PA_Flag', 'Start_Bases', 'End_Bases', 'Event_Outs', 'Event_Runs',\n",
    "            'Future_Runs']\n",
    "retro.relabel(cols, new_cols)\n",
    "\n",
    "retro.show(10)"
   ]
  },
  {
   "cell_type": "markdown",
   "metadata": {},
   "source": [
    "The play-by-play data contains entries that are not plate appearances.  One example is balks.  We want to drop these entries because they are not relevant to the question we are trying to answer.  \n",
    "\n",
    "We also want to drop all data from the ninth inning or later.  This is because we want data that represents the regular course of play.  We hypothesize these end of game events violate some of our assumptions about the regular strategic play, or even are truncated due to walk-off events.\n",
    "\n",
    "These changes are not hugely impactful (for example, there are not that many non-batting events) but in the interest of completeness and proper data analysis, we perform this cleaning."
   ]
  },
  {
   "cell_type": "code",
   "execution_count": null,
   "metadata": {},
   "outputs": [],
   "source": [
    "bat_mask = (retro['PA_Flag'] == \"T\")\n",
    "retro = retro.where(bat_mask).copy()\n",
    "\n",
    "inning_mask = (retro['Inning'] < 9)\n",
    "retro = retro.where(inning_mask).copy()"
   ]
  },
  {
   "cell_type": "markdown",
   "metadata": {},
   "source": [
    "Another thing we want to do is convert the integer codes for baserunner situations into recognizable strings.  This information is available from http://www.retrosheet.org/."
   ]
  },
  {
   "cell_type": "code",
   "execution_count": null,
   "metadata": {},
   "outputs": [],
   "source": [
    "base_runner_codes = {\n",
    "    0: \"None on\",  # No one on\n",
    "    1: \"1st\",  # runner on 1st\n",
    "    2: \"2nd\",  # runner on 2nd\n",
    "    3: \"1st and 2nd\",  # runners on 1st & 2nd\n",
    "    4: \"3rd\",  # runner on 3rd\n",
    "    5: \"1st and 3rd\",  # runners on 1st & 3rd\n",
    "    6: \"2nd and 3rd\",  # runners on 2nd & 3rd\n",
    "    7: \"Bases Loaded\"  # bases loaded\n",
    "}\n",
    "# Replace the numeric code with a string code\n",
    "retro['Start_Bases'] = replace(retro, 'Start_Bases', base_runner_codes)\n",
    "retro['End_Bases'] = replace(retro, 'End_Bases', base_runner_codes)"
   ]
  },
  {
   "cell_type": "code",
   "execution_count": null,
   "metadata": {},
   "outputs": [],
   "source": [
    "event_codes = {\n",
    "    0: 'Unknown',\n",
    "    1: 'None',\n",
    "    2: 'Generic out',\n",
    "    3: 'K',  # Strikeout\n",
    "    4: 'SB',  # Stolen Base\n",
    "    5: 'Defensive indifference',\n",
    "    6: 'CS',  # Caught stealing\n",
    "    7: 'Pickoff error',\n",
    "    8: 'Pickoff',\n",
    "    9: 'Wild pitch',\n",
    "    10: 'Passed ball',\n",
    "    11: 'Balk',\n",
    "    12: 'Other advance/out advancing',\n",
    "    13: 'Foul error',\n",
    "    14: 'BB',  # Walk\n",
    "    15: 'IBB',  # Intentional walk\n",
    "    16: 'HBP',  # Hit by pitch\n",
    "    17: 'Interference',\n",
    "    18: 'RBOE',  # Reached base on error\n",
    "    19: 'FC',  # Fielder's choice\n",
    "    20: '1B',  # Single\n",
    "    21: '2B',  # Double\n",
    "    22: '3B',  # Triple\n",
    "    23: 'HR',  # Home run\n",
    "    24: 'Missing play',\n",
    "}\n",
    "\n",
    "# Replace numeric code with string\n",
    "retro['Event_Type'] = replace(retro, 'Event_Type', event_codes)"
   ]
  },
  {
   "cell_type": "markdown",
   "metadata": {},
   "source": [
    "### Runs in Remainder of Inning\n",
    "\n",
    "In order to compute the Run Expectancy Matrix, we need to just add `Future_Runs` and `Event_Runs`.  "
   ]
  },
  {
   "cell_type": "code",
   "execution_count": null,
   "metadata": {},
   "outputs": [],
   "source": [
    "retro['Runs_ROI'] = retro['Future_Runs'] + retro['Event_Runs']"
   ]
  },
  {
   "cell_type": "markdown",
   "metadata": {},
   "source": [
    "### Run Expectancy Matrix\n",
    "\n",
    "The Run Expectancy Matrix is computed by grouping by `Outs` and `Bases` and computing an average.  For each out and baserunner combination, this collects all plate appearances in our dataset and the runs scored in the remainder of the inning from that plate appearance and after.  We are left with the 24 values that comprise the Run Expectancy Matrix."
   ]
  },
  {
   "cell_type": "code",
   "execution_count": null,
   "metadata": {},
   "outputs": [],
   "source": [
    "re = retro.select('Outs', 'Start_Bases', 'Runs_ROI').\\\n",
    "    group(['Outs', 'Start_Bases'], np.mean)\n",
    "re.relabel('Runs_ROI mean', 'RE')\n",
    "re.pivot('Outs', 'Start_Bases', values='RE', collect=np.sum).\\\n",
    "    sort('0')"
   ]
  },
  {
   "cell_type": "markdown",
   "metadata": {},
   "source": [
    "_Questions_\n",
    "1. What does the Run Expectancy Matrix describe about the nature of baseball?  \n",
    "2. What can you observe about the difference between having a runner on second base vs third base (consider 2nd vs 3rd and 1st and 2nd vs 1st and 3rd)?  \n",
    "3. How do things change with 2 outs?\n",
    "4. What does run expectancy tell us generally about outs?  That is, how valuable is one extra base compared to an out?"
   ]
  },
  {
   "cell_type": "markdown",
   "metadata": {},
   "source": [
    "### On Your Own: Evaluating Strategies\n",
    "#### Stealing Bases\n",
    "\n",
    "We can perform a simple analysis of the strategy of stealing bases by computing a success rate for a base stealer that makes the run expectancy of the steal attempt equivalent to the run expectancy of the current state.\n",
    "\n",
    "The current state has run expectancy $\\mathit{RE}_{\\text{Current}}$ while the steal attempt has run expectancy of\n",
    "$$\n",
    "    \\text{RE}_{\\text{Steal Attempt}} = \\mathit{RE}_{\\text{SB}} \\cdot p_{\\text{SB}} + \n",
    "        \\mathit{RE}_{\\text{CS}} \\cdot (1 - p_{\\text{SB}}) \n",
    "$$\n",
    "Equating $\\mathit{RE}_{\\text{Current}} = \\text{RE}_{\\text{Steal Attempt}}$ gives the equalizing probability\n",
    "$$\n",
    "    p_{\\text{SB}} = \\frac{\\mathit{RE}_{\\text{Current}} - \\mathit{RE}_{\\text{CS}}}{\\mathit{RE}_{\\text{SB}} - \\mathit{RE}_{\\text{CS}}}\n",
    "$$\n",
    "\n",
    "To do:\n",
    "+ A helper function has been provided where you put in the RE matrix and an out value and baserunner situation and it will give you the RE value.\n",
    "+ Write a function to compute $p_{\\text{SB}}$.  The function should take these inputs:\n",
    "    + RE table (the non-pivoted version)\n",
    "    + Starting baserunner situation\n",
    "    + Caught stealing baserunner situation\n",
    "    + Stolen base baserunner situation.\n",
    "+ Consider three baserunner situations: \"1st\", \"2nd\", and \"1st and 2nd\" (ie. a double steal). Compute the success probability for each of the baserunner situations with varying out situations.  In the case of the double steal, we consider the natural case where the lead runner is thrown out.  \n",
    "+ For each baserunner situation, iterate over the number of outs and print the results using this string:  \n",
    "`f\"Outs: {outs}  P(SB): {p:.3f}\"`"
   ]
  },
  {
   "cell_type": "code",
   "execution_count": null,
   "metadata": {},
   "outputs": [],
   "source": [
    "def get_matrix_val(table, outs, base):\n",
    "    for o, b, v in table.to_array():\n",
    "        if outs == o and base == b:\n",
    "            return v"
   ]
  },
  {
   "cell_type": "code",
   "execution_count": null,
   "metadata": {},
   "outputs": [],
   "source": []
  },
  {
   "cell_type": "markdown",
   "metadata": {},
   "source": [
    "_Questions_\n",
    "1. At about what success probability do most situations balance out?\n",
    "2. What about for the double steal?  What does this analysis suggest about the risk-reward of a double steal?\n",
    "3. What about with a runner at second with 2 outs?  Does this make sense based on how you understand the baseball run scoring process?"
   ]
  },
  {
   "cell_type": "markdown",
   "metadata": {},
   "source": [
    "#### Bunting\n",
    "\n",
    "For bunting, we take a simpler view.  Assume we can execute the bunt strategy 100% of the time with a regular hitter (ie. not a pitcher at the plate).  Should we use this strategy?\n",
    "\n",
    "To do:\n",
    "+ Write a function that prints a string comparing the run expectancy for various baserunner and out situations.  Use the string `f\"Outs: {outs} RE_curr: {val_curr:.3f} RE_bunt: {val_bunt:.3f}\"` to print out the results.  The function should take as inputs:\n",
    "    + RE table (the non-pivoted version)\n",
    "    + Starting baserunner situation\n",
    "    + Ending baserunner situation following successful bunt\n",
    "+ Consider the three baserunner situations: \"1st\", \"2nd\", and \"1st and 2nd\". Compute the 4 values for each of the baserunner situations with varying out situations.    For each baserunner situation, iterate over the number of outs and print the results."
   ]
  },
  {
   "cell_type": "code",
   "execution_count": null,
   "metadata": {},
   "outputs": [],
   "source": []
  },
  {
   "cell_type": "markdown",
   "metadata": {},
   "source": [
    "_Questions_\n",
    "1. What does run expectancy say about whether you should bunt?  What does this tell us about the value of an out?\n",
    "2. What if we consider pitchers?  Does this analysis make sense?"
   ]
  },
  {
   "cell_type": "markdown",
   "metadata": {},
   "source": [
    "### On Your Own: End of Game Stealing/Bunting\n",
    "\n",
    "Let's consider bunts or steals in the context of an end-of-game strategy.  Let's say we are the home team batting in the last half of the ninth inning (or later) and the game is tied.  We get a runner on base.  Should we bunt or steal?\n",
    "\n",
    "In this situation we are no longer interested in expected runs but rather win probability.  And in this case, our probability of winning is just the probability of scoring more than one run.  We can compute a run/win probability matrix instead of a run expectancy matrix and use that to analyze the strategies.\n",
    "\n",
    "To do:\n",
    "+ Compute the win probability matrix but instead of using `np.mean` like we did with the table `re`, use a function that will compute\n",
    "$$\n",
    "    \\text{Probability of at least 1 run}\n",
    "        = \\frac{\\text{# of times scoring $\\geq$ 1 run}}\n",
    "                {\\text{Total number of observations}}\n",
    "$$"
   ]
  },
  {
   "cell_type": "code",
   "execution_count": null,
   "metadata": {},
   "outputs": [],
   "source": []
  },
  {
   "cell_type": "markdown",
   "metadata": {},
   "source": [
    "#### End of Game Stealing\n",
    "\n",
    "Perform the exact same base stealing analysis as before but use the win probability matrix instead.  You should be able to reuse almost all of the code from before but with the WP matrix.\n",
    "\n",
    "_Questions_\n",
    "1. What changed?  What do the new results say about getting a runner into scoring position in order to win?"
   ]
  },
  {
   "cell_type": "code",
   "execution_count": null,
   "metadata": {},
   "outputs": [],
   "source": []
  },
  {
   "cell_type": "markdown",
   "metadata": {},
   "source": [
    "#### End of game bunting\n",
    "\n",
    "Repeat the bunting analysis but use the win probability matrix instead.\n",
    "\n",
    "_Questions_\n",
    "1. Does it now make sense to bunt when you only need 1 run?\n",
    "2. What does the analysis say about an out now in an end of game situation?\n",
    "3. Would you use a bunt strategy?"
   ]
  },
  {
   "cell_type": "code",
   "execution_count": null,
   "metadata": {},
   "outputs": [],
   "source": []
  },
  {
   "cell_type": "markdown",
   "metadata": {},
   "source": [
    "_Questions_\n",
    "1. What are the limits of kind of analysis?  What kind of caveats are there?  To what kind of hitter and team circumstances does this analysis apply?  Can this analysis still be useful?\n",
    "2. Brainstorm some ways you might try to augment the analysis to improve it."
   ]
  }
 ],
 "metadata": {
  "hide_input": false,
  "kernelspec": {
   "display_name": "Python 3",
   "language": "python",
   "name": "python3"
  },
  "language_info": {
   "codemirror_mode": {
    "name": "ipython",
    "version": 3
   },
   "file_extension": ".py",
   "mimetype": "text/x-python",
   "name": "python",
   "nbconvert_exporter": "python",
   "pygments_lexer": "ipython3",
   "version": "3.6.1"
  },
  "toc": {
   "nav_menu": {},
   "number_sections": true,
   "sideBar": true,
   "skip_h1_title": true,
   "title_cell": "Table of Contents",
   "title_sidebar": "Contents",
   "toc_cell": true,
   "toc_position": {
    "height": "calc(100% - 180px)",
    "left": "10px",
    "top": "150px",
    "width": "444px"
   },
   "toc_section_display": true,
   "toc_window_display": false
  },
  "varInspector": {
   "cols": {
    "lenName": 16,
    "lenType": 16,
    "lenVar": 40
   },
   "kernels_config": {
    "python": {
     "delete_cmd_postfix": "",
     "delete_cmd_prefix": "del ",
     "library": "var_list.py",
     "varRefreshCmd": "print(var_dic_list())"
    },
    "r": {
     "delete_cmd_postfix": ") ",
     "delete_cmd_prefix": "rm(",
     "library": "var_list.r",
     "varRefreshCmd": "cat(var_dic_list()) "
    }
   },
   "types_to_exclude": [
    "module",
    "function",
    "builtin_function_or_method",
    "instance",
    "_Feature"
   ],
   "window_display": false
  }
 },
 "nbformat": 4,
 "nbformat_minor": 2
}
