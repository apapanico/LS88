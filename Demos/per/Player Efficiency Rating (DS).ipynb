{
 "cells": [
  {
   "cell_type": "markdown",
   "metadata": {
    "toc": true
   },
   "source": [
    "<h1>Table of Contents<span class=\"tocSkip\"></span></h1>\n",
    "<div class=\"toc\"><ul class=\"toc-item\"><li><span><a href=\"#Setup-and-Data\" data-toc-modified-id=\"Setup-and-Data-1\"><span class=\"toc-item-num\">1&nbsp;&nbsp;</span>Setup and Data</a></span><ul class=\"toc-item\"><li><span><a href=\"#The-Data\" data-toc-modified-id=\"The-Data-1.1\"><span class=\"toc-item-num\">1.1&nbsp;&nbsp;</span>The Data</a></span><ul class=\"toc-item\"><li><span><a href=\"#Remove-TOT-entries\" data-toc-modified-id=\"Remove-TOT-entries-1.1.1\"><span class=\"toc-item-num\">1.1.1&nbsp;&nbsp;</span>Remove TOT entries</a></span></li></ul></li></ul></li><li><span><a href=\"#PER\" data-toc-modified-id=\"PER-2\"><span class=\"toc-item-num\">2&nbsp;&nbsp;</span>PER</a></span><ul class=\"toc-item\"><li><span><a href=\"#PER-Formula\" data-toc-modified-id=\"PER-Formula-2.1\"><span class=\"toc-item-num\">2.1&nbsp;&nbsp;</span>PER Formula</a></span></li><li><span><a href=\"#The-Components-of-$uPER$\" data-toc-modified-id=\"The-Components-of-$uPER$-2.2\"><span class=\"toc-item-num\">2.2&nbsp;&nbsp;</span>The Components of $uPER$</a></span><ul class=\"toc-item\"><li><span><a href=\"#Three-Pointers\" data-toc-modified-id=\"Three-Pointers-2.2.1\"><span class=\"toc-item-num\">2.2.1&nbsp;&nbsp;</span>Three Pointers</a></span></li><li><span><a href=\"#Assists\" data-toc-modified-id=\"Assists-2.2.2\"><span class=\"toc-item-num\">2.2.2&nbsp;&nbsp;</span>Assists</a></span></li><li><span><a href=\"#Field-Goals\" data-toc-modified-id=\"Field-Goals-2.2.3\"><span class=\"toc-item-num\">2.2.3&nbsp;&nbsp;</span>Field Goals</a></span></li><li><span><a href=\"#Free-Throws\" data-toc-modified-id=\"Free-Throws-2.2.4\"><span class=\"toc-item-num\">2.2.4&nbsp;&nbsp;</span>Free Throws</a></span></li><li><span><a href=\"#Turnovers\" data-toc-modified-id=\"Turnovers-2.2.5\"><span class=\"toc-item-num\">2.2.5&nbsp;&nbsp;</span>Turnovers</a></span></li><li><span><a href=\"#MIssed-FGs\" data-toc-modified-id=\"MIssed-FGs-2.2.6\"><span class=\"toc-item-num\">2.2.6&nbsp;&nbsp;</span>MIssed FGs</a></span></li><li><span><a href=\"#Missed-FTs\" data-toc-modified-id=\"Missed-FTs-2.2.7\"><span class=\"toc-item-num\">2.2.7&nbsp;&nbsp;</span>Missed FTs</a></span></li><li><span><a href=\"#Defensive-Rebounds\" data-toc-modified-id=\"Defensive-Rebounds-2.2.8\"><span class=\"toc-item-num\">2.2.8&nbsp;&nbsp;</span>Defensive Rebounds</a></span></li><li><span><a href=\"#Offensive-Rebounds\" data-toc-modified-id=\"Offensive-Rebounds-2.2.9\"><span class=\"toc-item-num\">2.2.9&nbsp;&nbsp;</span>Offensive Rebounds</a></span></li><li><span><a href=\"#Steals\" data-toc-modified-id=\"Steals-2.2.10\"><span class=\"toc-item-num\">2.2.10&nbsp;&nbsp;</span>Steals</a></span></li><li><span><a href=\"#Blocks\" data-toc-modified-id=\"Blocks-2.2.11\"><span class=\"toc-item-num\">2.2.11&nbsp;&nbsp;</span>Blocks</a></span></li><li><span><a href=\"#Fouls\" data-toc-modified-id=\"Fouls-2.2.12\"><span class=\"toc-item-num\">2.2.12&nbsp;&nbsp;</span>Fouls</a></span></li><li><span><a href=\"#Curry's-$uPER$\" data-toc-modified-id=\"Curry's-$uPER$-2.2.13\"><span class=\"toc-item-num\">2.2.13&nbsp;&nbsp;</span>Curry's $uPER$</a></span></li></ul></li><li><span><a href=\"#Computing-PER\" data-toc-modified-id=\"Computing-PER-2.3\"><span class=\"toc-item-num\">2.3&nbsp;&nbsp;</span>Computing PER</a></span><ul class=\"toc-item\"><li><span><a href=\"#$lguPER$\" data-toc-modified-id=\"$lguPER$-2.3.1\"><span class=\"toc-item-num\">2.3.1&nbsp;&nbsp;</span>$lguPER$</a></span></li><li><span><a href=\"#Compute-$uPER$-for-each-player\" data-toc-modified-id=\"Compute-$uPER$-for-each-player-2.3.2\"><span class=\"toc-item-num\">2.3.2&nbsp;&nbsp;</span>Compute $uPER$ for each player</a></span></li><li><span><a href=\"#Team-and-League-Pace\" data-toc-modified-id=\"Team-and-League-Pace-2.3.3\"><span class=\"toc-item-num\">2.3.3&nbsp;&nbsp;</span>Team and League Pace</a></span></li><li><span><a href=\"#Why-we-need-to-pace-adjust\" data-toc-modified-id=\"Why-we-need-to-pace-adjust-2.3.4\"><span class=\"toc-item-num\">2.3.4&nbsp;&nbsp;</span>Why we need to pace adjust</a></span></li></ul></li></ul></li></ul></div>"
   ]
  },
  {
   "cell_type": "markdown",
   "metadata": {
    "cell_style": "split"
   },
   "source": [
    "# Performance Metrics in Basketball: PER\n",
    "\n",
    "\n",
    "---\n",
    "\n",
    "_Co-Authored with Derek Topper_\n",
    "\n",
    "\n",
    "So far we have studied offensive metrics for baseball.  One thing we have seen is that a lot of metrics are built as linear sums of positive and negative contributions.  We will dissect PER (Player Efficiency Rating) in this notebook and observe how it works as a metric for player performance.\n",
    "\n",
    "PER is a comprehensive metric that includes defensive statistics as well as offensive statistics.  While we have so far tried to segregate the two parts of play in baseball, we'll ignore that for now.\n",
    "\n",
    "Basketball has a lot of moving parts and so the challenge is to figure out what the positive and negative contributions a player can make are and how to value them.\n",
    "\n",
    "This notebook focuses on calculating Player Efficiency Rating given Raw NBA Player Data. PER looks like a complex, nasty equation but this notebook will break it down and show how simple and powerful it can be.\n",
    "\n",
    "\n"
   ]
  },
  {
   "cell_type": "markdown",
   "metadata": {
    "cell_style": "split"
   },
   "source": [
    "<img src=\"http://www.mercurynews.com/wp-content/uploads/2017/02/sjm-stancalbkc-0218-01.jpg?w=620\" style=\"width: 300px; height: 450px;\" />\n"
   ]
  },
  {
   "cell_type": "markdown",
   "metadata": {},
   "source": [
    "## Setup and Data"
   ]
  },
  {
   "cell_type": "code",
   "execution_count": null,
   "metadata": {},
   "outputs": [],
   "source": [
    "%run ../../utils/notebook_setup.py"
   ]
  },
  {
   "cell_type": "code",
   "execution_count": null,
   "metadata": {},
   "outputs": [],
   "source": [
    "from datascience import *\n",
    "import numpy as np\n",
    "%matplotlib inline\n",
    "import matplotlib.pyplot as plt\n",
    "import seaborn as sns"
   ]
  },
  {
   "cell_type": "markdown",
   "metadata": {},
   "source": [
    "### The Data\n",
    "\n",
    "We'll be working the total stats of all players from the 2016-17 NBA season. The metrics contain each player's unique totals for statistics like Points, Assists, Rebounds, Blocks and Steals.\n",
    "\n",
    "Here are the columns in the table below:\n",
    "* Rk -- Rank\n",
    "* Pos -- Position\n",
    "* Age -- Age of Player at the start of February 1st of that season.\n",
    "* Tm -- Team\n",
    "* G -- Games\n",
    "* GS -- Games Started\n",
    "* MP -- Minutes Played\n",
    "* FG -- Field Goals\n",
    "* FGA -- Field Goal Attempts\n",
    "* FG% -- Field Goal Percentage\n",
    "* 3P -- 3-Point Field Goals\n",
    "* 3PA -- 3-Point Field Goal Attempts\n",
    "* 3P% -- 3-Point Field Goal Percentage\n",
    "* 2P -- 2-Point Field Goals\n",
    "* 2PA -- 2-point Field Goal Attempts\n",
    "* 2P% -- 2-Point Field Goal Percentage\n",
    "* eFG% -- Effective Field Goal Percentage\n",
    "* FT -- Free Throws\n",
    "* FTA -- Free Throw Attempts\n",
    "* FT% -- Free Throw Percentage\n",
    "* ORB -- Offensive Rebounds\n",
    "* DRB -- Defensive Rebounds\n",
    "* TRB -- Total Rebounds\n",
    "* AST -- Assists\n",
    "* STL -- Steals\n",
    "* BLK -- Blocks\n",
    "* TOV -- Turnovers\n",
    "* PF -- Personal Fouls\n",
    "* PTS -- Points\n",
    "\n",
    "\n",
    "Our data has some players appearing more than once. That is because that player was traded or moved teams in the middle of the season. \n",
    "\n",
    "*For example:* Quincy Acy played 38 games total (TOT). Of those, 32 games were played for the Brooklyn Nets (BRK) and 6 were played for the Dallas Mavericks (DAL)"
   ]
  },
  {
   "cell_type": "code",
   "execution_count": null,
   "metadata": {},
   "outputs": [],
   "source": [
    "player_stats = Table().read_table('NBAPlayerStats2017.csv')\n",
    "player_stats.show(5)"
   ]
  },
  {
   "cell_type": "markdown",
   "metadata": {},
   "source": [
    "#### Remove TOT entries"
   ]
  },
  {
   "cell_type": "code",
   "execution_count": null,
   "metadata": {},
   "outputs": [],
   "source": [
    "player_stats = player_stats.where('Tm', are.not_equal_to('TOT'))"
   ]
  },
  {
   "cell_type": "markdown",
   "metadata": {},
   "source": [
    "## PER\n",
    "\n",
    "John Hollinger was an NBA columnist for ESPN.com for eight years and is currently the Vice President of Basketball Operations for the Memphis Grizzlies. While at ESPN, he coined many advanced metrics in order to quantify player and team performance, such as Player Efficiency Rating (PER), Offensive Efficiency, Defensive Efficiency and Pace Factor.\n",
    "\n",
    "PER is a rating of a player’s per-minute statistical performance that Hollinger developed to make player comparisons easier, and has become a widely used standard over the past decade. Hollinger has described PER as the sum of <a href http://www.espn.com/nba/columns/story?columnist=hollinger_john&id=2850240> \"all a player's positive accomplishments, subtracts the negative accomplishments, and returns a per-minute rating of a player's performance.\"</a>\n",
    "\n",
    "As PER attempts to be an all-encompassing number that looks at positive accomplishments, such as field goals, free throws, 3-pointers, assists, rebounds, blocks and steals, and negative results, such as missed shots, turnovers and fouls. \n",
    "\n",
    "The formula adds positive stats and subtracts negative ones through a statistical point value system. The rating for each player is then adjusted to a per-minute basis so that no player is negatively impcted by lack of playing time. It is also adjusted for pace of play. In the end, PER serves as one number that attempts to create an overall player score.\n"
   ]
  },
  {
   "cell_type": "markdown",
   "metadata": {},
   "source": [
    "### PER Formula\n",
    "$$\\ PER = \\left ( uPER \\times \\frac{lgPace}{tmPace} \\right ) \\times \\frac{15}{lguPER} $$\n",
    "\n",
    "Where:\n",
    "* ''uPER'' stands for unadjusted PER\n",
    "* ''tm'', the prefix, indicating of team rather than of player;\n",
    "* ''lg'', the prefix, indicating of league rather than of player;\n",
    "* ''Pace'' is related to the style of play of a team. We'll also get there later.\n",
    "\n",
    "The basic idea behind $uPER$ is the following:\n",
    "\\begin{align*}\n",
    "uPER & = \\frac{1}{min} \\times \\Bigg(\\Bigg.\\\\\n",
    "     & \\quad\\quad \\text{Three Pointers Made} \\\\\n",
    "     & \\quad\\quad + \\text{Contributions from Assists} \\\\\n",
    "     & \\quad\\quad + \\text{Contributions from FGs} \\\\\n",
    "     & \\quad\\quad + \\text{Contributions from FTs} \\\\\n",
    "     & \\quad\\quad - \\text{Contributions from TOs} \\\\\n",
    "     & \\quad\\quad - \\text{Contributions from Missed FGs} \\\\\n",
    "     & \\quad\\quad - \\text{Contributions from Missed FTs} \\\\\n",
    "     & \\quad\\quad + \\text{Contributions from Def Rebounds} \\\\\n",
    "     & \\quad\\quad + \\text{Contributions from Off Rebounds} \\\\\n",
    "     & \\quad\\quad + \\text{Contributions from Steals} \\\\\n",
    "     & \\quad\\quad + \\text{Contributions from Blocks} \\\\\n",
    "     & \\quad\\quad - \\text{Contributions from Fouls} \\\\\n",
    "     & \\quad \\Bigg.\\Bigg)\n",
    "\\end{align*}"
   ]
  },
  {
   "cell_type": "markdown",
   "metadata": {},
   "source": [
    "### The Components of $uPER$\n",
    "Let's do the computation for a specific player: Steph Curry\n",
    "\n"
   ]
  },
  {
   "cell_type": "code",
   "execution_count": null,
   "metadata": {},
   "outputs": [],
   "source": [
    "curry = player_stats.where('Player', are.equal_to('Stephen Curry'))\n",
    "curry"
   ]
  },
  {
   "cell_type": "markdown",
   "metadata": {},
   "source": [
    "#### Three Pointers\n",
    "Since three point shots are worth an extra point, we need to add in the extra point since it's not accounted for elsewhere.\n",
    "$$\n",
    "    \\text{Three Pointers Made} = \\mathit{3P}\n",
    "$$"
   ]
  },
  {
   "cell_type": "code",
   "execution_count": null,
   "metadata": {},
   "outputs": [],
   "source": [
    "three_pt_contr = curry['3P'][0]\n",
    "three_pt_contr"
   ]
  },
  {
   "cell_type": "markdown",
   "metadata": {},
   "source": [
    "#### Assists\n",
    "\n",
    "Assists were determined to have value of $2/3$: an assist directly leads to a bucket but you shouldn't get full credit for the bucket. You get two-thirds of a point from the field goal.\n",
    "\n",
    "$$ \\text{Contributions from Assists} = \\frac23 \\times AST$$"
   ]
  },
  {
   "cell_type": "code",
   "execution_count": null,
   "metadata": {},
   "outputs": [],
   "source": [
    "asts_contr = (2/3) * curry.column('AST')[0]\n",
    "asts_contr"
   ]
  },
  {
   "cell_type": "markdown",
   "metadata": {},
   "source": [
    "#### Field Goals\n",
    "\n",
    "The FG might have been assisted.  If so, we need to discount the value of the FG to account for that.  We do that using a league average rate at which FGs actually have assists.  $\\text{factor} \\times \\frac{tmAST}{tmFG}$ is meant to capture the expected number of FGs which were assisted with $\\text{factor}$ driving that expected value.  This is a lot like some of the baseball calculations we've seen with stolen bases or GIDP.\n",
    "\n",
    "$$\n",
    "\\text{Contributions from FGs} = \\left ( 2 - \\text{factor} \\times \\frac{tmAST}{tmFG} \\right ) \\times FG\n",
    "$$\n",
    "where \n",
    "$$\n",
    "    \\text{factor} = \\frac{2}{3} - \\left [ \\left ( 0.5 \\times \\frac{lgAST}{lgFG} \\right ) \\div \\left ( 2 \\times \\frac{lgFG}{lgFT} \\right ) \\right ]\n",
    "$$"
   ]
  },
  {
   "cell_type": "code",
   "execution_count": null,
   "metadata": {},
   "outputs": [],
   "source": [
    "# Team values\n",
    "team = player_stats.where('Tm', are.equal_to(curry.column('Tm')[0]))\n",
    "tmAST = sum(team.column('AST'))\n",
    "tmFG = (sum(team.column('FG')))\n",
    "\n",
    "# League values\n",
    "lgAST = sum(player_stats.column('AST'))\n",
    "lgFG = sum(player_stats.column('FG'))\n",
    "lgFT = sum(player_stats.column('FT'))\n",
    "\n",
    "# Factor\n",
    "factor = (2 / 3) - (0.5 * (lgAST / lgFG)) / (2 * (lgFG / lgFT))\n",
    "\n",
    "# FGs\n",
    "FG = curry.column('FG')[0]\n",
    "\n",
    "fg_contr = (2 - factor * tmAST / tmFG) * FG\n",
    "fg_contr"
   ]
  },
  {
   "cell_type": "markdown",
   "metadata": {},
   "source": [
    "#### Free Throws\n",
    "\n",
    "As with FGs, we need to discount FTs by the expected number of times they were assisted.\n",
    "$$\n",
    "    \\text{Contributions from FTs} = 0.5 \\times FT \\times \\left ( 2 -  \\frac{1}{3} \\times \\frac{tmAST}{tmFG} \\right )\n",
    "$$"
   ]
  },
  {
   "cell_type": "code",
   "execution_count": null,
   "metadata": {},
   "outputs": [],
   "source": [
    "FT = curry.column('FT')[0]\n",
    "ft_contr = .5 * FT * (2 - tmAST / (3 * tmFG) )\n",
    "ft_contr"
   ]
  },
  {
   "cell_type": "markdown",
   "metadata": {},
   "source": [
    "#### Turnovers\n",
    "Turnovers prevent a chance at scoring so we need to dock the value of a possession from the player's rating.\n",
    "$$\n",
    "    \\text{Contributions from TOs} = VOP \\times TO\n",
    "$$\n",
    "where $VOP$ is the value of a possession and is equal to\n",
    "$$\n",
    "    VOP = \\frac{lgPTS}{lgFGA - lgORB + lgTO + 0.44 \\times lgFTA}\n",
    "$$\n",
    "The denominator is an approximation to the number of possessions."
   ]
  },
  {
   "cell_type": "code",
   "execution_count": null,
   "metadata": {},
   "outputs": [],
   "source": [
    "lgPTS = sum(player_stats.column('PTS'))\n",
    "lgFGA = sum(player_stats.column('FGA'))\n",
    "lgORB = sum(player_stats.column('ORB'))\n",
    "lgTOV = sum(player_stats.column('TOV'))\n",
    "lgFTA = sum(player_stats.column('FTA'))\n",
    "\n",
    "vop = lgPTS / (lgFGA - lgORB + lgTOV + (.44 * lgFTA))\n",
    "vop"
   ]
  },
  {
   "cell_type": "code",
   "execution_count": null,
   "metadata": {},
   "outputs": [],
   "source": [
    "TO = curry['TOV'][0]\n",
    "to_contr = TO * vop \n",
    "to_contr"
   ]
  },
  {
   "cell_type": "markdown",
   "metadata": {},
   "source": [
    "#### MIssed FGs\n",
    "We need to dock the player for missed FGs that got rebounded by the defense.  A missed shot and no offensive rebound means a loss in the value of a possession.\n",
    "$$\n",
    "    \\text{Contributions from Missed FGs} = VOP \\times DRBP \\times \\left(FGA - FG \\right) \n",
    "$$\n",
    "where \n",
    "$$\n",
    "    DRBP = \\frac{lgTRB - lgORB}{lgTRB}\n",
    "$$"
   ]
  },
  {
   "cell_type": "code",
   "execution_count": null,
   "metadata": {},
   "outputs": [],
   "source": [
    "lgTRB = sum(player_stats.column('TRB'))\n",
    "lgORB = sum(player_stats.column('ORB'))\n",
    "drbp = (lgTRB - lgORB) / lgTRB\n",
    "drbp"
   ]
  },
  {
   "cell_type": "code",
   "execution_count": null,
   "metadata": {},
   "outputs": [],
   "source": [
    "FGA = curry.column('FGA')[0]\n",
    "missedfg_contr = vop * drbp * (FGA - FG)\n",
    "missedfg_contr"
   ]
  },
  {
   "cell_type": "markdown",
   "metadata": {},
   "source": [
    "#### Missed FTs\n",
    "We need to account for how missed FTs that didn't get rebounded by the offense led to a diminished value of the possession (not a full loss like a missed FG).  The arithmetic to account for this is given by,\n",
    "$$\n",
    "    \\text{Contributions from Missed FTs} = VOP \\times 0.44 \\times \\left(0.44 + 0.56 \\times DRBP \\right)\n",
    "         \\times \\left(FTA - FT \\right) \n",
    "$$"
   ]
  },
  {
   "cell_type": "code",
   "execution_count": null,
   "metadata": {},
   "outputs": [],
   "source": [
    "FTA = curry.column('FTA')[0]\n",
    "missedft_contr = vop * .44 * (.44 + .56 * drbp) * (FTA - FT)\n",
    "missedft_contr"
   ]
  },
  {
   "cell_type": "markdown",
   "metadata": {},
   "source": [
    "#### Defensive Rebounds\n",
    "Since you are gaining a possession for your team, you should be rewarded for your rebounds but at the rate at which the team offensive rebound.\n",
    "\n",
    "$$\n",
    "    \\text{Contributions from Def Rebounds} = VOP \\times \\left(1 - DRBP \\right) \\times \\left(TRB - ORB \\right)\n",
    "$$"
   ]
  },
  {
   "cell_type": "code",
   "execution_count": null,
   "metadata": {},
   "outputs": [],
   "source": [
    "TRB = curry.column('TRB')[0]\n",
    "ORB = curry.column('ORB')[0]\n",
    "drb_contr = vop * (1 - drbp) * (TRB - ORB)\n",
    "drb_contr"
   ]
  },
  {
   "cell_type": "markdown",
   "metadata": {},
   "source": [
    "#### Offensive Rebounds\n",
    "Offensive rebounds lead to an extended possession so this should be rewarded but discounted by how often teams give up offensive rebounds.\n",
    "$$\n",
    "    \\text{Contributions from Off Rebounds} = VOP \\times DRBP \\times ORB \n",
    "$$"
   ]
  },
  {
   "cell_type": "code",
   "execution_count": null,
   "metadata": {},
   "outputs": [],
   "source": [
    "orb_contr = vop * drbp * ORB\n",
    "orb_contr"
   ]
  },
  {
   "cell_type": "markdown",
   "metadata": {},
   "source": [
    "#### Steals\n",
    "Steals lead to a possession for the team so reward with $VOP$\n",
    "$$\n",
    "\\text{Contributions from Steals} = VOP \\times STL\n",
    "$$"
   ]
  },
  {
   "cell_type": "code",
   "execution_count": null,
   "metadata": {},
   "outputs": [],
   "source": [
    "STL = curry['STL'][0]\n",
    "stl_contr = vop * STL\n",
    "stl_contr"
   ]
  },
  {
   "cell_type": "markdown",
   "metadata": {},
   "source": [
    "#### Blocks\n",
    "Blocks are rewarded for gaining a possession at the rate at which they are rebounded.\n",
    "$$\n",
    "    \\text{Contributions from Blocks} = VOP \\times DRBP \\times BLK \n",
    "$$"
   ]
  },
  {
   "cell_type": "code",
   "execution_count": null,
   "metadata": {},
   "outputs": [],
   "source": [
    "BLK = curry['BLK'][0]\n",
    "blk_contr = vop * drbp * BLK\n",
    "blk_contr"
   ]
  },
  {
   "cell_type": "markdown",
   "metadata": {},
   "source": [
    "#### Fouls\n",
    "Fouls lead to opposing points so you should be docked for giving up points.  You should only be docked for giving points above the expected value for those possessions.\n",
    "\n",
    "\\begin{align*}\n",
    "    \\text{Contributions from Fouls} & = \\text{Total points from commmited fouls} - \\text{Points expected on those possessions} \\\\\n",
    "    & = \n",
    "    PF \\times \\frac{lgFT}{lgPF} - PF \\times 0.44 \\times \\frac{lgFTA}{lgPF} \\times VOP\n",
    "\\end{align*}"
   ]
  },
  {
   "cell_type": "code",
   "execution_count": null,
   "metadata": {},
   "outputs": [],
   "source": [
    "lgPF = sum(player_stats.column('PF'))\n",
    "\n",
    "PF = curry['PF'][0]\n",
    "foul_contr = PF * lgFT / lgPF - PF * .44 * lgFTA / lgPF * vop\n",
    "foul_contr"
   ]
  },
  {
   "cell_type": "markdown",
   "metadata": {},
   "source": [
    "#### Curry's $uPER$\n",
    "\n",
    "We put together all the contributions and we get $uPER$."
   ]
  },
  {
   "cell_type": "code",
   "execution_count": null,
   "metadata": {},
   "outputs": [],
   "source": [
    "MP = curry['MP'][0]\n",
    "curry_uper = (\n",
    "    three_pt_contr + asts_contr + fg_contr + ft_contr\n",
    "    - to_contr - missedfg_contr - missedft_contr\n",
    "    + drb_contr + orb_contr + stl_contr + blk_contr\n",
    "    - foul_contr\n",
    ") / MP\n",
    "curry_uper"
   ]
  },
  {
   "cell_type": "markdown",
   "metadata": {},
   "source": [
    "### Computing PER\n",
    "\n",
    "Recall the formula\n",
    "$$\\ PER = \\left ( uPER \\times \\frac{lgPace}{tmPace} \\right ) \\times \\frac{15}{lguPER} $$\n",
    "where we now have $uPER$ for Steph Curry.\n",
    "\n",
    "#### $lguPER$\n",
    "We need to compute $uPER$ for every player.  We take the previous code and put it into a function to compute for every player."
   ]
  },
  {
   "cell_type": "code",
   "execution_count": null,
   "metadata": {},
   "outputs": [],
   "source": [
    "def uPER(player_name, player_stats):\n",
    "    player = player_stats.where('Player', are.equal_to(player_name))\n",
    "\n",
    "    # Team values\n",
    "    team = player_stats.where('Tm', are.equal_to(player['Tm'][0]))\n",
    "    tmAST = sum(team.column('AST'))\n",
    "    tmFG = (sum(team.column('FG')))\n",
    "\n",
    "    # League values\n",
    "    lgPTS = sum(player_stats.column('PTS'))\n",
    "    lgFG = sum(player_stats.column('FG'))\n",
    "    lgFGA = sum(player_stats.column('FGA'))\n",
    "    lgAST = sum(player_stats.column('AST'))\n",
    "    lgFT = sum(player_stats.column('FT'))\n",
    "    lgFTA = sum(player_stats.column('FTA'))\n",
    "    lgTRB = sum(player_stats.column('TRB'))\n",
    "    lgORB = sum(player_stats.column('ORB'))\n",
    "    lgTOV = sum(player_stats.column('TOV'))\n",
    "    lgPF = sum(player_stats.column('PF'))\n",
    "\n",
    "    # Values\n",
    "    factor = (2 / 3) - (0.5 * (lgAST / lgFG)) / (2 * (lgFG / lgFT))\n",
    "    vop = lgPTS / (lgFGA - lgORB + lgTOV + (.44 * lgFTA))\n",
    "    drbp = (lgTRB - lgORB) / lgTRB\n",
    "\n",
    "    # Stats\n",
    "    MP = player['MP'][0]\n",
    "    FG3 = player['3P'][0]\n",
    "    FG = player.column('FG')[0]\n",
    "    FGA = player.column('FGA')[0]\n",
    "    AST = player.column('AST')[0]\n",
    "    FT = player.column('FT')[0]\n",
    "    FTA = player.column('FTA')[0]\n",
    "    TRB = player.column('TRB')[0]\n",
    "    ORB = player.column('ORB')[0]\n",
    "    STL = player['STL'][0]\n",
    "    TO = player['TOV'][0]\n",
    "    BLK = player['BLK'][0]\n",
    "    PF = player['PF'][0]\n",
    "\n",
    "    # Contributions\n",
    "    three_pt_contr = FG3\n",
    "    asts_contr = (2/3) * AST\n",
    "    fg_contr = (2 - factor * tmAST / tmFG) * FG\n",
    "    ft_contr = .5 * FT * (2 - tmAST / (3 * tmFG))\n",
    "    to_contr = TO * vop \n",
    "    missedfg_contr = vop * drbp * (FGA - FG)\n",
    "    missedft_contr = vop * .44 * (.44 + .56 * drbp) * (FTA - FT)\n",
    "    drb_contr = vop * (1 - drbp) * (TRB - ORB)\n",
    "    orb_contr = vop * drbp * ORB\n",
    "    stl_contr = vop * STL\n",
    "    blk_contr = vop * drbp * BLK\n",
    "    foul_contr = PF * lgFT / lgPF - PF * .44 * lgFTA / lgPF * vop\n",
    "\n",
    "    player_uper = (\n",
    "        three_pt_contr + asts_contr + fg_contr + ft_contr\n",
    "        - to_contr - missedfg_contr - missedft_contr\n",
    "        + drb_contr + orb_contr + stl_contr + blk_contr\n",
    "        - foul_contr\n",
    "    ) / MP\n",
    "    return player_uper"
   ]
  },
  {
   "cell_type": "code",
   "execution_count": null,
   "metadata": {},
   "outputs": [],
   "source": [
    "# verify\n",
    "uPER('Stephen Curry', player_stats) == curry_uper"
   ]
  },
  {
   "cell_type": "markdown",
   "metadata": {},
   "source": [
    "#### Compute $uPER$ for each player"
   ]
  },
  {
   "cell_type": "code",
   "execution_count": null,
   "metadata": {},
   "outputs": [],
   "source": [
    "players = player_stats.column('Player')\n",
    "\n",
    "array = make_array()\n",
    "for player in players:\n",
    "    array = np.append(array, uPER(player, player_stats))\n",
    "\n",
    "player_stats = player_stats.with_column('uPER', array)\n",
    "player_stats.show(20)"
   ]
  },
  {
   "cell_type": "markdown",
   "metadata": {},
   "source": [
    "#### Team and League Pace\n",
    "Team pace is stored in a separate file."
   ]
  },
  {
   "cell_type": "code",
   "execution_count": null,
   "metadata": {},
   "outputs": [],
   "source": [
    "pace = Table().read_table('Pace.csv')\n",
    "pace.sort('Pace', descending=True).show()"
   ]
  },
  {
   "cell_type": "code",
   "execution_count": null,
   "metadata": {},
   "outputs": [],
   "source": [
    "lgPace = pace.where('Team', 'League Average')['Pace'][0]\n",
    "lgPace"
   ]
  },
  {
   "cell_type": "code",
   "execution_count": null,
   "metadata": {
    "scrolled": true
   },
   "outputs": [],
   "source": [
    "player_stats = player_stats.join('Tm', pace, 'Team')\n",
    "player_stats['Pace Factor'] = lgPace / player_stats['Pace']\n",
    "player_stats.show(5)"
   ]
  },
  {
   "cell_type": "code",
   "execution_count": null,
   "metadata": {},
   "outputs": [],
   "source": [
    "PER = player_stats['uPER'] * player_stats['Pace Factor'] * 15 / np.mean(player_stats['uPER'])\n",
    "player_stats['PER'] = PER"
   ]
  },
  {
   "cell_type": "code",
   "execution_count": null,
   "metadata": {},
   "outputs": [],
   "source": [
    "player_stats.sort('PER', descending=True).\\\n",
    "    where('MP', are.above_or_equal_to(1500)).\\\n",
    "    show(20)"
   ]
  },
  {
   "cell_type": "markdown",
   "metadata": {},
   "source": [
    "#### Why we need to pace adjust"
   ]
  },
  {
   "cell_type": "code",
   "execution_count": null,
   "metadata": {},
   "outputs": [],
   "source": [
    "PER = player_stats['uPER'] * 15 / np.mean(player_stats['uPER'])\n",
    "player_stats['PER_nopace'] = player_stats['uPER'] * 15 / np.mean(player_stats['uPER'])\n",
    "player_stats['PER_diff'] = player_stats['PER_nopace'] - player_stats['PER']"
   ]
  },
  {
   "cell_type": "code",
   "execution_count": null,
   "metadata": {},
   "outputs": [],
   "source": [
    "player_stats.sort('PER_diff', descending=True).\\\n",
    "    where('MP', are.above_or_equal_to(1500)).\\\n",
    "    show(20)"
   ]
  }
 ],
 "metadata": {
  "anaconda-cloud": {},
  "hide_input": false,
  "kernelspec": {
   "display_name": "Python 3",
   "language": "python",
   "name": "python3"
  },
  "language_info": {
   "codemirror_mode": {
    "name": "ipython",
    "version": 3
   },
   "file_extension": ".py",
   "mimetype": "text/x-python",
   "name": "python",
   "nbconvert_exporter": "python",
   "pygments_lexer": "ipython3",
   "version": "3.6.4"
  },
  "toc": {
   "base_numbering": 1,
   "nav_menu": {},
   "number_sections": true,
   "sideBar": true,
   "skip_h1_title": true,
   "title_cell": "Table of Contents",
   "title_sidebar": "Contents",
   "toc_cell": true,
   "toc_position": {},
   "toc_section_display": true,
   "toc_window_display": false
  },
  "varInspector": {
   "cols": {
    "lenName": 16,
    "lenType": 16,
    "lenVar": 40
   },
   "kernels_config": {
    "python": {
     "delete_cmd_postfix": "",
     "delete_cmd_prefix": "del ",
     "library": "var_list.py",
     "varRefreshCmd": "print(var_dic_list())"
    },
    "r": {
     "delete_cmd_postfix": ") ",
     "delete_cmd_prefix": "rm(",
     "library": "var_list.r",
     "varRefreshCmd": "cat(var_dic_list()) "
    }
   },
   "types_to_exclude": [
    "module",
    "function",
    "builtin_function_or_method",
    "instance",
    "_Feature"
   ],
   "window_display": false
  }
 },
 "nbformat": 4,
 "nbformat_minor": 1
}
