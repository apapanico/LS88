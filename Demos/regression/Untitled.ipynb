{
 "cells": [
  {
   "cell_type": "markdown",
   "metadata": {
    "toc": true
   },
   "source": [
    "<h1>Table of Contents<span class=\"tocSkip\"></span></h1>\n",
    "<div class=\"toc\"><ul class=\"toc-item\"></ul></div>"
   ]
  },
  {
   "cell_type": "code",
   "execution_count": 102,
   "metadata": {},
   "outputs": [
    {
     "name": "stdout",
     "output_type": "stream",
     "text": [
      "0.19.1\n"
     ]
    },
    {
     "data": {
      "text/plain": [
       "array([[ 0.,  0.,  1.,  0.,  0.,  0.,  1.,  0.,  0.,  1.,  1.,  1.,  0.,\n",
       "         0.,  0.,  1.,  0.,  1.,  0.,  0.],\n",
       "       [ 1.,  0.,  0.,  0.,  0.,  0.,  1.,  1.,  1.,  1.,  0.,  0.,  0.,\n",
       "         1.,  0.,  0.,  0.,  1.,  0.,  0.],\n",
       "       [ 1.,  1.,  0.,  0.,  0.,  1.,  1.,  0.,  1.,  0.,  1.,  0.,  0.,\n",
       "         1.,  0.,  1.,  0.,  0.,  1.,  0.],\n",
       "       [ 0.,  0.,  0.,  0.,  1.,  0.,  1.,  1.,  0.,  0.,  1.,  0.,  1.,\n",
       "         1.,  0.,  0.,  0.,  1.,  0.,  0.],\n",
       "       [ 0.,  1.,  1.,  1.,  1.,  0.,  0.,  0.,  0.,  0.,  1.,  0.,  1.,\n",
       "         0.,  0.,  0.,  1.,  0.,  0.,  1.]])"
      ]
     },
     "execution_count": 102,
     "metadata": {},
     "output_type": "execute_result"
    }
   ],
   "source": [
    "import sklearn\n",
    "from sklearn.linear_model import Ridge\n",
    "import numpy as np\n",
    "from scipy.sparse import csr_matrix\n",
    "\n",
    "np.random.seed(2018)\n",
    "print(sklearn.__version__)\n",
    "\n",
    "y = np.array([175.0, 1.0, -80.0, 200.0, -100.0])\n",
    "# w = np.array([8., 1., 20., 5., 1.])\n",
    "w = np.array([2., 2., 3., 2., 3.])\n",
    "w /= w.sum()\n",
    "y_w = np.sqrt(w) * y\n",
    "\n",
    "\n",
    "m = 5\n",
    "n = 20\n",
    "X = np.zeros((m, n))\n",
    "for i in range(m):\n",
    "    X[i, np.random.choice(n, 10)] = 1.\n",
    "X_sp = csr_matrix(X)\n",
    "X_w = np.sqrt(w.reshape(m, -1)) * X\n",
    "X_w_sp = csr_matrix(X_w)\n",
    "X"
   ]
  },
  {
   "cell_type": "code",
   "execution_count": 103,
   "metadata": {},
   "outputs": [
    {
     "data": {
      "text/plain": [
       "(12.737103964572309,\n",
       " array([-57.40606459, -55.6608439 , -10.91937487, -42.69948347,\n",
       "         16.91568222, -12.96136042,  33.98920971,  15.17046153,\n",
       "        -57.40606459, -12.66459556,  35.7344304 ,  31.7801086 ,\n",
       "         16.91568222,   2.20910111,   0.        ,  18.81874818,\n",
       "        -42.69948347,  46.95057013, -12.96136042, -42.69948347]))"
      ]
     },
     "execution_count": 103,
     "metadata": {},
     "output_type": "execute_result"
    }
   ],
   "source": [
    "model = Ridge(alpha=0., fit_intercept=True, copy_X=True)\n",
    "model.fit(X_w_sp, y_w, sample_weight=None)\n",
    "model.intercept_, model.coef_"
   ]
  },
  {
   "cell_type": "code",
   "execution_count": 104,
   "metadata": {},
   "outputs": [
    {
     "data": {
      "text/plain": [
       "(17.614914000208771,\n",
       " array([-55.58610454, -55.20721121,  -8.74170952, -41.4867498 ,\n",
       "         17.66579761, -13.72046142,  36.31148315,  17.28690429,\n",
       "        -55.58610454,  -9.12060284,  36.69037647,  32.74504028,\n",
       "         17.66579761,   3.56644287,   0.        ,  19.02457886,\n",
       "        -41.4867498 ,  50.03194457, -13.72046142, -41.4867498 ]))"
      ]
     },
     "execution_count": 104,
     "metadata": {},
     "output_type": "execute_result"
    }
   ],
   "source": [
    "model = Ridge(alpha=0., fit_intercept=True, copy_X=True)\n",
    "model.fit(X_sp, y, sample_weight=w)\n",
    "model.intercept_, model.coef_"
   ]
  },
  {
   "cell_type": "code",
   "execution_count": 54,
   "metadata": {},
   "outputs": [],
   "source": [
    "c2 = .1\n",
    "w2 = w * c2"
   ]
  },
  {
   "cell_type": "code",
   "execution_count": 55,
   "metadata": {},
   "outputs": [
    {
     "data": {
      "text/plain": [
       "array([-17832.68296316, -18760.93320526,  -2314.75446197, -13209.58160044,\n",
       "         6025.82395427,  -5551.35160482,  12297.54973003,   6954.07419637,\n",
       "       -17832.68296316,  -1386.50421987,  11369.29948793,  10894.82713848,\n",
       "         6025.82395427,   1402.72259155,      0.        ,   5343.47553366,\n",
       "       -13209.58160044,  17848.90133485,  -5551.35160482, -13209.58160044])"
      ]
     },
     "execution_count": 55,
     "metadata": {},
     "output_type": "execute_result"
    }
   ],
   "source": [
    "model = Ridge(alpha=0., fit_intercept=True, copy_X=True)\n",
    "model.fit(X_sp, y, sample_weight=w)\n",
    "model.coef_ / (c * c2)"
   ]
  },
  {
   "cell_type": "code",
   "execution_count": null,
   "metadata": {},
   "outputs": [],
   "source": [
    "X = np.zeros((m, n)) \n",
    "for i in range(m):\n",
    "    X[i, np.random.choice(n, 10)] = 1.\n",
    "X = np.hstack([np.ones((m, 1)), X])\n",
    "X_sp = csr_matrix(X)\n",
    "\n",
    "model = Ridge(alpha=0., fit_intercept=False, copy_X=False)\n",
    "model.fit(X_sp, y, sample_weight=w)"
   ]
  }
 ],
 "metadata": {
  "hide_input": false,
  "kernelspec": {
   "display_name": "Python 3",
   "language": "python",
   "name": "python3"
  },
  "language_info": {
   "codemirror_mode": {
    "name": "ipython",
    "version": 3
   },
   "file_extension": ".py",
   "mimetype": "text/x-python",
   "name": "python",
   "nbconvert_exporter": "python",
   "pygments_lexer": "ipython3",
   "version": "3.6.4"
  },
  "toc": {
   "base_numbering": 1,
   "nav_menu": {},
   "number_sections": true,
   "sideBar": true,
   "skip_h1_title": true,
   "title_cell": "Table of Contents",
   "title_sidebar": "Contents",
   "toc_cell": true,
   "toc_position": {},
   "toc_section_display": true,
   "toc_window_display": false
  },
  "varInspector": {
   "cols": {
    "lenName": 16,
    "lenType": 16,
    "lenVar": 40
   },
   "kernels_config": {
    "python": {
     "delete_cmd_postfix": "",
     "delete_cmd_prefix": "del ",
     "library": "var_list.py",
     "varRefreshCmd": "print(var_dic_list())"
    },
    "r": {
     "delete_cmd_postfix": ") ",
     "delete_cmd_prefix": "rm(",
     "library": "var_list.r",
     "varRefreshCmd": "cat(var_dic_list()) "
    }
   },
   "types_to_exclude": [
    "module",
    "function",
    "builtin_function_or_method",
    "instance",
    "_Feature"
   ],
   "window_display": false
  }
 },
 "nbformat": 4,
 "nbformat_minor": 2
}
