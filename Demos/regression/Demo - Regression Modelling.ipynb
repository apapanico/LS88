{
 "cells": [
  {
   "cell_type": "markdown",
   "metadata": {
    "toc": true
   },
   "source": [
    "<h1>Table of Contents<span class=\"tocSkip\"></span></h1>\n",
    "<div class=\"toc\"><ul class=\"toc-item\"><li><span><a href=\"#Run-Values-from-Regression\" data-toc-modified-id=\"Run-Values-from-Regression-1\"><span class=\"toc-item-num\">1&nbsp;&nbsp;</span>Run Values from Regression</a></span><ul class=\"toc-item\"><li><span><a href=\"#Load-Data\" data-toc-modified-id=\"Load-Data-1.1\"><span class=\"toc-item-num\">1.1&nbsp;&nbsp;</span>Load Data</a></span></li><li><span><a href=\"#First-Regression\" data-toc-modified-id=\"First-Regression-1.2\"><span class=\"toc-item-num\">1.2&nbsp;&nbsp;</span>First Regression</a></span></li><li><span><a href=\"#Are-Ks-more-costly-than-other-outs?\" data-toc-modified-id=\"Are-Ks-more-costly-than-other-outs?-1.3\"><span class=\"toc-item-num\">1.3&nbsp;&nbsp;</span>Are Ks more costly than other outs?</a></span></li><li><span><a href=\"#What-does-this-regression-look-like-for-1-year?\" data-toc-modified-id=\"What-does-this-regression-look-like-for-1-year?-1.4\"><span class=\"toc-item-num\">1.4&nbsp;&nbsp;</span>What does this regression look like for 1 year?</a></span></li><li><span><a href=\"#How-does-the-relative-value-of-SB-and-CS-compare-to-wSB?\" data-toc-modified-id=\"How-does-the-relative-value-of-SB-and-CS-compare-to-wSB?-1.5\"><span class=\"toc-item-num\">1.5&nbsp;&nbsp;</span>How does the relative value of SB and CS compare to wSB?</a></span></li></ul></li><li><span><a href=\"#Four-Factor-Model\" data-toc-modified-id=\"Four-Factor-Model-2\"><span class=\"toc-item-num\">2&nbsp;&nbsp;</span>Four Factor Model</a></span><ul class=\"toc-item\"><li><span><a href=\"#Four-Factors-and-Winning-Pct\" data-toc-modified-id=\"Four-Factors-and-Winning-Pct-2.1\"><span class=\"toc-item-num\">2.1&nbsp;&nbsp;</span>Four Factors and Winning Pct</a></span></li><li><span><a href=\"#Four-Factors-and-the-log-Rating-Ratio\" data-toc-modified-id=\"Four-Factors-and-the-log-Rating-Ratio-2.2\"><span class=\"toc-item-num\">2.2&nbsp;&nbsp;</span>Four Factors and the log Rating Ratio</a></span></li></ul></li></ul></div>"
   ]
  },
  {
   "cell_type": "code",
   "execution_count": 1,
   "metadata": {},
   "outputs": [],
   "source": [
    "import pandas as pd\n",
    "import matplotlib.pyplot as plt\n",
    "import numpy as np\n",
    "from scipy.stats import zscore"
   ]
  },
  {
   "cell_type": "code",
   "execution_count": 2,
   "metadata": {},
   "outputs": [],
   "source": [
    "import statsmodels.formula.api as smf\n",
    "import statsmodels.api as sm\n",
    "\n",
    "\n",
    "def multiple_regression(dep_var, ind_vars, data, constant=False, interactions=None):\n",
    "    if not isinstance(ind_vars, list):\n",
    "        ind_vars = [ind_vars]\n",
    "    formula = dep_var + '~' + (' + '.join(ind_vars))\n",
    "    if constant:\n",
    "        formula += ' + 1'\n",
    "    else:\n",
    "        formula += ' + 0'\n",
    "    if interactions is not None:\n",
    "        for (interact_1, interact_2) in interactions:\n",
    "            formula += f' {interact_1}:{interact_2}'\n",
    "    results = smf.ols(formula, data=data).fit()\n",
    "    return results\n",
    "\n",
    "\n",
    "def multiple_regression_2(dep_var, ind_vars, data, constant=False):\n",
    "    if not isinstance(ind_vars, list):\n",
    "        ind_vars = [ind_vars]\n",
    "    y = data[dep_var]\n",
    "    X = data[ind_vars]\n",
    "    if constant:\n",
    "        X = sm.add_constant(X, prepend=False)\n",
    "    results = sm.OLS(y, X).fit()\n",
    "    return results"
   ]
  },
  {
   "cell_type": "markdown",
   "metadata": {},
   "source": [
    "## Run Values from Regression"
   ]
  },
  {
   "cell_type": "markdown",
   "metadata": {},
   "source": [
    "### Load Data"
   ]
  },
  {
   "cell_type": "code",
   "execution_count": 3,
   "metadata": {},
   "outputs": [
    {
     "data": {
      "text/html": [
       "<div>\n",
       "<table border=\"1\" class=\"dataframe\">\n",
       "  <thead>\n",
       "    <tr style=\"text-align: right;\">\n",
       "      <th></th>\n",
       "      <th>yearID</th>\n",
       "      <th>franchID</th>\n",
       "      <th>G</th>\n",
       "      <th>R</th>\n",
       "      <th>AB</th>\n",
       "      <th>H</th>\n",
       "      <th>HR</th>\n",
       "      <th>BB</th>\n",
       "      <th>SO</th>\n",
       "      <th>SB</th>\n",
       "      <th>...</th>\n",
       "      <th>SF</th>\n",
       "      <th>RA</th>\n",
       "      <th>ER</th>\n",
       "      <th>X2B</th>\n",
       "      <th>X3B</th>\n",
       "      <th>X1B</th>\n",
       "      <th>PA</th>\n",
       "      <th>O</th>\n",
       "      <th>O_nonK</th>\n",
       "      <th>RAA</th>\n",
       "    </tr>\n",
       "  </thead>\n",
       "  <tbody>\n",
       "    <tr>\n",
       "      <th>2325</th>\n",
       "      <td>2000</td>\n",
       "      <td>ANA</td>\n",
       "      <td>162</td>\n",
       "      <td>864</td>\n",
       "      <td>5628</td>\n",
       "      <td>1574</td>\n",
       "      <td>236</td>\n",
       "      <td>608</td>\n",
       "      <td>1024.0</td>\n",
       "      <td>93.0</td>\n",
       "      <td>...</td>\n",
       "      <td>43.0</td>\n",
       "      <td>869</td>\n",
       "      <td>805</td>\n",
       "      <td>309</td>\n",
       "      <td>34</td>\n",
       "      <td>995</td>\n",
       "      <td>6326.0</td>\n",
       "      <td>4054</td>\n",
       "      <td>3030.0</td>\n",
       "      <td>125.329412</td>\n",
       "    </tr>\n",
       "    <tr>\n",
       "      <th>2326</th>\n",
       "      <td>2000</td>\n",
       "      <td>ARI</td>\n",
       "      <td>162</td>\n",
       "      <td>792</td>\n",
       "      <td>5527</td>\n",
       "      <td>1466</td>\n",
       "      <td>179</td>\n",
       "      <td>535</td>\n",
       "      <td>975.0</td>\n",
       "      <td>97.0</td>\n",
       "      <td>...</td>\n",
       "      <td>58.0</td>\n",
       "      <td>754</td>\n",
       "      <td>698</td>\n",
       "      <td>282</td>\n",
       "      <td>44</td>\n",
       "      <td>961</td>\n",
       "      <td>6179.0</td>\n",
       "      <td>4061</td>\n",
       "      <td>3086.0</td>\n",
       "      <td>53.329412</td>\n",
       "    </tr>\n",
       "    <tr>\n",
       "      <th>2327</th>\n",
       "      <td>2000</td>\n",
       "      <td>ATL</td>\n",
       "      <td>162</td>\n",
       "      <td>810</td>\n",
       "      <td>5489</td>\n",
       "      <td>1490</td>\n",
       "      <td>179</td>\n",
       "      <td>595</td>\n",
       "      <td>1010.0</td>\n",
       "      <td>148.0</td>\n",
       "      <td>...</td>\n",
       "      <td>45.0</td>\n",
       "      <td>714</td>\n",
       "      <td>648</td>\n",
       "      <td>274</td>\n",
       "      <td>26</td>\n",
       "      <td>1011</td>\n",
       "      <td>6188.0</td>\n",
       "      <td>3999</td>\n",
       "      <td>2989.0</td>\n",
       "      <td>71.329412</td>\n",
       "    </tr>\n",
       "    <tr>\n",
       "      <th>2328</th>\n",
       "      <td>2000</td>\n",
       "      <td>BAL</td>\n",
       "      <td>162</td>\n",
       "      <td>794</td>\n",
       "      <td>5549</td>\n",
       "      <td>1508</td>\n",
       "      <td>184</td>\n",
       "      <td>558</td>\n",
       "      <td>900.0</td>\n",
       "      <td>126.0</td>\n",
       "      <td>...</td>\n",
       "      <td>54.0</td>\n",
       "      <td>913</td>\n",
       "      <td>855</td>\n",
       "      <td>310</td>\n",
       "      <td>22</td>\n",
       "      <td>992</td>\n",
       "      <td>6210.0</td>\n",
       "      <td>4041</td>\n",
       "      <td>3141.0</td>\n",
       "      <td>55.329412</td>\n",
       "    </tr>\n",
       "    <tr>\n",
       "      <th>2329</th>\n",
       "      <td>2000</td>\n",
       "      <td>BOS</td>\n",
       "      <td>162</td>\n",
       "      <td>792</td>\n",
       "      <td>5630</td>\n",
       "      <td>1503</td>\n",
       "      <td>167</td>\n",
       "      <td>611</td>\n",
       "      <td>1019.0</td>\n",
       "      <td>43.0</td>\n",
       "      <td>...</td>\n",
       "      <td>48.0</td>\n",
       "      <td>745</td>\n",
       "      <td>683</td>\n",
       "      <td>316</td>\n",
       "      <td>32</td>\n",
       "      <td>988</td>\n",
       "      <td>6331.0</td>\n",
       "      <td>4127</td>\n",
       "      <td>3108.0</td>\n",
       "      <td>53.329412</td>\n",
       "    </tr>\n",
       "  </tbody>\n",
       "</table>\n",
       "<p>5 rows × 22 columns</p>\n",
       "</div>"
      ],
      "text/plain": [
       "      yearID franchID    G    R    AB     H   HR   BB      SO     SB  \\\n",
       "2325    2000      ANA  162  864  5628  1574  236  608  1024.0   93.0   \n",
       "2326    2000      ARI  162  792  5527  1466  179  535   975.0   97.0   \n",
       "2327    2000      ATL  162  810  5489  1490  179  595  1010.0  148.0   \n",
       "2328    2000      BAL  162  794  5549  1508  184  558   900.0  126.0   \n",
       "2329    2000      BOS  162  792  5630  1503  167  611  1019.0   43.0   \n",
       "\n",
       "         ...        SF   RA   ER  X2B  X3B   X1B      PA     O  O_nonK  \\\n",
       "2325     ...      43.0  869  805  309   34   995  6326.0  4054  3030.0   \n",
       "2326     ...      58.0  754  698  282   44   961  6179.0  4061  3086.0   \n",
       "2327     ...      45.0  714  648  274   26  1011  6188.0  3999  2989.0   \n",
       "2328     ...      54.0  913  855  310   22   992  6210.0  4041  3141.0   \n",
       "2329     ...      48.0  745  683  316   32   988  6331.0  4127  3108.0   \n",
       "\n",
       "             RAA  \n",
       "2325  125.329412  \n",
       "2326   53.329412  \n",
       "2327   71.329412  \n",
       "2328   55.329412  \n",
       "2329   53.329412  \n",
       "\n",
       "[5 rows x 22 columns]"
      ]
     },
     "execution_count": 3,
     "metadata": {},
     "output_type": "execute_result"
    }
   ],
   "source": [
    "# Load lahman_teams.csv obtained from the Lahman databank.  We only need a selection of the columns.\n",
    "lahman = pd.read_csv(\"lahman_teams.csv\", usecols=[0, 3, 6] + list(range(14, 28)))\n",
    "\n",
    "# Restrict to after the year 2000\n",
    "lahman = lahman.loc[lahman['yearID'] >= 2000].copy()\n",
    "\n",
    "# Need to add two fields, singles and PA (which is only approximate)\n",
    "lahman['X2B'] = lahman['2B']\n",
    "lahman['X3B'] = lahman['3B']\n",
    "lahman['X1B'] = lahman['H'] - lahman['2B'] - lahman['3B'] - lahman['HR']\n",
    "del lahman['2B'], lahman['3B']\n",
    "lahman['HBP'].fillna(0, inplace=True)\n",
    "lahman['PA'] = lahman['AB'] + lahman['BB'] + lahman['HBP'] +  lahman['SF']\n",
    "lahman['O'] = lahman['AB'] - lahman['H']\n",
    "lahman['O_nonK'] = lahman['O'] - lahman['SO']\n",
    "lahman['RAA'] = lahman['R'] - lahman['R'].mean()\n",
    "lahman.head()"
   ]
  },
  {
   "cell_type": "markdown",
   "metadata": {},
   "source": [
    "### First Regression"
   ]
  },
  {
   "cell_type": "code",
   "execution_count": 4,
   "metadata": {},
   "outputs": [
    {
     "data": {
      "text/plain": [
       "O     -0.272014\n",
       "X1B    0.475447\n",
       "X2B    0.743046\n",
       "X3B    1.073670\n",
       "HR     1.433816\n",
       "BB     0.286383\n",
       "HBP    0.333042\n",
       "SB     0.184180\n",
       "CS    -0.389898\n",
       "dtype: float64"
      ]
     },
     "execution_count": 4,
     "metadata": {},
     "output_type": "execute_result"
    }
   ],
   "source": [
    "dep_vars = 'RAA'\n",
    "ind_vars = ['O', 'X1B', 'X2B', 'X3B', 'HR', 'BB', 'HBP', 'SB', 'CS']\n",
    "results = multiple_regression(dep_vars, ind_vars, lahman)\n",
    "results.params"
   ]
  },
  {
   "cell_type": "markdown",
   "metadata": {},
   "source": [
    "### Are Ks more costly than other outs?"
   ]
  },
  {
   "cell_type": "code",
   "execution_count": 5,
   "metadata": {},
   "outputs": [],
   "source": [
    "ind_vars_with_K = ['O_nonK', 'X1B', 'X2B', 'X3B', 'HR', 'BB', 'HBP', 'SB', 'CS', 'SO']"
   ]
  },
  {
   "cell_type": "code",
   "execution_count": 6,
   "metadata": {},
   "outputs": [
    {
     "data": {
      "text/plain": [
       "O_nonK   -0.261232\n",
       "X1B       0.454179\n",
       "X2B       0.731634\n",
       "X3B       1.090536\n",
       "HR        1.436531\n",
       "BB        0.286626\n",
       "HBP       0.333416\n",
       "SB        0.189289\n",
       "CS       -0.409027\n",
       "SO       -0.280164\n",
       "dtype: float64"
      ]
     },
     "execution_count": 6,
     "metadata": {},
     "output_type": "execute_result"
    }
   ],
   "source": [
    "results_with_K = multiple_regression(dep_vars, ind_vars_with_K, lahman)\n",
    "results_with_K.params"
   ]
  },
  {
   "cell_type": "markdown",
   "metadata": {},
   "source": [
    "### What does this regression look like for 1 year?"
   ]
  },
  {
   "cell_type": "code",
   "execution_count": 7,
   "metadata": {},
   "outputs": [
    {
     "data": {
      "text/plain": [
       "O     -0.262792\n",
       "X1B    0.381496\n",
       "X2B    1.132650\n",
       "X3B    0.843668\n",
       "HR     1.313257\n",
       "BB     0.186106\n",
       "HBP    0.536711\n",
       "SB     0.134893\n",
       "CS    -0.011809\n",
       "dtype: float64"
      ]
     },
     "execution_count": 7,
     "metadata": {},
     "output_type": "execute_result"
    }
   ],
   "source": [
    "lahman_2016 = lahman.loc[lahman['yearID'] == 2016].copy()\n",
    "results_2016 = multiple_regression(dep_vars, ind_vars, lahman_2016)\n",
    "results_2016.params"
   ]
  },
  {
   "cell_type": "markdown",
   "metadata": {},
   "source": [
    "### How does the relative value of SB and CS compare to wSB?"
   ]
  },
  {
   "cell_type": "code",
   "execution_count": 8,
   "metadata": {},
   "outputs": [
    {
     "data": {
      "text/plain": [
       "0.57407748982412499"
      ]
     },
     "execution_count": 8,
     "metadata": {},
     "output_type": "execute_result"
    }
   ],
   "source": [
    "results.params['SB'] - results.params['CS']"
   ]
  },
  {
   "cell_type": "code",
   "execution_count": 9,
   "metadata": {},
   "outputs": [
    {
     "data": {
      "text/plain": [
       "0.595"
      ]
     },
     "execution_count": 9,
     "metadata": {},
     "output_type": "execute_result"
    }
   ],
   "source": [
    "runSB = .2\n",
    "runCS_avg = -(2 * 0.16 + 0.075)\n",
    "runSB - runCS_avg"
   ]
  },
  {
   "cell_type": "markdown",
   "metadata": {},
   "source": [
    "## Four Factor Model"
   ]
  },
  {
   "cell_type": "code",
   "execution_count": 10,
   "metadata": {},
   "outputs": [],
   "source": [
    "nba_teams = pd.read_csv('team_season_data.csv')\n",
    "\n",
    "nba_teams['efg'] = (nba_teams['fg'] + .5 * nba_teams['fg3']) / nba_teams['fga']\n",
    "nba_teams['to'] = nba_teams['tov'] / \\\n",
    "    (nba_teams['tov'] + nba_teams['fga'] + .44 * nba_teams['fta'])\n",
    "nba_teams['oreb'] = nba_teams['orb'] / \\\n",
    "    (nba_teams['orb'] + nba_teams['opp_drb'])\n",
    "nba_teams['ftr'] = nba_teams['ft'] / nba_teams['fga']\n",
    "\n",
    "nba_teams['opp_efg'] = (nba_teams['opp_fg'] + .5 *\n",
    "                        nba_teams['opp_fg3']) / nba_teams['opp_fga']\n",
    "nba_teams['opp_to'] = nba_teams['opp_tov'] / \\\n",
    "    (nba_teams['opp_tov'] + nba_teams['opp_fga'] + .44 * nba_teams['opp_fta'])\n",
    "nba_teams['opp_oreb'] = nba_teams['opp_orb'] / \\\n",
    "    (nba_teams['opp_orb'] + nba_teams['drb'])\n",
    "nba_teams['opp_ftr'] = nba_teams['opp_ft'] / nba_teams['opp_fga']\n",
    "\n",
    "nba_teams['eFG'] = zscore(nba_teams['efg'] - nba_teams['opp_efg'])\n",
    "nba_teams['Tov'] = zscore(nba_teams['to'] - nba_teams['opp_to'])\n",
    "nba_teams['Reb'] = zscore(nba_teams['oreb'] - nba_teams['opp_oreb'])\n",
    "nba_teams['Ftr'] = zscore(nba_teams['ftr'] - nba_teams['opp_ftr'])"
   ]
  },
  {
   "cell_type": "code",
   "execution_count": 11,
   "metadata": {},
   "outputs": [],
   "source": [
    "nba_teams['win_pct'] = nba_teams['wins'] / (nba_teams['wins'] + nba_teams['losses'])\n",
    "nba_teams['rtg_rat'] = nba_teams['off_rtg'] / nba_teams['def_rtg']\n",
    "nba_teams['log_rtg_rat'] = np.log(nba_teams['rtg_rat'])"
   ]
  },
  {
   "cell_type": "markdown",
   "metadata": {},
   "source": [
    "### Four Factors and Winning Pct"
   ]
  },
  {
   "cell_type": "code",
   "execution_count": 12,
   "metadata": {},
   "outputs": [
    {
     "data": {
      "text/plain": [
       "eFG    0.471141\n",
       "Tov   -0.232098\n",
       "Reb    0.148451\n",
       "Ftr    0.148310\n",
       "dtype: float64"
      ]
     },
     "execution_count": 12,
     "metadata": {},
     "output_type": "execute_result"
    }
   ],
   "source": [
    "dep_vars = 'win_pct'\n",
    "ind_vars = ['eFG', 'Tov', 'Reb', 'Ftr']\n",
    "results = multiple_regression(dep_vars, ind_vars, nba_teams)\n",
    "results.params / results.params.abs().sum()"
   ]
  },
  {
   "cell_type": "markdown",
   "metadata": {},
   "source": [
    "### Four Factors and the log Rating Ratio"
   ]
  },
  {
   "cell_type": "code",
   "execution_count": 13,
   "metadata": {},
   "outputs": [
    {
     "data": {
      "text/plain": [
       "eFG    0.469041\n",
       "Tov   -0.239897\n",
       "Reb    0.156998\n",
       "Ftr    0.134064\n",
       "dtype: float64"
      ]
     },
     "execution_count": 13,
     "metadata": {},
     "output_type": "execute_result"
    }
   ],
   "source": [
    "dep_vars = 'log_rtg_rat'\n",
    "results = multiple_regression(dep_vars, ind_vars, nba_teams)\n",
    "results.params / results.params.abs().sum()"
   ]
  }
 ],
 "metadata": {
  "hide_input": false,
  "kernelspec": {
   "display_name": "Python 3",
   "language": "python",
   "name": "python3"
  },
  "language_info": {
   "codemirror_mode": {
    "name": "ipython",
    "version": 3
   },
   "file_extension": ".py",
   "mimetype": "text/x-python",
   "name": "python",
   "nbconvert_exporter": "python",
   "pygments_lexer": "ipython3",
   "version": "3.6.1"
  },
  "toc": {
   "nav_menu": {},
   "number_sections": true,
   "sideBar": true,
   "skip_h1_title": true,
   "title_cell": "Table of Contents",
   "title_sidebar": "Contents",
   "toc_cell": true,
   "toc_position": {},
   "toc_section_display": true,
   "toc_window_display": false
  },
  "varInspector": {
   "cols": {
    "lenName": 16,
    "lenType": 16,
    "lenVar": 40
   },
   "kernels_config": {
    "python": {
     "delete_cmd_postfix": "",
     "delete_cmd_prefix": "del ",
     "library": "var_list.py",
     "varRefreshCmd": "print(var_dic_list())"
    },
    "r": {
     "delete_cmd_postfix": ") ",
     "delete_cmd_prefix": "rm(",
     "library": "var_list.r",
     "varRefreshCmd": "cat(var_dic_list()) "
    }
   },
   "types_to_exclude": [
    "module",
    "function",
    "builtin_function_or_method",
    "instance",
    "_Feature"
   ],
   "window_display": false
  }
 },
 "nbformat": 4,
 "nbformat_minor": 2
}
