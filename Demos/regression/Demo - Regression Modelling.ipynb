{
 "cells": [
  {
   "cell_type": "markdown",
   "metadata": {
    "toc": true
   },
   "source": [
    "<h1>Table of Contents<span class=\"tocSkip\"></span></h1>\n",
    "<div class=\"toc\"><ul class=\"toc-item\"><li><span><a href=\"#Run-Values-from-Regression\" data-toc-modified-id=\"Run-Values-from-Regression-1\"><span class=\"toc-item-num\">1&nbsp;&nbsp;</span>Run Values from Regression</a></span><ul class=\"toc-item\"><li><span><a href=\"#Load-Data\" data-toc-modified-id=\"Load-Data-1.1\"><span class=\"toc-item-num\">1.1&nbsp;&nbsp;</span>Load Data</a></span></li><li><span><a href=\"#First-Regression\" data-toc-modified-id=\"First-Regression-1.2\"><span class=\"toc-item-num\">1.2&nbsp;&nbsp;</span>First Regression</a></span></li><li><span><a href=\"#Are-Ks-more-costly-than-other-outs?\" data-toc-modified-id=\"Are-Ks-more-costly-than-other-outs?-1.3\"><span class=\"toc-item-num\">1.3&nbsp;&nbsp;</span>Are Ks more costly than other outs?</a></span></li><li><span><a href=\"#What-does-this-regression-look-like-for-1-year?\" data-toc-modified-id=\"What-does-this-regression-look-like-for-1-year?-1.4\"><span class=\"toc-item-num\">1.4&nbsp;&nbsp;</span>What does this regression look like for 1 year?</a></span></li><li><span><a href=\"#How-does-the-relative-value-of-SB-and-CS-compare-to-wSB?\" data-toc-modified-id=\"How-does-the-relative-value-of-SB-and-CS-compare-to-wSB?-1.5\"><span class=\"toc-item-num\">1.5&nbsp;&nbsp;</span>How does the relative value of SB and CS compare to wSB?</a></span></li><li><span><a href=\"#Interaction\" data-toc-modified-id=\"Interaction-1.6\"><span class=\"toc-item-num\">1.6&nbsp;&nbsp;</span>Interaction</a></span></li></ul></li><li><span><a href=\"#Four-Factor-Model\" data-toc-modified-id=\"Four-Factor-Model-2\"><span class=\"toc-item-num\">2&nbsp;&nbsp;</span>Four Factor Model</a></span><ul class=\"toc-item\"><li><span><a href=\"#Four-Factors-and-Winning-Pct\" data-toc-modified-id=\"Four-Factors-and-Winning-Pct-2.1\"><span class=\"toc-item-num\">2.1&nbsp;&nbsp;</span>Four Factors and Winning Pct</a></span></li><li><span><a href=\"#Four-Factors-and-the-log-Rating-Ratio\" data-toc-modified-id=\"Four-Factors-and-the-log-Rating-Ratio-2.2\"><span class=\"toc-item-num\">2.2&nbsp;&nbsp;</span>Four Factors and the log Rating Ratio</a></span></li><li><span><a href=\"#By-Games\" data-toc-modified-id=\"By-Games-2.3\"><span class=\"toc-item-num\">2.3&nbsp;&nbsp;</span>By Games</a></span></li></ul></li></ul></div>"
   ]
  },
  {
   "cell_type": "code",
   "execution_count": 1,
   "metadata": {},
   "outputs": [],
   "source": [
    "import pandas as pd\n",
    "import matplotlib.pyplot as plt\n",
    "import numpy as np\n",
    "from scipy.stats import zscore"
   ]
  },
  {
   "cell_type": "code",
   "execution_count": 2,
   "metadata": {},
   "outputs": [],
   "source": [
    "import statsmodels.formula.api as smf\n",
    "import statsmodels.api as sm\n",
    "\n",
    "\n",
    "def multiple_regression(dep_var, ind_vars, data, constant=False, interactions=None):\n",
    "    if not isinstance(ind_vars, list):\n",
    "        ind_vars = [ind_vars]\n",
    "    formula = dep_var + '~' + (' + '.join(ind_vars))\n",
    "    if constant:\n",
    "        formula += ' + 1'\n",
    "    else:\n",
    "        formula += ' + 0'\n",
    "    if interactions is not None:\n",
    "        for (interact_1, interact_2) in interactions:\n",
    "            formula += f' + {interact_1}:{interact_2}'\n",
    "    results = smf.ols(formula, data=data).fit()\n",
    "    return results\n",
    "\n",
    "\n",
    "def multiple_regression_2(dep_var, ind_vars, data, constant=False):\n",
    "    if not isinstance(ind_vars, list):\n",
    "        ind_vars = [ind_vars]\n",
    "    y = data[dep_var]\n",
    "    X = data[ind_vars]\n",
    "    if constant:\n",
    "        X = sm.add_constant(X, prepend=False)\n",
    "    results = sm.OLS(y, X).fit()\n",
    "    return results"
   ]
  },
  {
   "cell_type": "markdown",
   "metadata": {},
   "source": [
    "## Run Values from Regression"
   ]
  },
  {
   "cell_type": "markdown",
   "metadata": {},
   "source": [
    "### Load Data"
   ]
  },
  {
   "cell_type": "code",
   "execution_count": 3,
   "metadata": {},
   "outputs": [
    {
     "data": {
      "text/html": [
       "<div>\n",
       "<table border=\"1\" class=\"dataframe\">\n",
       "  <thead>\n",
       "    <tr style=\"text-align: right;\">\n",
       "      <th></th>\n",
       "      <th>yearID</th>\n",
       "      <th>franchID</th>\n",
       "      <th>G</th>\n",
       "      <th>R</th>\n",
       "      <th>AB</th>\n",
       "      <th>H</th>\n",
       "      <th>HR</th>\n",
       "      <th>BB</th>\n",
       "      <th>SO</th>\n",
       "      <th>SB</th>\n",
       "      <th>...</th>\n",
       "      <th>SF</th>\n",
       "      <th>RA</th>\n",
       "      <th>ER</th>\n",
       "      <th>X2B</th>\n",
       "      <th>X3B</th>\n",
       "      <th>X1B</th>\n",
       "      <th>PA</th>\n",
       "      <th>O</th>\n",
       "      <th>O_nonK</th>\n",
       "      <th>RAA</th>\n",
       "    </tr>\n",
       "  </thead>\n",
       "  <tbody>\n",
       "    <tr>\n",
       "      <th>0</th>\n",
       "      <td>1871</td>\n",
       "      <td>BNA</td>\n",
       "      <td>31</td>\n",
       "      <td>401</td>\n",
       "      <td>1372</td>\n",
       "      <td>426</td>\n",
       "      <td>3</td>\n",
       "      <td>60</td>\n",
       "      <td>19.0</td>\n",
       "      <td>73.0</td>\n",
       "      <td>...</td>\n",
       "      <td>NaN</td>\n",
       "      <td>303</td>\n",
       "      <td>109</td>\n",
       "      <td>70</td>\n",
       "      <td>37</td>\n",
       "      <td>316</td>\n",
       "      <td>NaN</td>\n",
       "      <td>946</td>\n",
       "      <td>927.0</td>\n",
       "      <td>-281.399295</td>\n",
       "    </tr>\n",
       "    <tr>\n",
       "      <th>1</th>\n",
       "      <td>1871</td>\n",
       "      <td>CNA</td>\n",
       "      <td>28</td>\n",
       "      <td>302</td>\n",
       "      <td>1196</td>\n",
       "      <td>323</td>\n",
       "      <td>10</td>\n",
       "      <td>60</td>\n",
       "      <td>22.0</td>\n",
       "      <td>69.0</td>\n",
       "      <td>...</td>\n",
       "      <td>NaN</td>\n",
       "      <td>241</td>\n",
       "      <td>77</td>\n",
       "      <td>52</td>\n",
       "      <td>21</td>\n",
       "      <td>240</td>\n",
       "      <td>NaN</td>\n",
       "      <td>873</td>\n",
       "      <td>851.0</td>\n",
       "      <td>-380.399295</td>\n",
       "    </tr>\n",
       "    <tr>\n",
       "      <th>2</th>\n",
       "      <td>1871</td>\n",
       "      <td>CFC</td>\n",
       "      <td>29</td>\n",
       "      <td>249</td>\n",
       "      <td>1186</td>\n",
       "      <td>328</td>\n",
       "      <td>7</td>\n",
       "      <td>26</td>\n",
       "      <td>25.0</td>\n",
       "      <td>18.0</td>\n",
       "      <td>...</td>\n",
       "      <td>NaN</td>\n",
       "      <td>341</td>\n",
       "      <td>116</td>\n",
       "      <td>35</td>\n",
       "      <td>40</td>\n",
       "      <td>246</td>\n",
       "      <td>NaN</td>\n",
       "      <td>858</td>\n",
       "      <td>833.0</td>\n",
       "      <td>-433.399295</td>\n",
       "    </tr>\n",
       "    <tr>\n",
       "      <th>3</th>\n",
       "      <td>1871</td>\n",
       "      <td>KEK</td>\n",
       "      <td>19</td>\n",
       "      <td>137</td>\n",
       "      <td>746</td>\n",
       "      <td>178</td>\n",
       "      <td>2</td>\n",
       "      <td>33</td>\n",
       "      <td>9.0</td>\n",
       "      <td>16.0</td>\n",
       "      <td>...</td>\n",
       "      <td>NaN</td>\n",
       "      <td>243</td>\n",
       "      <td>97</td>\n",
       "      <td>19</td>\n",
       "      <td>8</td>\n",
       "      <td>149</td>\n",
       "      <td>NaN</td>\n",
       "      <td>568</td>\n",
       "      <td>559.0</td>\n",
       "      <td>-545.399295</td>\n",
       "    </tr>\n",
       "    <tr>\n",
       "      <th>4</th>\n",
       "      <td>1871</td>\n",
       "      <td>NNA</td>\n",
       "      <td>33</td>\n",
       "      <td>302</td>\n",
       "      <td>1404</td>\n",
       "      <td>403</td>\n",
       "      <td>1</td>\n",
       "      <td>33</td>\n",
       "      <td>15.0</td>\n",
       "      <td>46.0</td>\n",
       "      <td>...</td>\n",
       "      <td>NaN</td>\n",
       "      <td>313</td>\n",
       "      <td>121</td>\n",
       "      <td>43</td>\n",
       "      <td>21</td>\n",
       "      <td>338</td>\n",
       "      <td>NaN</td>\n",
       "      <td>1001</td>\n",
       "      <td>986.0</td>\n",
       "      <td>-380.399295</td>\n",
       "    </tr>\n",
       "  </tbody>\n",
       "</table>\n",
       "<p>5 rows × 22 columns</p>\n",
       "</div>"
      ],
      "text/plain": [
       "   yearID franchID   G    R    AB    H  HR  BB    SO    SB     ...      SF  \\\n",
       "0    1871      BNA  31  401  1372  426   3  60  19.0  73.0     ...     NaN   \n",
       "1    1871      CNA  28  302  1196  323  10  60  22.0  69.0     ...     NaN   \n",
       "2    1871      CFC  29  249  1186  328   7  26  25.0  18.0     ...     NaN   \n",
       "3    1871      KEK  19  137   746  178   2  33   9.0  16.0     ...     NaN   \n",
       "4    1871      NNA  33  302  1404  403   1  33  15.0  46.0     ...     NaN   \n",
       "\n",
       "    RA   ER  X2B  X3B  X1B  PA     O  O_nonK         RAA  \n",
       "0  303  109   70   37  316 NaN   946   927.0 -281.399295  \n",
       "1  241   77   52   21  240 NaN   873   851.0 -380.399295  \n",
       "2  341  116   35   40  246 NaN   858   833.0 -433.399295  \n",
       "3  243   97   19    8  149 NaN   568   559.0 -545.399295  \n",
       "4  313  121   43   21  338 NaN  1001   986.0 -380.399295  \n",
       "\n",
       "[5 rows x 22 columns]"
      ]
     },
     "execution_count": 3,
     "metadata": {},
     "output_type": "execute_result"
    }
   ],
   "source": [
    "# Load lahman_main_teams.csv obtained from the lahman_main databank.  We only need a selection of the columns.\n",
    "lahman_main = pd.read_csv(\"lahman_teams.csv\", usecols=[0, 3, 6] + list(range(14, 28)))\n",
    "\n",
    "# Need to add two fields, singles and PA (which is only approximate)\n",
    "lahman_main['X2B'] = lahman_main['2B']\n",
    "lahman_main['X3B'] = lahman_main['3B']\n",
    "lahman_main['X1B'] = lahman_main['H'] - lahman_main['2B'] - lahman_main['3B'] - lahman_main['HR']\n",
    "del lahman_main['2B'], lahman_main['3B']\n",
    "lahman_main['HBP'].fillna(0, inplace=True)\n",
    "lahman_main['PA'] = lahman_main['AB'] + lahman_main['BB'] + lahman_main['HBP'] +  lahman_main['SF']\n",
    "lahman_main['O'] = lahman_main['AB'] - lahman_main['H']\n",
    "lahman_main['O_nonK'] = lahman_main['O'] - lahman_main['SO']\n",
    "lahman_main['RAA'] = lahman_main['R'] - lahman_main['R'].mean()\n",
    "lahman_main.head()"
   ]
  },
  {
   "cell_type": "code",
   "execution_count": 4,
   "metadata": {},
   "outputs": [
    {
     "data": {
      "text/html": [
       "<div>\n",
       "<table border=\"1\" class=\"dataframe\">\n",
       "  <thead>\n",
       "    <tr style=\"text-align: right;\">\n",
       "      <th></th>\n",
       "      <th>yearID</th>\n",
       "      <th>franchID</th>\n",
       "      <th>G</th>\n",
       "      <th>R</th>\n",
       "      <th>AB</th>\n",
       "      <th>H</th>\n",
       "      <th>HR</th>\n",
       "      <th>BB</th>\n",
       "      <th>SO</th>\n",
       "      <th>SB</th>\n",
       "      <th>...</th>\n",
       "      <th>SF</th>\n",
       "      <th>RA</th>\n",
       "      <th>ER</th>\n",
       "      <th>X2B</th>\n",
       "      <th>X3B</th>\n",
       "      <th>X1B</th>\n",
       "      <th>PA</th>\n",
       "      <th>O</th>\n",
       "      <th>O_nonK</th>\n",
       "      <th>RAA</th>\n",
       "    </tr>\n",
       "  </thead>\n",
       "  <tbody>\n",
       "    <tr>\n",
       "      <th>0</th>\n",
       "      <td>2000</td>\n",
       "      <td>ANA</td>\n",
       "      <td>162</td>\n",
       "      <td>864</td>\n",
       "      <td>5628</td>\n",
       "      <td>1574</td>\n",
       "      <td>236</td>\n",
       "      <td>608</td>\n",
       "      <td>1024.0</td>\n",
       "      <td>93.0</td>\n",
       "      <td>...</td>\n",
       "      <td>43.0</td>\n",
       "      <td>869</td>\n",
       "      <td>805</td>\n",
       "      <td>309</td>\n",
       "      <td>34</td>\n",
       "      <td>995</td>\n",
       "      <td>6326.0</td>\n",
       "      <td>4054</td>\n",
       "      <td>3030.0</td>\n",
       "      <td>181.600705</td>\n",
       "    </tr>\n",
       "    <tr>\n",
       "      <th>1</th>\n",
       "      <td>2000</td>\n",
       "      <td>ARI</td>\n",
       "      <td>162</td>\n",
       "      <td>792</td>\n",
       "      <td>5527</td>\n",
       "      <td>1466</td>\n",
       "      <td>179</td>\n",
       "      <td>535</td>\n",
       "      <td>975.0</td>\n",
       "      <td>97.0</td>\n",
       "      <td>...</td>\n",
       "      <td>58.0</td>\n",
       "      <td>754</td>\n",
       "      <td>698</td>\n",
       "      <td>282</td>\n",
       "      <td>44</td>\n",
       "      <td>961</td>\n",
       "      <td>6179.0</td>\n",
       "      <td>4061</td>\n",
       "      <td>3086.0</td>\n",
       "      <td>109.600705</td>\n",
       "    </tr>\n",
       "    <tr>\n",
       "      <th>2</th>\n",
       "      <td>2000</td>\n",
       "      <td>ATL</td>\n",
       "      <td>162</td>\n",
       "      <td>810</td>\n",
       "      <td>5489</td>\n",
       "      <td>1490</td>\n",
       "      <td>179</td>\n",
       "      <td>595</td>\n",
       "      <td>1010.0</td>\n",
       "      <td>148.0</td>\n",
       "      <td>...</td>\n",
       "      <td>45.0</td>\n",
       "      <td>714</td>\n",
       "      <td>648</td>\n",
       "      <td>274</td>\n",
       "      <td>26</td>\n",
       "      <td>1011</td>\n",
       "      <td>6188.0</td>\n",
       "      <td>3999</td>\n",
       "      <td>2989.0</td>\n",
       "      <td>127.600705</td>\n",
       "    </tr>\n",
       "    <tr>\n",
       "      <th>3</th>\n",
       "      <td>2000</td>\n",
       "      <td>BAL</td>\n",
       "      <td>162</td>\n",
       "      <td>794</td>\n",
       "      <td>5549</td>\n",
       "      <td>1508</td>\n",
       "      <td>184</td>\n",
       "      <td>558</td>\n",
       "      <td>900.0</td>\n",
       "      <td>126.0</td>\n",
       "      <td>...</td>\n",
       "      <td>54.0</td>\n",
       "      <td>913</td>\n",
       "      <td>855</td>\n",
       "      <td>310</td>\n",
       "      <td>22</td>\n",
       "      <td>992</td>\n",
       "      <td>6210.0</td>\n",
       "      <td>4041</td>\n",
       "      <td>3141.0</td>\n",
       "      <td>111.600705</td>\n",
       "    </tr>\n",
       "    <tr>\n",
       "      <th>4</th>\n",
       "      <td>2000</td>\n",
       "      <td>BOS</td>\n",
       "      <td>162</td>\n",
       "      <td>792</td>\n",
       "      <td>5630</td>\n",
       "      <td>1503</td>\n",
       "      <td>167</td>\n",
       "      <td>611</td>\n",
       "      <td>1019.0</td>\n",
       "      <td>43.0</td>\n",
       "      <td>...</td>\n",
       "      <td>48.0</td>\n",
       "      <td>745</td>\n",
       "      <td>683</td>\n",
       "      <td>316</td>\n",
       "      <td>32</td>\n",
       "      <td>988</td>\n",
       "      <td>6331.0</td>\n",
       "      <td>4127</td>\n",
       "      <td>3108.0</td>\n",
       "      <td>109.600705</td>\n",
       "    </tr>\n",
       "  </tbody>\n",
       "</table>\n",
       "<p>5 rows × 22 columns</p>\n",
       "</div>"
      ],
      "text/plain": [
       "   yearID franchID    G    R    AB     H   HR   BB      SO     SB     ...      \\\n",
       "0    2000      ANA  162  864  5628  1574  236  608  1024.0   93.0     ...       \n",
       "1    2000      ARI  162  792  5527  1466  179  535   975.0   97.0     ...       \n",
       "2    2000      ATL  162  810  5489  1490  179  595  1010.0  148.0     ...       \n",
       "3    2000      BAL  162  794  5549  1508  184  558   900.0  126.0     ...       \n",
       "4    2000      BOS  162  792  5630  1503  167  611  1019.0   43.0     ...       \n",
       "\n",
       "     SF   RA   ER  X2B  X3B   X1B      PA     O  O_nonK         RAA  \n",
       "0  43.0  869  805  309   34   995  6326.0  4054  3030.0  181.600705  \n",
       "1  58.0  754  698  282   44   961  6179.0  4061  3086.0  109.600705  \n",
       "2  45.0  714  648  274   26  1011  6188.0  3999  2989.0  127.600705  \n",
       "3  54.0  913  855  310   22   992  6210.0  4041  3141.0  111.600705  \n",
       "4  48.0  745  683  316   32   988  6331.0  4127  3108.0  109.600705  \n",
       "\n",
       "[5 rows x 22 columns]"
      ]
     },
     "execution_count": 4,
     "metadata": {},
     "output_type": "execute_result"
    }
   ],
   "source": [
    "# Restrict to after the year 2000\n",
    "lahman = lahman_main.loc[lahman_main['yearID'] >= 2000].reset_index(drop=True).copy()\n",
    "lahman.head()"
   ]
  },
  {
   "cell_type": "markdown",
   "metadata": {},
   "source": [
    "### First Regression"
   ]
  },
  {
   "cell_type": "code",
   "execution_count": 5,
   "metadata": {},
   "outputs": [
    {
     "data": {
      "text/plain": [
       "O     -0.259851\n",
       "X1B    0.479376\n",
       "X2B    0.744706\n",
       "X3B    1.078258\n",
       "HR     1.436029\n",
       "BB     0.288419\n",
       "HBP    0.335237\n",
       "SB     0.182543\n",
       "CS    -0.372263\n",
       "dtype: float64"
      ]
     },
     "execution_count": 5,
     "metadata": {},
     "output_type": "execute_result"
    }
   ],
   "source": [
    "dep_var = 'RAA'\n",
    "ind_vars = ['O', 'X1B', 'X2B', 'X3B', 'HR', 'BB', 'HBP', 'SB', 'CS']\n",
    "results = multiple_regression(dep_var, ind_vars, lahman)\n",
    "results.params"
   ]
  },
  {
   "cell_type": "markdown",
   "metadata": {},
   "source": [
    "### Are Ks more costly than other outs?"
   ]
  },
  {
   "cell_type": "code",
   "execution_count": 6,
   "metadata": {},
   "outputs": [],
   "source": [
    "ind_vars_with_K = ['O_nonK', 'X1B', 'X2B', 'X3B', 'HR', 'BB', 'HBP', 'SB', 'CS', 'SO']"
   ]
  },
  {
   "cell_type": "code",
   "execution_count": 7,
   "metadata": {},
   "outputs": [
    {
     "data": {
      "text/plain": [
       "O_nonK   -0.248914\n",
       "X1B       0.457801\n",
       "X2B       0.733130\n",
       "X3B       1.095368\n",
       "HR        1.438783\n",
       "BB        0.288666\n",
       "HBP       0.335617\n",
       "SB        0.187726\n",
       "CS       -0.391668\n",
       "SO       -0.268120\n",
       "dtype: float64"
      ]
     },
     "execution_count": 7,
     "metadata": {},
     "output_type": "execute_result"
    }
   ],
   "source": [
    "results_with_K = multiple_regression(dep_var, ind_vars_with_K, lahman)\n",
    "results_with_K.params"
   ]
  },
  {
   "cell_type": "markdown",
   "metadata": {},
   "source": [
    "### What does this regression look like for 1 year?"
   ]
  },
  {
   "cell_type": "code",
   "execution_count": 8,
   "metadata": {},
   "outputs": [
    {
     "data": {
      "text/plain": [
       "O     -0.251029\n",
       "X1B    0.388503\n",
       "X2B    1.132619\n",
       "X3B    0.816812\n",
       "HR     1.316626\n",
       "BB     0.187916\n",
       "HBP    0.533701\n",
       "SB     0.135256\n",
       "CS     0.014569\n",
       "dtype: float64"
      ]
     },
     "execution_count": 8,
     "metadata": {},
     "output_type": "execute_result"
    }
   ],
   "source": [
    "lahman_2016 = lahman.loc[lahman['yearID'] == 2016].copy()\n",
    "results_2016 = multiple_regression(dep_var, ind_vars, lahman_2016)\n",
    "results_2016.params"
   ]
  },
  {
   "cell_type": "markdown",
   "metadata": {},
   "source": [
    "### How does the relative value of SB and CS compare to wSB?"
   ]
  },
  {
   "cell_type": "code",
   "execution_count": 9,
   "metadata": {},
   "outputs": [
    {
     "data": {
      "text/plain": [
       "0.55480575683256306"
      ]
     },
     "execution_count": 9,
     "metadata": {},
     "output_type": "execute_result"
    }
   ],
   "source": [
    "results.params['SB'] - results.params['CS']"
   ]
  },
  {
   "cell_type": "code",
   "execution_count": 10,
   "metadata": {},
   "outputs": [
    {
     "data": {
      "text/plain": [
       "0.595"
      ]
     },
     "execution_count": 10,
     "metadata": {},
     "output_type": "execute_result"
    }
   ],
   "source": [
    "runSB = .2\n",
    "runCS_avg = -(2 * 0.16 + 0.075)\n",
    "runSB - runCS_avg"
   ]
  },
  {
   "cell_type": "markdown",
   "metadata": {},
   "source": [
    "### Interaction"
   ]
  },
  {
   "cell_type": "code",
   "execution_count": 11,
   "metadata": {},
   "outputs": [],
   "source": [
    "lahman_z = pd.DataFrame({col: (lahman[col] - lahman[col].mean())  for col in ind_vars})\n",
    "lahman_z['R'] = lahman['R']"
   ]
  },
  {
   "cell_type": "code",
   "execution_count": 12,
   "metadata": {},
   "outputs": [
    {
     "data": {
      "text/plain": [
       "Intercept    738.670588\n",
       "O             -0.127630\n",
       "X1B            0.522096\n",
       "X2B            0.762760\n",
       "X3B            1.128138\n",
       "HR             1.460083\n",
       "BB             0.310557\n",
       "HBP            0.359109\n",
       "SB             0.164748\n",
       "CS            -0.180542\n",
       "dtype: float64"
      ]
     },
     "execution_count": 12,
     "metadata": {},
     "output_type": "execute_result"
    }
   ],
   "source": [
    "results = multiple_regression('R', ind_vars, lahman_z, constant=True)\n",
    "results.params"
   ]
  },
  {
   "cell_type": "code",
   "execution_count": 13,
   "metadata": {},
   "outputs": [
    {
     "data": {
      "text/plain": [
       "Intercept    737.938788\n",
       "O             -0.132524\n",
       "X1B            0.520565\n",
       "X2B            0.760168\n",
       "X3B            1.135643\n",
       "HR             1.459150\n",
       "BB             0.308725\n",
       "HBP            0.378378\n",
       "SB             0.165486\n",
       "CS            -0.200720\n",
       "X1B:X2B        0.001786\n",
       "dtype: float64"
      ]
     },
     "execution_count": 13,
     "metadata": {},
     "output_type": "execute_result"
    }
   ],
   "source": [
    "interactions = [('X1B', 'X2B')]\n",
    "results = multiple_regression('R', ind_vars, lahman_z, constant=True, interactions=interactions)\n",
    "results.params"
   ]
  },
  {
   "cell_type": "code",
   "execution_count": 14,
   "metadata": {},
   "outputs": [
    {
     "data": {
      "text/plain": [
       "Intercept    661.825153\n",
       "O             -0.088925\n",
       "X1B            0.530905\n",
       "X2B            0.684753\n",
       "X3B            1.013603\n",
       "HR             1.520621\n",
       "BB             0.363532\n",
       "SB             0.259640\n",
       "CS             0.024825\n",
       "dtype: float64"
      ]
     },
     "execution_count": 14,
     "metadata": {},
     "output_type": "execute_result"
    }
   ],
   "source": [
    "# Restrict to 1960s\n",
    "lahman = lahman_main.loc[(lahman_main['yearID'] >= 1952) & (lahman_main['yearID'] < 1970)].\\\n",
    "    reset_index(drop=True).\\\n",
    "    copy()\n",
    "lahman.head()\n",
    "\n",
    "ind_vars_60s = ['O', 'X1B', 'X2B', 'X3B', 'HR', 'BB', 'SB', 'CS']\n",
    "\n",
    "lahman_z = pd.DataFrame({col: (lahman[col] - lahman[col].mean()) for col in ind_vars_60s})\n",
    "lahman_z['R'] = lahman['R']\n",
    "\n",
    "results = multiple_regression('R', ind_vars_60s, lahman_z, constant=True)\n",
    "results.params"
   ]
  },
  {
   "cell_type": "markdown",
   "metadata": {},
   "source": [
    "## Four Factor Model"
   ]
  },
  {
   "cell_type": "code",
   "execution_count": 15,
   "metadata": {},
   "outputs": [],
   "source": [
    "nba_teams = pd.read_csv('team_season_data.csv')\n",
    "\n",
    "nba_teams['efg'] = (nba_teams['fg'] + .5 * nba_teams['fg3']) / nba_teams['fga']\n",
    "nba_teams['to'] = nba_teams['tov'] / \\\n",
    "    (nba_teams['tov'] + nba_teams['fga'] + .44 * nba_teams['fta'])\n",
    "nba_teams['oreb'] = nba_teams['orb'] / \\\n",
    "    (nba_teams['orb'] + nba_teams['opp_drb'])\n",
    "nba_teams['ftr'] = nba_teams['ft'] / nba_teams['fga']\n",
    "\n",
    "nba_teams['opp_efg'] = (nba_teams['opp_fg'] + .5 *\n",
    "                        nba_teams['opp_fg3']) / nba_teams['opp_fga']\n",
    "nba_teams['opp_to'] = nba_teams['opp_tov'] / \\\n",
    "    (nba_teams['opp_tov'] + nba_teams['opp_fga'] + .44 * nba_teams['opp_fta'])\n",
    "nba_teams['opp_oreb'] = nba_teams['opp_orb'] / \\\n",
    "    (nba_teams['opp_orb'] + nba_teams['drb'])\n",
    "nba_teams['opp_ftr'] = nba_teams['opp_ft'] / nba_teams['opp_fga']\n",
    "\n",
    "nba_teams['eFG'] = zscore(nba_teams['efg'] - nba_teams['opp_efg'])\n",
    "nba_teams['Tov'] = zscore(nba_teams['to'] - nba_teams['opp_to'])\n",
    "nba_teams['Reb'] = zscore(nba_teams['oreb'] - nba_teams['opp_oreb'])\n",
    "nba_teams['Ftr'] = zscore(nba_teams['ftr'] - nba_teams['opp_ftr'])"
   ]
  },
  {
   "cell_type": "code",
   "execution_count": 16,
   "metadata": {},
   "outputs": [],
   "source": [
    "nba_teams['win_pct'] = nba_teams['wins'] / (nba_teams['wins'] + nba_teams['losses'])\n",
    "nba_teams['rtg_rat'] = nba_teams['off_rtg'] / nba_teams['def_rtg']\n",
    "nba_teams['log_rtg_rat'] = np.log(nba_teams['rtg_rat'])"
   ]
  },
  {
   "cell_type": "markdown",
   "metadata": {},
   "source": [
    "### Four Factors and Winning Pct"
   ]
  },
  {
   "cell_type": "code",
   "execution_count": 17,
   "metadata": {},
   "outputs": [
    {
     "data": {
      "text/plain": [
       "eFG    0.471141\n",
       "Tov   -0.232098\n",
       "Reb    0.148451\n",
       "Ftr    0.148310\n",
       "dtype: float64"
      ]
     },
     "execution_count": 17,
     "metadata": {},
     "output_type": "execute_result"
    }
   ],
   "source": [
    "dep_vars = 'win_pct'\n",
    "ind_vars = ['eFG', 'Tov', 'Reb', 'Ftr']\n",
    "results = multiple_regression(dep_vars, ind_vars, nba_teams)\n",
    "results.params / results.params.abs().sum()"
   ]
  },
  {
   "cell_type": "markdown",
   "metadata": {},
   "source": [
    "### Four Factors and the log Rating Ratio"
   ]
  },
  {
   "cell_type": "code",
   "execution_count": 18,
   "metadata": {},
   "outputs": [
    {
     "data": {
      "text/plain": [
       "eFG    0.469041\n",
       "Tov   -0.239897\n",
       "Reb    0.156998\n",
       "Ftr    0.134064\n",
       "dtype: float64"
      ]
     },
     "execution_count": 18,
     "metadata": {},
     "output_type": "execute_result"
    }
   ],
   "source": [
    "dep_vars = 'log_rtg_rat'\n",
    "results = multiple_regression(dep_vars, ind_vars, nba_teams)\n",
    "results.params / results.params.abs().sum()"
   ]
  },
  {
   "cell_type": "markdown",
   "metadata": {},
   "source": [
    "### By Games"
   ]
  },
  {
   "cell_type": "code",
   "execution_count": 19,
   "metadata": {},
   "outputs": [
    {
     "data": {
      "text/html": [
       "<div>\n",
       "<table border=\"1\" class=\"dataframe\">\n",
       "  <thead>\n",
       "    <tr style=\"text-align: right;\">\n",
       "      <th></th>\n",
       "      <th>GAME_ID</th>\n",
       "      <th>TEAM_ID</th>\n",
       "      <th>TEAM_NAME</th>\n",
       "      <th>TEAM_ABBREVIATION</th>\n",
       "      <th>TEAM_CITY</th>\n",
       "      <th>MIN</th>\n",
       "      <th>EFG_PCT</th>\n",
       "      <th>FTA_RATE</th>\n",
       "      <th>TOV_PCT</th>\n",
       "      <th>OREB_PCT</th>\n",
       "      <th>...</th>\n",
       "      <th>DEF_RATING</th>\n",
       "      <th>NET_RATING</th>\n",
       "      <th>OPP_TEAM_ID</th>\n",
       "      <th>OPP_TEAM_NAME</th>\n",
       "      <th>OPP_TEAM_ABBREVIATION</th>\n",
       "      <th>OPP_TEAM_CITY</th>\n",
       "      <th>OPP_OFF_RATING</th>\n",
       "      <th>OPP_DEF_RATING</th>\n",
       "      <th>OPP_NET_RATING</th>\n",
       "      <th>PTS_DIFF</th>\n",
       "    </tr>\n",
       "  </thead>\n",
       "  <tbody>\n",
       "    <tr>\n",
       "      <th>0</th>\n",
       "      <td>21600001</td>\n",
       "      <td>1610612752</td>\n",
       "      <td>Knicks</td>\n",
       "      <td>NYK</td>\n",
       "      <td>New York</td>\n",
       "      <td>240:00</td>\n",
       "      <td>0.420</td>\n",
       "      <td>0.230</td>\n",
       "      <td>0.179</td>\n",
       "      <td>0.245</td>\n",
       "      <td>...</td>\n",
       "      <td>110.0</td>\n",
       "      <td>-22.7</td>\n",
       "      <td>1610612739</td>\n",
       "      <td>Cavaliers</td>\n",
       "      <td>CLE</td>\n",
       "      <td>Cleveland</td>\n",
       "      <td>110.0</td>\n",
       "      <td>87.3</td>\n",
       "      <td>22.7</td>\n",
       "      <td>-29.0</td>\n",
       "    </tr>\n",
       "    <tr>\n",
       "      <th>1</th>\n",
       "      <td>21600002</td>\n",
       "      <td>1610612762</td>\n",
       "      <td>Jazz</td>\n",
       "      <td>UTA</td>\n",
       "      <td>Utah</td>\n",
       "      <td>240:00</td>\n",
       "      <td>0.537</td>\n",
       "      <td>0.195</td>\n",
       "      <td>0.144</td>\n",
       "      <td>0.171</td>\n",
       "      <td>...</td>\n",
       "      <td>121.9</td>\n",
       "      <td>-14.8</td>\n",
       "      <td>1610612757</td>\n",
       "      <td>Trail Blazers</td>\n",
       "      <td>POR</td>\n",
       "      <td>Portland</td>\n",
       "      <td>121.9</td>\n",
       "      <td>107.2</td>\n",
       "      <td>14.8</td>\n",
       "      <td>-9.0</td>\n",
       "    </tr>\n",
       "    <tr>\n",
       "      <th>2</th>\n",
       "      <td>21600003</td>\n",
       "      <td>1610612759</td>\n",
       "      <td>Spurs</td>\n",
       "      <td>SAS</td>\n",
       "      <td>San Antonio</td>\n",
       "      <td>240:00</td>\n",
       "      <td>0.541</td>\n",
       "      <td>0.265</td>\n",
       "      <td>0.137</td>\n",
       "      <td>0.438</td>\n",
       "      <td>...</td>\n",
       "      <td>99.1</td>\n",
       "      <td>26.8</td>\n",
       "      <td>1610612744</td>\n",
       "      <td>Warriors</td>\n",
       "      <td>GSW</td>\n",
       "      <td>Golden State</td>\n",
       "      <td>99.1</td>\n",
       "      <td>125.9</td>\n",
       "      <td>-26.8</td>\n",
       "      <td>29.0</td>\n",
       "    </tr>\n",
       "    <tr>\n",
       "      <th>3</th>\n",
       "      <td>21600004</td>\n",
       "      <td>1610612753</td>\n",
       "      <td>Magic</td>\n",
       "      <td>ORL</td>\n",
       "      <td>Orlando</td>\n",
       "      <td>240:00</td>\n",
       "      <td>0.416</td>\n",
       "      <td>0.315</td>\n",
       "      <td>0.113</td>\n",
       "      <td>0.294</td>\n",
       "      <td>...</td>\n",
       "      <td>108.0</td>\n",
       "      <td>-9.3</td>\n",
       "      <td>1610612748</td>\n",
       "      <td>Heat</td>\n",
       "      <td>MIA</td>\n",
       "      <td>Miami</td>\n",
       "      <td>108.0</td>\n",
       "      <td>98.6</td>\n",
       "      <td>9.3</td>\n",
       "      <td>-12.0</td>\n",
       "    </tr>\n",
       "    <tr>\n",
       "      <th>4</th>\n",
       "      <td>21600005</td>\n",
       "      <td>1610612754</td>\n",
       "      <td>Pacers</td>\n",
       "      <td>IND</td>\n",
       "      <td>Indiana</td>\n",
       "      <td>265:00</td>\n",
       "      <td>0.559</td>\n",
       "      <td>0.366</td>\n",
       "      <td>0.138</td>\n",
       "      <td>0.170</td>\n",
       "      <td>...</td>\n",
       "      <td>103.5</td>\n",
       "      <td>8.6</td>\n",
       "      <td>1610612742</td>\n",
       "      <td>Mavericks</td>\n",
       "      <td>DAL</td>\n",
       "      <td>Dallas</td>\n",
       "      <td>103.5</td>\n",
       "      <td>112.1</td>\n",
       "      <td>-8.6</td>\n",
       "      <td>9.0</td>\n",
       "    </tr>\n",
       "  </tbody>\n",
       "</table>\n",
       "<p>5 rows × 26 columns</p>\n",
       "</div>"
      ],
      "text/plain": [
       "    GAME_ID     TEAM_ID TEAM_NAME TEAM_ABBREVIATION    TEAM_CITY     MIN  \\\n",
       "0  21600001  1610612752    Knicks               NYK     New York  240:00   \n",
       "1  21600002  1610612762      Jazz               UTA         Utah  240:00   \n",
       "2  21600003  1610612759     Spurs               SAS  San Antonio  240:00   \n",
       "3  21600004  1610612753     Magic               ORL      Orlando  240:00   \n",
       "4  21600005  1610612754    Pacers               IND      Indiana  265:00   \n",
       "\n",
       "   EFG_PCT  FTA_RATE  TOV_PCT  OREB_PCT   ...     DEF_RATING  NET_RATING  \\\n",
       "0    0.420     0.230    0.179     0.245   ...          110.0       -22.7   \n",
       "1    0.537     0.195    0.144     0.171   ...          121.9       -14.8   \n",
       "2    0.541     0.265    0.137     0.438   ...           99.1        26.8   \n",
       "3    0.416     0.315    0.113     0.294   ...          108.0        -9.3   \n",
       "4    0.559     0.366    0.138     0.170   ...          103.5         8.6   \n",
       "\n",
       "   OPP_TEAM_ID  OPP_TEAM_NAME OPP_TEAM_ABBREVIATION  OPP_TEAM_CITY  \\\n",
       "0   1610612739      Cavaliers                   CLE      Cleveland   \n",
       "1   1610612757  Trail Blazers                   POR       Portland   \n",
       "2   1610612744       Warriors                   GSW   Golden State   \n",
       "3   1610612748           Heat                   MIA          Miami   \n",
       "4   1610612742      Mavericks                   DAL         Dallas   \n",
       "\n",
       "   OPP_OFF_RATING  OPP_DEF_RATING  OPP_NET_RATING PTS_DIFF  \n",
       "0           110.0            87.3            22.7    -29.0  \n",
       "1           121.9           107.2            14.8     -9.0  \n",
       "2            99.1           125.9           -26.8     29.0  \n",
       "3           108.0            98.6             9.3    -12.0  \n",
       "4           103.5           112.1            -8.6      9.0  \n",
       "\n",
       "[5 rows x 26 columns]"
      ]
     },
     "execution_count": 19,
     "metadata": {},
     "output_type": "execute_result"
    }
   ],
   "source": [
    "games = pd.read_csv('four_factor_game_data.csv')\n",
    "games.head()"
   ]
  },
  {
   "cell_type": "code",
   "execution_count": 20,
   "metadata": {},
   "outputs": [],
   "source": [
    "games['eFG'] = zscore(games['EFG_PCT'] - games['OPP_EFG_PCT'])\n",
    "games['Tov'] = zscore(games['TOV_PCT'] - games['OPP_TOV_PCT'])\n",
    "games['Reb'] = zscore(games['OREB_PCT'] - games['OPP_OREB_PCT'])\n",
    "games['Ftr'] = zscore(games['FTA_RATE'] - games['OPP_FTA_RATE'])"
   ]
  },
  {
   "cell_type": "code",
   "execution_count": 21,
   "metadata": {},
   "outputs": [],
   "source": [
    "games['log_rtg_rat'] = np.log(games['OFF_RATING'] / games['DEF_RATING'])"
   ]
  },
  {
   "cell_type": "code",
   "execution_count": 22,
   "metadata": {},
   "outputs": [
    {
     "data": {
      "text/plain": [
       "eFG    0.496854\n",
       "Tov   -0.220977\n",
       "Reb    0.191796\n",
       "Ftr    0.090373\n",
       "dtype: float64"
      ]
     },
     "execution_count": 22,
     "metadata": {},
     "output_type": "execute_result"
    }
   ],
   "source": [
    "dep_vars = 'log_rtg_rat'\n",
    "results = multiple_regression(dep_vars, ind_vars, games)\n",
    "results.params / results.params.abs().sum()"
   ]
  }
 ],
 "metadata": {
  "hide_input": false,
  "kernelspec": {
   "display_name": "Python 3",
   "language": "python",
   "name": "python3"
  },
  "language_info": {
   "codemirror_mode": {
    "name": "ipython",
    "version": 3
   },
   "file_extension": ".py",
   "mimetype": "text/x-python",
   "name": "python",
   "nbconvert_exporter": "python",
   "pygments_lexer": "ipython3",
   "version": "3.6.4"
  },
  "toc": {
   "base_numbering": 1,
   "nav_menu": {},
   "number_sections": true,
   "sideBar": true,
   "skip_h1_title": true,
   "title_cell": "Table of Contents",
   "title_sidebar": "Contents",
   "toc_cell": true,
   "toc_position": {},
   "toc_section_display": true,
   "toc_window_display": false
  },
  "varInspector": {
   "cols": {
    "lenName": 16,
    "lenType": 16,
    "lenVar": 40
   },
   "kernels_config": {
    "python": {
     "delete_cmd_postfix": "",
     "delete_cmd_prefix": "del ",
     "library": "var_list.py",
     "varRefreshCmd": "print(var_dic_list())"
    },
    "r": {
     "delete_cmd_postfix": ") ",
     "delete_cmd_prefix": "rm(",
     "library": "var_list.r",
     "varRefreshCmd": "cat(var_dic_list()) "
    }
   },
   "types_to_exclude": [
    "module",
    "function",
    "builtin_function_or_method",
    "instance",
    "_Feature"
   ],
   "window_display": false
  }
 },
 "nbformat": 4,
 "nbformat_minor": 2
}
