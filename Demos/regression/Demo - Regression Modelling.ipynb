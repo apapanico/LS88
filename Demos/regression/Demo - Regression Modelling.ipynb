{
 "cells": [
  {
   "cell_type": "markdown",
   "metadata": {
    "toc": true
   },
   "source": [
    "<h1>Table of Contents<span class=\"tocSkip\"></span></h1>\n",
    "<div class=\"toc\"><ul class=\"toc-item\"><li><span><a href=\"#Baseball-Run-Values-from-Regression\" data-toc-modified-id=\"Baseball-Run-Values-from-Regression-1\"><span class=\"toc-item-num\">1&nbsp;&nbsp;</span>Baseball Run Values from Regression</a></span><ul class=\"toc-item\"><li><span><a href=\"#Load-Data\" data-toc-modified-id=\"Load-Data-1.1\"><span class=\"toc-item-num\">1.1&nbsp;&nbsp;</span>Load Data</a></span></li><li><span><a href=\"#Our-first-regression-model\" data-toc-modified-id=\"Our-first-regression-model-1.2\"><span class=\"toc-item-num\">1.2&nbsp;&nbsp;</span>Our first regression model</a></span></li><li><span><a href=\"#Are-Ks-more-costly-than-other-outs?\" data-toc-modified-id=\"Are-Ks-more-costly-than-other-outs?-1.3\"><span class=\"toc-item-num\">1.3&nbsp;&nbsp;</span>Are Ks more costly than other outs?</a></span></li><li><span><a href=\"#What-happens-if-we-only-use-a-year-of-data?\" data-toc-modified-id=\"What-happens-if-we-only-use-a-year-of-data?-1.4\"><span class=\"toc-item-num\">1.4&nbsp;&nbsp;</span>What happens if we only use a year of data?</a></span></li></ul></li><li><span><a href=\"#Four-Factor-Model\" data-toc-modified-id=\"Four-Factor-Model-2\"><span class=\"toc-item-num\">2&nbsp;&nbsp;</span>Four Factor Model</a></span><ul class=\"toc-item\"><li><span><a href=\"#Load-Data\" data-toc-modified-id=\"Load-Data-2.1\"><span class=\"toc-item-num\">2.1&nbsp;&nbsp;</span>Load Data</a></span></li><li><span><a href=\"#Four-Factors-and-Winning-Pct\" data-toc-modified-id=\"Four-Factors-and-Winning-Pct-2.2\"><span class=\"toc-item-num\">2.2&nbsp;&nbsp;</span>Four Factors and Winning Pct</a></span></li><li><span><a href=\"#Four-Factors-and-the-log-Rating-Ratio\" data-toc-modified-id=\"Four-Factors-and-the-log-Rating-Ratio-2.3\"><span class=\"toc-item-num\">2.3&nbsp;&nbsp;</span>Four Factors and the log Rating Ratio</a></span></li><li><span><a href=\"#By-Games\" data-toc-modified-id=\"By-Games-2.4\"><span class=\"toc-item-num\">2.4&nbsp;&nbsp;</span>By Games</a></span></li></ul></li><li><span><a href=\"#Real-Plus/Minus\" data-toc-modified-id=\"Real-Plus/Minus-3\"><span class=\"toc-item-num\">3&nbsp;&nbsp;</span>Real Plus/Minus</a></span></li></ul></div>"
   ]
  },
  {
   "cell_type": "code",
   "execution_count": 1,
   "metadata": {},
   "outputs": [],
   "source": [
    "import pandas as pd\n",
    "import matplotlib.pyplot as plt\n",
    "import numpy as np\n",
    "from scipy.stats import zscore\n",
    "\n",
    "from regression_helper import multiple_regression"
   ]
  },
  {
   "cell_type": "markdown",
   "metadata": {},
   "source": [
    "## Baseball Run Values from Regression"
   ]
  },
  {
   "cell_type": "markdown",
   "metadata": {},
   "source": [
    "### Load Data"
   ]
  },
  {
   "cell_type": "code",
   "execution_count": 2,
   "metadata": {},
   "outputs": [
    {
     "data": {
      "text/html": [
       "<div>\n",
       "<table border=\"1\" class=\"dataframe\">\n",
       "  <thead>\n",
       "    <tr style=\"text-align: right;\">\n",
       "      <th></th>\n",
       "      <th>yearID</th>\n",
       "      <th>franchID</th>\n",
       "      <th>RAA</th>\n",
       "      <th>O</th>\n",
       "      <th>O_nonK</th>\n",
       "      <th>SO</th>\n",
       "      <th>X1B</th>\n",
       "      <th>X2B</th>\n",
       "      <th>X3B</th>\n",
       "      <th>HR</th>\n",
       "      <th>BB</th>\n",
       "      <th>HBP</th>\n",
       "      <th>SB</th>\n",
       "      <th>CS</th>\n",
       "    </tr>\n",
       "  </thead>\n",
       "  <tbody>\n",
       "    <tr>\n",
       "      <th>982</th>\n",
       "      <td>2000</td>\n",
       "      <td>ANA</td>\n",
       "      <td>181.600705</td>\n",
       "      <td>4054</td>\n",
       "      <td>3030.0</td>\n",
       "      <td>1024.0</td>\n",
       "      <td>995</td>\n",
       "      <td>309</td>\n",
       "      <td>34</td>\n",
       "      <td>236</td>\n",
       "      <td>608</td>\n",
       "      <td>47.0</td>\n",
       "      <td>93.0</td>\n",
       "      <td>52.0</td>\n",
       "    </tr>\n",
       "    <tr>\n",
       "      <th>983</th>\n",
       "      <td>2000</td>\n",
       "      <td>ARI</td>\n",
       "      <td>109.600705</td>\n",
       "      <td>4061</td>\n",
       "      <td>3086.0</td>\n",
       "      <td>975.0</td>\n",
       "      <td>961</td>\n",
       "      <td>282</td>\n",
       "      <td>44</td>\n",
       "      <td>179</td>\n",
       "      <td>535</td>\n",
       "      <td>59.0</td>\n",
       "      <td>97.0</td>\n",
       "      <td>44.0</td>\n",
       "    </tr>\n",
       "    <tr>\n",
       "      <th>984</th>\n",
       "      <td>2000</td>\n",
       "      <td>ATL</td>\n",
       "      <td>127.600705</td>\n",
       "      <td>3999</td>\n",
       "      <td>2989.0</td>\n",
       "      <td>1010.0</td>\n",
       "      <td>1011</td>\n",
       "      <td>274</td>\n",
       "      <td>26</td>\n",
       "      <td>179</td>\n",
       "      <td>595</td>\n",
       "      <td>59.0</td>\n",
       "      <td>148.0</td>\n",
       "      <td>56.0</td>\n",
       "    </tr>\n",
       "    <tr>\n",
       "      <th>985</th>\n",
       "      <td>2000</td>\n",
       "      <td>BAL</td>\n",
       "      <td>111.600705</td>\n",
       "      <td>4041</td>\n",
       "      <td>3141.0</td>\n",
       "      <td>900.0</td>\n",
       "      <td>992</td>\n",
       "      <td>310</td>\n",
       "      <td>22</td>\n",
       "      <td>184</td>\n",
       "      <td>558</td>\n",
       "      <td>49.0</td>\n",
       "      <td>126.0</td>\n",
       "      <td>65.0</td>\n",
       "    </tr>\n",
       "    <tr>\n",
       "      <th>986</th>\n",
       "      <td>2000</td>\n",
       "      <td>BOS</td>\n",
       "      <td>109.600705</td>\n",
       "      <td>4127</td>\n",
       "      <td>3108.0</td>\n",
       "      <td>1019.0</td>\n",
       "      <td>988</td>\n",
       "      <td>316</td>\n",
       "      <td>32</td>\n",
       "      <td>167</td>\n",
       "      <td>611</td>\n",
       "      <td>42.0</td>\n",
       "      <td>43.0</td>\n",
       "      <td>30.0</td>\n",
       "    </tr>\n",
       "  </tbody>\n",
       "</table>\n",
       "</div>"
      ],
      "text/plain": [
       "     yearID franchID         RAA     O  O_nonK      SO   X1B  X2B  X3B   HR  \\\n",
       "982    2000      ANA  181.600705  4054  3030.0  1024.0   995  309   34  236   \n",
       "983    2000      ARI  109.600705  4061  3086.0   975.0   961  282   44  179   \n",
       "984    2000      ATL  127.600705  3999  2989.0  1010.0  1011  274   26  179   \n",
       "985    2000      BAL  111.600705  4041  3141.0   900.0   992  310   22  184   \n",
       "986    2000      BOS  109.600705  4127  3108.0  1019.0   988  316   32  167   \n",
       "\n",
       "      BB   HBP     SB    CS  \n",
       "982  608  47.0   93.0  52.0  \n",
       "983  535  59.0   97.0  44.0  \n",
       "984  595  59.0  148.0  56.0  \n",
       "985  558  49.0  126.0  65.0  \n",
       "986  611  42.0   43.0  30.0  "
      ]
     },
     "execution_count": 2,
     "metadata": {},
     "output_type": "execute_result"
    }
   ],
   "source": [
    "# Load lahman_teams.csv obtained from the lahman_main databank. \n",
    "# This table is a slight modification of the regular table.\n",
    "lahman = pd.read_csv(\"lahman_teams.csv\")\n",
    "\n",
    "# Restrict to after the year 2000\n",
    "lahman_2000s = lahman.loc[lahman['yearID'] >= 2000]\n",
    "lahman_2000s.head()"
   ]
  },
  {
   "cell_type": "markdown",
   "metadata": {},
   "source": [
    "### Our first regression model"
   ]
  },
  {
   "cell_type": "code",
   "execution_count": 3,
   "metadata": {},
   "outputs": [
    {
     "data": {
      "text/plain": [
       "O     -0.259851\n",
       "X1B    0.479376\n",
       "X2B    0.744706\n",
       "X3B    1.078258\n",
       "HR     1.436029\n",
       "BB     0.288419\n",
       "HBP    0.335237\n",
       "SB     0.182543\n",
       "CS    -0.372263\n",
       "dtype: float64"
      ]
     },
     "execution_count": 3,
     "metadata": {},
     "output_type": "execute_result"
    }
   ],
   "source": [
    "dep_vars = 'RAA'\n",
    "ind_vars = ['O', 'X1B', 'X2B', 'X3B', 'HR', 'BB', 'HBP', 'SB', 'CS']\n",
    "coefs, predictions, errors = multiple_regression(dep_vars, ind_vars, lahman_2000s)\n",
    "coefs"
   ]
  },
  {
   "cell_type": "markdown",
   "metadata": {},
   "source": [
    "### Are Ks more costly than other outs?"
   ]
  },
  {
   "cell_type": "code",
   "execution_count": 4,
   "metadata": {},
   "outputs": [
    {
     "data": {
      "text/plain": [
       "O_nonK   -0.248914\n",
       "SO       -0.268120\n",
       "X1B       0.457801\n",
       "X2B       0.733130\n",
       "X3B       1.095368\n",
       "HR        1.438783\n",
       "BB        0.288666\n",
       "HBP       0.335617\n",
       "SB        0.187726\n",
       "CS       -0.391668\n",
       "dtype: float64"
      ]
     },
     "execution_count": 4,
     "metadata": {},
     "output_type": "execute_result"
    }
   ],
   "source": [
    "ind_vars_with_K = ['O_nonK', 'SO', 'X1B', 'X2B', 'X3B', 'HR', 'BB', 'HBP', 'SB', 'CS']\n",
    "coefs_with_K, _, _ = multiple_regression(dep_vars, ind_vars_with_K, lahman_2000s)\n",
    "coefs_with_K"
   ]
  },
  {
   "cell_type": "markdown",
   "metadata": {},
   "source": [
    "### What happens if we only use a year of data?"
   ]
  },
  {
   "cell_type": "code",
   "execution_count": 5,
   "metadata": {},
   "outputs": [
    {
     "data": {
      "text/plain": [
       "O     -0.251029\n",
       "X1B    0.388503\n",
       "X2B    1.132619\n",
       "X3B    0.816812\n",
       "HR     1.316626\n",
       "BB     0.187916\n",
       "HBP    0.533701\n",
       "SB     0.135256\n",
       "CS     0.014569\n",
       "dtype: float64"
      ]
     },
     "execution_count": 5,
     "metadata": {},
     "output_type": "execute_result"
    }
   ],
   "source": [
    "lahman_2016 = lahman.loc[lahman['yearID'] == 2016]\n",
    "coefs_2016, _, _ = multiple_regression(dep_vars, ind_vars, lahman_2016)\n",
    "coefs_2016"
   ]
  },
  {
   "cell_type": "markdown",
   "metadata": {},
   "source": [
    "## Four Factor Model"
   ]
  },
  {
   "cell_type": "markdown",
   "metadata": {},
   "source": [
    "### Load Data"
   ]
  },
  {
   "cell_type": "code",
   "execution_count": 6,
   "metadata": {},
   "outputs": [
    {
     "data": {
      "text/html": [
       "<div>\n",
       "<table border=\"1\" class=\"dataframe\">\n",
       "  <thead>\n",
       "    <tr style=\"text-align: right;\">\n",
       "      <th></th>\n",
       "      <th>team</th>\n",
       "      <th>season</th>\n",
       "      <th>win_pct</th>\n",
       "      <th>rtg_rat</th>\n",
       "      <th>log_rtg_rat</th>\n",
       "      <th>eFG</th>\n",
       "      <th>Tov</th>\n",
       "      <th>Reb</th>\n",
       "      <th>Ftr</th>\n",
       "    </tr>\n",
       "  </thead>\n",
       "  <tbody>\n",
       "    <tr>\n",
       "      <th>516</th>\n",
       "      <td>ORL</td>\n",
       "      <td>2000</td>\n",
       "      <td>0.524390</td>\n",
       "      <td>1.010774</td>\n",
       "      <td>0.010716</td>\n",
       "      <td>0.380505</td>\n",
       "      <td>-1.299623</td>\n",
       "      <td>-0.374888</td>\n",
       "      <td>-2.114058</td>\n",
       "    </tr>\n",
       "    <tr>\n",
       "      <th>517</th>\n",
       "      <td>OKC</td>\n",
       "      <td>2000</td>\n",
       "      <td>0.536585</td>\n",
       "      <td>1.000000</td>\n",
       "      <td>0.000000</td>\n",
       "      <td>0.083395</td>\n",
       "      <td>0.241673</td>\n",
       "      <td>-0.335741</td>\n",
       "      <td>0.544216</td>\n",
       "    </tr>\n",
       "    <tr>\n",
       "      <th>518</th>\n",
       "      <td>UTA</td>\n",
       "      <td>2000</td>\n",
       "      <td>0.646341</td>\n",
       "      <td>1.050781</td>\n",
       "      <td>0.049534</td>\n",
       "      <td>0.876757</td>\n",
       "      <td>-0.388508</td>\n",
       "      <td>1.107366</td>\n",
       "      <td>-0.801943</td>\n",
       "    </tr>\n",
       "    <tr>\n",
       "      <th>519</th>\n",
       "      <td>CHI</td>\n",
       "      <td>2000</td>\n",
       "      <td>0.182927</td>\n",
       "      <td>0.905871</td>\n",
       "      <td>-0.098858</td>\n",
       "      <td>-1.824042</td>\n",
       "      <td>0.602356</td>\n",
       "      <td>-1.022925</td>\n",
       "      <td>-0.950757</td>\n",
       "    </tr>\n",
       "    <tr>\n",
       "      <th>520</th>\n",
       "      <td>CLE</td>\n",
       "      <td>2000</td>\n",
       "      <td>0.365854</td>\n",
       "      <td>0.956149</td>\n",
       "      <td>-0.044842</td>\n",
       "      <td>-0.652338</td>\n",
       "      <td>0.958817</td>\n",
       "      <td>0.290324</td>\n",
       "      <td>-0.252797</td>\n",
       "    </tr>\n",
       "  </tbody>\n",
       "</table>\n",
       "</div>"
      ],
      "text/plain": [
       "    team  season   win_pct   rtg_rat  log_rtg_rat       eFG       Tov  \\\n",
       "516  ORL    2000  0.524390  1.010774     0.010716  0.380505 -1.299623   \n",
       "517  OKC    2000  0.536585  1.000000     0.000000  0.083395  0.241673   \n",
       "518  UTA    2000  0.646341  1.050781     0.049534  0.876757 -0.388508   \n",
       "519  CHI    2000  0.182927  0.905871    -0.098858 -1.824042  0.602356   \n",
       "520  CLE    2000  0.365854  0.956149    -0.044842 -0.652338  0.958817   \n",
       "\n",
       "          Reb       Ftr  \n",
       "516 -0.374888 -2.114058  \n",
       "517 -0.335741  0.544216  \n",
       "518  1.107366 -0.801943  \n",
       "519 -1.022925 -0.950757  \n",
       "520  0.290324 -0.252797  "
      ]
     },
     "execution_count": 6,
     "metadata": {},
     "output_type": "execute_result"
    }
   ],
   "source": [
    "nba_teams_full = pd.read_csv('team_season_ff_data.csv')\n",
    "nba_teams = nba_teams_full.loc[nba_teams_full.season >= 2000]\n",
    "nba_teams.head()"
   ]
  },
  {
   "cell_type": "markdown",
   "metadata": {},
   "source": [
    "### Four Factors and Winning Pct"
   ]
  },
  {
   "cell_type": "code",
   "execution_count": 7,
   "metadata": {},
   "outputs": [
    {
     "data": {
      "text/plain": [
       "eFG    0.469091\n",
       "Tov   -0.231724\n",
       "Reb    0.160684\n",
       "Ftr    0.138501\n",
       "dtype: float64"
      ]
     },
     "execution_count": 7,
     "metadata": {},
     "output_type": "execute_result"
    }
   ],
   "source": [
    "dep_vars = 'win_pct'\n",
    "ind_vars = ['eFG', 'Tov', 'Reb', 'Ftr']\n",
    "coefs, _, _ = multiple_regression(dep_vars, ind_vars, nba_teams)\n",
    "coefs = coefs / coefs.abs().sum()\n",
    "coefs"
   ]
  },
  {
   "cell_type": "markdown",
   "metadata": {},
   "source": [
    "### Four Factors and the log Rating Ratio"
   ]
  },
  {
   "cell_type": "code",
   "execution_count": 8,
   "metadata": {},
   "outputs": [
    {
     "data": {
      "text/plain": [
       "eFG    0.476750\n",
       "Tov   -0.229748\n",
       "Reb    0.161694\n",
       "Ftr    0.131809\n",
       "dtype: float64"
      ]
     },
     "execution_count": 8,
     "metadata": {},
     "output_type": "execute_result"
    }
   ],
   "source": [
    "dep_vars = 'log_rtg_rat'\n",
    "coefs, _, _ = multiple_regression(dep_vars, ind_vars, nba_teams)\n",
    "coefs = coefs / coefs.abs().sum()\n",
    "coefs"
   ]
  },
  {
   "cell_type": "markdown",
   "metadata": {},
   "source": [
    "### By Games"
   ]
  },
  {
   "cell_type": "code",
   "execution_count": 9,
   "metadata": {},
   "outputs": [
    {
     "data": {
      "text/html": [
       "<div>\n",
       "<table border=\"1\" class=\"dataframe\">\n",
       "  <thead>\n",
       "    <tr style=\"text-align: right;\">\n",
       "      <th></th>\n",
       "      <th>GAME_ID</th>\n",
       "      <th>TEAM_NAME</th>\n",
       "      <th>OPP_TEAM_NAME</th>\n",
       "      <th>log_rtg_rat</th>\n",
       "      <th>eFG</th>\n",
       "      <th>Tov</th>\n",
       "      <th>Reb</th>\n",
       "      <th>Ftr</th>\n",
       "    </tr>\n",
       "  </thead>\n",
       "  <tbody>\n",
       "    <tr>\n",
       "      <th>0</th>\n",
       "      <td>21600001</td>\n",
       "      <td>Knicks</td>\n",
       "      <td>Cavaliers</td>\n",
       "      <td>-0.231130</td>\n",
       "      <td>-1.392594</td>\n",
       "      <td>0.751141</td>\n",
       "      <td>-0.344226</td>\n",
       "      <td>0.335651</td>\n",
       "    </tr>\n",
       "    <tr>\n",
       "      <th>1</th>\n",
       "      <td>21600002</td>\n",
       "      <td>Jazz</td>\n",
       "      <td>Trail Blazers</td>\n",
       "      <td>-0.128505</td>\n",
       "      <td>-0.760523</td>\n",
       "      <td>0.071183</td>\n",
       "      <td>-0.015786</td>\n",
       "      <td>-0.676140</td>\n",
       "    </tr>\n",
       "    <tr>\n",
       "      <th>2</th>\n",
       "      <td>21600003</td>\n",
       "      <td>Spurs</td>\n",
       "      <td>Warriors</td>\n",
       "      <td>0.239358</td>\n",
       "      <td>0.318357</td>\n",
       "      <td>-0.448785</td>\n",
       "      <td>2.341258</td>\n",
       "      <td>0.536404</td>\n",
       "    </tr>\n",
       "    <tr>\n",
       "      <th>3</th>\n",
       "      <td>21600004</td>\n",
       "      <td>Magic</td>\n",
       "      <td>Heat</td>\n",
       "      <td>-0.091060</td>\n",
       "      <td>-0.967581</td>\n",
       "      <td>-0.148804</td>\n",
       "      <td>-0.576067</td>\n",
       "      <td>1.315323</td>\n",
       "    </tr>\n",
       "    <tr>\n",
       "      <th>4</th>\n",
       "      <td>21600005</td>\n",
       "      <td>Pacers</td>\n",
       "      <td>Mavericks</td>\n",
       "      <td>0.079820</td>\n",
       "      <td>0.438232</td>\n",
       "      <td>0.191175</td>\n",
       "      <td>-0.199326</td>\n",
       "      <td>1.660617</td>\n",
       "    </tr>\n",
       "  </tbody>\n",
       "</table>\n",
       "</div>"
      ],
      "text/plain": [
       "    GAME_ID TEAM_NAME  OPP_TEAM_NAME  log_rtg_rat       eFG       Tov  \\\n",
       "0  21600001    Knicks      Cavaliers    -0.231130 -1.392594  0.751141   \n",
       "1  21600002      Jazz  Trail Blazers    -0.128505 -0.760523  0.071183   \n",
       "2  21600003     Spurs       Warriors     0.239358  0.318357 -0.448785   \n",
       "3  21600004     Magic           Heat    -0.091060 -0.967581 -0.148804   \n",
       "4  21600005    Pacers      Mavericks     0.079820  0.438232  0.191175   \n",
       "\n",
       "        Reb       Ftr  \n",
       "0 -0.344226  0.335651  \n",
       "1 -0.015786 -0.676140  \n",
       "2  2.341258  0.536404  \n",
       "3 -0.576067  1.315323  \n",
       "4 -0.199326  1.660617  "
      ]
     },
     "execution_count": 9,
     "metadata": {},
     "output_type": "execute_result"
    }
   ],
   "source": [
    "games = pd.read_csv('game_ff_data_2016.csv')\n",
    "games.head()"
   ]
  },
  {
   "cell_type": "code",
   "execution_count": 10,
   "metadata": {},
   "outputs": [
    {
     "data": {
      "text/plain": [
       "eFG    0.496854\n",
       "Tov   -0.220977\n",
       "Reb    0.191796\n",
       "Ftr    0.090373\n",
       "dtype: float64"
      ]
     },
     "execution_count": 10,
     "metadata": {},
     "output_type": "execute_result"
    }
   ],
   "source": [
    "dep_vars = 'log_rtg_rat'\n",
    "coefs, _, _ = multiple_regression(dep_vars, ind_vars, games)\n",
    "coefs = coefs / coefs.abs().sum()\n",
    "coefs"
   ]
  },
  {
   "cell_type": "markdown",
   "metadata": {},
   "source": [
    "## Real Plus/Minus"
   ]
  },
  {
   "cell_type": "code",
   "execution_count": 11,
   "metadata": {},
   "outputs": [
    {
     "data": {
      "text/html": [
       "<div>\n",
       "<table border=\"1\" class=\"dataframe\">\n",
       "  <thead>\n",
       "    <tr style=\"text-align: right;\">\n",
       "      <th></th>\n",
       "      <th>away_ortg</th>\n",
       "      <th>away_poss</th>\n",
       "      <th>away_pts</th>\n",
       "      <th>away_unit</th>\n",
       "      <th>home_ortg</th>\n",
       "      <th>home_poss</th>\n",
       "      <th>home_pts</th>\n",
       "      <th>home_unit</th>\n",
       "      <th>net_poss</th>\n",
       "      <th>home_netpts</th>\n",
       "      <th>home_netrtg</th>\n",
       "    </tr>\n",
       "  </thead>\n",
       "  <tbody>\n",
       "    <tr>\n",
       "      <th>0</th>\n",
       "      <td>100.0</td>\n",
       "      <td>4</td>\n",
       "      <td>4</td>\n",
       "      <td>['Stephen Curry', 'Klay Thompson', 'Andre Iguo...</td>\n",
       "      <td>275.0</td>\n",
       "      <td>4</td>\n",
       "      <td>11</td>\n",
       "      <td>['Ronnie Price', 'Wayne Ellington', 'Wesley Jo...</td>\n",
       "      <td>8</td>\n",
       "      <td>7</td>\n",
       "      <td>87.5</td>\n",
       "    </tr>\n",
       "    <tr>\n",
       "      <th>1</th>\n",
       "      <td>NaN</td>\n",
       "      <td>0</td>\n",
       "      <td>0</td>\n",
       "      <td>['Ray McCallum', 'Ben McLemore', 'Nik Stauskas...</td>\n",
       "      <td>0.0</td>\n",
       "      <td>1</td>\n",
       "      <td>0</td>\n",
       "      <td>['Jarrett Jack', 'Alan Anderson', 'Joe Johnson...</td>\n",
       "      <td>1</td>\n",
       "      <td>0</td>\n",
       "      <td>0.0</td>\n",
       "    </tr>\n",
       "    <tr>\n",
       "      <th>2</th>\n",
       "      <td>170.0</td>\n",
       "      <td>10</td>\n",
       "      <td>17</td>\n",
       "      <td>['Stephen Curry', 'Klay Thompson', 'Harrison B...</td>\n",
       "      <td>90.0</td>\n",
       "      <td>10</td>\n",
       "      <td>9</td>\n",
       "      <td>['Ronnie Price', 'Wayne Ellington', 'Wesley Jo...</td>\n",
       "      <td>20</td>\n",
       "      <td>-8</td>\n",
       "      <td>-40.0</td>\n",
       "    </tr>\n",
       "    <tr>\n",
       "      <th>3</th>\n",
       "      <td>0.0</td>\n",
       "      <td>2</td>\n",
       "      <td>0</td>\n",
       "      <td>['Stephen Curry', 'Klay Thompson', 'Harrison B...</td>\n",
       "      <td>200.0</td>\n",
       "      <td>3</td>\n",
       "      <td>6</td>\n",
       "      <td>['Ronnie Price', 'Wayne Ellington', 'Wesley Jo...</td>\n",
       "      <td>5</td>\n",
       "      <td>6</td>\n",
       "      <td>120.0</td>\n",
       "    </tr>\n",
       "    <tr>\n",
       "      <th>4</th>\n",
       "      <td>100.0</td>\n",
       "      <td>1</td>\n",
       "      <td>1</td>\n",
       "      <td>['Stephen Curry', 'Klay Thompson', 'Harrison B...</td>\n",
       "      <td>NaN</td>\n",
       "      <td>0</td>\n",
       "      <td>2</td>\n",
       "      <td>['Ronnie Price', 'Wayne Ellington', 'Wesley Jo...</td>\n",
       "      <td>1</td>\n",
       "      <td>1</td>\n",
       "      <td>100.0</td>\n",
       "    </tr>\n",
       "  </tbody>\n",
       "</table>\n",
       "</div>"
      ],
      "text/plain": [
       "   away_ortg  away_poss  away_pts  \\\n",
       "0      100.0          4         4   \n",
       "1        NaN          0         0   \n",
       "2      170.0         10        17   \n",
       "3        0.0          2         0   \n",
       "4      100.0          1         1   \n",
       "\n",
       "                                           away_unit  home_ortg  home_poss  \\\n",
       "0  ['Stephen Curry', 'Klay Thompson', 'Andre Iguo...      275.0          4   \n",
       "1  ['Ray McCallum', 'Ben McLemore', 'Nik Stauskas...        0.0          1   \n",
       "2  ['Stephen Curry', 'Klay Thompson', 'Harrison B...       90.0         10   \n",
       "3  ['Stephen Curry', 'Klay Thompson', 'Harrison B...      200.0          3   \n",
       "4  ['Stephen Curry', 'Klay Thompson', 'Harrison B...        NaN          0   \n",
       "\n",
       "   home_pts                                          home_unit  net_poss  \\\n",
       "0        11  ['Ronnie Price', 'Wayne Ellington', 'Wesley Jo...         8   \n",
       "1         0  ['Jarrett Jack', 'Alan Anderson', 'Joe Johnson...         1   \n",
       "2         9  ['Ronnie Price', 'Wayne Ellington', 'Wesley Jo...        20   \n",
       "3         6  ['Ronnie Price', 'Wayne Ellington', 'Wesley Jo...         5   \n",
       "4         2  ['Ronnie Price', 'Wayne Ellington', 'Wesley Jo...         1   \n",
       "\n",
       "   home_netpts  home_netrtg  \n",
       "0            7         87.5  \n",
       "1            0          0.0  \n",
       "2           -8        -40.0  \n",
       "3            6        120.0  \n",
       "4            1        100.0  "
      ]
     },
     "execution_count": 11,
     "metadata": {},
     "output_type": "execute_result"
    }
   ],
   "source": [
    "from regression_helper import multiple_regression_big\n",
    "\n",
    "df = pd.read_csv('nba_stints_2015_full.csv.gz')\n",
    "df.head()"
   ]
  },
  {
   "cell_type": "code",
   "execution_count": 12,
   "metadata": {},
   "outputs": [
    {
     "data": {
      "text/html": [
       "<div>\n",
       "<table border=\"1\" class=\"dataframe\">\n",
       "  <thead>\n",
       "    <tr style=\"text-align: right;\">\n",
       "      <th></th>\n",
       "      <th>net_rtg</th>\n",
       "      <th>net_poss</th>\n",
       "      <th>HCA</th>\n",
       "      <th>A.J. Price</th>\n",
       "      <th>Aaron Brooks</th>\n",
       "      <th>Aaron Gordon</th>\n",
       "      <th>Adreian Payne</th>\n",
       "      <th>Al Horford</th>\n",
       "      <th>Al Jefferson</th>\n",
       "      <th>Al-Farouq Aminu</th>\n",
       "      <th>...</th>\n",
       "      <th>Will Barton</th>\n",
       "      <th>Will Bynum</th>\n",
       "      <th>Will Cherry</th>\n",
       "      <th>Willie Green</th>\n",
       "      <th>Wilson Chandler</th>\n",
       "      <th>Xavier Henry</th>\n",
       "      <th>Zach LaVine</th>\n",
       "      <th>Zach Randolph</th>\n",
       "      <th>Zaza Pachulia</th>\n",
       "      <th>Zoran Dragic</th>\n",
       "    </tr>\n",
       "  </thead>\n",
       "  <tbody>\n",
       "    <tr>\n",
       "      <th>0</th>\n",
       "      <td>87.5</td>\n",
       "      <td>8</td>\n",
       "      <td>1.0</td>\n",
       "      <td>0.0</td>\n",
       "      <td>0.0</td>\n",
       "      <td>0.0</td>\n",
       "      <td>0.0</td>\n",
       "      <td>0.0</td>\n",
       "      <td>0.0</td>\n",
       "      <td>0.0</td>\n",
       "      <td>...</td>\n",
       "      <td>0.0</td>\n",
       "      <td>0.0</td>\n",
       "      <td>0.0</td>\n",
       "      <td>0.0</td>\n",
       "      <td>0.0</td>\n",
       "      <td>0.0</td>\n",
       "      <td>0.0</td>\n",
       "      <td>0.0</td>\n",
       "      <td>0.0</td>\n",
       "      <td>0.0</td>\n",
       "    </tr>\n",
       "    <tr>\n",
       "      <th>1</th>\n",
       "      <td>0.0</td>\n",
       "      <td>1</td>\n",
       "      <td>1.0</td>\n",
       "      <td>0.0</td>\n",
       "      <td>0.0</td>\n",
       "      <td>0.0</td>\n",
       "      <td>0.0</td>\n",
       "      <td>0.0</td>\n",
       "      <td>0.0</td>\n",
       "      <td>0.0</td>\n",
       "      <td>...</td>\n",
       "      <td>0.0</td>\n",
       "      <td>0.0</td>\n",
       "      <td>0.0</td>\n",
       "      <td>0.0</td>\n",
       "      <td>0.0</td>\n",
       "      <td>0.0</td>\n",
       "      <td>0.0</td>\n",
       "      <td>0.0</td>\n",
       "      <td>0.0</td>\n",
       "      <td>0.0</td>\n",
       "    </tr>\n",
       "    <tr>\n",
       "      <th>2</th>\n",
       "      <td>-40.0</td>\n",
       "      <td>20</td>\n",
       "      <td>1.0</td>\n",
       "      <td>0.0</td>\n",
       "      <td>0.0</td>\n",
       "      <td>0.0</td>\n",
       "      <td>0.0</td>\n",
       "      <td>0.0</td>\n",
       "      <td>0.0</td>\n",
       "      <td>0.0</td>\n",
       "      <td>...</td>\n",
       "      <td>0.0</td>\n",
       "      <td>0.0</td>\n",
       "      <td>0.0</td>\n",
       "      <td>0.0</td>\n",
       "      <td>0.0</td>\n",
       "      <td>0.0</td>\n",
       "      <td>0.0</td>\n",
       "      <td>0.0</td>\n",
       "      <td>0.0</td>\n",
       "      <td>0.0</td>\n",
       "    </tr>\n",
       "    <tr>\n",
       "      <th>3</th>\n",
       "      <td>120.0</td>\n",
       "      <td>5</td>\n",
       "      <td>1.0</td>\n",
       "      <td>0.0</td>\n",
       "      <td>0.0</td>\n",
       "      <td>0.0</td>\n",
       "      <td>0.0</td>\n",
       "      <td>0.0</td>\n",
       "      <td>0.0</td>\n",
       "      <td>0.0</td>\n",
       "      <td>...</td>\n",
       "      <td>0.0</td>\n",
       "      <td>0.0</td>\n",
       "      <td>0.0</td>\n",
       "      <td>0.0</td>\n",
       "      <td>0.0</td>\n",
       "      <td>0.0</td>\n",
       "      <td>0.0</td>\n",
       "      <td>0.0</td>\n",
       "      <td>0.0</td>\n",
       "      <td>0.0</td>\n",
       "    </tr>\n",
       "    <tr>\n",
       "      <th>4</th>\n",
       "      <td>100.0</td>\n",
       "      <td>1</td>\n",
       "      <td>1.0</td>\n",
       "      <td>0.0</td>\n",
       "      <td>0.0</td>\n",
       "      <td>0.0</td>\n",
       "      <td>0.0</td>\n",
       "      <td>0.0</td>\n",
       "      <td>0.0</td>\n",
       "      <td>0.0</td>\n",
       "      <td>...</td>\n",
       "      <td>0.0</td>\n",
       "      <td>0.0</td>\n",
       "      <td>0.0</td>\n",
       "      <td>0.0</td>\n",
       "      <td>0.0</td>\n",
       "      <td>0.0</td>\n",
       "      <td>0.0</td>\n",
       "      <td>0.0</td>\n",
       "      <td>0.0</td>\n",
       "      <td>0.0</td>\n",
       "    </tr>\n",
       "  </tbody>\n",
       "</table>\n",
       "<p>5 rows × 496 columns</p>\n",
       "</div>"
      ],
      "text/plain": [
       "   net_rtg  net_poss  HCA  A.J. Price  Aaron Brooks  Aaron Gordon  \\\n",
       "0     87.5         8  1.0         0.0           0.0           0.0   \n",
       "1      0.0         1  1.0         0.0           0.0           0.0   \n",
       "2    -40.0        20  1.0         0.0           0.0           0.0   \n",
       "3    120.0         5  1.0         0.0           0.0           0.0   \n",
       "4    100.0         1  1.0         0.0           0.0           0.0   \n",
       "\n",
       "   Adreian Payne  Al Horford  Al Jefferson  Al-Farouq Aminu      ...       \\\n",
       "0            0.0         0.0           0.0              0.0      ...        \n",
       "1            0.0         0.0           0.0              0.0      ...        \n",
       "2            0.0         0.0           0.0              0.0      ...        \n",
       "3            0.0         0.0           0.0              0.0      ...        \n",
       "4            0.0         0.0           0.0              0.0      ...        \n",
       "\n",
       "   Will Barton  Will Bynum  Will Cherry  Willie Green  Wilson Chandler  \\\n",
       "0          0.0         0.0          0.0           0.0              0.0   \n",
       "1          0.0         0.0          0.0           0.0              0.0   \n",
       "2          0.0         0.0          0.0           0.0              0.0   \n",
       "3          0.0         0.0          0.0           0.0              0.0   \n",
       "4          0.0         0.0          0.0           0.0              0.0   \n",
       "\n",
       "   Xavier Henry  Zach LaVine  Zach Randolph  Zaza Pachulia  Zoran Dragic  \n",
       "0           0.0          0.0            0.0            0.0           0.0  \n",
       "1           0.0          0.0            0.0            0.0           0.0  \n",
       "2           0.0          0.0            0.0            0.0           0.0  \n",
       "3           0.0          0.0            0.0            0.0           0.0  \n",
       "4           0.0          0.0            0.0            0.0           0.0  \n",
       "\n",
       "[5 rows x 496 columns]"
      ]
     },
     "execution_count": 12,
     "metadata": {},
     "output_type": "execute_result"
    }
   ],
   "source": [
    "stints = pd.read_csv('nba_stints_2015_binary.csv.gz')\n",
    "stints.head()"
   ]
  },
  {
   "cell_type": "code",
   "execution_count": 13,
   "metadata": {},
   "outputs": [
    {
     "data": {
      "text/plain": [
       "A.J. Price           -7.991129\n",
       "Aaron Brooks         -1.756187\n",
       "Aaron Gordon         -7.374247\n",
       "Adreian Payne       -10.779553\n",
       "Al Horford            0.181153\n",
       "Al Jefferson         -7.940346\n",
       "Al-Farouq Aminu      -2.012078\n",
       "Alan Anderson        -1.572974\n",
       "Alec Burks           -7.140850\n",
       "Alex Kirk           -24.311230\n",
       "Alex Len             -6.813328\n",
       "Alexey Shved         -3.265149\n",
       "Alexis Ajinca        -2.086245\n",
       "Allen Crabbe         -6.689232\n",
       "Alonzo Gee           -8.013036\n",
       "Amar'e Stoudemire    -6.188813\n",
       "Amir Johnson         -1.675636\n",
       "Anderson Varejao     -8.752846\n",
       "Andre Dawkins       -11.013330\n",
       "Andre Drummond       -2.428676\n",
       "Andre Iguodala       -5.328919\n",
       "Andre Miller         -2.296580\n",
       "Andre Roberson       -3.216422\n",
       "Andrea Bargnani     -11.691085\n",
       "Andrei Kirilenko    -22.361349\n",
       "Andrew Bogut         -4.751047\n",
       "Andrew Nicholson     -7.852213\n",
       "Andrew Wiggins       -4.104541\n",
       "Anthony Bennett     -11.320015\n",
       "Anthony Davis         2.354493\n",
       "                       ...    \n",
       "Trevor Booker        -4.892970\n",
       "Trey Burke           -6.457153\n",
       "Tristan Thompson     -5.059071\n",
       "Troy Daniels         -6.972815\n",
       "Ty Lawson            -2.241554\n",
       "Tyler Ennis          -6.240470\n",
       "Tyler Hansbrough     -0.717719\n",
       "Tyler Johnson        -6.365084\n",
       "Tyler Zeller         -3.493839\n",
       "Tyreke Evans         -2.903809\n",
       "Tyrus Thomas        -17.687694\n",
       "Tyson Chandler       -4.331607\n",
       "Udonis Haslem        -9.390827\n",
       "Vander Blue         -13.854813\n",
       "Victor Claver        -2.946105\n",
       "Victor Oladipo       -2.921940\n",
       "Vince Carter         -4.955239\n",
       "Wayne Ellington      -2.334608\n",
       "Wesley Johnson       -0.683482\n",
       "Wesley Matthews       0.327465\n",
       "Will Barton          -3.130027\n",
       "Will Bynum          -14.600548\n",
       "Will Cherry          -6.347043\n",
       "Willie Green         -4.406233\n",
       "Wilson Chandler      -6.821624\n",
       "Xavier Henry          3.728450\n",
       "Zach LaVine          -7.075383\n",
       "Zach Randolph         0.626926\n",
       "Zaza Pachulia        -1.837227\n",
       "Zoran Dragic        -15.738121\n",
       "dtype: float64"
      ]
     },
     "execution_count": 13,
     "metadata": {},
     "output_type": "execute_result"
    }
   ],
   "source": [
    "players = list(stints.columns[3:])\n",
    "ind_vars = list(stints.columns[2:])\n",
    "apm = multiple_regression_big('net_rtg', ind_vars, stints, weights='net_poss')\n",
    "apm"
   ]
  },
  {
   "cell_type": "code",
   "execution_count": 14,
   "metadata": {},
   "outputs": [
    {
     "data": {
      "text/plain": [
       "<matplotlib.axes._subplots.AxesSubplot at 0x10ba23470>"
      ]
     },
     "execution_count": 14,
     "metadata": {},
     "output_type": "execute_result"
    },
    {
     "data": {
      "image/png": "[encoded data removed]",
      "text/plain": [
       "<matplotlib.figure.Figure at 0x10ffb7c88>"
      ]
     },
     "metadata": {},
     "output_type": "display_data"
    }
   ],
   "source": [
    "apm.plot.hist(bins=50)"
   ]
  },
  {
   "cell_type": "code",
   "execution_count": 15,
   "metadata": {},
   "outputs": [
    {
     "name": "stdout",
     "output_type": "stream",
     "text": [
      "Home Court Advantage for Net Rating: 1.16\n",
      "\n",
      "Top 20 by APM\n",
      "========================================\n",
      "Jerrelle Benimon    54.572027\n",
      "Malcolm Lee         23.899380\n",
      "Eric Moreland       19.364534\n",
      "Sim Bhullar         13.482017\n",
      "David Stockton       8.342210\n",
      "Lucas Nogueira       6.073172\n",
      "Toure' Murry         5.806591\n",
      "Sean Kilpatrick      4.815747\n",
      "Paul Millsap         4.618496\n",
      "Quincy Miller        4.075336\n",
      "Cory Jefferson       3.922756\n",
      "Russ Smith           3.896168\n",
      "Stephen Curry        3.804560\n",
      "Xavier Henry         3.728450\n",
      "James Harden         2.499012\n",
      "Anthony Davis        2.354493\n",
      "Derrick Rose         2.079204\n",
      "C.J. Wilcox          2.069485\n",
      "Pero Antic           2.056680\n",
      "Carmelo Anthony      1.989486\n",
      "\n",
      "Bottom 20 by APM\n",
      "========================================\n",
      "Julius Randle         -48.888431\n",
      "Bruno Caboclo         -41.208826\n",
      "David Wear            -33.999005\n",
      "Mike Malone           -31.686993\n",
      "Kalin Lucas           -30.696550\n",
      "Alex Kirk             -24.311230\n",
      "Patrick Christopher   -23.057703\n",
      "Glen Rice Jr.         -22.760322\n",
      "Andrei Kirilenko      -22.361349\n",
      "Dahntay Jones         -21.461906\n",
      "Seth Curry            -21.168311\n",
      "Brandon Rush          -19.325547\n",
      "Grant Jerrett         -18.765587\n",
      "Reggie Williams       -18.290812\n",
      "John Lucas III        -17.698005\n",
      "Tyrus Thomas          -17.687694\n",
      "Landry Fields         -17.488523\n",
      "Brendan Haywood       -17.392753\n",
      "Cameron Bairstow      -15.749026\n",
      "Zoran Dragic          -15.738121\n"
     ]
    }
   ],
   "source": [
    "apm_HCA = apm['HCA']\n",
    "print(\"Home Court Advantage for Net Rating: {:.2f}\".format(apm_HCA))\n",
    "print()\n",
    "print(\"Top 20 by APM\\n\" + 40*\"=\")\n",
    "print(apm[players].sort_values(ascending=False)[:20].to_string())\n",
    "print()\n",
    "print(\"Bottom 20 by APM\\n\" + 40*\"=\")\n",
    "print(apm[players].sort_values(ascending=True)[:20].to_string())"
   ]
  },
  {
   "cell_type": "code",
   "execution_count": 16,
   "metadata": {},
   "outputs": [
    {
     "data": {
      "text/plain": [
       "A.J. Price          -2.208826\n",
       "Aaron Brooks         1.373228\n",
       "Aaron Gordon        -1.665784\n",
       "Adreian Payne       -3.259032\n",
       "Al Horford           0.756031\n",
       "Al Jefferson        -0.794095\n",
       "Al-Farouq Aminu      2.115859\n",
       "Alan Anderson        2.050260\n",
       "Alec Burks          -1.633426\n",
       "Alex Kirk           -0.990632\n",
       "Alex Len            -0.775889\n",
       "Alexey Shved         0.140503\n",
       "Alexis Ajinca        1.286386\n",
       "Allen Crabbe        -1.474395\n",
       "Alonzo Gee          -1.868703\n",
       "Amar'e Stoudemire   -0.245777\n",
       "Amir Johnson         1.351582\n",
       "Anderson Varejao    -1.919260\n",
       "Andre Dawkins       -0.370579\n",
       "Andre Drummond       1.222294\n",
       "Andre Iguodala       0.695213\n",
       "Andre Miller         0.529875\n",
       "Andre Roberson       1.858097\n",
       "Andrea Bargnani     -3.915587\n",
       "Andrei Kirilenko    -2.172905\n",
       "Andrew Bogut         0.654862\n",
       "Andrew Nicholson    -1.698947\n",
       "Andrew Wiggins       0.031883\n",
       "Anthony Bennett     -4.188602\n",
       "Anthony Davis        5.512299\n",
       "                       ...   \n",
       "Trevor Booker       -0.242707\n",
       "Trey Burke          -0.577024\n",
       "Tristan Thompson     0.659543\n",
       "Troy Daniels        -1.445009\n",
       "Ty Lawson            2.126876\n",
       "Tyler Ennis         -1.868135\n",
       "Tyler Hansbrough     2.211469\n",
       "Tyler Johnson       -0.784500\n",
       "Tyler Zeller         0.545595\n",
       "Tyreke Evans         1.880879\n",
       "Tyrus Thomas        -0.169837\n",
       "Tyson Chandler       1.317297\n",
       "Udonis Haslem       -3.486094\n",
       "Vander Blue         -2.471146\n",
       "Victor Claver        0.728662\n",
       "Victor Oladipo       0.925092\n",
       "Vince Carter         0.035978\n",
       "Wayne Ellington      2.023447\n",
       "Wesley Johnson       2.505446\n",
       "Wesley Matthews      3.466647\n",
       "Will Barton          0.545098\n",
       "Will Bynum          -3.297883\n",
       "Will Cherry         -0.883208\n",
       "Willie Green         0.079266\n",
       "Wilson Chandler     -1.571055\n",
       "Xavier Henry         0.957479\n",
       "Zach LaVine         -2.820628\n",
       "Zach Randolph        4.324951\n",
       "Zaza Pachulia        2.825373\n",
       "Zoran Dragic        -1.663018\n",
       "dtype: float64"
      ]
     },
     "execution_count": 16,
     "metadata": {},
     "output_type": "execute_result"
    }
   ],
   "source": [
    "from regression_helper import multiple_regression_big_with_penalty\n",
    "\n",
    "rapm = multiple_regression_big_with_penalty('net_rtg', ind_vars, stints, weights='net_poss', penalty=1000.)\n",
    "rapm"
   ]
  },
  {
   "cell_type": "code",
   "execution_count": 18,
   "metadata": {},
   "outputs": [
    {
     "name": "stdout",
     "output_type": "stream",
     "text": [
      "Home Court Advantage for Net Rating: 1.17\n",
      "\n",
      "Top 20 by RAPM\n",
      "========================================\n",
      "Stephen Curry        5.987077\n",
      "Anthony Davis        5.512299\n",
      "Kyle Korver          5.426923\n",
      "James Harden         5.290294\n",
      "Khris Middleton      5.036466\n",
      "Draymond Green       4.909569\n",
      "LeBron James         4.895868\n",
      "Kawhi Leonard        4.727226\n",
      "Cory Jefferson       4.683430\n",
      "Chris Paul           4.526599\n",
      "Kelly Olynyk         4.360387\n",
      "Zach Randolph        4.324951\n",
      "Luol Deng            4.048028\n",
      "Derrick Rose         4.036020\n",
      "DeMarcus Cousins     3.993643\n",
      "Carmelo Anthony      3.956649\n",
      "LaMarcus Aldridge    3.891045\n",
      "George Hill          3.876510\n",
      "Gordon Hayward       3.843642\n",
      "Ricky Rubio          3.765408\n",
      "\n",
      "Bottom 20 by RAPM\n",
      "========================================\n",
      "Brandon Rush        -7.205629\n",
      "Johnny O'Bryant     -5.463691\n",
      "Landry Fields       -5.299056\n",
      "Perry Jones         -4.819680\n",
      "Samuel Dalembert    -4.626875\n",
      "Martell Webster     -4.611679\n",
      "Archie Goodwin      -4.515100\n",
      "Joffrey Lauvergne   -4.418567\n",
      "Malcolm Thomas      -4.405789\n",
      "Dahntay Jones       -4.308704\n",
      "Chris Kaman         -4.222005\n",
      "Anthony Bennett     -4.188602\n",
      "Doug McDermott      -4.124963\n",
      "Darius Morris       -4.087827\n",
      "John Lucas III      -4.016532\n",
      "Gary Harris         -4.003972\n",
      "Andrea Bargnani     -3.915587\n",
      "Jeffery Taylor      -3.671004\n",
      "Jabari Brown        -3.625804\n",
      "Jeff Ayres          -3.601696\n"
     ]
    },
    {
     "data": {
      "image/png": "[encoded data removed]",
      "text/plain": [
       "<matplotlib.figure.Figure at 0x111057080>"
      ]
     },
     "metadata": {},
     "output_type": "display_data"
    }
   ],
   "source": [
    "rapm.plot.hist(bins=50)\n",
    "\n",
    "rapm_HCA = rapm['HCA']\n",
    "print(\"Home Court Advantage for Net Rating: {:.2f}\".format(rapm_HCA))\n",
    "print()\n",
    "print(\"Top 20 by RAPM\\n\" + 40*\"=\")\n",
    "print(rapm[players].sort_values(ascending=False)[:20].to_string())\n",
    "print()\n",
    "print(\"Bottom 20 by RAPM\\n\" + 40*\"=\")\n",
    "print(rapm[players].sort_values(ascending=True)[:20].to_string())"
   ]
  },
  {
   "cell_type": "code",
   "execution_count": null,
   "metadata": {},
   "outputs": [],
   "source": []
  }
 ],
 "metadata": {
  "hide_input": false,
  "kernelspec": {
   "display_name": "Python 3",
   "language": "python",
   "name": "python3"
  },
  "language_info": {
   "codemirror_mode": {
    "name": "ipython",
    "version": 3
   },
   "file_extension": ".py",
   "mimetype": "text/x-python",
   "name": "python",
   "nbconvert_exporter": "python",
   "pygments_lexer": "ipython3",
   "version": "3.6.1"
  },
  "toc": {
   "nav_menu": {},
   "number_sections": true,
   "sideBar": true,
   "skip_h1_title": true,
   "title_cell": "Table of Contents",
   "title_sidebar": "Contents",
   "toc_cell": true,
   "toc_position": {},
   "toc_section_display": true,
   "toc_window_display": false
  },
  "varInspector": {
   "cols": {
    "lenName": 16,
    "lenType": 16,
    "lenVar": 40
   },
   "kernels_config": {
    "python": {
     "delete_cmd_postfix": "",
     "delete_cmd_prefix": "del ",
     "library": "var_list.py",
     "varRefreshCmd": "print(var_dic_list())"
    },
    "r": {
     "delete_cmd_postfix": ") ",
     "delete_cmd_prefix": "rm(",
     "library": "var_list.r",
     "varRefreshCmd": "cat(var_dic_list()) "
    }
   },
   "types_to_exclude": [
    "module",
    "function",
    "builtin_function_or_method",
    "instance",
    "_Feature"
   ],
   "window_display": false
  }
 },
 "nbformat": 4,
 "nbformat_minor": 2
}
