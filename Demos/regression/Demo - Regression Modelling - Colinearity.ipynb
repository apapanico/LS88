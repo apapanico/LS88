{
 "cells": [
  {
   "cell_type": "markdown",
   "metadata": {
    "toc": true
   },
   "source": [
    "<h1>Table of Contents<span class=\"tocSkip\"></span></h1>\n",
    "<div class=\"toc\"><ul class=\"toc-item\"><li><span><a href=\"#Real-Plus/Minus\" data-toc-modified-id=\"Real-Plus/Minus-1\"><span class=\"toc-item-num\">1&nbsp;&nbsp;</span>Real Plus/Minus</a></span></li></ul></div>"
   ]
  },
  {
   "cell_type": "code",
   "execution_count": null,
   "metadata": {},
   "outputs": [],
   "source": [
    "import pandas as pd\n",
    "import matplotlib.pyplot as plt\n",
    "import numpy as np\n",
    "from scipy.stats import zscore\n",
    "\n",
    "from regression_helper import multiple_regression_big, multiple_regression_big_with_penalty"
   ]
  },
  {
   "cell_type": "markdown",
   "metadata": {},
   "source": [
    "## Real Plus/Minus"
   ]
  },
  {
   "cell_type": "code",
   "execution_count": null,
   "metadata": {},
   "outputs": [],
   "source": [
    "stints = pd.read_csv('nba_stints_2015_binary.csv.gz')\n",
    "stints.head()"
   ]
  },
  {
   "cell_type": "code",
   "execution_count": null,
   "metadata": {},
   "outputs": [],
   "source": [
    "players = list(stints.columns[3:])\n",
    "ind_vars = list(stints.columns[2:])\n",
    "apm = multiple_regression_big('net_rtg', ind_vars, stints, weights='net_poss')\n",
    "apm.head(10)"
   ]
  },
  {
   "cell_type": "code",
   "execution_count": null,
   "metadata": {},
   "outputs": [],
   "source": [
    "apm.plot.hist(bins=50);"
   ]
  },
  {
   "cell_type": "code",
   "execution_count": null,
   "metadata": {},
   "outputs": [],
   "source": [
    "apm_HCA = apm['HCA']\n",
    "print(\"Home Court Advantage for Net Rating: {:.2f}\".format(apm_HCA))\n",
    "print()\n",
    "print(\"Top 20 by APM\\n\" + 40*\"=\")\n",
    "print(apm[players].sort_values(ascending=False)[:20].to_string())\n",
    "print()\n",
    "print(\"Bottom 20 by APM\\n\" + 40*\"=\")\n",
    "print(apm[players].sort_values(ascending=True)[:20].to_string())"
   ]
  },
  {
   "cell_type": "code",
   "execution_count": null,
   "metadata": {},
   "outputs": [],
   "source": [
    "rapm = multiple_regression_big_with_penalty('net_rtg', ind_vars, stints, weights='net_poss', penalty=1000.)\n",
    "rapm.head(10)"
   ]
  },
  {
   "cell_type": "code",
   "execution_count": null,
   "metadata": {},
   "outputs": [],
   "source": [
    "rapm.plot.hist(bins=50)\n",
    "\n",
    "rapm_HCA = rapm['HCA']\n",
    "print(\"Home Court Advantage for Net Rating: {:.2f}\".format(rapm_HCA))\n",
    "print()\n",
    "print(\"Top 20 by RAPM\\n\" + 40*\"=\")\n",
    "print(rapm[players].sort_values(ascending=False)[:20].to_string())\n",
    "print()\n",
    "print(\"Bottom 20 by RAPM\\n\" + 40*\"=\")\n",
    "print(rapm[players].sort_values(ascending=True)[:20].to_string())"
   ]
  },
  {
   "cell_type": "code",
   "execution_count": null,
   "metadata": {},
   "outputs": [],
   "source": []
  },
  {
   "cell_type": "code",
   "execution_count": null,
   "metadata": {},
   "outputs": [],
   "source": [
    "stints.head()"
   ]
  },
  {
   "cell_type": "code",
   "execution_count": null,
   "metadata": {},
   "outputs": [],
   "source": [
    "players = list(stints.columns[3:])"
   ]
  },
  {
   "cell_type": "code",
   "execution_count": null,
   "metadata": {},
   "outputs": [],
   "source": [
    "from sklearn.linear_model import LogisticRegression, LinearRegression\n",
    "import tqdm\n",
    "from sklearn.metrics import recall_score, precision_score"
   ]
  },
  {
   "cell_type": "code",
   "execution_count": null,
   "metadata": {},
   "outputs": [],
   "source": [
    "from scipy.sparse import csc_matrix\n",
    "\n",
    "def _sdf_to_csc(sdf, dtype=np.float64):\n",
    "    cols, rows, datas = [], [], []\n",
    "    for col, name in enumerate(sdf):\n",
    "        s = sdf[name]\n",
    "        row = s.sp_index.to_int_index().indices\n",
    "        cols.append(np.repeat(col, len(row)))\n",
    "        rows.append(row)\n",
    "        datas.append(s.sp_values.astype(dtype, copy=False))\n",
    "\n",
    "    cols = np.concatenate(cols)\n",
    "    rows = np.concatenate(rows)\n",
    "    datas = np.concatenate(datas)\n",
    "    return csc_matrix((datas, (rows, cols)), shape=sdf.shape)\n"
   ]
  },
  {
   "cell_type": "code",
   "execution_count": null,
   "metadata": {},
   "outputs": [],
   "source": [
    "from scipy.sparse import hstack"
   ]
  },
  {
   "cell_type": "code",
   "execution_count": null,
   "metadata": {},
   "outputs": [],
   "source": [
    "c = 1e6\n",
    "model_logit = LogisticRegression(C=c, fit_intercept=True)\n",
    "model = LinearRegression() # LogisticRegression(C=c, fit_intercept=True)\n",
    "w = stints['net_poss']\n",
    "\n",
    "tmp_stints = stints.abs().to_sparse(fill_value=0)\n",
    "X_full = _sdf_to_csc(tmp_stints)\n",
    "scores = []\n",
    "for i in tqdm.tqdm_notebook(range(len(players))):\n",
    "    player_i = players[i]\n",
    "    j = i + 3\n",
    "    y = np.asarray(X_full[:, j].todense()).ravel()\n",
    "    X = hstack([X_full[:, :j], X_full[:, j+1:]])\n",
    "    model.fit(X, y, sample_weight=w)\n",
    "    model_logit.fit(X, y, sample_weight=w)\n",
    "#     s = model.score(X, y, sample_weight=w)\n",
    "    ss_res = np.sum(w * (y - model.predict(X))**2) / w.sum()\n",
    "    ss_tot = np.sum(w * (y - y.mean())**2) / w.sum()\n",
    "    r_sq = 1 - ss_res / ss_tot\n",
    "    \n",
    "    y_pred = model_logit.predict(X)\n",
    "    recall = recall_score(y, y_pred, sample_weight=w)\n",
    "    prec = precision_score(y, y_pred, sample_weight=w)\n",
    "    player_poss = (y * w).sum()\n",
    "    scores.append({'player': player_i, 'r_sq': r_sq, 'recall': recall, 'prec': prec, 'poss': player_poss})"
   ]
  },
  {
   "cell_type": "code",
   "execution_count": null,
   "metadata": {},
   "outputs": [],
   "source": [
    "scores = pd.DataFrame(scores).set_index('player')"
   ]
  },
  {
   "cell_type": "code",
   "execution_count": null,
   "metadata": {
    "scrolled": false
   },
   "outputs": [],
   "source": [
    "scores.sort_values('prec', ascending=True)"
   ]
  },
  {
   "cell_type": "code",
   "execution_count": null,
   "metadata": {},
   "outputs": [],
   "source": [
    "c = 1e6\n",
    "model_logit = LogisticRegression(C=c, fit_intercept=True)\n",
    "model = LinearRegression() # LogisticRegression(C=c, fit_intercept=True)\n",
    "w = stints['net_poss']\n",
    "\n",
    "tmp_stints = stints.values\n",
    "nrows = stints.shape[0]\n",
    "for row in range(nrows):\n",
    "    np.random.shuffle(tmp_stints[row, 3:])\n",
    "    "
   ]
  },
  {
   "cell_type": "code",
   "execution_count": null,
   "metadata": {},
   "outputs": [],
   "source": [
    "tmp_stints = pd.DataFrame(tmp_stints, columns=stints.columns)\n",
    "tmp_stints = tmp_stints.abs().to_sparse(fill_value=0)\n",
    "X_full = _sdf_to_csc(tmp_stints)\n",
    "scores = []\n",
    "for i in tqdm.tqdm_notebook(range(len(players))):\n",
    "    player_i = players[i]\n",
    "    j = i + 3\n",
    "    y = np.asarray(X_full[:, j].todense()).ravel()\n",
    "    X = hstack([X_full[:, :j], X_full[:, j+1:]])\n",
    "    model.fit(X, y, sample_weight=w)\n",
    "    model_logit.fit(X, y, sample_weight=w)\n",
    "#     s = model.score(X, y, sample_weight=w)\n",
    "    ss_res = np.sum(w * (y - model.predict(X))**2) / w.sum()\n",
    "    ss_tot = np.sum(w * (y - y.mean())**2) / w.sum()\n",
    "    r_sq = 1 - ss_res / ss_tot\n",
    "    \n",
    "    y_pred = model_logit.predict(X)\n",
    "    recall = recall_score(y, y_pred, sample_weight=w)\n",
    "    prec = precision_score(y, y_pred, sample_weight=w)\n",
    "    player_poss = (y * w).sum()\n",
    "    scores.append({'player': player_i, 'r_sq': r_sq, 'recall': recall, 'prec': prec, 'poss': player_poss})"
   ]
  },
  {
   "cell_type": "code",
   "execution_count": null,
   "metadata": {},
   "outputs": [],
   "source": [
    "scores = pd.DataFrame(scores).set_index('player')\n",
    "scores.sort_values('prec', ascending=True)"
   ]
  },
  {
   "cell_type": "code",
   "execution_count": null,
   "metadata": {},
   "outputs": [],
   "source": [
    "df = pd.read_csv('nba_stints_2015_full.csv.gz')\n",
    "df.head()"
   ]
  },
  {
   "cell_type": "code",
   "execution_count": null,
   "metadata": {},
   "outputs": [],
   "source": [
    "cp3_away_mask = df['away_unit'].str.contains(\"Chris Paul\")\n",
    "cp3_home_mask = df['home_unit'].str.contains(\"Chris Paul\")"
   ]
  },
  {
   "cell_type": "code",
   "execution_count": null,
   "metadata": {},
   "outputs": [],
   "source": [
    "cp3_lineups = set(df.loc[cp3_away_mask, 'away_unit'].unique()).union(df.loc[cp3_home_mask, 'home_unit'].unique())"
   ]
  },
  {
   "cell_type": "code",
   "execution_count": null,
   "metadata": {},
   "outputs": [],
   "source": [
    "cp3_lineups"
   ]
  },
  {
   "cell_type": "code",
   "execution_count": null,
   "metadata": {},
   "outputs": [],
   "source": [
    "model = LogisticRegression(C=c, fit_intercept=True)\n",
    "\n",
    "i = players.index(\"Manu Ginobili\")\n",
    "player_i = players[i]\n",
    "j = i + 3\n",
    "y = np.asarray(X_full[:, j].todense()).ravel()\n",
    "X = hstack([X_full[:, :j], X_full[:, j+1:]])\n",
    "model.fit(X, y, sample_weight=w)\n",
    "y_pred = model.predict(X)\n",
    "s = model.score(X, y, sample_weight=w)\n",
    "np.abs((y - y_pred)).sum(), s"
   ]
  },
  {
   "cell_type": "code",
   "execution_count": null,
   "metadata": {},
   "outputs": [],
   "source": [
    "clippers_mask = (df['away'] == 'Clippers') | (df['home'] == 'Clippers')\n",
    "\n",
    "clippers_df = df.loc[clippers_mask]\n",
    "\n",
    "dj_away_mask = clippers_df['away_unit'].str.contains(\"DeAndre Jordan\")\n",
    "dj_home_mask = clippers_df['home_unit'].str.contains(\"DeAndre Jordan\")\n",
    "dj_mask = dj_away_mask | dj_home_mask\n",
    "\n",
    "hawes_away_mask = clippers_df['away_unit'].str.contains(\"Spencer Hawes\")\n",
    "hawes_home_mask = clippers_df['home_unit'].str.contains(\"Spencer Hawes\")\n",
    "hawes_mask = hawes_away_mask | hawes_home_mask"
   ]
  },
  {
   "cell_type": "code",
   "execution_count": null,
   "metadata": {},
   "outputs": [],
   "source": [
    "(clippers_df.loc[dj_mask, 'away_poss'].sum() + clippers_df.loc[dj_mask, 'home_poss'].sum()) / \\\n",
    "    (clippers_df['away_poss'].sum() + clippers_df['home_poss'].sum())"
   ]
  },
  {
   "cell_type": "code",
   "execution_count": null,
   "metadata": {},
   "outputs": [],
   "source": [
    "clippers_df.loc[hawes_mask, ['away_poss', 'home_poss']].sum().sum() / \\\n",
    "    clippers_df[['away_poss', 'home_poss']].sum().sum()"
   ]
  },
  {
   "cell_type": "code",
   "execution_count": null,
   "metadata": {},
   "outputs": [],
   "source": [
    "clippers_df.loc[(hawes_mask & dj_mask), ['away_poss', 'home_poss']].sum().sum() / clippers_df[['away_poss', 'home_poss']].sum().sum()"
   ]
  },
  {
   "cell_type": "code",
   "execution_count": null,
   "metadata": {},
   "outputs": [],
   "source": [
    "clippers_df.loc[(hawes_mask & dj_mask), ['away_poss', 'home_poss']].sum().sum() / clippers_df.loc[hawes_mask, ['away_poss', 'home_poss']].sum().sum()"
   ]
  },
  {
   "cell_type": "code",
   "execution_count": null,
   "metadata": {},
   "outputs": [],
   "source": [
    "grizz_mask = (df['away'] == 'Grizzlies') | (df['home'] == 'Grizzlies')\n",
    "\n",
    "grizz_df = df.loc[grizz_mask]\n",
    "\n",
    "gasol_away_mask = grizz_df['away_unit'].str.contains(\"Marc Gasol\")\n",
    "gasol_home_mask = grizz_df['home_unit'].str.contains(\"Marc Gasol\")\n",
    "gasol_mask = gasol_away_mask | gasol_home_mask\n",
    "\n",
    "koufos_away_mask = grizz_df['away_unit'].str.contains(\"Kosta Koufos\")\n",
    "koufos_home_mask = grizz_df['home_unit'].str.contains(\"Kosta Koufos\")\n",
    "koufos_mask = koufos_away_mask | koufos_home_mask"
   ]
  },
  {
   "cell_type": "code",
   "execution_count": null,
   "metadata": {},
   "outputs": [],
   "source": [
    "(grizz_df.loc[gasol_mask, ['away_poss', 'home_poss']].sum().sum()) / \\\n",
    "    (grizz_df[['away_poss', 'home_poss']].sum().sum())"
   ]
  },
  {
   "cell_type": "code",
   "execution_count": null,
   "metadata": {},
   "outputs": [],
   "source": [
    "(grizz_df.loc[koufos_mask, ['away_poss', 'home_poss']].sum().sum()) / \\\n",
    "    (grizz_df[['away_poss', 'home_poss']].sum().sum())"
   ]
  },
  {
   "cell_type": "code",
   "execution_count": null,
   "metadata": {},
   "outputs": [],
   "source": [
    "grizz_df.loc[(koufos_mask & gasol_mask), ['away_poss', 'home_poss']].sum().sum() / \\\n",
    "    grizz_df[['away_poss', 'home_poss']].sum().sum()"
   ]
  },
  {
   "cell_type": "code",
   "execution_count": null,
   "metadata": {},
   "outputs": [],
   "source": [
    "grizz_df.loc[(koufos_mask & gasol_mask), ['away_poss', 'home_poss']].sum().sum() / \\\n",
    "    grizz_df.loc[koufos_mask, ['away_poss', 'home_poss']].sum().sum()"
   ]
  },
  {
   "cell_type": "code",
   "execution_count": null,
   "metadata": {},
   "outputs": [],
   "source": [
    "grizz_df.loc[(koufos_mask & gasol_mask), ['away_poss', 'home_poss']].sum().sum() / \\\n",
    "    grizz_df.loc[gasol_mask, ['away_poss', 'home_poss']].sum().sum()"
   ]
  },
  {
   "cell_type": "code",
   "execution_count": null,
   "metadata": {},
   "outputs": [],
   "source": []
  }
 ],
 "metadata": {
  "hide_input": false,
  "kernelspec": {
   "display_name": "Python 3",
   "language": "python",
   "name": "python3"
  },
  "language_info": {
   "codemirror_mode": {
    "name": "ipython",
    "version": 3
   },
   "file_extension": ".py",
   "mimetype": "text/x-python",
   "name": "python",
   "nbconvert_exporter": "python",
   "pygments_lexer": "ipython3",
   "version": "3.6.1"
  },
  "toc": {
   "nav_menu": {},
   "number_sections": true,
   "sideBar": true,
   "skip_h1_title": true,
   "title_cell": "Table of Contents",
   "title_sidebar": "Contents",
   "toc_cell": true,
   "toc_position": {},
   "toc_section_display": true,
   "toc_window_display": false
  },
  "varInspector": {
   "cols": {
    "lenName": 16,
    "lenType": 16,
    "lenVar": 40
   },
   "kernels_config": {
    "python": {
     "delete_cmd_postfix": "",
     "delete_cmd_prefix": "del ",
     "library": "var_list.py",
     "varRefreshCmd": "print(var_dic_list())"
    },
    "r": {
     "delete_cmd_postfix": ") ",
     "delete_cmd_prefix": "rm(",
     "library": "var_list.r",
     "varRefreshCmd": "cat(var_dic_list()) "
    }
   },
   "types_to_exclude": [
    "module",
    "function",
    "builtin_function_or_method",
    "instance",
    "_Feature"
   ],
   "window_display": false
  }
 },
 "nbformat": 4,
 "nbformat_minor": 2
}
